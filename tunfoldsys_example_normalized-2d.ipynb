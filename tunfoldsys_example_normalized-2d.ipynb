{
 "cells": [
  {
   "cell_type": "markdown",
   "metadata": {},
   "source": [
    "# TUnfoldDensity example with pyroot"
   ]
  },
  {
   "cell_type": "code",
   "execution_count": 1,
   "metadata": {},
   "outputs": [
    {
     "name": "stdout",
     "output_type": "stream",
     "text": [
      "Welcome to JupyROOT 6.20/02\n"
     ]
    }
   ],
   "source": [
    "import ROOT\n",
    "import numpy as np\n",
    "import array as array\n",
    "import math\n",
    "import matplotlib.pyplot as plt\n",
    "#import statistics as st\n",
    "ROOT.gStyle.SetOptStat(000000)"
   ]
  },
  {
   "cell_type": "code",
   "execution_count": 2,
   "metadata": {},
   "outputs": [
    {
     "data": {
      "text/plain": [
       "0"
      ]
     },
     "execution_count": 2,
     "metadata": {},
     "output_type": "execute_result"
    }
   ],
   "source": [
    "ROOT.gInterpreter.ProcessLine('#include \"MyTUnfoldDensity.h\"')"
   ]
  },
  {
   "cell_type": "code",
   "execution_count": 3,
   "metadata": {},
   "outputs": [],
   "source": [
    "#%jsroot"
   ]
  },
  {
   "cell_type": "markdown",
   "metadata": {},
   "source": [
    "## Construct the Binning scheme"
   ]
  },
  {
   "cell_type": "markdown",
   "metadata": {},
   "source": [
    "Set the axis ranges for the generator (m bins) and detector  (n bins) level distributions as well as the number of bins in each. *Note* that we are currently using twice as many detector bins as generator level bins as recommended by the TUnfold documenation. This condition $n ≥ m$ \n",
    "is in contrast to many common unfoldding algorithms which require $n = m$ however a notable example of an unfolding algorithm without that restriction is __[G. D’Agostini](arXiv:1010.0632)__."
   ]
  },
  {
   "cell_type": "code",
   "execution_count": 4,
   "metadata": {},
   "outputs": [
    {
     "name": "stdout",
     "output_type": "stream",
     "text": [
      "There are 2 Gen Mass bins , 2 Gen Pt bins ,4 Reco Mass bins , 2 Reco Pt bins  \n"
     ]
    }
   ],
   "source": [
    "### Set up the binning scheme\n",
    "mbinsGen  = array.array('d',  [0., 50., 100. ])\n",
    "mbinsDet  = array.array('d', [0., 25.,50.,75.,100. ])\n",
    "ptbinsGen = array.array('d', [0., 50., 100. ])\n",
    "ptbinsDet = array.array('d', [0., 50., 100. ])\n",
    "\n",
    "#mbinsGen  = array.array('d', [0., 25.,50.,75.,100. ])# [0., 50., 100. ])\n",
    "#mbinsDet  = array.array('d', [0., 12.5, 25.,37.5,50., 62.5,75., 87.5, 100. ])#[0., 25.,50.,75.,100. ])\n",
    "#ptbinsGen = array.array('d', [0., 25.,50.,75.,100. ])#[0., 50., 100. ])\n",
    "#ptbinsDet = array.array('d', [0., 25.,50.,75.,100. ])#[0., 50., 100. ])\n",
    "\n",
    "\n",
    "nmbinsGen  = len(mbinsGen) -1\n",
    "nmbinsDet  = len(mbinsDet) -1\n",
    "nptbinsGen = len(ptbinsGen) -1\n",
    "nptbinsDet = len(ptbinsDet) -1\n",
    "\n",
    "print(\"There are {} Gen Mass bins , {} Gen Pt bins ,{} Reco Mass bins , {} Reco Pt bins  \".format(nmbinsGen,nptbinsGen , nmbinsDet,nptbinsDet) )"
   ]
  },
  {
   "cell_type": "markdown",
   "metadata": {},
   "source": [
    "Instantiate the TUnfoldBinning Scheme. The \"signal\" node represents the generator level (coarser) binning whereas the \"detector\" node represents the (finer) input binning scheme. "
   ]
  },
  {
   "cell_type": "code",
   "execution_count": 5,
   "metadata": {},
   "outputs": [
    {
     "name": "stdout",
     "output_type": "stream",
     "text": [
      "array('d', [0.0, 1.0, 2.0, 3.0, 4.0])\n",
      "There are 4 (signal) generator level bins in the simple scheme\n",
      "---------------------------------------------------------------\n",
      "signalBinning\n",
      "0.0\n",
      "50.0\n",
      "100.0\n"
     ]
    }
   ],
   "source": [
    "generatorBinning = ROOT.TUnfoldBinning(\"generator\")\n",
    "### Need coarser binning for signal\n",
    "signalBinning = generatorBinning.AddBinning(\"signal\")    \n",
    "signalBinning.AddAxis(\"massgen\",nmbinsGen,mbinsGen,\n",
    "                        True, # needed for fakes\n",
    "                        True # overflow bin\n",
    "                        )\n",
    "signalBinning.AddAxis(\"ptgen\",nptbinsGen,ptbinsGen,\n",
    "                        True, # needed for fakes\n",
    "                        True # overflow bin\n",
    "                        )\n",
    "\n",
    "# X axis : generator binning is Signal : mgen * ptgen and Background : mrec * ptrec\n",
    "\n",
    "xaxis =  array.array('d',[a for a in range(nmbinsGen *nptbinsGen + 1 )])\n",
    "nx = len(xaxis)-1\n",
    "\n",
    "print (xaxis)\n",
    "print(\"There are {} (signal) generator level bins in the simple scheme\".format(nx))\n",
    "print(\"---------------------------------------------------------------\")\n",
    "\n",
    "print(\"signalBinning\")\n",
    "for i in range(len(signalBinning.GetDistributionBinning(0))):\n",
    "    print (signalBinning.GetDistributionBinning(0)[i])\n",
    "\n",
    "#print \"detectorBinning\"\n",
    "#for i in xrange(len(backgroundBinning.GetDistributionBinning(0))):\n",
    "#    print backgroundBinning.GetDistributionBinning(0)[i]\n",
    "    \n",
    "#print \"Below counts include overflow and underflow bins\"    \n",
    "#print \"There are {} signal {} background bins in the generator scheme\".format(signalBinning.GetTH1xNumberOfBins() , backgroundBinning.GetDistributionNumberOfBins())\n",
    "genBin = generatorBinning"
   ]
  },
  {
   "cell_type": "code",
   "execution_count": 6,
   "metadata": {},
   "outputs": [
    {
     "name": "stdout",
     "output_type": "stream",
     "text": [
      "array('d', [0.0, 1.0, 2.0, 3.0, 4.0, 5.0, 6.0, 7.0, 8.0])\n",
      "There are 8  detector level bins in the simple scheme\n",
      "detectorBinning\n",
      "0.0\n",
      "25.0\n",
      "50.0\n",
      "75.0\n",
      "100.0\n",
      "Below counts include overflow and underflow bins\n",
      "There are 15 bins in the detector scheme\n"
     ]
    }
   ],
   "source": [
    "detectorBinning = ROOT.TUnfoldBinning(\"detector\") \n",
    "detectorDistribution=detectorBinning.AddBinning(\"detectordistribution\")\n",
    "detectorDistribution.AddAxis(\"mass\",nmbinsDet,mbinsDet,\n",
    "                        False, # no underflow bin (not reconstructed)\n",
    "                        True # overflow bin\n",
    "                        )\n",
    "detectorDistribution.AddAxis(\"pt\",nptbinsDet,ptbinsDet,\n",
    "                        False, # no underflow bin (not reconstructed)\n",
    "                        True # overflow bin\n",
    "                        )\n",
    "\n",
    "yaxis =  array.array('d',[a for a in range(nmbinsDet *nptbinsDet+1 )])\n",
    "ny = len(yaxis)-1\n",
    "\n",
    "print (yaxis)\n",
    "print (\"There are {}  detector level bins in the simple scheme\".format(ny))\n",
    "print (\"detectorBinning\")\n",
    "for i in range(len(detectorDistribution.GetDistributionBinning(0))):\n",
    "    print (detectorDistribution.GetDistributionBinning(0)[i])\n",
    "    \n",
    "print (\"Below counts include overflow and underflow bins\")\n",
    "print (\"There are {} bins in the detector scheme\".format(detectorDistribution.GetTH1xNumberOfBins()))#GetDistributionNumberOfBins())\n",
    "detBin  = detectorBinning"
   ]
  },
  {
   "cell_type": "markdown",
   "metadata": {
    "collapsed": true
   },
   "source": [
    "# Create Response Matrix and 1D input "
   ]
  },
  {
   "cell_type": "code",
   "execution_count": 7,
   "metadata": {},
   "outputs": [
    {
     "name": "stderr",
     "output_type": "stream",
     "text": [
      "/usr/local/bin/start_ipykernel.py:7: RuntimeWarning: creating converter for unknown type \"int**\"\n"
     ]
    }
   ],
   "source": [
    "\n",
    "\n",
    "M = ROOT.TUnfoldBinning.CreateHistogramOfMigrations(generatorBinning,detectorBinning,\"M\")\n",
    "M1 = ROOT.TUnfoldBinning.CreateHistogramOfMigrations(generatorBinning,detectorBinning,\"M+1#sigma\")\n",
    "M2 = ROOT.TUnfoldBinning.CreateHistogramOfMigrations(generatorBinning,detectorBinning,\"M-1#sigma\")\n",
    "\n",
    "h = detectorBinning.CreateHistogram(\"h\")\n",
    "\n",
    "hup = detectorBinning.CreateHistogram(\"hup\")\n",
    "hdn = detectorBinning.CreateHistogram(\"hdn\")\n",
    "\n",
    "\n",
    "\n",
    "htrue = generatorBinning.CreateHistogram(\"htrue\")\n",
    "htruef = detectorBinning.CreateHistogram(\"htruef\")\n",
    "\n"
   ]
  },
  {
   "cell_type": "markdown",
   "metadata": {},
   "source": [
    "## Generate the response matrix\n",
    "\n",
    "Here, we have a respone matrix with 4 coarse and 8 fine bins (configurable). The variable of interest ($x$) ranges from 0 to 100. We assume the resolution on $x$ is 1.0, and that there is a systematic uncertainty \"scale\", which has an \"up\" and \"down\" variation of 2%. We generate 10000 pseudo-events for each value of x between 0 and 100, smeared by the resolution. For each of the \"x\" values, a reconstructed \"y\" value is constructed, again smeared by the resolution. We then add the \"up\" and \"down\" scale uncertainites. Finally, we construct TH2 matrices that represent the response matrices. "
   ]
  },
  {
   "cell_type": "code",
   "execution_count": 8,
   "metadata": {},
   "outputs": [],
   "source": [
    "def mean(numbers):\n",
    "    return float(sum(numbers)) / max(len(numbers), 1)"
   ]
  },
  {
   "cell_type": "code",
   "execution_count": 9,
   "metadata": {},
   "outputs": [],
   "source": [
    "\n",
    "\n",
    "nev = 100000 # 100000\n",
    "xavg = 110.\n",
    "yavg = 110.\n",
    "xres = 1.\n",
    "yres = 1.\n",
    "gen2x = np.random.random(nev) * xavg\n",
    "reco2x = np.random.randn(nev) * xres + gen2x\n",
    "gen2y = np.random.random(nev) * yavg\n",
    "reco2y = np.random.randn(nev) * yres + gen2y\n",
    "#print mean(reco2y)\n",
    "\n",
    "error_scaleUp = 1.10\n",
    "error_scaleDn = 0.90\n",
    "\n",
    "#gen2yu = np.random.random(nev) * yavg*scaleup\n",
    "#reco2yu = np.random.randn(nev) * yres + gen2yu\n",
    "reco2yu = error_scaleUp * reco2y\n",
    "#print mean(reco2yu)\n",
    "\n",
    "#gen2yd = np.random.random(nev) * yavg*scaledn\n",
    "#recoreco2yu = -0.01 * reco2y\n",
    "reco2yd = error_scaleDn* reco2y\n",
    "\n",
    "#print mean(reco2yd)\n",
    "\n",
    "#print reco2yd/reco2y\n",
    "#reco2yu = np.random.randn(reco2y) * yres\n",
    "\n",
    "gen2 = np.array( [gen2x,gen2y] ).T\n",
    "reco2 = np.array( [reco2x,reco2y] ).T\n",
    "r = np.array( [gen2x, gen2y, reco2x, reco2y] ).T\n",
    "\n",
    "ru = np.array( [gen2x, gen2y, reco2x, reco2yu] ).T\n",
    "rd = np.array( [gen2x, gen2y, reco2x, reco2yd] ).T\n",
    "\n"
   ]
  },
  {
   "cell_type": "code",
   "execution_count": null,
   "metadata": {},
   "outputs": [],
   "source": []
  },
  {
   "cell_type": "code",
   "execution_count": 10,
   "metadata": {},
   "outputs": [],
   "source": [
    "\n",
    "\n",
    "\n",
    "\n",
    "for i in range(nev):\n",
    "    xg = r[i,0]\n",
    "    yg = r[i,1]\n",
    "    xr = r[i,2]\n",
    "    yr = r[i,3]\n",
    "    \n",
    "    yru = ru[i,3]\n",
    "    yrd = rd[i,3]\n",
    "    \n",
    "    \n",
    "    glob_recb= detectorDistribution.GetGlobalBinNumber(xr,yr)\n",
    "    glob_genb= signalBinning.GetGlobalBinNumber(xg, yg)\n",
    "\n",
    "\n",
    "    h.Fill(glob_recb)\n",
    "\n",
    "    glob_recbU = detectorDistribution.GetGlobalBinNumber(xr , yru)\n",
    "    glob_recbD = detectorDistribution.GetGlobalBinNumber(xr , yrd)\n",
    "      \n",
    "    M.Fill(glob_genb, glob_recb)#, #1./Npe)\n",
    "    M1.Fill(glob_genb, glob_recbU)#, 1./Npe)\n",
    "    M2.Fill(glob_genb, glob_recbD)#, 1./Npe)\n",
    "    \n",
    "    hup.Fill(glob_recbU)\n",
    "    hdn.Fill(glob_recbD)\n",
    "\n",
    "    \n",
    "    \n",
    "    htrue.Fill(glob_genb)\n",
    "    glob_recb_GenObj = detectorDistribution.GetGlobalBinNumber(xg,yg)\n",
    "\n",
    "    htruef.Fill(glob_recb_GenObj)\n",
    "    \n",
    "   "
   ]
  },
  {
   "cell_type": "code",
   "execution_count": null,
   "metadata": {},
   "outputs": [],
   "source": []
  },
  {
   "cell_type": "code",
   "execution_count": 11,
   "metadata": {},
   "outputs": [
    {
     "data": {
      "text/plain": [
       "'\\nfor bx in xrange(M.GetNbinsX()):\\n    for by in xrange(M.GetNbinsY()):\\n        bc = M.GetBinContent(bx,by)\\n        if bc > 1. :\\n            gxn = signalBinning.GetBinName(bx)\\n            gyn = detectorDistribution.GetBinName(by)\\n            print \"Bin X {} {} Y {} {} is filled with {} \".format(bx, gxn, by, gyn, bc)\\n'"
      ]
     },
     "execution_count": 11,
     "metadata": {},
     "output_type": "execute_result"
    }
   ],
   "source": [
    "'''\n",
    "for bx in xrange(M.GetNbinsX()):\n",
    "    for by in xrange(M.GetNbinsY()):\n",
    "        bc = M.GetBinContent(bx,by)\n",
    "        if bc > 1. :\n",
    "            gxn = signalBinning.GetBinName(bx)\n",
    "            gyn = detectorDistribution.GetBinName(by)\n",
    "            print \"Bin X {} {} Y {} {} is filled with {} \".format(bx, gxn, by, gyn, bc)\n",
    "'''            "
   ]
  },
  {
   "cell_type": "markdown",
   "metadata": {},
   "source": [
    "# Normalize by Pt (y) bin"
   ]
  },
  {
   "cell_type": "code",
   "execution_count": 12,
   "metadata": {},
   "outputs": [],
   "source": [
    "normalize = False"
   ]
  },
  {
   "cell_type": "code",
   "execution_count": 13,
   "metadata": {},
   "outputs": [],
   "source": [
    "ptbinsgenglobal = [ [0,5] ,[6,8], [10,12] , [13,13]  ]\n",
    "\n",
    "ptbinsdetglobal = [  [0,0] , [1,5] , [6,10] , [11,15] ]#, [16,18 ]  ]\n"
   ]
  },
  {
   "cell_type": "code",
   "execution_count": 14,
   "metadata": {},
   "outputs": [],
   "source": [
    "\n",
    "def NormM(rMMx = None  , recoorgen2 = None,  nameg = None) :\n",
    "\n",
    "    ### Make a new empty TH2 so the OFL and UFL will be zero\n",
    "    rMMnx = rMMx.Clone(nameg)\n",
    "    for xx in range(rMMnx.GetNbinsX()+1) :\n",
    "        for yy in range(rMMnx.GetNbinsY()+1) :\n",
    "            rMMnx.SetBinContent(xx , yy ,0.0) \n",
    "            rMMnx.SetBinError(xx , yy ,0.0)   \n",
    "        \n",
    "    \n",
    "    intscales3 = [ ]\n",
    "    intsums = [ ]\n",
    "    intsums2 = [ ]\n",
    "    bins1 = [ ]\n",
    "    bins2 = [ ]\n",
    "\n",
    "    #if intscalesin == None :\n",
    "    ptbs1 = None\n",
    "    ptbs2 = None    \n",
    "    if recoorgen2 == 'reco':  \n",
    "        ptbs1 = ptbinsdetglobal\n",
    "        ptbs2 = ptbinsgenglobal \n",
    "        bins1 = detBin\n",
    "        noden1 = \"detectordistribution\"\n",
    "        bins2 = genBin\n",
    "        noden2 = \"signal\"\n",
    "    elif recoorgen2 == 'gen':  \n",
    "        ptbs1 = ptbinsgenglobal\n",
    "        ptbs2 = ptbinsdetglobal \n",
    "        bins1 = genBin\n",
    "        noden1 = \"signal\"\n",
    "        bins2 = detBin\n",
    "        noden2 = \"detectordistribution\"\n",
    "        \n",
    "    for iptb,ptbg in enumerate(ptbs1[1:-1]) :\n",
    "        sumn = 0\n",
    "        tint = 0.\n",
    "        #print ptbinsGen[iptb]\n",
    "        #print ptbinsGen[iptb+1]\n",
    "        #ptw = ptbinsGen[iptb+1] - ptbinsGen[iptb]\n",
    "        #print \"New Pt bin {}- {} GeV of width {} GeV\".format(ptbinsGen[iptb] , ptbinsGen[iptb+1] , ptw )\n",
    "        for iy in range( ptbg[0], ptbg[1]): #  \n",
    "            \n",
    "            db = bins1.FindNode(noden1).GetBinName(iy)\n",
    "            print (db)\n",
    "            dbs = bins1.FindNode(noden1).GetBinSize(iy)\n",
    "            tgbs = dbs #1.     \n",
    "            bw = 1.\n",
    "            #print ptw\n",
    "            #if ptw > 0.:\n",
    "            #    tgbs = gbs/ptw\n",
    "            #print    tgbs \n",
    "            for iptbr,ptbr in enumerate(ptbs2[1:-1]) :\n",
    "                for ix in range(ptbr[0],ptbr[1]):\n",
    "                    print (ptbr[0])\n",
    "                    print (\"to\")\n",
    "                    print (ptbr[1])\n",
    "                    gb = bins2.FindNode(noden2).GetBinName(ix)\n",
    "                    #db = detBin.FindNode(\"detectordistribution\").GetBinName(ix)\n",
    "                    #if 'mass[ofl]' in str(db): \n",
    "                    print (\"....\"+str(gb))\n",
    "                    #    continue\n",
    "                    gbs = bins2.FindNode(noden2).GetBinSize(ix)\n",
    "                    \n",
    "                    #if iy ==1:print dbs\n",
    "                    #tdbs = dbs#/ptw\n",
    "                    #print tdbs\n",
    "                    bw = gbs*dbs\n",
    "\n",
    "                    rbc = rMMx.GetBinContent(ix , iy)\n",
    "                    trbc = rMMx.GetBinContent(ix , iy)\n",
    "                    #print trbc\n",
    "\n",
    "                    rbe = rMMx.GetBinError(ix , iy)\n",
    "                    trbe = rMMx.GetBinError(ix , iy)\n",
    "                    #print bw\n",
    "                    if bw > 0. :\n",
    "                        trbc = rbc/bw\n",
    "                        trbe = rbe/bw               \n",
    "                    rMMnx.SetBinContent(ix, iy , trbc)    \n",
    "                    rMMnx.SetBinError(ix, iy , trbe)  \n",
    "                    tint+=trbc\n",
    "                    sumn+=1\n",
    "        print (\"Integral of bin {} {} is {} and it was the sum of {} bins\".format(ptbg, iptb, tint, sumn)     )   \n",
    "        intscales3.append(tint)\n",
    "        intsums.append(sumn)\n",
    "    print (\"Integral of bin x :\")\n",
    "    print (intscales3)\n",
    "    #elif intscalesin != None :\n",
    "    #    intscales = tint #intscalesin\n",
    "    print (\"scaling by {}\".format(tint))\n",
    "    for iptb,ptbg in enumerate(ptbs1[1:-1]) :\n",
    "        sumn2 = 0\n",
    "        sdsdx = intscales3[iptb]\n",
    "        #print sdsdx\n",
    "        #print ptbg\n",
    "        #print iptb\n",
    "        #print \"New Pt bin \"\n",
    "        for iy in range( ptbg[0], ptbg[1]): #  \n",
    "            for iptbr,ptbr in enumerate(ptbs2[1:-1]) :\n",
    "                for ix in range(ptbr[0],ptbr[1]):\n",
    "\n",
    "                    rbc = rMMnx.GetBinContent(ix , iy)\n",
    "                    trbc = rMMnx.GetBinContent(ix , iy)\n",
    "                    #print trbc\n",
    "\n",
    "                    rbe = rMMnx.GetBinError(ix , iy)\n",
    "                    trbe = rMMnx.GetBinError(ix , iy)\n",
    "                    #print bw\n",
    "                    if sdsdx > 0. :\n",
    "                        trbc = rbc/sdsdx\n",
    "                        trbe = rbe/sdsdx               \n",
    "                    rMMnx.SetBinContent(ix , iy , trbc)    \n",
    "                    rMMnx.SetBinError(ix , iy, trbe) \n",
    "                    sumn2 +=1\n",
    "        intsums2.append(sumn2)     \n",
    "    print (intsums)\n",
    "    print (intsums2)    \n",
    "    return rMMnx #, intscales3 ]\n",
    "\n"
   ]
  },
  {
   "cell_type": "code",
   "execution_count": null,
   "metadata": {},
   "outputs": [],
   "source": []
  },
  {
   "cell_type": "code",
   "execution_count": null,
   "metadata": {},
   "outputs": [],
   "source": []
  },
  {
   "cell_type": "code",
   "execution_count": null,
   "metadata": {},
   "outputs": [],
   "source": []
  },
  {
   "cell_type": "code",
   "execution_count": 15,
   "metadata": {},
   "outputs": [],
   "source": [
    "def NormXorY(XorY = None , recorgen = None , nameg = None) :\n",
    "    ### Make a new empty TH1 so the OFL and UFL will be zero\n",
    "    XorYn = XorY.Clone()\n",
    "    for xx in range(XorY.GetNbinsX()+1) :\n",
    "        XorYn.SetBinContent(xx  ,0.0) \n",
    "        XorYn.SetBinError(xx  ,0.0)   \n",
    "        \n",
    "    gpts = None\n",
    "    bins = None\n",
    "    noden = None\n",
    "\n",
    "    \n",
    "    \n",
    "    if recorgen == 'reco' :\n",
    "        gpts = ptbinsdetglobal\n",
    "        bins = detBin\n",
    "        noden = \"detectordistribution\"\n",
    "    elif recorgen == 'gen' :\n",
    "        gpts = ptbinsgenglobal        \n",
    "        bins = genBin\n",
    "        noden = \"signal\"\n",
    "    intscalesx = [ ]\n",
    "    \n",
    "    for iptbr,ptbr in enumerate(gpts[1:-1]) :\n",
    "        tint = 0.\n",
    "        print (iptbr)\n",
    "        print (ptbr)        \n",
    "        #print ptbinsGen[iptbr+1]\n",
    "        #print ptbinsGen[iptbr]        \n",
    "        #ptw = ptbinsGen[iptbr+1] - ptbinsGen[iptbr]\n",
    "        for iy in range(ptbr[0],ptbr[1]):\n",
    "            #print ptbr[0]\n",
    "            #print \"to\"\n",
    "            #print ptbr[1]\n",
    "            db = bins.FindNode(noden).GetBinName(iy)\n",
    "            #if 'mass[ofl]' in str(db): \n",
    "            print (db)\n",
    "            #    continue\n",
    "            dbs = bins.FindNode(noden).GetBinSize(iy)\n",
    "            #if iy ==1:print dbs\n",
    "            tdbs = dbs#/ptw\n",
    "            #if bins == genBin:\n",
    "            #    tdbs = tdbs * ptw\n",
    "            bw = tdbs# *ptw\n",
    "\n",
    "            rbc = XorY.GetBinContent(iy)\n",
    "            trbc = 0.#XorY.GetBinContent( iy)\n",
    "            #print trbc\n",
    "\n",
    "            rbe = XorY.GetBinError( iy)\n",
    "            trbe = 0.#XorY.GetBinError( iy)\n",
    "            #print bw\n",
    "            if bw > 0. :\n",
    "                trbc = rbc/bw\n",
    "                trbe = rbe/bw               \n",
    "            XorYn.SetBinContent(iy , trbc)    \n",
    "            XorYn.SetBinError(iy , trbe)  \n",
    "            tint+=trbc\n",
    "        intscalesx.append(tint)\n",
    "    print (\"Integral of bin x for NormXorY is :\")\n",
    "    print (intscalesx)\n",
    "\n",
    "\n",
    "    for iptb,ptbg in enumerate(gpts[1:-1]) :\n",
    "        tint = 0.\n",
    "        sdsd = intscalesx[iptb]\n",
    "        print (sdsd)\n",
    "        print (ptbg)\n",
    "        print (iptb)\n",
    "        print (\"New Pt bin \")\n",
    "        for ix in range( ptbg[0], ptbg[1]): #  \n",
    "\n",
    "            rbc = XorYn.GetBinContent(ix)\n",
    "            trbc = 0.#XorYn.GetBinContent(ix)\n",
    "            #print trbc\n",
    "\n",
    "            rbe = XorYn.GetBinError(ix)\n",
    "            trbe =0. #XorYn.GetBinError(ix)\n",
    "            #print bw\n",
    "            if sdsd > 0. :\n",
    "                trbc = rbc/sdsd\n",
    "                trbe = rbe/sdsd                \n",
    "            XorYn.SetBinContent(ix , trbc)    \n",
    "            XorYn.SetBinError(ix, trbe)  \n",
    "    return XorYn.Clone(nameg)\n",
    "\n",
    "               "
   ]
  },
  {
   "cell_type": "code",
   "execution_count": 16,
   "metadata": {},
   "outputs": [],
   "source": [
    "\n",
    "respN = 'reco'\n",
    "\n",
    "\n",
    "if normalize :\n",
    "    M = NormM(M.Clone() , respN,\"M_norm\") \n"
   ]
  },
  {
   "cell_type": "code",
   "execution_count": 17,
   "metadata": {},
   "outputs": [],
   "source": [
    "if normalize :\n",
    "    M1 = NormM(M1.Clone() ,respN , \"M_Up\") \n",
    "    M2 = NormM(M2.Clone() , respN,\"M_Dn\") \n",
    "\n",
    "    h = NormXorY(h.Clone() ,'reco', \"h_norm\") \n",
    "\n",
    "    hup = NormXorY(hup.Clone() ,'reco', \"hu_norm\") \n",
    "    hdn = NormXorY(hdn.Clone() ,'reco', \"hd_norm\") \n",
    "\n",
    "    htrue = NormXorY(htrue.Clone() ,'gen', \"htrue_norm\") \n",
    "    htruef = NormXorY(htruef.Clone() ,'reco', \"htruef_norm\") \n"
   ]
  },
  {
   "cell_type": "markdown",
   "metadata": {},
   "source": [
    "## Draw the response matrix\n",
    "\n",
    "We draw the nominal and $\\pm 1 \\sigma$ variations. "
   ]
  },
  {
   "cell_type": "code",
   "execution_count": 18,
   "metadata": {},
   "outputs": [
    {
     "data": {
      "text/html": [
       "\n",
       "<div id=\"root_plot_1592339192547\"\n",
       "     style=\"width: 1796px; height: 572px\">\n",
       "</div>\n",
       "<script>\n",
       "if (typeof require !== 'undefined') {\n",
       "\n",
       "    // All requirements met (we are in jupyter notebooks or we loaded requirejs before).\n",
       "    display_root_plot_1592339192547();\n",
       "\n",
       "} else {\n",
       "\n",
       "    // We are in jupyterlab, we need to insert requirejs and configure it.\n",
       "    // Jupyterlab might be installed in a different base_url so we need to know it.\n",
       "    try {\n",
       "        var base_url = JSON.parse(document.getElementById('jupyter-config-data').innerHTML).baseUrl;\n",
       "    } catch(_) {\n",
       "        var base_url = '/';\n",
       "    }\n",
       "\n",
       "    // Try loading a local version of requirejs and fallback to cdn if not possible.\n",
       "    requirejs_load(base_url + 'static/components/requirejs/require.js', requirejs_success(base_url), function(){\n",
       "        requirejs_load('https://cdnjs.cloudflare.com/ajax/libs/require.js/2.2.0/require.min.js', requirejs_success(base_url), function(){\n",
       "            document.getElementById(\"root_plot_1592339192547\").innerHTML = \"Failed to load requireJs\";\n",
       "        });\n",
       "    });\n",
       "}\n",
       "\n",
       "function requirejs_load(src, on_load, on_error) {\n",
       "    var script = document.createElement('script');\n",
       "    script.src = src;\n",
       "    script.onload = on_load;\n",
       "    script.onerror = on_error;\n",
       "    document.head.appendChild(script);\n",
       "}\n",
       "\n",
       "function requirejs_success(base_url) {\n",
       "    return function() {\n",
       "        require.config({\n",
       "            baseUrl: base_url + 'static/'\n",
       "        });\n",
       "        display_root_plot_1592339192547();\n",
       "    }\n",
       "}\n",
       "\n",
       "function display_root_plot_1592339192547() {\n",
       "    require(['scripts/JSRootCore'],\n",
       "        function(Core) {\n",
       "            var obj = Core.JSONR_unref({\"_typename\":\"TCanvas\",\"fUniqueID\":0,\"fBits\":3342344,\"fLineColor\":1,\"fLineStyle\":1,\"fLineWidth\":1,\"fFillColor\":0,\"fFillStyle\":1001,\"fLeftMargin\":0.1,\"fRightMargin\":0.1,\"fBottomMargin\":0.1,\"fTopMargin\":0.1,\"fXfile\":2,\"fYfile\":2,\"fAfile\":1,\"fXstat\":0.99,\"fYstat\":0.99,\"fAstat\":2,\"fFrameFillColor\":0,\"fFrameLineColor\":1,\"fFrameFillStyle\":1001,\"fFrameLineStyle\":1,\"fFrameLineWidth\":1,\"fFrameBorderSize\":1,\"fFrameBorderMode\":0,\"fX1\":0,\"fY1\":0,\"fX2\":1,\"fY2\":1,\"fXtoAbsPixelk\":5e-5,\"fXtoPixelk\":5e-5,\"fXtoPixel\":1796,\"fYtoAbsPixelk\":572.00005,\"fYtoPixelk\":572.00005,\"fYtoPixel\":-572,\"fUtoAbsPixelk\":5e-5,\"fUtoPixelk\":5e-5,\"fUtoPixel\":1796,\"fVtoAbsPixelk\":572.00005,\"fVtoPixelk\":572,\"fVtoPixel\":-572,\"fAbsPixeltoXk\":0,\"fPixeltoXk\":0,\"fPixeltoX\":5.56792873051225e-4,\"fAbsPixeltoYk\":1,\"fPixeltoYk\":0,\"fPixeltoY\":-0.00174825174825175,\"fXlowNDC\":0,\"fYlowNDC\":0,\"fXUpNDC\":1,\"fYUpNDC\":1,\"fWNDC\":1,\"fHNDC\":1,\"fAbsXlowNDC\":0,\"fAbsYlowNDC\":0,\"fAbsWNDC\":1,\"fAbsHNDC\":1,\"fUxmin\":0,\"fUymin\":0,\"fUxmax\":1,\"fUymax\":1,\"fTheta\":30,\"fPhi\":30,\"fAspectRatio\":0,\"fNumber\":0,\"fTickx\":0,\"fTicky\":0,\"fLogx\":0,\"fLogy\":0,\"fLogz\":0,\"fPadPaint\":0,\"fCrosshair\":0,\"fCrosshairPos\":0,\"fBorderSize\":2,\"fBorderMode\":0,\"fModified\":false,\"fGridx\":false,\"fGridy\":false,\"fAbsCoord\":false,\"fEditable\":true,\"fFixedAspectRatio\":false,\"fPrimitives\":{\"_typename\":\"TList\",\"name\":\"TList\",\"arr\":[{\"_typename\":\"TPad\",\"fUniqueID\":0,\"fBits\":9,\"fLineColor\":1,\"fLineStyle\":1,\"fLineWidth\":1,\"fFillColor\":0,\"fFillStyle\":1001,\"fLeftMargin\":0.1,\"fRightMargin\":0.1,\"fBottomMargin\":0.1,\"fTopMargin\":0.1,\"fXfile\":2,\"fYfile\":2,\"fAfile\":1,\"fXstat\":0.99,\"fYstat\":0.99,\"fAstat\":2,\"fFrameFillColor\":0,\"fFrameLineColor\":1,\"fFrameFillStyle\":1001,\"fFrameLineStyle\":1,\"fFrameLineWidth\":1,\"fFrameBorderSize\":1,\"fFrameBorderMode\":0,\"fX1\":-1.50000014901162,\"fY1\":-1.37500013969839,\"fX2\":18.5000001490116,\"fY2\":17.3750001396984,\"fXtoAbsPixelk\":60.1660532226495,\"fXtoPixelk\":42.2060536240867,\"fXtoPixel\":28.1373329541981,\"fYtoAbsPixelk\":525.172313211822,\"fYtoPixelk\":519.452313339674,\"fYtoPixel\":-29.8965329014778,\"fUtoAbsPixelk\":17.9600495985627,\"fUtoPixelk\":5e-5,\"fUtoPixel\":562.746667469541,\"fVtoAbsPixelk\":566.280050127852,\"fVtoPixelk\":560.560000255704,\"fVtoPixel\":-560.560000255704,\"fAbsPixeltoXk\":-2.13829801568569,\"fPixeltoXk\":-1.50000014901162,\"fPixeltoX\":0.0355399710991727,\"fAbsPixeltoYk\":17.5663266687979,\"fPixeltoYk\":-1.37500013969839,\"fPixeltoY\":-0.0334486946461464,\"fXlowNDC\":0.00999999977648258,\"fYlowNDC\":0.00999999977648258,\"fXUpNDC\":0.323333333556851,\"fYUpNDC\":0.990000000223517,\"fWNDC\":0.313333333780368,\"fHNDC\":0.980000000447035,\"fAbsXlowNDC\":0.00999999977648258,\"fAbsYlowNDC\":0.00999999977648258,\"fAbsWNDC\":0.313333333780368,\"fAbsHNDC\":0.980000000447035,\"fUxmin\":0.5,\"fUymin\":0.5,\"fUxmax\":16.5,\"fUymax\":15.5,\"fTheta\":30,\"fPhi\":30,\"fAspectRatio\":0,\"fNumber\":1,\"fTickx\":0,\"fTicky\":0,\"fLogx\":0,\"fLogy\":0,\"fLogz\":0,\"fPadPaint\":0,\"fCrosshair\":0,\"fCrosshairPos\":0,\"fBorderSize\":2,\"fBorderMode\":0,\"fModified\":false,\"fGridx\":false,\"fGridy\":false,\"fAbsCoord\":false,\"fEditable\":true,\"fFixedAspectRatio\":false,\"fPrimitives\":{\"_typename\":\"TList\",\"name\":\"TList\",\"arr\":[{\"_typename\":\"TFrame\",\"fUniqueID\":0,\"fBits\":8,\"fLineColor\":1,\"fLineStyle\":1,\"fLineWidth\":1,\"fFillColor\":0,\"fFillStyle\":1001,\"fX1\":0.5,\"fY1\":0.5,\"fX2\":16.5,\"fY2\":15.5,\"fBorderSize\":1,\"fBorderMode\":0},{\"_typename\":\"TH2D\",\"fUniqueID\":0,\"fBits\":520,\"fName\":\"M\",\"fTitle\":\"M\",\"fLineColor\":602,\"fLineStyle\":1,\"fLineWidth\":1,\"fFillColor\":0,\"fFillStyle\":1001,\"fMarkerColor\":1,\"fMarkerStyle\":1,\"fMarkerSize\":1,\"fNcells\":306,\"fXaxis\":{\"_typename\":\"TAxis\",\"fUniqueID\":0,\"fBits\":0,\"fName\":\"xaxis\",\"fTitle\":\"generator\",\"fNdivisions\":510,\"fAxisColor\":1,\"fLabelColor\":1,\"fLabelFont\":42,\"fLabelOffset\":0.005,\"fLabelSize\":0.035,\"fTickLength\":0.03,\"fTitleOffset\":1,\"fTitleSize\":0.035,\"fTitleColor\":1,\"fTitleFont\":42,\"fNbins\":16,\"fXmin\":0.5,\"fXmax\":16.5,\"fXbins\":[],\"fFirst\":0,\"fLast\":0,\"fBits2\":0,\"fTimeDisplay\":false,\"fTimeFormat\":\"\",\"fLabels\":null,\"fModLabs\":null},\"fYaxis\":{\"_typename\":\"TAxis\",\"fUniqueID\":0,\"fBits\":0,\"fName\":\"yaxis\",\"fTitle\":\"detector\",\"fNdivisions\":510,\"fAxisColor\":1,\"fLabelColor\":1,\"fLabelFont\":42,\"fLabelOffset\":0.005,\"fLabelSize\":0.035,\"fTickLength\":0.03,\"fTitleOffset\":0,\"fTitleSize\":0.035,\"fTitleColor\":1,\"fTitleFont\":42,\"fNbins\":15,\"fXmin\":0.5,\"fXmax\":15.5,\"fXbins\":[],\"fFirst\":0,\"fLast\":0,\"fBits2\":0,\"fTimeDisplay\":false,\"fTimeFormat\":\"\",\"fLabels\":null,\"fModLabs\":null},\"fZaxis\":{\"_typename\":\"TAxis\",\"fUniqueID\":0,\"fBits\":0,\"fName\":\"zaxis\",\"fTitle\":\"\",\"fNdivisions\":510,\"fAxisColor\":1,\"fLabelColor\":1,\"fLabelFont\":42,\"fLabelOffset\":0.005,\"fLabelSize\":0.035,\"fTickLength\":0.03,\"fTitleOffset\":1,\"fTitleSize\":0.035,\"fTitleColor\":1,\"fTitleFont\":42,\"fNbins\":1,\"fXmin\":0,\"fXmax\":1,\"fXbins\":[],\"fFirst\":0,\"fLast\":0,\"fBits2\":0,\"fTimeDisplay\":false,\"fTimeFormat\":\"\",\"fLabels\":null,\"fModLabs\":null},\"fBarOffset\":0,\"fBarWidth\":1000,\"fEntries\":100000,\"fTsumw\":99270,\"fTsumw2\":99270,\"fTsumwx\":910937,\"fTsumwx2\":9054065,\"fMaximum\":-1111,\"fMinimum\":-1111,\"fNormFactor\":0,\"fContour\":[0,509.25,1018.5,1527.75,2037,2546.25,3055.5,3564.75,4074,4583.25,5092.5,5601.75,6111,6620.25,7129.5,7638.75,8148,8657.25,9166.5,9675.75],\"fSumw2\":[],\"fOption\":\"\",\"fFunctions\":{\"_typename\":\"TList\",\"name\":\"TList\",\"arr\":[{\"_typename\":\"TPaletteAxis\",\"fUniqueID\":0,\"fBits\":0,\"fLineColor\":1,\"fLineStyle\":1,\"fLineWidth\":1,\"fFillColor\":1178,\"fFillStyle\":1001,\"fX1\":16.6000000014901,\"fY1\":0.5,\"fX2\":17.5000000149012,\"fY2\":15.5,\"fX1NDC\":0.904999994039535,\"fY1NDC\":0.100000005960465,\"fX2NDC\":0.949999994039535,\"fY2NDC\":0.899999994039535,\"fBorderSize\":4,\"fInit\":1,\"fShadowColor\":1,\"fCornerRadius\":0,\"fOption\":\"br\",\"fName\":\"TPave\",\"fAxis\":{\"_typename\":\"TGaxis\",\"fUniqueID\":0,\"fBits\":0,\"fLineColor\":1,\"fLineStyle\":1,\"fLineWidth\":1,\"fX1\":0,\"fY1\":0,\"fX2\":0,\"fY2\":0,\"fTextAngle\":0,\"fTextSize\":0.04,\"fTextAlign\":11,\"fTextColor\":1,\"fTextFont\":42,\"fWmin\":0,\"fWmax\":0,\"fGridLength\":0,\"fTickSize\":0.03,\"fLabelOffset\":0.005,\"fLabelSize\":0.035,\"fTitleOffset\":1,\"fTitleSize\":0.035,\"fNdiv\":0,\"fLabelColor\":1,\"fLabelFont\":42,\"fNModLabs\":0,\"fChopt\":\"\",\"fName\":\"\",\"fTitle\":\"\",\"fTimeFormat\":\"\",\"fFunctionName\":\"\",\"fModLabs\":null},\"fName\":\"palette\"}],\"opt\":[\"br\"]},\"fBufferSize\":0,\"fBuffer\":[],\"fBinStatErrOpt\":0,\"fStatOverflows\":2,\"fScalefactor\":1,\"fTsumwy\":585676,\"fTsumwy2\":4636510,\"fTsumwxy\":6251386,\"fArray\":[0,0,0,0,0,0,338,164,35,0,162,0,0,0,31,0,0,0,0,0,0,0,0,0,10163,0,0,0,68,0,0,0,0,0,0,0,0,0,0,0,0,0,10005,164,0,0,78,1,0,0,0,0,0,0,0,0,0,0,0,0,164,9995,0,0,0,87,0,0,0,0,0,0,0,0,0,0,0,0,0,10185,172,0,0,52,2,0,0,0,0,0,0,0,0,0,0,0,0,178,3799,0,0,2,36,0,0,0,0,0,0,0,0,0,0,0,74,0,0,0,9994,0,0,0,82,0,0,0,0,0,0,0,0,0,90,0,0,0,10089,150,0,0,91,0,0,0,0,0,0,0,0,0,1,67,0,0,173,10152,0,0,2,94,0,0,0,0,0,0,0,0,0,69,1,0,0,9701,175,0,0,82,0,0,0,0,0,0,0,0,0,2,27,0,0,166,3905,0,0,0,38,0,0,0,0,0,0,0,0,0,0,0,63,0,0,0,1925,0,0,0,0,0,0,0,0,0,0,0,0,0,78,1,0,0,1969,27,0,0,0,0,0,0,0,0,0,0,0,0,2,74,0,0,40,1924,0,0,0,0,0,0,0,0,0,0,0,0,0,79,1,0,0,1941,24,0,0,0,0,0,0,0,0,0,0,0,0,2,24,0,0,18,702,0,0,0,0,0,0,0,0,0,0,0,0,0,0,0,0,0,0,0]},{\"_typename\":\"TPaveText\",\"fUniqueID\":0,\"fBits\":9,\"fLineColor\":1,\"fLineStyle\":1,\"fLineWidth\":1,\"fFillColor\":0,\"fFillStyle\":0,\"fX1\":7.89129032937928,\"fY1\":16.2500001969747,\"fX2\":9.10870967062072,\"fY2\":17.2812502277084,\"fX1NDC\":0.469564516922488,\"fY1NDC\":0.940000003948808,\"fX2NDC\":0.530435483077512,\"fY2NDC\":0.995000004768372,\"fBorderSize\":0,\"fInit\":1,\"fShadowColor\":1,\"fCornerRadius\":0,\"fOption\":\"blNDC\",\"fName\":\"title\",\"fTextAngle\":0,\"fTextSize\":0,\"fTextAlign\":22,\"fTextColor\":1,\"fTextFont\":42,\"fLabel\":\"\",\"fLongest\":1,\"fMargin\":0.05,\"fLines\":{\"_typename\":\"TList\",\"name\":\"TList\",\"arr\":[{\"_typename\":\"TLatex\",\"fUniqueID\":0,\"fBits\":0,\"fName\":\"\",\"fTitle\":\"M\",\"fTextAngle\":0,\"fTextSize\":0,\"fTextAlign\":0,\"fTextColor\":0,\"fTextFont\":0,\"fX\":0,\"fY\":0,\"fLineColor\":1,\"fLineStyle\":1,\"fLineWidth\":2,\"fLimitFactorSize\":3,\"fOriginSize\":0.0467500016093254}],\"opt\":[\"\"]}}],\"opt\":[\"\",\"colz\",\"blNDC\"]},\"fExecs\":{\"_typename\":\"TList\",\"name\":\"TList\",\"arr\":[],\"opt\":[]},\"fName\":\"c0_1\",\"fTitle\":\"c0_1\",\"fNumPaletteColor\":0,\"fNextPaletteColor\":0},{\"_typename\":\"TPad\",\"fUniqueID\":0,\"fBits\":9,\"fLineColor\":1,\"fLineStyle\":1,\"fLineWidth\":1,\"fFillColor\":0,\"fFillStyle\":1001,\"fLeftMargin\":0.1,\"fRightMargin\":0.1,\"fBottomMargin\":0.1,\"fTopMargin\":0.1,\"fXfile\":2,\"fYfile\":2,\"fAfile\":1,\"fXstat\":0.99,\"fYstat\":0.99,\"fAstat\":2,\"fFrameFillColor\":0,\"fFrameLineColor\":1,\"fFrameFillStyle\":1001,\"fFrameLineStyle\":1,\"fFrameLineWidth\":1,\"fFrameBorderSize\":1,\"fFrameBorderMode\":0,\"fX1\":-1.50000014901162,\"fY1\":-1.37500013969839,\"fX2\":18.5000001490116,\"fY2\":17.3750001396984,\"fXtoAbsPixelk\":658.832719889316,\"fXtoPixelk\":42.2060536240867,\"fXtoPixel\":28.1373329541981,\"fYtoAbsPixelk\":525.172313211822,\"fYtoPixelk\":519.452313339674,\"fYtoPixel\":-29.8965329014778,\"fUtoAbsPixelk\":616.626716265229,\"fUtoPixelk\":5e-5,\"fUtoPixel\":562.746667469541,\"fVtoAbsPixelk\":566.280050127852,\"fVtoPixelk\":560.560000255704,\"fVtoPixel\":-560.560000255704,\"fAbsPixeltoXk\":-23.4148940470571,\"fPixeltoXk\":-1.50000014901162,\"fPixeltoX\":0.0355399710991727,\"fAbsPixeltoYk\":17.5663266687979,\"fPixeltoYk\":-1.37500013969839,\"fPixeltoY\":-0.0334486946461464,\"fXlowNDC\":0.343333333109816,\"fYlowNDC\":0.00999999977648258,\"fXUpNDC\":0.656666666890184,\"fYUpNDC\":0.990000000223517,\"fWNDC\":0.313333333780368,\"fHNDC\":0.980000000447035,\"fAbsXlowNDC\":0.343333333109816,\"fAbsYlowNDC\":0.00999999977648258,\"fAbsWNDC\":0.313333333780368,\"fAbsHNDC\":0.980000000447035,\"fUxmin\":0.5,\"fUymin\":0.5,\"fUxmax\":16.5,\"fUymax\":15.5,\"fTheta\":30,\"fPhi\":30,\"fAspectRatio\":0,\"fNumber\":2,\"fTickx\":0,\"fTicky\":0,\"fLogx\":0,\"fLogy\":0,\"fLogz\":0,\"fPadPaint\":0,\"fCrosshair\":0,\"fCrosshairPos\":0,\"fBorderSize\":2,\"fBorderMode\":0,\"fModified\":false,\"fGridx\":false,\"fGridy\":false,\"fAbsCoord\":false,\"fEditable\":true,\"fFixedAspectRatio\":false,\"fPrimitives\":{\"_typename\":\"TList\",\"name\":\"TList\",\"arr\":[{\"_typename\":\"TFrame\",\"fUniqueID\":0,\"fBits\":8,\"fLineColor\":1,\"fLineStyle\":1,\"fLineWidth\":1,\"fFillColor\":0,\"fFillStyle\":1001,\"fX1\":0.5,\"fY1\":0.5,\"fX2\":16.5,\"fY2\":15.5,\"fBorderSize\":1,\"fBorderMode\":0},{\"_typename\":\"TH2D\",\"fUniqueID\":0,\"fBits\":520,\"fName\":\"M+1#sigma\",\"fTitle\":\"M+1#sigma\",\"fLineColor\":602,\"fLineStyle\":1,\"fLineWidth\":1,\"fFillColor\":0,\"fFillStyle\":1001,\"fMarkerColor\":1,\"fMarkerStyle\":1,\"fMarkerSize\":1,\"fNcells\":306,\"fXaxis\":{\"_typename\":\"TAxis\",\"fUniqueID\":0,\"fBits\":0,\"fName\":\"xaxis\",\"fTitle\":\"generator\",\"fNdivisions\":510,\"fAxisColor\":1,\"fLabelColor\":1,\"fLabelFont\":42,\"fLabelOffset\":0.005,\"fLabelSize\":0.035,\"fTickLength\":0.03,\"fTitleOffset\":1,\"fTitleSize\":0.035,\"fTitleColor\":1,\"fTitleFont\":42,\"fNbins\":16,\"fXmin\":0.5,\"fXmax\":16.5,\"fXbins\":[],\"fFirst\":0,\"fLast\":0,\"fBits2\":0,\"fTimeDisplay\":false,\"fTimeFormat\":\"\",\"fLabels\":null,\"fModLabs\":null},\"fYaxis\":{\"_typename\":\"TAxis\",\"fUniqueID\":0,\"fBits\":0,\"fName\":\"yaxis\",\"fTitle\":\"detector\",\"fNdivisions\":510,\"fAxisColor\":1,\"fLabelColor\":1,\"fLabelFont\":42,\"fLabelOffset\":0.005,\"fLabelSize\":0.035,\"fTickLength\":0.03,\"fTitleOffset\":0,\"fTitleSize\":0.035,\"fTitleColor\":1,\"fTitleFont\":42,\"fNbins\":15,\"fXmin\":0.5,\"fXmax\":15.5,\"fXbins\":[],\"fFirst\":0,\"fLast\":0,\"fBits2\":0,\"fTimeDisplay\":false,\"fTimeFormat\":\"\",\"fLabels\":null,\"fModLabs\":null},\"fZaxis\":{\"_typename\":\"TAxis\",\"fUniqueID\":0,\"fBits\":0,\"fName\":\"zaxis\",\"fTitle\":\"\",\"fNdivisions\":510,\"fAxisColor\":1,\"fLabelColor\":1,\"fLabelFont\":42,\"fLabelOffset\":0.005,\"fLabelSize\":0.035,\"fTickLength\":0.03,\"fTitleOffset\":1,\"fTitleSize\":0.035,\"fTitleColor\":1,\"fTitleFont\":42,\"fNbins\":1,\"fXmin\":0,\"fXmax\":1,\"fXbins\":[],\"fFirst\":0,\"fLast\":0,\"fBits2\":0,\"fTimeDisplay\":false,\"fTimeFormat\":\"\",\"fLabels\":null,\"fModLabs\":null},\"fBarOffset\":0,\"fBarWidth\":1000,\"fEntries\":100000,\"fTsumw\":99270,\"fTsumw2\":99270,\"fTsumwx\":910937,\"fTsumwx2\":9054065,\"fMaximum\":-1111,\"fMinimum\":-1111,\"fNormFactor\":0,\"fContour\":[0,465.05,930.1,1395.15,1860.2,2325.25,2790.3,3255.35,3720.4,4185.45,4650.5,5115.55,5580.6,6045.65,6510.7,6975.75,7440.8,7905.85,8370.9,8835.95],\"fSumw2\":[],\"fOption\":\"\",\"fFunctions\":{\"_typename\":\"TList\",\"name\":\"TList\",\"arr\":[{\"_typename\":\"TPaletteAxis\",\"fUniqueID\":0,\"fBits\":0,\"fLineColor\":1,\"fLineStyle\":1,\"fLineWidth\":1,\"fFillColor\":1178,\"fFillStyle\":1001,\"fX1\":16.6000000014901,\"fY1\":0.5,\"fX2\":17.5000000149012,\"fY2\":15.5,\"fX1NDC\":0.904999994039535,\"fY1NDC\":0.100000005960465,\"fX2NDC\":0.949999994039535,\"fY2NDC\":0.899999994039535,\"fBorderSize\":4,\"fInit\":1,\"fShadowColor\":1,\"fCornerRadius\":0,\"fOption\":\"br\",\"fName\":\"TPave\",\"fAxis\":{\"_typename\":\"TGaxis\",\"fUniqueID\":0,\"fBits\":0,\"fLineColor\":1,\"fLineStyle\":1,\"fLineWidth\":1,\"fX1\":0,\"fY1\":0,\"fX2\":0,\"fY2\":0,\"fTextAngle\":0,\"fTextSize\":0.04,\"fTextAlign\":11,\"fTextColor\":1,\"fTextFont\":42,\"fWmin\":0,\"fWmax\":0,\"fGridLength\":0,\"fTickSize\":0.03,\"fLabelOffset\":0.005,\"fLabelSize\":0.035,\"fTitleOffset\":1,\"fTitleSize\":0.035,\"fNdiv\":0,\"fLabelColor\":1,\"fLabelFont\":42,\"fNModLabs\":0,\"fChopt\":\"\",\"fName\":\"\",\"fTitle\":\"\",\"fTimeFormat\":\"\",\"fFunctionName\":\"\",\"fModLabs\":null},\"fName\":\"palette\"}],\"opt\":[\"br\"]},\"fBufferSize\":0,\"fBuffer\":[],\"fBinStatErrOpt\":0,\"fStatOverflows\":2,\"fScalefactor\":1,\"fTsumwy\":647956,\"fTsumwy2\":5705480,\"fTsumwxy\":6845696,\"fArray\":[0,0,0,0,0,0,338,164,35,0,162,0,0,0,31,0,0,0,0,0,0,0,0,0,9301,0,0,0,0,0,0,0,0,0,0,0,0,0,0,0,0,0,9145,151,0,0,0,0,0,0,0,0,0,0,0,0,0,0,0,0,148,9169,0,0,0,0,0,0,0,0,0,0,0,0,0,0,0,0,0,9293,155,0,0,0,0,0,0,0,0,0,0,0,0,0,0,0,0,168,3484,0,0,0,0,0,0,0,0,0,0,0,0,0,0,0,936,0,0,0,8318,0,0,0,0,0,0,0,0,0,0,0,0,0,950,13,0,0,8387,123,0,0,0,0,0,0,0,0,0,0,0,0,17,893,0,0,142,8467,0,0,0,0,0,0,0,0,0,0,0,0,0,961,18,0,0,7945,145,0,0,0,0,0,0,0,0,0,0,0,0,12,342,0,0,141,3233,0,0,0,0,0,0,0,0,0,0,0,0,0,0,0,1807,0,0,0,2007,0,0,0,0,0,0,0,0,0,0,0,0,0,1858,29,0,0,2060,27,0,0,0,0,0,0,0,0,0,0,0,0,33,1846,0,0,42,2018,0,0,0,0,0,0,0,0,0,0,0,0,0,1887,33,0,0,2023,24,0,0,0,0,0,0,0,0,0,0,0,0,29,732,0,0,18,740,0,0,0,0,0,0,0,0,0,0,0,0,0,0,0,0,0,0,0]},{\"_typename\":\"TPaveText\",\"fUniqueID\":0,\"fBits\":9,\"fLineColor\":1,\"fLineStyle\":1,\"fLineWidth\":1,\"fFillColor\":0,\"fFillStyle\":0,\"fX1\":7.03833102299914,\"fY1\":16.2500001969747,\"fX2\":9.96166897700086,\"fY2\":17.2812502277084,\"fX1NDC\":0.426916552238985,\"fY1NDC\":0.940000003948808,\"fX2NDC\":0.573083447761015,\"fY2NDC\":0.995000004768372,\"fBorderSize\":0,\"fInit\":1,\"fShadowColor\":1,\"fCornerRadius\":0,\"fOption\":\"blNDC\",\"fName\":\"title\",\"fTextAngle\":0,\"fTextSize\":0,\"fTextAlign\":22,\"fTextColor\":1,\"fTextFont\":42,\"fLabel\":\"\",\"fLongest\":9,\"fMargin\":0.05,\"fLines\":{\"_typename\":\"TList\",\"name\":\"TList\",\"arr\":[{\"_typename\":\"TLatex\",\"fUniqueID\":0,\"fBits\":0,\"fName\":\"\",\"fTitle\":\"M+1#sigma\",\"fTextAngle\":0,\"fTextSize\":0,\"fTextAlign\":0,\"fTextColor\":0,\"fTextFont\":0,\"fX\":0,\"fY\":0,\"fLineColor\":1,\"fLineStyle\":1,\"fLineWidth\":2,\"fLimitFactorSize\":3,\"fOriginSize\":0.0467500016093254}],\"opt\":[\"\"]}}],\"opt\":[\"\",\"colz\",\"blNDC\"]},\"fExecs\":{\"_typename\":\"TList\",\"name\":\"TList\",\"arr\":[],\"opt\":[]},\"fName\":\"c0_2\",\"fTitle\":\"c0_2\",\"fNumPaletteColor\":0,\"fNextPaletteColor\":0},{\"_typename\":\"TPad\",\"fUniqueID\":0,\"fBits\":9,\"fLineColor\":1,\"fLineStyle\":1,\"fLineWidth\":1,\"fFillColor\":0,\"fFillStyle\":1001,\"fLeftMargin\":0.1,\"fRightMargin\":0.1,\"fBottomMargin\":0.1,\"fTopMargin\":0.1,\"fXfile\":2,\"fYfile\":2,\"fAfile\":1,\"fXstat\":0.99,\"fYstat\":0.99,\"fAstat\":2,\"fFrameFillColor\":0,\"fFrameLineColor\":1,\"fFrameFillStyle\":1001,\"fFrameLineStyle\":1,\"fFrameLineWidth\":1,\"fFrameBorderSize\":1,\"fFrameBorderMode\":0,\"fX1\":-1.50000014901162,\"fY1\":-1.37500013969839,\"fX2\":18.5000001490116,\"fY2\":17.3750001396984,\"fXtoAbsPixelk\":1257.49938655598,\"fXtoPixelk\":42.2060536240868,\"fXtoPixel\":28.1373329541981,\"fYtoAbsPixelk\":525.172313211822,\"fYtoPixelk\":519.452313339674,\"fYtoPixel\":-29.8965329014778,\"fUtoAbsPixelk\":1215.2933829319,\"fUtoPixelk\":5e-5,\"fUtoPixel\":562.746667469541,\"fVtoAbsPixelk\":566.280050127852,\"fVtoPixelk\":560.560000255704,\"fVtoPixel\":-560.560000255704,\"fAbsPixeltoXk\":-44.6914900784285,\"fPixeltoXk\":-1.50000014901162,\"fPixeltoX\":0.0355399710991727,\"fAbsPixeltoYk\":17.5663266687979,\"fPixeltoYk\":-1.37500013969839,\"fPixeltoY\":-0.0334486946461464,\"fXlowNDC\":0.676666666443149,\"fYlowNDC\":0.00999999977648258,\"fXUpNDC\":0.990000000223517,\"fYUpNDC\":0.990000000223517,\"fWNDC\":0.313333333780368,\"fHNDC\":0.980000000447035,\"fAbsXlowNDC\":0.676666666443149,\"fAbsYlowNDC\":0.00999999977648258,\"fAbsWNDC\":0.313333333780368,\"fAbsHNDC\":0.980000000447035,\"fUxmin\":0.5,\"fUymin\":0.5,\"fUxmax\":16.5,\"fUymax\":15.5,\"fTheta\":30,\"fPhi\":30,\"fAspectRatio\":0,\"fNumber\":3,\"fTickx\":0,\"fTicky\":0,\"fLogx\":0,\"fLogy\":0,\"fLogz\":0,\"fPadPaint\":0,\"fCrosshair\":0,\"fCrosshairPos\":0,\"fBorderSize\":2,\"fBorderMode\":0,\"fModified\":false,\"fGridx\":false,\"fGridy\":false,\"fAbsCoord\":false,\"fEditable\":true,\"fFixedAspectRatio\":false,\"fPrimitives\":{\"_typename\":\"TList\",\"name\":\"TList\",\"arr\":[{\"_typename\":\"TFrame\",\"fUniqueID\":0,\"fBits\":8,\"fLineColor\":1,\"fLineStyle\":1,\"fLineWidth\":1,\"fFillColor\":0,\"fFillStyle\":1001,\"fX1\":0.5,\"fY1\":0.5,\"fX2\":16.5,\"fY2\":15.5,\"fBorderSize\":1,\"fBorderMode\":0},{\"_typename\":\"TH2D\",\"fUniqueID\":0,\"fBits\":520,\"fName\":\"M-1#sigma\",\"fTitle\":\"M-1#sigma\",\"fLineColor\":602,\"fLineStyle\":1,\"fLineWidth\":1,\"fFillColor\":0,\"fFillStyle\":1001,\"fMarkerColor\":1,\"fMarkerStyle\":1,\"fMarkerSize\":1,\"fNcells\":306,\"fXaxis\":{\"_typename\":\"TAxis\",\"fUniqueID\":0,\"fBits\":0,\"fName\":\"xaxis\",\"fTitle\":\"generator\",\"fNdivisions\":510,\"fAxisColor\":1,\"fLabelColor\":1,\"fLabelFont\":42,\"fLabelOffset\":0.005,\"fLabelSize\":0.035,\"fTickLength\":0.03,\"fTitleOffset\":1,\"fTitleSize\":0.035,\"fTitleColor\":1,\"fTitleFont\":42,\"fNbins\":16,\"fXmin\":0.5,\"fXmax\":16.5,\"fXbins\":[],\"fFirst\":0,\"fLast\":0,\"fBits2\":0,\"fTimeDisplay\":false,\"fTimeFormat\":\"\",\"fLabels\":null,\"fModLabs\":null},\"fYaxis\":{\"_typename\":\"TAxis\",\"fUniqueID\":0,\"fBits\":0,\"fName\":\"yaxis\",\"fTitle\":\"detector\",\"fNdivisions\":510,\"fAxisColor\":1,\"fLabelColor\":1,\"fLabelFont\":42,\"fLabelOffset\":0.005,\"fLabelSize\":0.035,\"fTickLength\":0.03,\"fTitleOffset\":0,\"fTitleSize\":0.035,\"fTitleColor\":1,\"fTitleFont\":42,\"fNbins\":15,\"fXmin\":0.5,\"fXmax\":15.5,\"fXbins\":[],\"fFirst\":0,\"fLast\":0,\"fBits2\":0,\"fTimeDisplay\":false,\"fTimeFormat\":\"\",\"fLabels\":null,\"fModLabs\":null},\"fZaxis\":{\"_typename\":\"TAxis\",\"fUniqueID\":0,\"fBits\":0,\"fName\":\"zaxis\",\"fTitle\":\"\",\"fNdivisions\":510,\"fAxisColor\":1,\"fLabelColor\":1,\"fLabelFont\":42,\"fLabelOffset\":0.005,\"fLabelSize\":0.035,\"fTickLength\":0.03,\"fTitleOffset\":1,\"fTitleSize\":0.035,\"fTitleColor\":1,\"fTitleFont\":42,\"fNbins\":1,\"fXmin\":0,\"fXmax\":1,\"fXbins\":[],\"fFirst\":0,\"fLast\":0,\"fBits2\":0,\"fTimeDisplay\":false,\"fTimeFormat\":\"\",\"fLabels\":null,\"fModLabs\":null},\"fBarOffset\":0,\"fBarWidth\":1000,\"fEntries\":100000,\"fTsumw\":99270,\"fTsumw2\":99270,\"fTsumwx\":910937,\"fTsumwx2\":9054065,\"fMaximum\":-1111,\"fMinimum\":-1111,\"fNormFactor\":0,\"fContour\":[0,512.7,1025.4,1538.1,2050.8,2563.5,3076.2,3588.9,4101.6,4614.3,5127,5639.7,6152.4,6665.1,7177.8,7690.5,8203.2,8715.9,9228.6,9741.3],\"fSumw2\":[],\"fOption\":\"\",\"fFunctions\":{\"_typename\":\"TList\",\"name\":\"TList\",\"arr\":[{\"_typename\":\"TPaletteAxis\",\"fUniqueID\":0,\"fBits\":0,\"fLineColor\":1,\"fLineStyle\":1,\"fLineWidth\":1,\"fFillColor\":1178,\"fFillStyle\":1001,\"fX1\":16.6000000014901,\"fY1\":0.5,\"fX2\":17.5000000149012,\"fY2\":15.5,\"fX1NDC\":0.904999994039535,\"fY1NDC\":0.100000005960465,\"fX2NDC\":0.949999994039535,\"fY2NDC\":0.899999994039535,\"fBorderSize\":4,\"fInit\":1,\"fShadowColor\":1,\"fCornerRadius\":0,\"fOption\":\"br\",\"fName\":\"TPave\",\"fAxis\":{\"_typename\":\"TGaxis\",\"fUniqueID\":0,\"fBits\":0,\"fLineColor\":1,\"fLineStyle\":1,\"fLineWidth\":1,\"fX1\":0,\"fY1\":0,\"fX2\":0,\"fY2\":0,\"fTextAngle\":0,\"fTextSize\":0.04,\"fTextAlign\":11,\"fTextColor\":1,\"fTextFont\":42,\"fWmin\":0,\"fWmax\":0,\"fGridLength\":0,\"fTickSize\":0.03,\"fLabelOffset\":0.005,\"fLabelSize\":0.035,\"fTitleOffset\":1,\"fTitleSize\":0.035,\"fNdiv\":0,\"fLabelColor\":1,\"fLabelFont\":42,\"fNModLabs\":0,\"fChopt\":\"\",\"fName\":\"\",\"fTitle\":\"\",\"fTimeFormat\":\"\",\"fFunctionName\":\"\",\"fModLabs\":null},\"fName\":\"palette\"}],\"opt\":[\"br\"]},\"fBufferSize\":0,\"fBuffer\":[],\"fBinStatErrOpt\":0,\"fStatOverflows\":2,\"fScalefactor\":1,\"fTsumwy\":516896,\"fTsumwy2\":3476590,\"fTsumwxy\":5356621,\"fArray\":[0,0,0,0,0,0,338,164,35,0,162,0,0,0,31,0,0,0,0,0,0,0,0,0,10237,0,0,0,1087,0,0,0,0,0,0,0,0,0,0,0,0,0,10095,164,0,0,1103,21,0,0,0,0,0,0,0,0,0,0,0,0,165,10062,0,0,18,1176,0,0,0,0,0,0,0,0,0,0,0,0,0,10254,173,0,0,1044,16,0,0,0,0,0,0,0,0,0,0,0,0,180,3826,0,0,24,423,0,0,0,0,0,0,0,0,0,0,0,0,0,0,0,9038,0,0,0,1995,0,0,0,0,0,0,0,0,0,0,0,0,0,9142,131,0,0,2047,26,0,0,0,0,0,0,0,0,0,0,0,0,157,9137,0,0,41,2005,0,0,0,0,0,0,0,0,0,0,0,0,0,8788,162,0,0,2009,24,0,0,0,0,0,0,0,0,0,0,0,0,146,3542,0,0,18,739,0,0,0,0,0,0,0,0,0,0,0,0,0,0,0,12,0,0,0,0,0,0,0,0,0,0,0,0,0,0,0,0,0,13,1,0,0,0,0,0,0,0,0,0,0,0,0,0,0,0,0,1,13,0,0,0,0,0,0,0,0,0,0,0,0,0,0,0,0,0,14,0,0,0,0,0,0,0,0,0,0,0,0,0,0,0,0,0,0,1,0,0,0,0,0,0,0,0,0,0,0,0,0,0,0,0,0,0,0]},{\"_typename\":\"TPaveText\",\"fUniqueID\":0,\"fBits\":9,\"fLineColor\":1,\"fLineStyle\":1,\"fLineWidth\":1,\"fFillColor\":0,\"fFillStyle\":0,\"fX1\":7.18049090739583,\"fY1\":16.2500001969747,\"fX2\":9.81950909260417,\"fY2\":17.2812502277084,\"fX1NDC\":0.434024546352902,\"fY1NDC\":0.940000003948808,\"fX2NDC\":0.565975453647098,\"fY2NDC\":0.995000004768372,\"fBorderSize\":0,\"fInit\":1,\"fShadowColor\":1,\"fCornerRadius\":0,\"fOption\":\"blNDC\",\"fName\":\"title\",\"fTextAngle\":0,\"fTextSize\":0,\"fTextAlign\":22,\"fTextColor\":1,\"fTextFont\":42,\"fLabel\":\"\",\"fLongest\":9,\"fMargin\":0.05,\"fLines\":{\"_typename\":\"TList\",\"name\":\"TList\",\"arr\":[{\"_typename\":\"TLatex\",\"fUniqueID\":0,\"fBits\":0,\"fName\":\"\",\"fTitle\":\"M-1#sigma\",\"fTextAngle\":0,\"fTextSize\":0,\"fTextAlign\":0,\"fTextColor\":0,\"fTextFont\":0,\"fX\":0,\"fY\":0,\"fLineColor\":1,\"fLineStyle\":1,\"fLineWidth\":2,\"fLimitFactorSize\":3,\"fOriginSize\":0.0467500016093254}],\"opt\":[\"\"]}}],\"opt\":[\"\",\"colz\",\"blNDC\"]},\"fExecs\":{\"_typename\":\"TList\",\"name\":\"TList\",\"arr\":[],\"opt\":[]},\"fName\":\"c0_3\",\"fTitle\":\"c0_3\",\"fNumPaletteColor\":0,\"fNextPaletteColor\":0}],\"opt\":[\"\",\"\",\"\"]},\"fExecs\":null,\"fName\":\"c0\",\"fTitle\":\"c0\",\"fNumPaletteColor\":0,\"fNextPaletteColor\":0,\"fDISPLAY\":\"$DISPLAY\",\"fDoubleBuffer\":0,\"fRetained\":true,\"fXsizeUser\":0,\"fYsizeUser\":0,\"fXsizeReal\":20,\"fYsizeReal\":6.666667,\"fWindowTopX\":0,\"fWindowTopY\":0,\"fWindowWidth\":0,\"fWindowHeight\":0,\"fCw\":1796,\"fCh\":572,\"fCatt\":{\"_typename\":\"TAttCanvas\",\"fXBetween\":2,\"fYBetween\":2,\"fTitleFromTop\":1.2,\"fXdate\":0.2,\"fYdate\":0.3,\"fAdate\":1},\"kMoveOpaque\":true,\"kResizeOpaque\":true,\"fHighLightColor\":2,\"fBatch\":true,\"kShowEventStatus\":false,\"kAutoExec\":true,\"kMenuBar\":true});\n",
       "            Core.draw(\"root_plot_1592339192547\", obj, \"\");\n",
       "        }\n",
       "    );\n",
       "}\n",
       "</script>\n"
      ],
      "text/plain": [
       "<IPython.core.display.HTML object>"
      ]
     },
     "metadata": {},
     "output_type": "display_data"
    }
   ],
   "source": [
    "\n",
    "c0 = ROOT.TCanvas(\"c0\", \"c0\", 1800, 600)\n",
    "c0.Divide(3,1)\n",
    "c0.cd(1)\n",
    "M.Draw(\"colz\")\n",
    "c0.cd(2)\n",
    "M1.Draw(\"colz\")\n",
    "c0.cd(3)\n",
    "M2.Draw(\"colz\")\n",
    "c0.Draw()"
   ]
  },
  {
   "cell_type": "markdown",
   "metadata": {},
   "source": [
    "## Draw the response matrix ratio\n",
    "\n",
    "We draw the ratio of the $\\pm 1 \\sigma$ variations to the nominal. "
   ]
  },
  {
   "cell_type": "code",
   "execution_count": 19,
   "metadata": {},
   "outputs": [
    {
     "data": {
      "text/html": [
       "\n",
       "<div id=\"root_plot_1592339192613\"\n",
       "     style=\"width: 1796px; height: 572px\">\n",
       "</div>\n",
       "<script>\n",
       "if (typeof require !== 'undefined') {\n",
       "\n",
       "    // All requirements met (we are in jupyter notebooks or we loaded requirejs before).\n",
       "    display_root_plot_1592339192613();\n",
       "\n",
       "} else {\n",
       "\n",
       "    // We are in jupyterlab, we need to insert requirejs and configure it.\n",
       "    // Jupyterlab might be installed in a different base_url so we need to know it.\n",
       "    try {\n",
       "        var base_url = JSON.parse(document.getElementById('jupyter-config-data').innerHTML).baseUrl;\n",
       "    } catch(_) {\n",
       "        var base_url = '/';\n",
       "    }\n",
       "\n",
       "    // Try loading a local version of requirejs and fallback to cdn if not possible.\n",
       "    requirejs_load(base_url + 'static/components/requirejs/require.js', requirejs_success(base_url), function(){\n",
       "        requirejs_load('https://cdnjs.cloudflare.com/ajax/libs/require.js/2.2.0/require.min.js', requirejs_success(base_url), function(){\n",
       "            document.getElementById(\"root_plot_1592339192613\").innerHTML = \"Failed to load requireJs\";\n",
       "        });\n",
       "    });\n",
       "}\n",
       "\n",
       "function requirejs_load(src, on_load, on_error) {\n",
       "    var script = document.createElement('script');\n",
       "    script.src = src;\n",
       "    script.onload = on_load;\n",
       "    script.onerror = on_error;\n",
       "    document.head.appendChild(script);\n",
       "}\n",
       "\n",
       "function requirejs_success(base_url) {\n",
       "    return function() {\n",
       "        require.config({\n",
       "            baseUrl: base_url + 'static/'\n",
       "        });\n",
       "        display_root_plot_1592339192613();\n",
       "    }\n",
       "}\n",
       "\n",
       "function display_root_plot_1592339192613() {\n",
       "    require(['scripts/JSRootCore'],\n",
       "        function(Core) {\n",
       "            var obj = Core.JSONR_unref({\"_typename\":\"TCanvas\",\"fUniqueID\":0,\"fBits\":3342344,\"fLineColor\":1,\"fLineStyle\":1,\"fLineWidth\":1,\"fFillColor\":0,\"fFillStyle\":1001,\"fLeftMargin\":0.1,\"fRightMargin\":0.1,\"fBottomMargin\":0.1,\"fTopMargin\":0.1,\"fXfile\":2,\"fYfile\":2,\"fAfile\":1,\"fXstat\":0.99,\"fYstat\":0.99,\"fAstat\":2,\"fFrameFillColor\":0,\"fFrameLineColor\":1,\"fFrameFillStyle\":1001,\"fFrameLineStyle\":1,\"fFrameLineWidth\":1,\"fFrameBorderSize\":1,\"fFrameBorderMode\":0,\"fX1\":0,\"fY1\":0,\"fX2\":1,\"fY2\":1,\"fXtoAbsPixelk\":5e-5,\"fXtoPixelk\":5e-5,\"fXtoPixel\":1796,\"fYtoAbsPixelk\":572.00005,\"fYtoPixelk\":572.00005,\"fYtoPixel\":-572,\"fUtoAbsPixelk\":5e-5,\"fUtoPixelk\":5e-5,\"fUtoPixel\":1796,\"fVtoAbsPixelk\":572.00005,\"fVtoPixelk\":572,\"fVtoPixel\":-572,\"fAbsPixeltoXk\":0,\"fPixeltoXk\":0,\"fPixeltoX\":5.56792873051225e-4,\"fAbsPixeltoYk\":1,\"fPixeltoYk\":0,\"fPixeltoY\":-0.00174825174825175,\"fXlowNDC\":0,\"fYlowNDC\":0,\"fXUpNDC\":1,\"fYUpNDC\":1,\"fWNDC\":1,\"fHNDC\":1,\"fAbsXlowNDC\":0,\"fAbsYlowNDC\":0,\"fAbsWNDC\":1,\"fAbsHNDC\":1,\"fUxmin\":0,\"fUymin\":0,\"fUxmax\":1,\"fUymax\":1,\"fTheta\":30,\"fPhi\":30,\"fAspectRatio\":0,\"fNumber\":0,\"fTickx\":0,\"fTicky\":0,\"fLogx\":0,\"fLogy\":0,\"fLogz\":0,\"fPadPaint\":0,\"fCrosshair\":0,\"fCrosshairPos\":0,\"fBorderSize\":2,\"fBorderMode\":0,\"fModified\":false,\"fGridx\":false,\"fGridy\":false,\"fAbsCoord\":false,\"fEditable\":true,\"fFixedAspectRatio\":false,\"fPrimitives\":{\"_typename\":\"TList\",\"name\":\"TList\",\"arr\":[{\"_typename\":\"TPad\",\"fUniqueID\":0,\"fBits\":9,\"fLineColor\":1,\"fLineStyle\":1,\"fLineWidth\":1,\"fFillColor\":0,\"fFillStyle\":1001,\"fLeftMargin\":0.1,\"fRightMargin\":0.1,\"fBottomMargin\":0.1,\"fTopMargin\":0.1,\"fXfile\":2,\"fYfile\":2,\"fAfile\":1,\"fXstat\":0.99,\"fYstat\":0.99,\"fAstat\":2,\"fFrameFillColor\":0,\"fFrameLineColor\":1,\"fFrameFillStyle\":1001,\"fFrameLineStyle\":1,\"fFrameLineWidth\":1,\"fFrameBorderSize\":1,\"fFrameBorderMode\":0,\"fX1\":-1.50000014901162,\"fY1\":-1.37500013969839,\"fX2\":18.5000001490116,\"fY2\":17.3750001396984,\"fXtoAbsPixelk\":60.1660532226495,\"fXtoPixelk\":42.2060536240867,\"fXtoPixel\":28.1373329541981,\"fYtoAbsPixelk\":525.172313211822,\"fYtoPixelk\":519.452313339674,\"fYtoPixel\":-29.8965329014778,\"fUtoAbsPixelk\":17.9600495985627,\"fUtoPixelk\":5e-5,\"fUtoPixel\":562.746667469541,\"fVtoAbsPixelk\":566.280050127852,\"fVtoPixelk\":560.560000255704,\"fVtoPixel\":-560.560000255704,\"fAbsPixeltoXk\":-2.13829801568569,\"fPixeltoXk\":-1.50000014901162,\"fPixeltoX\":0.0355399710991727,\"fAbsPixeltoYk\":17.5663266687979,\"fPixeltoYk\":-1.37500013969839,\"fPixeltoY\":-0.0334486946461464,\"fXlowNDC\":0.00999999977648258,\"fYlowNDC\":0.00999999977648258,\"fXUpNDC\":0.323333333556851,\"fYUpNDC\":0.990000000223517,\"fWNDC\":0.313333333780368,\"fHNDC\":0.980000000447035,\"fAbsXlowNDC\":0.00999999977648258,\"fAbsYlowNDC\":0.00999999977648258,\"fAbsWNDC\":0.313333333780368,\"fAbsHNDC\":0.980000000447035,\"fUxmin\":0.5,\"fUymin\":0.5,\"fUxmax\":16.5,\"fUymax\":15.5,\"fTheta\":30,\"fPhi\":30,\"fAspectRatio\":0,\"fNumber\":1,\"fTickx\":0,\"fTicky\":0,\"fLogx\":0,\"fLogy\":0,\"fLogz\":0,\"fPadPaint\":0,\"fCrosshair\":0,\"fCrosshairPos\":0,\"fBorderSize\":2,\"fBorderMode\":0,\"fModified\":false,\"fGridx\":false,\"fGridy\":false,\"fAbsCoord\":false,\"fEditable\":true,\"fFixedAspectRatio\":false,\"fPrimitives\":{\"_typename\":\"TList\",\"name\":\"TList\",\"arr\":[{\"_typename\":\"TFrame\",\"fUniqueID\":0,\"fBits\":8,\"fLineColor\":1,\"fLineStyle\":1,\"fLineWidth\":1,\"fFillColor\":0,\"fFillStyle\":1001,\"fX1\":0.5,\"fY1\":0.5,\"fX2\":16.5,\"fY2\":15.5,\"fBorderSize\":1,\"fBorderMode\":0},{\"_typename\":\"TH2D\",\"fUniqueID\":0,\"fBits\":520,\"fName\":\"M\",\"fTitle\":\"M\",\"fLineColor\":602,\"fLineStyle\":1,\"fLineWidth\":1,\"fFillColor\":0,\"fFillStyle\":1001,\"fMarkerColor\":1,\"fMarkerStyle\":1,\"fMarkerSize\":1,\"fNcells\":306,\"fXaxis\":{\"_typename\":\"TAxis\",\"fUniqueID\":0,\"fBits\":0,\"fName\":\"xaxis\",\"fTitle\":\"generator\",\"fNdivisions\":510,\"fAxisColor\":1,\"fLabelColor\":1,\"fLabelFont\":42,\"fLabelOffset\":0.005,\"fLabelSize\":0.035,\"fTickLength\":0.03,\"fTitleOffset\":1,\"fTitleSize\":0.035,\"fTitleColor\":1,\"fTitleFont\":42,\"fNbins\":16,\"fXmin\":0.5,\"fXmax\":16.5,\"fXbins\":[],\"fFirst\":0,\"fLast\":0,\"fBits2\":0,\"fTimeDisplay\":false,\"fTimeFormat\":\"\",\"fLabels\":null,\"fModLabs\":null},\"fYaxis\":{\"_typename\":\"TAxis\",\"fUniqueID\":0,\"fBits\":0,\"fName\":\"yaxis\",\"fTitle\":\"detector\",\"fNdivisions\":510,\"fAxisColor\":1,\"fLabelColor\":1,\"fLabelFont\":42,\"fLabelOffset\":0.005,\"fLabelSize\":0.035,\"fTickLength\":0.03,\"fTitleOffset\":0,\"fTitleSize\":0.035,\"fTitleColor\":1,\"fTitleFont\":42,\"fNbins\":15,\"fXmin\":0.5,\"fXmax\":15.5,\"fXbins\":[],\"fFirst\":0,\"fLast\":0,\"fBits2\":0,\"fTimeDisplay\":false,\"fTimeFormat\":\"\",\"fLabels\":null,\"fModLabs\":null},\"fZaxis\":{\"_typename\":\"TAxis\",\"fUniqueID\":0,\"fBits\":0,\"fName\":\"zaxis\",\"fTitle\":\"\",\"fNdivisions\":510,\"fAxisColor\":1,\"fLabelColor\":1,\"fLabelFont\":42,\"fLabelOffset\":0.005,\"fLabelSize\":0.035,\"fTickLength\":0.03,\"fTitleOffset\":1,\"fTitleSize\":0.035,\"fTitleColor\":1,\"fTitleFont\":42,\"fNbins\":1,\"fXmin\":0,\"fXmax\":1,\"fXbins\":[],\"fFirst\":0,\"fLast\":0,\"fBits2\":0,\"fTimeDisplay\":false,\"fTimeFormat\":\"\",\"fLabels\":null,\"fModLabs\":null},\"fBarOffset\":0,\"fBarWidth\":1000,\"fEntries\":100000,\"fTsumw\":99270,\"fTsumw2\":99270,\"fTsumwx\":910937,\"fTsumwx2\":9054065,\"fMaximum\":-1111,\"fMinimum\":-1111,\"fNormFactor\":0,\"fContour\":[0,509.25,1018.5,1527.75,2037,2546.25,3055.5,3564.75,4074,4583.25,5092.5,5601.75,6111,6620.25,7129.5,7638.75,8148,8657.25,9166.5,9675.75],\"fSumw2\":[],\"fOption\":\"\",\"fFunctions\":{\"_typename\":\"TList\",\"name\":\"TList\",\"arr\":[{\"_typename\":\"TPaletteAxis\",\"fUniqueID\":0,\"fBits\":0,\"fLineColor\":1,\"fLineStyle\":1,\"fLineWidth\":1,\"fFillColor\":1178,\"fFillStyle\":1001,\"fX1\":16.6000000014901,\"fY1\":0.5,\"fX2\":17.5000000149012,\"fY2\":15.5,\"fX1NDC\":0.904999994039535,\"fY1NDC\":0.100000005960465,\"fX2NDC\":0.949999994039535,\"fY2NDC\":0.899999994039535,\"fBorderSize\":4,\"fInit\":1,\"fShadowColor\":1,\"fCornerRadius\":0,\"fOption\":\"br\",\"fName\":\"TPave\",\"fAxis\":{\"_typename\":\"TGaxis\",\"fUniqueID\":0,\"fBits\":0,\"fLineColor\":1,\"fLineStyle\":1,\"fLineWidth\":1,\"fX1\":0,\"fY1\":0,\"fX2\":0,\"fY2\":0,\"fTextAngle\":0,\"fTextSize\":0.04,\"fTextAlign\":11,\"fTextColor\":1,\"fTextFont\":42,\"fWmin\":0,\"fWmax\":0,\"fGridLength\":0,\"fTickSize\":0.03,\"fLabelOffset\":0.005,\"fLabelSize\":0.035,\"fTitleOffset\":1,\"fTitleSize\":0.035,\"fNdiv\":0,\"fLabelColor\":1,\"fLabelFont\":42,\"fNModLabs\":0,\"fChopt\":\"\",\"fName\":\"\",\"fTitle\":\"\",\"fTimeFormat\":\"\",\"fFunctionName\":\"\",\"fModLabs\":null},\"fName\":\"palette\"}],\"opt\":[\"br\"]},\"fBufferSize\":0,\"fBuffer\":[],\"fBinStatErrOpt\":0,\"fStatOverflows\":2,\"fScalefactor\":1,\"fTsumwy\":585676,\"fTsumwy2\":4636510,\"fTsumwxy\":6251386,\"fArray\":[0,0,0,0,0,0,338,164,35,0,162,0,0,0,31,0,0,0,0,0,0,0,0,0,10163,0,0,0,68,0,0,0,0,0,0,0,0,0,0,0,0,0,10005,164,0,0,78,1,0,0,0,0,0,0,0,0,0,0,0,0,164,9995,0,0,0,87,0,0,0,0,0,0,0,0,0,0,0,0,0,10185,172,0,0,52,2,0,0,0,0,0,0,0,0,0,0,0,0,178,3799,0,0,2,36,0,0,0,0,0,0,0,0,0,0,0,74,0,0,0,9994,0,0,0,82,0,0,0,0,0,0,0,0,0,90,0,0,0,10089,150,0,0,91,0,0,0,0,0,0,0,0,0,1,67,0,0,173,10152,0,0,2,94,0,0,0,0,0,0,0,0,0,69,1,0,0,9701,175,0,0,82,0,0,0,0,0,0,0,0,0,2,27,0,0,166,3905,0,0,0,38,0,0,0,0,0,0,0,0,0,0,0,63,0,0,0,1925,0,0,0,0,0,0,0,0,0,0,0,0,0,78,1,0,0,1969,27,0,0,0,0,0,0,0,0,0,0,0,0,2,74,0,0,40,1924,0,0,0,0,0,0,0,0,0,0,0,0,0,79,1,0,0,1941,24,0,0,0,0,0,0,0,0,0,0,0,0,2,24,0,0,18,702,0,0,0,0,0,0,0,0,0,0,0,0,0,0,0,0,0,0,0]},{\"_typename\":\"TPaveText\",\"fUniqueID\":0,\"fBits\":9,\"fLineColor\":1,\"fLineStyle\":1,\"fLineWidth\":1,\"fFillColor\":0,\"fFillStyle\":0,\"fX1\":7.89129032937928,\"fY1\":16.2500001969747,\"fX2\":9.10870967062072,\"fY2\":17.2812502277084,\"fX1NDC\":0.469564516922488,\"fY1NDC\":0.940000003948808,\"fX2NDC\":0.530435483077512,\"fY2NDC\":0.995000004768372,\"fBorderSize\":0,\"fInit\":1,\"fShadowColor\":1,\"fCornerRadius\":0,\"fOption\":\"blNDC\",\"fName\":\"title\",\"fTextAngle\":0,\"fTextSize\":0,\"fTextAlign\":22,\"fTextColor\":1,\"fTextFont\":42,\"fLabel\":\"\",\"fLongest\":1,\"fMargin\":0.05,\"fLines\":{\"_typename\":\"TList\",\"name\":\"TList\",\"arr\":[{\"_typename\":\"TLatex\",\"fUniqueID\":0,\"fBits\":0,\"fName\":\"\",\"fTitle\":\"M\",\"fTextAngle\":0,\"fTextSize\":0,\"fTextAlign\":0,\"fTextColor\":0,\"fTextFont\":0,\"fX\":0,\"fY\":0,\"fLineColor\":1,\"fLineStyle\":1,\"fLineWidth\":2,\"fLimitFactorSize\":3,\"fOriginSize\":0.0467500016093254}],\"opt\":[\"\"]}}],\"opt\":[\"\",\"colz\",\"blNDC\"]},\"fExecs\":{\"_typename\":\"TList\",\"name\":\"TList\",\"arr\":[],\"opt\":[]},\"fName\":\"cratio_1\",\"fTitle\":\"cratio_1\",\"fNumPaletteColor\":0,\"fNextPaletteColor\":0},{\"_typename\":\"TPad\",\"fUniqueID\":0,\"fBits\":9,\"fLineColor\":1,\"fLineStyle\":1,\"fLineWidth\":1,\"fFillColor\":0,\"fFillStyle\":1001,\"fLeftMargin\":0.1,\"fRightMargin\":0.1,\"fBottomMargin\":0.1,\"fTopMargin\":0.1,\"fXfile\":2,\"fYfile\":2,\"fAfile\":1,\"fXstat\":0.99,\"fYstat\":0.99,\"fAstat\":2,\"fFrameFillColor\":0,\"fFrameLineColor\":1,\"fFrameFillStyle\":1001,\"fFrameLineStyle\":1,\"fFrameLineWidth\":1,\"fFrameBorderSize\":1,\"fFrameBorderMode\":0,\"fX1\":-1.50000014901162,\"fY1\":-1.37500013969839,\"fX2\":18.5000001490116,\"fY2\":17.3750001396984,\"fXtoAbsPixelk\":658.832719889316,\"fXtoPixelk\":42.2060536240867,\"fXtoPixel\":28.1373329541981,\"fYtoAbsPixelk\":525.172313211822,\"fYtoPixelk\":519.452313339674,\"fYtoPixel\":-29.8965329014778,\"fUtoAbsPixelk\":616.626716265229,\"fUtoPixelk\":5e-5,\"fUtoPixel\":562.746667469541,\"fVtoAbsPixelk\":566.280050127852,\"fVtoPixelk\":560.560000255704,\"fVtoPixel\":-560.560000255704,\"fAbsPixeltoXk\":-23.4148940470571,\"fPixeltoXk\":-1.50000014901162,\"fPixeltoX\":0.0355399710991727,\"fAbsPixeltoYk\":17.5663266687979,\"fPixeltoYk\":-1.37500013969839,\"fPixeltoY\":-0.0334486946461464,\"fXlowNDC\":0.343333333109816,\"fYlowNDC\":0.00999999977648258,\"fXUpNDC\":0.656666666890184,\"fYUpNDC\":0.990000000223517,\"fWNDC\":0.313333333780368,\"fHNDC\":0.980000000447035,\"fAbsXlowNDC\":0.343333333109816,\"fAbsYlowNDC\":0.00999999977648258,\"fAbsWNDC\":0.313333333780368,\"fAbsHNDC\":0.980000000447035,\"fUxmin\":0.5,\"fUymin\":0.5,\"fUxmax\":16.5,\"fUymax\":15.5,\"fTheta\":30,\"fPhi\":30,\"fAspectRatio\":0,\"fNumber\":2,\"fTickx\":0,\"fTicky\":0,\"fLogx\":0,\"fLogy\":0,\"fLogz\":1,\"fPadPaint\":0,\"fCrosshair\":0,\"fCrosshairPos\":0,\"fBorderSize\":2,\"fBorderMode\":0,\"fModified\":false,\"fGridx\":false,\"fGridy\":false,\"fAbsCoord\":false,\"fEditable\":true,\"fFixedAspectRatio\":false,\"fPrimitives\":{\"_typename\":\"TList\",\"name\":\"TList\",\"arr\":[{\"_typename\":\"TFrame\",\"fUniqueID\":0,\"fBits\":8,\"fLineColor\":1,\"fLineStyle\":1,\"fLineWidth\":1,\"fFillColor\":0,\"fFillStyle\":1001,\"fX1\":0.5,\"fY1\":0.5,\"fX2\":16.5,\"fY2\":15.5,\"fBorderSize\":1,\"fBorderMode\":0},{\"_typename\":\"TH2D\",\"fUniqueID\":0,\"fBits\":520,\"fName\":\"M+1#sigma\",\"fTitle\":\"M+1#sigma\",\"fLineColor\":602,\"fLineStyle\":1,\"fLineWidth\":1,\"fFillColor\":0,\"fFillStyle\":1001,\"fMarkerColor\":1,\"fMarkerStyle\":1,\"fMarkerSize\":1,\"fNcells\":306,\"fXaxis\":{\"_typename\":\"TAxis\",\"fUniqueID\":0,\"fBits\":0,\"fName\":\"xaxis\",\"fTitle\":\"generator\",\"fNdivisions\":510,\"fAxisColor\":1,\"fLabelColor\":1,\"fLabelFont\":42,\"fLabelOffset\":0.005,\"fLabelSize\":0.035,\"fTickLength\":0.03,\"fTitleOffset\":1,\"fTitleSize\":0.035,\"fTitleColor\":1,\"fTitleFont\":42,\"fNbins\":16,\"fXmin\":0.5,\"fXmax\":16.5,\"fXbins\":[],\"fFirst\":0,\"fLast\":0,\"fBits2\":0,\"fTimeDisplay\":false,\"fTimeFormat\":\"\",\"fLabels\":null,\"fModLabs\":null},\"fYaxis\":{\"_typename\":\"TAxis\",\"fUniqueID\":0,\"fBits\":0,\"fName\":\"yaxis\",\"fTitle\":\"detector\",\"fNdivisions\":510,\"fAxisColor\":1,\"fLabelColor\":1,\"fLabelFont\":42,\"fLabelOffset\":0.005,\"fLabelSize\":0.035,\"fTickLength\":0.03,\"fTitleOffset\":0,\"fTitleSize\":0.035,\"fTitleColor\":1,\"fTitleFont\":42,\"fNbins\":15,\"fXmin\":0.5,\"fXmax\":15.5,\"fXbins\":[],\"fFirst\":0,\"fLast\":0,\"fBits2\":0,\"fTimeDisplay\":false,\"fTimeFormat\":\"\",\"fLabels\":null,\"fModLabs\":null},\"fZaxis\":{\"_typename\":\"TAxis\",\"fUniqueID\":0,\"fBits\":0,\"fName\":\"zaxis\",\"fTitle\":\"\",\"fNdivisions\":510,\"fAxisColor\":1,\"fLabelColor\":1,\"fLabelFont\":42,\"fLabelOffset\":0.005,\"fLabelSize\":0.035,\"fTickLength\":0.03,\"fTitleOffset\":1,\"fTitleSize\":0.035,\"fTitleColor\":1,\"fTitleFont\":42,\"fNbins\":1,\"fXmin\":0,\"fXmax\":1,\"fXbins\":[],\"fFirst\":0,\"fLast\":0,\"fBits2\":0,\"fTimeDisplay\":false,\"fTimeFormat\":\"\",\"fLabels\":null,\"fModLabs\":null},\"fBarOffset\":0,\"fBarWidth\":1000,\"fEntries\":353.953431515107,\"fTsumw\":353.953431515107,\"fTsumw2\":353.953431515107,\"fTsumwx\":3463.2732927988,\"fTsumwx2\":35602.3159591823,\"fMaximum\":1.2,\"fMinimum\":-1111,\"fNormFactor\":0,\"fContour\":[-2.92081875395238,-2.77081875395238,-2.62081875395238,-2.47081875395238,-2.32081875395238,-2.17081875395238,-2.02081875395238,-1.87081875395238,-1.72081875395238,-1.57081875395238,-1.42081875395238,-1.27081875395238,-1.12081875395238,-0.970818753952375,-0.820818753952375,-0.670818753952375,-0.520818753952375,-0.370818753952376,-0.220818753952376,-0.0708187539523752],\"fSumw2\":[],\"fOption\":\"\",\"fFunctions\":{\"_typename\":\"TList\",\"name\":\"TList\",\"arr\":[{\"_typename\":\"TPaletteAxis\",\"fUniqueID\":0,\"fBits\":0,\"fLineColor\":1,\"fLineStyle\":1,\"fLineWidth\":1,\"fFillColor\":1178,\"fFillStyle\":1001,\"fX1\":16.6000000014901,\"fY1\":0.5,\"fX2\":17.5000000149012,\"fY2\":15.5,\"fX1NDC\":0.904999994039535,\"fY1NDC\":0.100000005960465,\"fX2NDC\":0.949999994039535,\"fY2NDC\":0.899999994039535,\"fBorderSize\":4,\"fInit\":1,\"fShadowColor\":1,\"fCornerRadius\":0,\"fOption\":\"br\",\"fName\":\"TPave\",\"fAxis\":{\"_typename\":\"TGaxis\",\"fUniqueID\":0,\"fBits\":0,\"fLineColor\":1,\"fLineStyle\":1,\"fLineWidth\":1,\"fX1\":0,\"fY1\":0,\"fX2\":0,\"fY2\":0,\"fTextAngle\":0,\"fTextSize\":0.04,\"fTextAlign\":11,\"fTextColor\":1,\"fTextFont\":42,\"fWmin\":0,\"fWmax\":0,\"fGridLength\":0,\"fTickSize\":0.03,\"fLabelOffset\":0.005,\"fLabelSize\":0.035,\"fTitleOffset\":1,\"fTitleSize\":0.035,\"fNdiv\":0,\"fLabelColor\":1,\"fLabelFont\":42,\"fNModLabs\":0,\"fChopt\":\"\",\"fName\":\"\",\"fTitle\":\"\",\"fTimeFormat\":\"\",\"fFunctionName\":\"\",\"fModLabs\":null},\"fName\":\"palette\"}],\"opt\":[\"br\"]},\"fBufferSize\":0,\"fBuffer\":[],\"fBinStatErrOpt\":0,\"fStatOverflows\":2,\"fScalefactor\":1,\"fTsumwy\":4036.68598257595,\"fTsumwy2\":48978.2799780422,\"fTsumwxy\":41422.0591836476,\"fArray\":[0,0,0,0,0,0,1,1,1,0,1,0,0,0,1,0,0,0,0,0,0,0,0,0,0.915182524845026,0,0,0,0,0,0,0,0,0,0,0,0,0,0,0,0,0,0.914042978510745,0.920731707317073,0,0,0,0,0,0,0,0,0,0,0,0,0,0,0,0,0.902439024390244,0.91735867933967,0,0,0,0,0,0,0,0,0,0,0,0,0,0,0,0,0,0.912420225822288,0.901162790697674,0,0,0,0,0,0,0,0,0,0,0,0,0,0,0,0,0.943820224719101,0.917083443011319,0,0,0,0,0,0,0,0,0,0,0,0,0,0,0,12.6486486486486,0,0,0,0.832299379627777,0,0,0,0,0,0,0,0,0,0,0,0,0,10.5555555555556,0,0,0,0.831301417385271,0.82,0,0,0,0,0,0,0,0,0,0,0,0,17,13.3283582089552,0,0,0.820809248554913,0.834022852639874,0,0,0,0,0,0,0,0,0,0,0,0,0,13.9275362318841,18,0,0,0.818987733223379,0.828571428571429,0,0,0,0,0,0,0,0,0,0,0,0,6,12.6666666666667,0,0,0.849397590361446,0.827912932138284,0,0,0,0,0,0,0,0,0,0,0,0,0,0,0,28.6825396825397,0,0,0,1.0425974025974,0,0,0,0,0,0,0,0,0,0,0,0,0,23.8205128205128,29,0,0,1.04621635347892,1,0,0,0,0,0,0,0,0,0,0,0,0,16.5,24.9459459459459,0,0,1.05,1.04885654885655,0,0,0,0,0,0,0,0,0,0,0,0,0,23.8860759493671,33,0,0,1.04224626481195,1,0,0,0,0,0,0,0,0,0,0,0,0,14.5,30.5,0,0,1,1.05413105413105,0,0,0,0,0,0,0,0,0,0,0,0,0,0,0,0,0,0,0]},{\"_typename\":\"TPaveText\",\"fUniqueID\":0,\"fBits\":9,\"fLineColor\":1,\"fLineStyle\":1,\"fLineWidth\":1,\"fFillColor\":0,\"fFillStyle\":0,\"fX1\":7.03833102299914,\"fY1\":16.2500001969747,\"fX2\":9.96166897700086,\"fY2\":17.2812502277084,\"fX1NDC\":0.426916552238985,\"fY1NDC\":0.940000003948808,\"fX2NDC\":0.573083447761015,\"fY2NDC\":0.995000004768372,\"fBorderSize\":0,\"fInit\":1,\"fShadowColor\":1,\"fCornerRadius\":0,\"fOption\":\"blNDC\",\"fName\":\"title\",\"fTextAngle\":0,\"fTextSize\":0,\"fTextAlign\":22,\"fTextColor\":1,\"fTextFont\":42,\"fLabel\":\"\",\"fLongest\":9,\"fMargin\":0.05,\"fLines\":{\"_typename\":\"TList\",\"name\":\"TList\",\"arr\":[{\"_typename\":\"TLatex\",\"fUniqueID\":0,\"fBits\":0,\"fName\":\"\",\"fTitle\":\"M+1#sigma\",\"fTextAngle\":0,\"fTextSize\":0,\"fTextAlign\":0,\"fTextColor\":0,\"fTextFont\":0,\"fX\":0,\"fY\":0,\"fLineColor\":1,\"fLineStyle\":1,\"fLineWidth\":2,\"fLimitFactorSize\":3,\"fOriginSize\":0.0467500016093254}],\"opt\":[\"\"]}}],\"opt\":[\"\",\"colz\",\"blNDC\"]},\"fExecs\":{\"_typename\":\"TList\",\"name\":\"TList\",\"arr\":[],\"opt\":[]},\"fName\":\"cratio_2\",\"fTitle\":\"cratio_2\",\"fNumPaletteColor\":0,\"fNextPaletteColor\":0},{\"_typename\":\"TPad\",\"fUniqueID\":0,\"fBits\":9,\"fLineColor\":1,\"fLineStyle\":1,\"fLineWidth\":1,\"fFillColor\":0,\"fFillStyle\":1001,\"fLeftMargin\":0.1,\"fRightMargin\":0.1,\"fBottomMargin\":0.1,\"fTopMargin\":0.1,\"fXfile\":2,\"fYfile\":2,\"fAfile\":1,\"fXstat\":0.99,\"fYstat\":0.99,\"fAstat\":2,\"fFrameFillColor\":0,\"fFrameLineColor\":1,\"fFrameFillStyle\":1001,\"fFrameLineStyle\":1,\"fFrameLineWidth\":1,\"fFrameBorderSize\":1,\"fFrameBorderMode\":0,\"fX1\":-1.50000014901162,\"fY1\":-1.37500013969839,\"fX2\":18.5000001490116,\"fY2\":17.3750001396984,\"fXtoAbsPixelk\":1257.49938655598,\"fXtoPixelk\":42.2060536240868,\"fXtoPixel\":28.1373329541981,\"fYtoAbsPixelk\":525.172313211822,\"fYtoPixelk\":519.452313339674,\"fYtoPixel\":-29.8965329014778,\"fUtoAbsPixelk\":1215.2933829319,\"fUtoPixelk\":5e-5,\"fUtoPixel\":562.746667469541,\"fVtoAbsPixelk\":566.280050127852,\"fVtoPixelk\":560.560000255704,\"fVtoPixel\":-560.560000255704,\"fAbsPixeltoXk\":-44.6914900784285,\"fPixeltoXk\":-1.50000014901162,\"fPixeltoX\":0.0355399710991727,\"fAbsPixeltoYk\":17.5663266687979,\"fPixeltoYk\":-1.37500013969839,\"fPixeltoY\":-0.0334486946461464,\"fXlowNDC\":0.676666666443149,\"fYlowNDC\":0.00999999977648258,\"fXUpNDC\":0.990000000223517,\"fYUpNDC\":0.990000000223517,\"fWNDC\":0.313333333780368,\"fHNDC\":0.980000000447035,\"fAbsXlowNDC\":0.676666666443149,\"fAbsYlowNDC\":0.00999999977648258,\"fAbsWNDC\":0.313333333780368,\"fAbsHNDC\":0.980000000447035,\"fUxmin\":0.5,\"fUymin\":0.5,\"fUxmax\":16.5,\"fUymax\":15.5,\"fTheta\":30,\"fPhi\":30,\"fAspectRatio\":0,\"fNumber\":3,\"fTickx\":0,\"fTicky\":0,\"fLogx\":0,\"fLogy\":0,\"fLogz\":1,\"fPadPaint\":0,\"fCrosshair\":0,\"fCrosshairPos\":0,\"fBorderSize\":2,\"fBorderMode\":0,\"fModified\":false,\"fGridx\":false,\"fGridy\":false,\"fAbsCoord\":false,\"fEditable\":true,\"fFixedAspectRatio\":false,\"fPrimitives\":{\"_typename\":\"TList\",\"name\":\"TList\",\"arr\":[{\"_typename\":\"TFrame\",\"fUniqueID\":0,\"fBits\":8,\"fLineColor\":1,\"fLineStyle\":1,\"fLineWidth\":1,\"fFillColor\":0,\"fFillStyle\":1001,\"fX1\":0.5,\"fY1\":0.5,\"fX2\":16.5,\"fY2\":15.5,\"fBorderSize\":1,\"fBorderMode\":0},{\"_typename\":\"TH2D\",\"fUniqueID\":0,\"fBits\":520,\"fName\":\"M-1#sigma\",\"fTitle\":\"M-1#sigma\",\"fLineColor\":602,\"fLineStyle\":1,\"fLineWidth\":1,\"fFillColor\":0,\"fFillStyle\":1001,\"fMarkerColor\":1,\"fMarkerStyle\":1,\"fMarkerSize\":1,\"fNcells\":306,\"fXaxis\":{\"_typename\":\"TAxis\",\"fUniqueID\":0,\"fBits\":0,\"fName\":\"xaxis\",\"fTitle\":\"generator\",\"fNdivisions\":510,\"fAxisColor\":1,\"fLabelColor\":1,\"fLabelFont\":42,\"fLabelOffset\":0.005,\"fLabelSize\":0.035,\"fTickLength\":0.03,\"fTitleOffset\":1,\"fTitleSize\":0.035,\"fTitleColor\":1,\"fTitleFont\":42,\"fNbins\":16,\"fXmin\":0.5,\"fXmax\":16.5,\"fXbins\":[],\"fFirst\":0,\"fLast\":0,\"fBits2\":0,\"fTimeDisplay\":false,\"fTimeFormat\":\"\",\"fLabels\":null,\"fModLabs\":null},\"fYaxis\":{\"_typename\":\"TAxis\",\"fUniqueID\":0,\"fBits\":0,\"fName\":\"yaxis\",\"fTitle\":\"detector\",\"fNdivisions\":510,\"fAxisColor\":1,\"fLabelColor\":1,\"fLabelFont\":42,\"fLabelOffset\":0.005,\"fLabelSize\":0.035,\"fTickLength\":0.03,\"fTitleOffset\":0,\"fTitleSize\":0.035,\"fTitleColor\":1,\"fTitleFont\":42,\"fNbins\":15,\"fXmin\":0.5,\"fXmax\":15.5,\"fXbins\":[],\"fFirst\":0,\"fLast\":0,\"fBits2\":0,\"fTimeDisplay\":false,\"fTimeFormat\":\"\",\"fLabels\":null,\"fModLabs\":null},\"fZaxis\":{\"_typename\":\"TAxis\",\"fUniqueID\":0,\"fBits\":0,\"fName\":\"zaxis\",\"fTitle\":\"\",\"fNdivisions\":510,\"fAxisColor\":1,\"fLabelColor\":1,\"fLabelFont\":42,\"fLabelOffset\":0.005,\"fLabelSize\":0.035,\"fTickLength\":0.03,\"fTitleOffset\":1,\"fTitleSize\":0.035,\"fTitleColor\":1,\"fTitleFont\":42,\"fNbins\":1,\"fXmin\":0,\"fXmax\":1,\"fXbins\":[],\"fFirst\":0,\"fLast\":0,\"fBits2\":0,\"fTimeDisplay\":false,\"fTimeFormat\":\"\",\"fLabels\":null,\"fModLabs\":null},\"fBarOffset\":0,\"fBarWidth\":1000,\"fEntries\":266.331196359836,\"fTsumw\":266.331196359836,\"fTsumw2\":266.331196359836,\"fTsumwx\":3363.98408273638,\"fTsumwx2\":43820.6402151875,\"fMaximum\":1.2,\"fMinimum\":-1111,\"fNormFactor\":0,\"fContour\":[-2.92081875395238,-2.77081875395238,-2.62081875395238,-2.47081875395238,-2.32081875395238,-2.17081875395238,-2.02081875395238,-1.87081875395238,-1.72081875395238,-1.57081875395238,-1.42081875395238,-1.27081875395238,-1.12081875395238,-0.970818753952375,-0.820818753952375,-0.670818753952375,-0.520818753952375,-0.370818753952376,-0.220818753952376,-0.0708187539523752],\"fSumw2\":[],\"fOption\":\"\",\"fFunctions\":{\"_typename\":\"TList\",\"name\":\"TList\",\"arr\":[{\"_typename\":\"TPaletteAxis\",\"fUniqueID\":0,\"fBits\":0,\"fLineColor\":1,\"fLineStyle\":1,\"fLineWidth\":1,\"fFillColor\":1178,\"fFillStyle\":1001,\"fX1\":16.6000000014901,\"fY1\":0.5,\"fX2\":17.5000000149012,\"fY2\":15.5,\"fX1NDC\":0.904999994039535,\"fY1NDC\":0.100000005960465,\"fX2NDC\":0.949999994039535,\"fY2NDC\":0.899999994039535,\"fBorderSize\":4,\"fInit\":1,\"fShadowColor\":1,\"fCornerRadius\":0,\"fOption\":\"br\",\"fName\":\"TPave\",\"fAxis\":{\"_typename\":\"TGaxis\",\"fUniqueID\":0,\"fBits\":0,\"fLineColor\":1,\"fLineStyle\":1,\"fLineWidth\":1,\"fX1\":0,\"fY1\":0,\"fX2\":0,\"fY2\":0,\"fTextAngle\":0,\"fTextSize\":0.04,\"fTextAlign\":11,\"fTextColor\":1,\"fTextFont\":42,\"fWmin\":0,\"fWmax\":0,\"fGridLength\":0,\"fTickSize\":0.03,\"fLabelOffset\":0.005,\"fLabelSize\":0.035,\"fTitleOffset\":1,\"fTitleSize\":0.035,\"fNdiv\":0,\"fLabelColor\":1,\"fLabelFont\":42,\"fNModLabs\":0,\"fChopt\":\"\",\"fName\":\"\",\"fTitle\":\"\",\"fTimeFormat\":\"\",\"fFunctionName\":\"\",\"fModLabs\":null},\"fName\":\"palette\"}],\"opt\":[\"br\"]},\"fBufferSize\":0,\"fBuffer\":[],\"fBinStatErrOpt\":0,\"fStatOverflows\":2,\"fScalefactor\":1,\"fTsumwy\":1507.95168097021,\"fTsumwy2\":10592.0190645169,\"fTsumwxy\":20461.8074617287,\"fArray\":[0,0,0,0,0,0,1,1,1,0,1,0,0,0,1,0,0,0,0,0,0,0,0,0,1.00728131457247,0,0,0,15.9852941176471,0,0,0,0,0,0,0,0,0,0,0,0,0,1.00899550224888,1,0,0,14.1410256410256,21,0,0,0,0,0,0,0,0,0,0,0,0,1.00609756097561,1.00670335167584,0,0,0,13.5172413793103,0,0,0,0,0,0,0,0,0,0,0,0,0,1.00677466863034,1.00581395348837,0,0,20.0769230769231,8,0,0,0,0,0,0,0,0,0,0,0,0,1.01123595505618,1.00710713345617,0,0,12,11.75,0,0,0,0,0,0,0,0,0,0,0,0,0,0,0,0.904342605563338,0,0,0,24.3292682926829,0,0,0,0,0,0,0,0,0,0,0,0,0,0.906135394984637,0.873333333333333,0,0,22.4945054945055,0,0,0,0,0,0,0,0,0,0,0,0,0,0.907514450867052,0.900019700551615,0,0,20.5,21.3297872340426,0,0,0,0,0,0,0,0,0,0,0,0,0,0.905885991134935,0.925714285714286,0,0,24.5,0,0,0,0,0,0,0,0,0,0,0,0,0,0.879518072289157,0.907042253521127,0,0,0,19.4473684210526,0,0,0,0,0,0,0,0,0,0,0,0,0,0,0,0.00623376623376623,0,0,0,0,0,0,0,0,0,0,0,0,0,0,0,0,0,0.00660233621127476,0.037037037037037,0,0,0,0,0,0,0,0,0,0,0,0,0,0,0,0,0.025,0.00675675675675676,0,0,0,0,0,0,0,0,0,0,0,0,0,0,0,0,0,0.00721277691911386,0,0,0,0,0,0,0,0,0,0,0,0,0,0,0,0,0,0,0.00142450142450142,0,0,0,0,0,0,0,0,0,0,0,0,0,0,0,0,0,0,0]},{\"_typename\":\"TPaveText\",\"fUniqueID\":0,\"fBits\":9,\"fLineColor\":1,\"fLineStyle\":1,\"fLineWidth\":1,\"fFillColor\":0,\"fFillStyle\":0,\"fX1\":7.18049090739583,\"fY1\":16.2500001969747,\"fX2\":9.81950909260417,\"fY2\":17.2812502277084,\"fX1NDC\":0.434024546352902,\"fY1NDC\":0.940000003948808,\"fX2NDC\":0.565975453647098,\"fY2NDC\":0.995000004768372,\"fBorderSize\":0,\"fInit\":1,\"fShadowColor\":1,\"fCornerRadius\":0,\"fOption\":\"blNDC\",\"fName\":\"title\",\"fTextAngle\":0,\"fTextSize\":0,\"fTextAlign\":22,\"fTextColor\":1,\"fTextFont\":42,\"fLabel\":\"\",\"fLongest\":9,\"fMargin\":0.05,\"fLines\":{\"_typename\":\"TList\",\"name\":\"TList\",\"arr\":[{\"_typename\":\"TLatex\",\"fUniqueID\":0,\"fBits\":0,\"fName\":\"\",\"fTitle\":\"M-1#sigma\",\"fTextAngle\":0,\"fTextSize\":0,\"fTextAlign\":0,\"fTextColor\":0,\"fTextFont\":0,\"fX\":0,\"fY\":0,\"fLineColor\":1,\"fLineStyle\":1,\"fLineWidth\":2,\"fLimitFactorSize\":3,\"fOriginSize\":0.0467500016093254}],\"opt\":[\"\"]}}],\"opt\":[\"\",\"colz\",\"blNDC\"]},\"fExecs\":{\"_typename\":\"TList\",\"name\":\"TList\",\"arr\":[],\"opt\":[]},\"fName\":\"cratio_3\",\"fTitle\":\"cratio_3\",\"fNumPaletteColor\":0,\"fNextPaletteColor\":0}],\"opt\":[\"\",\"\",\"\"]},\"fExecs\":null,\"fName\":\"cratio\",\"fTitle\":\"cratio\",\"fNumPaletteColor\":0,\"fNextPaletteColor\":0,\"fDISPLAY\":\"$DISPLAY\",\"fDoubleBuffer\":0,\"fRetained\":true,\"fXsizeUser\":0,\"fYsizeUser\":0,\"fXsizeReal\":20,\"fYsizeReal\":6.666667,\"fWindowTopX\":0,\"fWindowTopY\":0,\"fWindowWidth\":0,\"fWindowHeight\":0,\"fCw\":1796,\"fCh\":572,\"fCatt\":{\"_typename\":\"TAttCanvas\",\"fXBetween\":2,\"fYBetween\":2,\"fTitleFromTop\":1.2,\"fXdate\":0.2,\"fYdate\":0.3,\"fAdate\":1},\"kMoveOpaque\":true,\"kResizeOpaque\":true,\"fHighLightColor\":2,\"fBatch\":true,\"kShowEventStatus\":false,\"kAutoExec\":true,\"kMenuBar\":true});\n",
       "            Core.draw(\"root_plot_1592339192613\", obj, \"\");\n",
       "        }\n",
       "    );\n",
       "}\n",
       "</script>\n"
      ],
      "text/plain": [
       "<IPython.core.display.HTML object>"
      ]
     },
     "metadata": {},
     "output_type": "display_data"
    }
   ],
   "source": [
    "M1ratio = M1.Clone()\n",
    "M1ratio.Divide(M)\n",
    "M2ratio = M2.Clone()\n",
    "M2ratio.Divide(M)\n",
    "M1ratio.SetMaximum(1.2)\n",
    "M2ratio.SetMaximum(1.2)\n",
    "\n",
    "cratio = ROOT.TCanvas(\"cratio\", \"cratio\", 1800, 600)\n",
    "cratio.Divide(3,1)\n",
    "cratio.cd(1)\n",
    "M.Draw(\"colz\")\n",
    "cratio.cd(2)\n",
    "M1ratio.Draw(\"colz\")\n",
    "ROOT.gPad.SetLogz()\n",
    "cratio.cd(3)\n",
    "M2ratio.Draw(\"colz\")\n",
    "ROOT.gPad.SetLogz()\n",
    "cratio.Draw()"
   ]
  },
  {
   "cell_type": "markdown",
   "metadata": {},
   "source": [
    "# Project Response Matrix onto X and Y axis "
   ]
  },
  {
   "cell_type": "code",
   "execution_count": 20,
   "metadata": {},
   "outputs": [],
   "source": [
    "h2 = M.ProjectionY(\"reco2\")\n",
    "htrue2 = M.ProjectionX(\"gen2\")\n",
    "\n"
   ]
  },
  {
   "cell_type": "markdown",
   "metadata": {},
   "source": [
    "## Plot the reconstructed and truth"
   ]
  },
  {
   "cell_type": "code",
   "execution_count": 21,
   "metadata": {},
   "outputs": [
    {
     "data": {
      "text/html": [
       "\n",
       "<div id=\"root_plot_1592339192759\"\n",
       "     style=\"width: 596px; height: 572px\">\n",
       "</div>\n",
       "<script>\n",
       "if (typeof require !== 'undefined') {\n",
       "\n",
       "    // All requirements met (we are in jupyter notebooks or we loaded requirejs before).\n",
       "    display_root_plot_1592339192759();\n",
       "\n",
       "} else {\n",
       "\n",
       "    // We are in jupyterlab, we need to insert requirejs and configure it.\n",
       "    // Jupyterlab might be installed in a different base_url so we need to know it.\n",
       "    try {\n",
       "        var base_url = JSON.parse(document.getElementById('jupyter-config-data').innerHTML).baseUrl;\n",
       "    } catch(_) {\n",
       "        var base_url = '/';\n",
       "    }\n",
       "\n",
       "    // Try loading a local version of requirejs and fallback to cdn if not possible.\n",
       "    requirejs_load(base_url + 'static/components/requirejs/require.js', requirejs_success(base_url), function(){\n",
       "        requirejs_load('https://cdnjs.cloudflare.com/ajax/libs/require.js/2.2.0/require.min.js', requirejs_success(base_url), function(){\n",
       "            document.getElementById(\"root_plot_1592339192759\").innerHTML = \"Failed to load requireJs\";\n",
       "        });\n",
       "    });\n",
       "}\n",
       "\n",
       "function requirejs_load(src, on_load, on_error) {\n",
       "    var script = document.createElement('script');\n",
       "    script.src = src;\n",
       "    script.onload = on_load;\n",
       "    script.onerror = on_error;\n",
       "    document.head.appendChild(script);\n",
       "}\n",
       "\n",
       "function requirejs_success(base_url) {\n",
       "    return function() {\n",
       "        require.config({\n",
       "            baseUrl: base_url + 'static/'\n",
       "        });\n",
       "        display_root_plot_1592339192759();\n",
       "    }\n",
       "}\n",
       "\n",
       "function display_root_plot_1592339192759() {\n",
       "    require(['scripts/JSRootCore'],\n",
       "        function(Core) {\n",
       "            var obj = Core.JSONR_unref({\"_typename\":\"TCanvas\",\"fUniqueID\":0,\"fBits\":3342344,\"fLineColor\":1,\"fLineStyle\":1,\"fLineWidth\":1,\"fFillColor\":0,\"fFillStyle\":1001,\"fLeftMargin\":0.1,\"fRightMargin\":0.1,\"fBottomMargin\":0.1,\"fTopMargin\":0.1,\"fXfile\":2,\"fYfile\":2,\"fAfile\":1,\"fXstat\":0.99,\"fYstat\":0.99,\"fAstat\":2,\"fFrameFillColor\":0,\"fFrameLineColor\":1,\"fFrameFillStyle\":1001,\"fFrameLineStyle\":1,\"fFrameLineWidth\":1,\"fFrameBorderSize\":1,\"fFrameBorderMode\":0,\"fX1\":-1.37500013969839,\"fY1\":-3125.00023283066,\"fX2\":17.3750001396984,\"fY2\":28125.0002328307,\"fXtoAbsPixelk\":43.7067204559328,\"fXtoPixelk\":43.7067204559328,\"fXtoPixel\":31.7866661930084,\"fYtoAbsPixelk\":514.800046590614,\"fYtoPixelk\":514.800046590614,\"fYtoPixel\":-0.0183039997272491,\"fUtoAbsPixelk\":5e-5,\"fUtoPixelk\":5e-5,\"fUtoPixel\":596,\"fVtoAbsPixelk\":572.00005,\"fVtoPixelk\":572,\"fVtoPixel\":-572,\"fAbsPixeltoXk\":-1.37500013969839,\"fPixeltoXk\":-1.37500013969839,\"fPixeltoX\":0.0314597320124107,\"fAbsPixeltoYk\":28125.0002328307,\"fPixeltoYk\":-3125.00023283066,\"fPixeltoY\":-54.6328679469603,\"fXlowNDC\":0,\"fYlowNDC\":0,\"fXUpNDC\":1,\"fYUpNDC\":1,\"fWNDC\":1,\"fHNDC\":1,\"fAbsXlowNDC\":0,\"fAbsYlowNDC\":0,\"fAbsWNDC\":1,\"fAbsHNDC\":1,\"fUxmin\":0.5,\"fUymin\":0,\"fUxmax\":15.5,\"fUymax\":25000,\"fTheta\":30,\"fPhi\":30,\"fAspectRatio\":0,\"fNumber\":0,\"fTickx\":0,\"fTicky\":0,\"fLogx\":0,\"fLogy\":0,\"fLogz\":0,\"fPadPaint\":0,\"fCrosshair\":0,\"fCrosshairPos\":0,\"fBorderSize\":2,\"fBorderMode\":0,\"fModified\":false,\"fGridx\":false,\"fGridy\":false,\"fAbsCoord\":false,\"fEditable\":true,\"fFixedAspectRatio\":false,\"fPrimitives\":{\"_typename\":\"TList\",\"name\":\"TList\",\"arr\":[{\"_typename\":\"TFrame\",\"fUniqueID\":0,\"fBits\":8,\"fLineColor\":1,\"fLineStyle\":1,\"fLineWidth\":1,\"fFillColor\":0,\"fFillStyle\":1001,\"fX1\":0.5,\"fY1\":0,\"fX2\":15.5,\"fY2\":25000,\"fBorderSize\":1,\"fBorderMode\":0},{\"_typename\":\"TH1D\",\"fUniqueID\":0,\"fBits\":520,\"fName\":\"h\",\"fTitle\":\"h\",\"fLineColor\":600,\"fLineStyle\":1,\"fLineWidth\":1,\"fFillColor\":0,\"fFillStyle\":1001,\"fMarkerColor\":600,\"fMarkerStyle\":20,\"fMarkerSize\":1,\"fNcells\":17,\"fXaxis\":{\"_typename\":\"TAxis\",\"fUniqueID\":0,\"fBits\":0,\"fName\":\"xaxis\",\"fTitle\":\"detector\",\"fNdivisions\":510,\"fAxisColor\":1,\"fLabelColor\":1,\"fLabelFont\":42,\"fLabelOffset\":0.005,\"fLabelSize\":0.035,\"fTickLength\":0.03,\"fTitleOffset\":1,\"fTitleSize\":0.035,\"fTitleColor\":1,\"fTitleFont\":42,\"fNbins\":15,\"fXmin\":0.5,\"fXmax\":15.5,\"fXbins\":[],\"fFirst\":0,\"fLast\":0,\"fBits2\":0,\"fTimeDisplay\":false,\"fTimeFormat\":\"\",\"fLabels\":null,\"fModLabs\":null},\"fYaxis\":{\"_typename\":\"TAxis\",\"fUniqueID\":0,\"fBits\":0,\"fName\":\"yaxis\",\"fTitle\":\"\",\"fNdivisions\":510,\"fAxisColor\":1,\"fLabelColor\":1,\"fLabelFont\":42,\"fLabelOffset\":0.005,\"fLabelSize\":0.035,\"fTickLength\":0.03,\"fTitleOffset\":0,\"fTitleSize\":0.035,\"fTitleColor\":1,\"fTitleFont\":42,\"fNbins\":1,\"fXmin\":0,\"fXmax\":1,\"fXbins\":[],\"fFirst\":0,\"fLast\":0,\"fBits2\":0,\"fTimeDisplay\":false,\"fTimeFormat\":\"\",\"fLabels\":null,\"fModLabs\":null},\"fZaxis\":{\"_typename\":\"TAxis\",\"fUniqueID\":0,\"fBits\":0,\"fName\":\"zaxis\",\"fTitle\":\"\",\"fNdivisions\":510,\"fAxisColor\":1,\"fLabelColor\":1,\"fLabelFont\":42,\"fLabelOffset\":0.005,\"fLabelSize\":0.035,\"fTickLength\":0.03,\"fTitleOffset\":1,\"fTitleSize\":0.035,\"fTitleColor\":1,\"fTitleFont\":42,\"fNbins\":1,\"fXmin\":0,\"fXmax\":1,\"fXbins\":[],\"fFirst\":0,\"fLast\":0,\"fBits2\":0,\"fTimeDisplay\":false,\"fTimeFormat\":\"\",\"fLabels\":null,\"fModLabs\":null},\"fBarOffset\":0,\"fBarWidth\":1000,\"fEntries\":100000,\"fTsumw\":99270,\"fTsumw2\":99270,\"fTsumwx\":585676,\"fTsumwx2\":4636510,\"fMaximum\":25000,\"fMinimum\":0,\"fNormFactor\":0,\"fContour\":[],\"fSumw2\":[],\"fOption\":\"\",\"fFunctions\":{\"_typename\":\"TList\",\"name\":\"TList\",\"arr\":[],\"opt\":[]},\"fBufferSize\":0,\"fBuffer\":[],\"fBinStatErrOpt\":0,\"fStatOverflows\":2,\"fArray\":[730,10231,10248,10246,10411,4015,10150,10420,10489,10028,4138,1988,2075,2040,2045,746,0]},{\"_typename\":\"TH1D\",\"fUniqueID\":0,\"fBits\":520,\"fName\":\"reco2\",\"fTitle\":\"M\",\"fLineColor\":602,\"fLineStyle\":1,\"fLineWidth\":1,\"fFillColor\":0,\"fFillStyle\":1001,\"fMarkerColor\":616,\"fMarkerStyle\":22,\"fMarkerSize\":1,\"fNcells\":17,\"fXaxis\":{\"_typename\":\"TAxis\",\"fUniqueID\":0,\"fBits\":0,\"fName\":\"xaxis\",\"fTitle\":\"detector\",\"fNdivisions\":510,\"fAxisColor\":1,\"fLabelColor\":1,\"fLabelFont\":42,\"fLabelOffset\":0.005,\"fLabelSize\":0.035,\"fTickLength\":0.03,\"fTitleOffset\":0,\"fTitleSize\":0.035,\"fTitleColor\":1,\"fTitleFont\":42,\"fNbins\":15,\"fXmin\":0.5,\"fXmax\":15.5,\"fXbins\":[],\"fFirst\":0,\"fLast\":0,\"fBits2\":0,\"fTimeDisplay\":false,\"fTimeFormat\":\"\",\"fLabels\":null,\"fModLabs\":null},\"fYaxis\":{\"_typename\":\"TAxis\",\"fUniqueID\":0,\"fBits\":0,\"fName\":\"yaxis\",\"fTitle\":\"\",\"fNdivisions\":510,\"fAxisColor\":1,\"fLabelColor\":1,\"fLabelFont\":42,\"fLabelOffset\":0.005,\"fLabelSize\":0.035,\"fTickLength\":0.03,\"fTitleOffset\":0,\"fTitleSize\":0.035,\"fTitleColor\":1,\"fTitleFont\":42,\"fNbins\":1,\"fXmin\":0,\"fXmax\":1,\"fXbins\":[],\"fFirst\":0,\"fLast\":0,\"fBits2\":0,\"fTimeDisplay\":false,\"fTimeFormat\":\"\",\"fLabels\":null,\"fModLabs\":null},\"fZaxis\":{\"_typename\":\"TAxis\",\"fUniqueID\":0,\"fBits\":0,\"fName\":\"zaxis\",\"fTitle\":\"\",\"fNdivisions\":510,\"fAxisColor\":1,\"fLabelColor\":1,\"fLabelFont\":42,\"fLabelOffset\":0.005,\"fLabelSize\":0.035,\"fTickLength\":0.03,\"fTitleOffset\":1,\"fTitleSize\":0.035,\"fTitleColor\":1,\"fTitleFont\":42,\"fNbins\":1,\"fXmin\":0,\"fXmax\":1,\"fXbins\":[],\"fFirst\":0,\"fLast\":0,\"fBits2\":0,\"fTimeDisplay\":false,\"fTimeFormat\":\"\",\"fLabels\":null,\"fModLabs\":null},\"fBarOffset\":0,\"fBarWidth\":1000,\"fEntries\":100000,\"fTsumw\":0,\"fTsumw2\":0,\"fTsumwx\":0,\"fTsumwx2\":0,\"fMaximum\":-1111,\"fMinimum\":-1111,\"fNormFactor\":0,\"fContour\":[],\"fSumw2\":[],\"fOption\":\"\",\"fFunctions\":{\"_typename\":\"TList\",\"name\":\"TList\",\"arr\":[],\"opt\":[]},\"fBufferSize\":0,\"fBuffer\":[],\"fBinStatErrOpt\":0,\"fStatOverflows\":2,\"fArray\":[730,10231,10248,10246,10411,4015,10150,10420,10489,10028,4138,1988,2075,2040,2045,746,0]},{\"_typename\":\"TH1D\",\"fUniqueID\":0,\"fBits\":520,\"fName\":\"htruef\",\"fTitle\":\"htruef\",\"fLineColor\":632,\"fLineStyle\":1,\"fLineWidth\":1,\"fFillColor\":0,\"fFillStyle\":1001,\"fMarkerColor\":632,\"fMarkerStyle\":21,\"fMarkerSize\":1,\"fNcells\":17,\"fXaxis\":{\"_typename\":\"TAxis\",\"fUniqueID\":0,\"fBits\":0,\"fName\":\"xaxis\",\"fTitle\":\"detector\",\"fNdivisions\":510,\"fAxisColor\":1,\"fLabelColor\":1,\"fLabelFont\":42,\"fLabelOffset\":0.005,\"fLabelSize\":0.035,\"fTickLength\":0.03,\"fTitleOffset\":1,\"fTitleSize\":0.035,\"fTitleColor\":1,\"fTitleFont\":42,\"fNbins\":15,\"fXmin\":0.5,\"fXmax\":15.5,\"fXbins\":[],\"fFirst\":0,\"fLast\":0,\"fBits2\":0,\"fTimeDisplay\":false,\"fTimeFormat\":\"\",\"fLabels\":null,\"fModLabs\":null},\"fYaxis\":{\"_typename\":\"TAxis\",\"fUniqueID\":0,\"fBits\":0,\"fName\":\"yaxis\",\"fTitle\":\"\",\"fNdivisions\":510,\"fAxisColor\":1,\"fLabelColor\":1,\"fLabelFont\":42,\"fLabelOffset\":0.005,\"fLabelSize\":0.035,\"fTickLength\":0.03,\"fTitleOffset\":0,\"fTitleSize\":0.035,\"fTitleColor\":1,\"fTitleFont\":42,\"fNbins\":1,\"fXmin\":0,\"fXmax\":1,\"fXbins\":[],\"fFirst\":0,\"fLast\":0,\"fBits2\":0,\"fTimeDisplay\":false,\"fTimeFormat\":\"\",\"fLabels\":null,\"fModLabs\":null},\"fZaxis\":{\"_typename\":\"TAxis\",\"fUniqueID\":0,\"fBits\":0,\"fName\":\"zaxis\",\"fTitle\":\"\",\"fNdivisions\":510,\"fAxisColor\":1,\"fLabelColor\":1,\"fLabelFont\":42,\"fLabelOffset\":0.005,\"fLabelSize\":0.035,\"fTickLength\":0.03,\"fTitleOffset\":1,\"fTitleSize\":0.035,\"fTitleColor\":1,\"fTitleFont\":42,\"fNbins\":1,\"fXmin\":0,\"fXmax\":1,\"fXbins\":[],\"fFirst\":0,\"fLast\":0,\"fBits2\":0,\"fTimeDisplay\":false,\"fTimeFormat\":\"\",\"fLabels\":null,\"fModLabs\":null},\"fBarOffset\":0,\"fBarWidth\":1000,\"fEntries\":100000,\"fTsumw\":100000,\"fTsumw2\":100000,\"fTsumwx\":588500,\"fTsumwx2\":4656420,\"fMaximum\":-1111,\"fMinimum\":-1111,\"fNormFactor\":0,\"fContour\":[],\"fSumw2\":[],\"fOption\":\"\",\"fFunctions\":{\"_typename\":\"TList\",\"name\":\"TList\",\"arr\":[],\"opt\":[]},\"fBufferSize\":0,\"fBuffer\":[],\"fBinStatErrOpt\":0,\"fStatOverflows\":2,\"fArray\":[0,10481,10354,10264,10560,4034,10286,10421,10453,10014,4143,2044,2096,2034,2052,764,0]},{\"_typename\":\"TH1D\",\"fUniqueID\":0,\"fBits\":520,\"fName\":\"htrue\",\"fTitle\":\"htrue\",\"fLineColor\":1,\"fLineStyle\":1,\"fLineWidth\":1,\"fFillColor\":0,\"fFillStyle\":1001,\"fMarkerColor\":1,\"fMarkerStyle\":23,\"fMarkerSize\":1,\"fNcells\":18,\"fXaxis\":{\"_typename\":\"TAxis\",\"fUniqueID\":0,\"fBits\":0,\"fName\":\"xaxis\",\"fTitle\":\"generator\",\"fNdivisions\":510,\"fAxisColor\":1,\"fLabelColor\":1,\"fLabelFont\":42,\"fLabelOffset\":0.005,\"fLabelSize\":0.035,\"fTickLength\":0.03,\"fTitleOffset\":1,\"fTitleSize\":0.035,\"fTitleColor\":1,\"fTitleFont\":42,\"fNbins\":16,\"fXmin\":0.5,\"fXmax\":16.5,\"fXbins\":[],\"fFirst\":0,\"fLast\":0,\"fBits2\":0,\"fTimeDisplay\":false,\"fTimeFormat\":\"\",\"fLabels\":null,\"fModLabs\":null},\"fYaxis\":{\"_typename\":\"TAxis\",\"fUniqueID\":0,\"fBits\":0,\"fName\":\"yaxis\",\"fTitle\":\"\",\"fNdivisions\":510,\"fAxisColor\":1,\"fLabelColor\":1,\"fLabelFont\":42,\"fLabelOffset\":0.005,\"fLabelSize\":0.035,\"fTickLength\":0.03,\"fTitleOffset\":0,\"fTitleSize\":0.035,\"fTitleColor\":1,\"fTitleFont\":42,\"fNbins\":1,\"fXmin\":0,\"fXmax\":1,\"fXbins\":[],\"fFirst\":0,\"fLast\":0,\"fBits2\":0,\"fTimeDisplay\":false,\"fTimeFormat\":\"\",\"fLabels\":null,\"fModLabs\":null},\"fZaxis\":{\"_typename\":\"TAxis\",\"fUniqueID\":0,\"fBits\":0,\"fName\":\"zaxis\",\"fTitle\":\"\",\"fNdivisions\":510,\"fAxisColor\":1,\"fLabelColor\":1,\"fLabelFont\":42,\"fLabelOffset\":0.005,\"fLabelSize\":0.035,\"fTickLength\":0.03,\"fTitleOffset\":1,\"fTitleSize\":0.035,\"fTitleColor\":1,\"fTitleFont\":42,\"fNbins\":1,\"fXmin\":0,\"fXmax\":1,\"fXbins\":[],\"fFirst\":0,\"fLast\":0,\"fBits2\":0,\"fTimeDisplay\":false,\"fTimeFormat\":\"\",\"fLabels\":null,\"fModLabs\":null},\"fBarOffset\":0,\"fBarWidth\":1000,\"fEntries\":100000,\"fTsumw\":100000,\"fTsumw2\":100000,\"fTsumwx\":916447,\"fTsumwx2\":9098785,\"fMaximum\":-1111,\"fMinimum\":-1111,\"fNormFactor\":0,\"fContour\":[],\"fSumw2\":[],\"fOption\":\"\",\"fFunctions\":{\"_typename\":\"TList\",\"name\":\"TList\",\"arr\":[],\"opt\":[]},\"fBufferSize\":0,\"fBuffer\":[],\"fBinStatErrOpt\":0,\"fStatOverflows\":2,\"fArray\":[0,0,0,0,0,0,20835,20824,4034,0,20707,20467,4143,0,4140,4086,764,0]},{\"_typename\":\"TH1D\",\"fUniqueID\":0,\"fBits\":520,\"fName\":\"gen2\",\"fTitle\":\"M\",\"fLineColor\":602,\"fLineStyle\":1,\"fLineWidth\":1,\"fFillColor\":0,\"fFillStyle\":1001,\"fMarkerColor\":632,\"fMarkerStyle\":24,\"fMarkerSize\":1,\"fNcells\":18,\"fXaxis\":{\"_typename\":\"TAxis\",\"fUniqueID\":0,\"fBits\":0,\"fName\":\"xaxis\",\"fTitle\":\"generator\",\"fNdivisions\":510,\"fAxisColor\":1,\"fLabelColor\":1,\"fLabelFont\":42,\"fLabelOffset\":0.005,\"fLabelSize\":0.035,\"fTickLength\":0.03,\"fTitleOffset\":1,\"fTitleSize\":0.035,\"fTitleColor\":1,\"fTitleFont\":42,\"fNbins\":16,\"fXmin\":0.5,\"fXmax\":16.5,\"fXbins\":[],\"fFirst\":0,\"fLast\":0,\"fBits2\":0,\"fTimeDisplay\":false,\"fTimeFormat\":\"\",\"fLabels\":null,\"fModLabs\":null},\"fYaxis\":{\"_typename\":\"TAxis\",\"fUniqueID\":0,\"fBits\":0,\"fName\":\"yaxis\",\"fTitle\":\"\",\"fNdivisions\":510,\"fAxisColor\":1,\"fLabelColor\":1,\"fLabelFont\":42,\"fLabelOffset\":0.005,\"fLabelSize\":0.035,\"fTickLength\":0.03,\"fTitleOffset\":0,\"fTitleSize\":0.035,\"fTitleColor\":1,\"fTitleFont\":42,\"fNbins\":1,\"fXmin\":0,\"fXmax\":1,\"fXbins\":[],\"fFirst\":0,\"fLast\":0,\"fBits2\":0,\"fTimeDisplay\":false,\"fTimeFormat\":\"\",\"fLabels\":null,\"fModLabs\":null},\"fZaxis\":{\"_typename\":\"TAxis\",\"fUniqueID\":0,\"fBits\":0,\"fName\":\"zaxis\",\"fTitle\":\"\",\"fNdivisions\":510,\"fAxisColor\":1,\"fLabelColor\":1,\"fLabelFont\":42,\"fLabelOffset\":0.005,\"fLabelSize\":0.035,\"fTickLength\":0.03,\"fTitleOffset\":1,\"fTitleSize\":0.035,\"fTitleColor\":1,\"fTitleFont\":42,\"fNbins\":1,\"fXmin\":0,\"fXmax\":1,\"fXbins\":[],\"fFirst\":0,\"fLast\":0,\"fBits2\":0,\"fTimeDisplay\":false,\"fTimeFormat\":\"\",\"fLabels\":null,\"fModLabs\":null},\"fBarOffset\":0,\"fBarWidth\":1000,\"fEntries\":100000,\"fTsumw\":0,\"fTsumw2\":0,\"fTsumwx\":0,\"fTsumwx2\":0,\"fMaximum\":-1111,\"fMinimum\":-1111,\"fNormFactor\":0,\"fContour\":[],\"fSumw2\":[],\"fOption\":\"\",\"fFunctions\":{\"_typename\":\"TList\",\"name\":\"TList\",\"arr\":[],\"opt\":[]},\"fBufferSize\":0,\"fBuffer\":[],\"fBinStatErrOpt\":0,\"fStatOverflows\":2,\"fArray\":[0,0,0,0,0,0,20835,20824,4034,0,20707,20467,4143,0,4140,4086,764,0]},{\"_typename\":\"TLegend\",\"fUniqueID\":0,\"fBits\":8,\"fLineColor\":1,\"fLineStyle\":1,\"fLineWidth\":1,\"fFillColor\":0,\"fFillStyle\":1001,\"fX1\":11.7500000558794,\"fY1\":18750.0000931323,\"fX2\":14.7500001005828,\"fY2\":23750.0001676381,\"fX1NDC\":0.7,\"fY1NDC\":0.7,\"fX2NDC\":0.86,\"fY2NDC\":0.86,\"fBorderSize\":0,\"fInit\":1,\"fShadowColor\":1,\"fCornerRadius\":0,\"fOption\":\"brNDC\",\"fName\":\"TPave\",\"fTextAngle\":0,\"fTextSize\":0,\"fTextAlign\":12,\"fTextColor\":1,\"fTextFont\":42,\"fPrimitives\":{\"_typename\":\"TList\",\"name\":\"TList\",\"arr\":[{\"_typename\":\"TLegendEntry\",\"fUniqueID\":0,\"fBits\":8,\"fTextAngle\":0,\"fTextSize\":0,\"fTextAlign\":0,\"fTextColor\":0,\"fTextFont\":42,\"fLineColor\":1,\"fLineStyle\":1,\"fLineWidth\":1,\"fFillColor\":0,\"fFillStyle\":0,\"fMarkerColor\":616,\"fMarkerStyle\":22,\"fMarkerSize\":1,\"fObject\":{\"$ref\":8},\"fLabel\":\"Reco from M\",\"fOption\":\"p\"},{\"_typename\":\"TLegendEntry\",\"fUniqueID\":0,\"fBits\":8,\"fTextAngle\":0,\"fTextSize\":0,\"fTextAlign\":0,\"fTextColor\":0,\"fTextFont\":42,\"fLineColor\":1,\"fLineStyle\":1,\"fLineWidth\":1,\"fFillColor\":0,\"fFillStyle\":0,\"fMarkerColor\":600,\"fMarkerStyle\":20,\"fMarkerSize\":1,\"fObject\":{\"$ref\":3},\"fLabel\":\"Reco\",\"fOption\":\"p\"},{\"_typename\":\"TLegendEntry\",\"fUniqueID\":0,\"fBits\":8,\"fTextAngle\":0,\"fTextSize\":0,\"fTextAlign\":0,\"fTextColor\":0,\"fTextFont\":42,\"fLineColor\":1,\"fLineStyle\":1,\"fLineWidth\":1,\"fFillColor\":0,\"fFillStyle\":0,\"fMarkerColor\":632,\"fMarkerStyle\":21,\"fMarkerSize\":1,\"fObject\":{\"$ref\":13},\"fLabel\":\"True\",\"fOption\":\"p\"},{\"_typename\":\"TLegendEntry\",\"fUniqueID\":0,\"fBits\":8,\"fTextAngle\":0,\"fTextSize\":0,\"fTextAlign\":0,\"fTextColor\":0,\"fTextFont\":42,\"fLineColor\":1,\"fLineStyle\":1,\"fLineWidth\":1,\"fFillColor\":0,\"fFillStyle\":0,\"fMarkerColor\":1,\"fMarkerStyle\":23,\"fMarkerSize\":1,\"fObject\":{\"$ref\":18},\"fLabel\":\"True Gen Binned\",\"fOption\":\"p\"},{\"_typename\":\"TLegendEntry\",\"fUniqueID\":0,\"fBits\":8,\"fTextAngle\":0,\"fTextSize\":0,\"fTextAlign\":0,\"fTextColor\":0,\"fTextFont\":42,\"fLineColor\":1,\"fLineStyle\":1,\"fLineWidth\":1,\"fFillColor\":0,\"fFillStyle\":0,\"fMarkerColor\":632,\"fMarkerStyle\":24,\"fMarkerSize\":1,\"fObject\":{\"$ref\":23},\"fLabel\":\"True from M\",\"fOption\":\"p\"}],\"opt\":[\"p\",\"p\",\"p\",\"p\",\"p\"]},\"fEntrySeparation\":0.1,\"fMargin\":0.25,\"fNColumns\":1,\"fColumnSeparation\":0},{\"_typename\":\"TPaveText\",\"fUniqueID\":0,\"fBits\":9,\"fLineColor\":1,\"fLineStyle\":1,\"fLineWidth\":1,\"fFillColor\":0,\"fFillStyle\":0,\"fX1\":7.56082214110674,\"fY1\":26250.0003282912,\"fX2\":8.43917785889325,\"fY2\":27968.750379514,\"fX1NDC\":0.476577181208054,\"fY1NDC\":0.940000003948808,\"fX2NDC\":0.523422818791946,\"fY2NDC\":0.995000004768372,\"fBorderSize\":0,\"fInit\":1,\"fShadowColor\":1,\"fCornerRadius\":0,\"fOption\":\"blNDC\",\"fName\":\"title\",\"fTextAngle\":0,\"fTextSize\":0,\"fTextAlign\":22,\"fTextColor\":1,\"fTextFont\":42,\"fLabel\":\"\",\"fLongest\":1,\"fMargin\":0.05,\"fLines\":{\"_typename\":\"TList\",\"name\":\"TList\",\"arr\":[{\"_typename\":\"TLatex\",\"fUniqueID\":0,\"fBits\":0,\"fName\":\"\",\"fTitle\":\"h\",\"fTextAngle\":0,\"fTextSize\":0,\"fTextAlign\":0,\"fTextColor\":0,\"fTextFont\":0,\"fX\":0,\"fY\":0,\"fLineColor\":1,\"fLineStyle\":1,\"fLineWidth\":2,\"fLimitFactorSize\":3,\"fOriginSize\":0.0467500016093254}],\"opt\":[\"\"]}}],\"opt\":[\"\",\"e \",\"e same\",\"e same\",\"e same\",\"e same\",\"\",\"blNDC\"]},\"fExecs\":null,\"fName\":\"cr1\",\"fTitle\":\"creco\",\"fNumPaletteColor\":0,\"fNextPaletteColor\":0,\"fDISPLAY\":\"$DISPLAY\",\"fDoubleBuffer\":0,\"fRetained\":true,\"fXsizeUser\":0,\"fYsizeUser\":0,\"fXsizeReal\":20,\"fYsizeReal\":20,\"fWindowTopX\":0,\"fWindowTopY\":0,\"fWindowWidth\":0,\"fWindowHeight\":0,\"fCw\":596,\"fCh\":572,\"fCatt\":{\"_typename\":\"TAttCanvas\",\"fXBetween\":2,\"fYBetween\":2,\"fTitleFromTop\":1.2,\"fXdate\":0.2,\"fYdate\":0.3,\"fAdate\":1},\"kMoveOpaque\":true,\"kResizeOpaque\":true,\"fHighLightColor\":2,\"fBatch\":true,\"kShowEventStatus\":false,\"kAutoExec\":true,\"kMenuBar\":true});\n",
       "            Core.draw(\"root_plot_1592339192759\", obj, \"\");\n",
       "        }\n",
       "    );\n",
       "}\n",
       "</script>\n"
      ],
      "text/plain": [
       "<IPython.core.display.HTML object>"
      ]
     },
     "metadata": {},
     "output_type": "display_data"
    }
   ],
   "source": [
    "crec1 = ROOT.TCanvas(\"cr1\", \"creco\", 600, 600)\n",
    "\n",
    "htruef.SetLineColor(2)\n",
    "h.SetMarkerStyle(20)\n",
    "h.SetMarkerColor(ROOT.kBlue)\n",
    "h2.SetMarkerStyle(22)\n",
    "htruef.SetMarkerStyle(21)\n",
    "htrue.SetMarkerStyle(23)\n",
    "htrue2.SetMarkerStyle(24)\n",
    "\n",
    "\n",
    "h2.SetMarkerColor(ROOT.kMagenta)\n",
    "\n",
    "htruef.SetMarkerColor(ROOT.kRed)\n",
    "htrue2.SetMarkerColor(ROOT.kRed)\n",
    "\n",
    "h.SetLineColor(ROOT.kBlue)\n",
    "htruef.SetLineColor(ROOT.kRed)\n",
    "htrue.SetLineColor(ROOT.kBlack)\n",
    "#htrue.SetLineColor(ROOT.kRed)\n",
    "\n",
    "h.Draw('e ')\n",
    "\n",
    "\n",
    "if normalize :\n",
    "    h.SetMinimum(.15)\n",
    "    h.SetMaximum(.6)\n",
    "else:\n",
    "    h.SetMinimum(.0)\n",
    "    h.SetMaximum(25000.)\n",
    "#h.SetMinimum(.0)\n",
    "#h.SetMaximum(2.)\n",
    "h2.Draw('e same')\n",
    "\n",
    "\n",
    "#h2U.Draw('e ')\n",
    "#h.Draw('e same')\n",
    "#hup.Draw(\"hist same \")\n",
    "#hdn.Draw(\"hist same\")\n",
    "htruef.Draw(\"e same\")\n",
    "htrue.Draw(\"e same\")\n",
    "htrue2.Draw(\"e same\")\n",
    "\n",
    "\n",
    "leg1 = ROOT.TLegend(0.7,0.7,0.86, 0.86)\n",
    "leg1.SetBorderSize(0)\n",
    "leg1.SetFillColor(0)\n",
    "leg1.AddEntry( h2, 'Reco from M', 'p')\n",
    "leg1.AddEntry( h, 'Reco', 'p')\n",
    "#leg1.AddEntry( hup, '+1#sigma', 'l')\n",
    "#leg1.AddEntry( hdn, '-1#sigma', 'l')\n",
    "leg1.AddEntry( htruef, 'True', 'p')\n",
    "leg1.AddEntry( htrue, 'True Gen Binned', 'p')\n",
    "leg1.AddEntry( htrue2, 'True from M', 'p')\n",
    "\n",
    "leg1.Draw()\n",
    "crec1.Draw()"
   ]
  },
  {
   "cell_type": "markdown",
   "metadata": {},
   "source": [
    "# Check that the matrix projections match the 1D input"
   ]
  },
  {
   "cell_type": "code",
   "execution_count": 22,
   "metadata": {},
   "outputs": [],
   "source": [
    "\n",
    "h2U = M1.ProjectionY(\"reco2U\")\n",
    "h2D = M2.ProjectionY(\"reco2D\")\n"
   ]
  },
  {
   "cell_type": "code",
   "execution_count": 23,
   "metadata": {},
   "outputs": [
    {
     "data": {
      "text/html": [
       "\n",
       "<div id=\"root_plot_1592339192826\"\n",
       "     style=\"width: 596px; height: 572px\">\n",
       "</div>\n",
       "<script>\n",
       "if (typeof require !== 'undefined') {\n",
       "\n",
       "    // All requirements met (we are in jupyter notebooks or we loaded requirejs before).\n",
       "    display_root_plot_1592339192826();\n",
       "\n",
       "} else {\n",
       "\n",
       "    // We are in jupyterlab, we need to insert requirejs and configure it.\n",
       "    // Jupyterlab might be installed in a different base_url so we need to know it.\n",
       "    try {\n",
       "        var base_url = JSON.parse(document.getElementById('jupyter-config-data').innerHTML).baseUrl;\n",
       "    } catch(_) {\n",
       "        var base_url = '/';\n",
       "    }\n",
       "\n",
       "    // Try loading a local version of requirejs and fallback to cdn if not possible.\n",
       "    requirejs_load(base_url + 'static/components/requirejs/require.js', requirejs_success(base_url), function(){\n",
       "        requirejs_load('https://cdnjs.cloudflare.com/ajax/libs/require.js/2.2.0/require.min.js', requirejs_success(base_url), function(){\n",
       "            document.getElementById(\"root_plot_1592339192826\").innerHTML = \"Failed to load requireJs\";\n",
       "        });\n",
       "    });\n",
       "}\n",
       "\n",
       "function requirejs_load(src, on_load, on_error) {\n",
       "    var script = document.createElement('script');\n",
       "    script.src = src;\n",
       "    script.onload = on_load;\n",
       "    script.onerror = on_error;\n",
       "    document.head.appendChild(script);\n",
       "}\n",
       "\n",
       "function requirejs_success(base_url) {\n",
       "    return function() {\n",
       "        require.config({\n",
       "            baseUrl: base_url + 'static/'\n",
       "        });\n",
       "        display_root_plot_1592339192826();\n",
       "    }\n",
       "}\n",
       "\n",
       "function display_root_plot_1592339192826() {\n",
       "    require(['scripts/JSRootCore'],\n",
       "        function(Core) {\n",
       "            var obj = Core.JSONR_unref({\"_typename\":\"TCanvas\",\"fUniqueID\":0,\"fBits\":3342344,\"fLineColor\":1,\"fLineStyle\":1,\"fLineWidth\":1,\"fFillColor\":0,\"fFillStyle\":1001,\"fLeftMargin\":0.1,\"fRightMargin\":0.1,\"fBottomMargin\":0.1,\"fTopMargin\":0.1,\"fXfile\":2,\"fYfile\":2,\"fAfile\":1,\"fXstat\":0.99,\"fYstat\":0.99,\"fAstat\":2,\"fFrameFillColor\":0,\"fFrameLineColor\":1,\"fFrameFillStyle\":1001,\"fFrameLineStyle\":1,\"fFrameLineWidth\":1,\"fFrameBorderSize\":1,\"fFrameBorderMode\":0,\"fX1\":-1.37500013969839,\"fY1\":-0.875000027939679,\"fX2\":17.3750001396984,\"fY2\":2.87500002793968,\"fXtoAbsPixelk\":43.7067204559328,\"fXtoPixelk\":43.7067204559328,\"fXtoPixel\":31.7866661930084,\"fYtoAbsPixelk\":438.533381060409,\"fYtoPixelk\":438.533381060409,\"fYtoPixel\":-152.533331060409,\"fUtoAbsPixelk\":5e-5,\"fUtoPixelk\":5e-5,\"fUtoPixel\":596,\"fVtoAbsPixelk\":572.00005,\"fVtoPixelk\":572,\"fVtoPixel\":-572,\"fAbsPixeltoXk\":-1.37500013969839,\"fPixeltoXk\":-1.37500013969839,\"fPixeltoX\":0.0314597320124107,\"fAbsPixeltoYk\":2.87500002793968,\"fPixeltoYk\":-0.875000027939679,\"fPixeltoY\":-0.00655594415363524,\"fXlowNDC\":0,\"fYlowNDC\":0,\"fXUpNDC\":1,\"fYUpNDC\":1,\"fWNDC\":1,\"fHNDC\":1,\"fAbsXlowNDC\":0,\"fAbsYlowNDC\":0,\"fAbsWNDC\":1,\"fAbsHNDC\":1,\"fUxmin\":0.5,\"fUymin\":-0.5,\"fUxmax\":15.5,\"fUymax\":2.5,\"fTheta\":30,\"fPhi\":30,\"fAspectRatio\":0,\"fNumber\":0,\"fTickx\":0,\"fTicky\":0,\"fLogx\":0,\"fLogy\":0,\"fLogz\":0,\"fPadPaint\":0,\"fCrosshair\":0,\"fCrosshairPos\":0,\"fBorderSize\":2,\"fBorderMode\":0,\"fModified\":false,\"fGridx\":false,\"fGridy\":false,\"fAbsCoord\":false,\"fEditable\":true,\"fFixedAspectRatio\":false,\"fPrimitives\":{\"_typename\":\"TList\",\"name\":\"TList\",\"arr\":[{\"_typename\":\"TFrame\",\"fUniqueID\":0,\"fBits\":8,\"fLineColor\":1,\"fLineStyle\":1,\"fLineWidth\":1,\"fFillColor\":0,\"fFillStyle\":1001,\"fX1\":0.5,\"fY1\":-0.5,\"fX2\":15.5,\"fY2\":2.5,\"fBorderSize\":1,\"fBorderMode\":0},{\"_typename\":\"TH1D\",\"fUniqueID\":0,\"fBits\":520,\"fName\":\"hc\",\"fTitle\":\"Reco\\/ Reco from M\",\"fLineColor\":600,\"fLineStyle\":1,\"fLineWidth\":1,\"fFillColor\":0,\"fFillStyle\":1001,\"fMarkerColor\":861,\"fMarkerStyle\":23,\"fMarkerSize\":1,\"fNcells\":17,\"fXaxis\":{\"_typename\":\"TAxis\",\"fUniqueID\":0,\"fBits\":0,\"fName\":\"xaxis\",\"fTitle\":\"detector\",\"fNdivisions\":510,\"fAxisColor\":1,\"fLabelColor\":1,\"fLabelFont\":42,\"fLabelOffset\":0.005,\"fLabelSize\":0.035,\"fTickLength\":0.03,\"fTitleOffset\":1,\"fTitleSize\":0.035,\"fTitleColor\":1,\"fTitleFont\":42,\"fNbins\":15,\"fXmin\":0.5,\"fXmax\":15.5,\"fXbins\":[],\"fFirst\":0,\"fLast\":0,\"fBits2\":0,\"fTimeDisplay\":false,\"fTimeFormat\":\"\",\"fLabels\":null,\"fModLabs\":null},\"fYaxis\":{\"_typename\":\"TAxis\",\"fUniqueID\":0,\"fBits\":0,\"fName\":\"yaxis\",\"fTitle\":\"\",\"fNdivisions\":510,\"fAxisColor\":1,\"fLabelColor\":1,\"fLabelFont\":42,\"fLabelOffset\":0.005,\"fLabelSize\":0.035,\"fTickLength\":0.03,\"fTitleOffset\":0,\"fTitleSize\":0.035,\"fTitleColor\":1,\"fTitleFont\":42,\"fNbins\":1,\"fXmin\":0,\"fXmax\":1,\"fXbins\":[],\"fFirst\":0,\"fLast\":0,\"fBits2\":0,\"fTimeDisplay\":false,\"fTimeFormat\":\"\",\"fLabels\":null,\"fModLabs\":null},\"fZaxis\":{\"_typename\":\"TAxis\",\"fUniqueID\":0,\"fBits\":0,\"fName\":\"zaxis\",\"fTitle\":\"\",\"fNdivisions\":510,\"fAxisColor\":1,\"fLabelColor\":1,\"fLabelFont\":42,\"fLabelOffset\":0.005,\"fLabelSize\":0.035,\"fTickLength\":0.03,\"fTitleOffset\":1,\"fTitleSize\":0.035,\"fTitleColor\":1,\"fTitleFont\":42,\"fNbins\":1,\"fXmin\":0,\"fXmax\":1,\"fXbins\":[],\"fFirst\":0,\"fLast\":0,\"fBits2\":0,\"fTimeDisplay\":false,\"fTimeFormat\":\"\",\"fLabels\":null,\"fModLabs\":null},\"fBarOffset\":0,\"fBarWidth\":1000,\"fEntries\":15,\"fTsumw\":15,\"fTsumw2\":15,\"fTsumwx\":120,\"fTsumwx2\":1240,\"fMaximum\":2.5,\"fMinimum\":-0.5,\"fNormFactor\":0,\"fContour\":[],\"fSumw2\":[],\"fOption\":\"\",\"fFunctions\":{\"_typename\":\"TList\",\"name\":\"TList\",\"arr\":[],\"opt\":[]},\"fBufferSize\":0,\"fBuffer\":[],\"fBinStatErrOpt\":0,\"fStatOverflows\":2,\"fArray\":[1,1,1,1,1,1,1,1,1,1,1,1,1,1,1,1,0]},{\"_typename\":\"TH1D\",\"fUniqueID\":0,\"fBits\":520,\"fName\":\"hcU\",\"fTitle\":\"hup\",\"fLineColor\":602,\"fLineStyle\":1,\"fLineWidth\":1,\"fFillColor\":0,\"fFillStyle\":1001,\"fMarkerColor\":866,\"fMarkerStyle\":26,\"fMarkerSize\":1,\"fNcells\":17,\"fXaxis\":{\"_typename\":\"TAxis\",\"fUniqueID\":0,\"fBits\":0,\"fName\":\"xaxis\",\"fTitle\":\"detector\",\"fNdivisions\":510,\"fAxisColor\":1,\"fLabelColor\":1,\"fLabelFont\":42,\"fLabelOffset\":0.005,\"fLabelSize\":0.035,\"fTickLength\":0.03,\"fTitleOffset\":1,\"fTitleSize\":0.035,\"fTitleColor\":1,\"fTitleFont\":42,\"fNbins\":15,\"fXmin\":0.5,\"fXmax\":15.5,\"fXbins\":[],\"fFirst\":0,\"fLast\":0,\"fBits2\":0,\"fTimeDisplay\":false,\"fTimeFormat\":\"\",\"fLabels\":null,\"fModLabs\":null},\"fYaxis\":{\"_typename\":\"TAxis\",\"fUniqueID\":0,\"fBits\":0,\"fName\":\"yaxis\",\"fTitle\":\"\",\"fNdivisions\":510,\"fAxisColor\":1,\"fLabelColor\":1,\"fLabelFont\":42,\"fLabelOffset\":0.005,\"fLabelSize\":0.035,\"fTickLength\":0.03,\"fTitleOffset\":0,\"fTitleSize\":0.035,\"fTitleColor\":1,\"fTitleFont\":42,\"fNbins\":1,\"fXmin\":0,\"fXmax\":1,\"fXbins\":[],\"fFirst\":0,\"fLast\":0,\"fBits2\":0,\"fTimeDisplay\":false,\"fTimeFormat\":\"\",\"fLabels\":null,\"fModLabs\":null},\"fZaxis\":{\"_typename\":\"TAxis\",\"fUniqueID\":0,\"fBits\":0,\"fName\":\"zaxis\",\"fTitle\":\"\",\"fNdivisions\":510,\"fAxisColor\":1,\"fLabelColor\":1,\"fLabelFont\":42,\"fLabelOffset\":0.005,\"fLabelSize\":0.035,\"fTickLength\":0.03,\"fTitleOffset\":1,\"fTitleSize\":0.035,\"fTitleColor\":1,\"fTitleFont\":42,\"fNbins\":1,\"fXmin\":0,\"fXmax\":1,\"fXbins\":[],\"fFirst\":0,\"fLast\":0,\"fBits2\":0,\"fTimeDisplay\":false,\"fTimeFormat\":\"\",\"fLabels\":null,\"fModLabs\":null},\"fBarOffset\":0,\"fBarWidth\":1000,\"fEntries\":15,\"fTsumw\":15,\"fTsumw2\":15,\"fTsumwx\":120,\"fTsumwx2\":1240,\"fMaximum\":-1111,\"fMinimum\":-1111,\"fNormFactor\":0,\"fContour\":[],\"fSumw2\":[],\"fOption\":\"\",\"fFunctions\":{\"_typename\":\"TList\",\"name\":\"TList\",\"arr\":[],\"opt\":[]},\"fBufferSize\":0,\"fBuffer\":[],\"fBinStatErrOpt\":0,\"fStatOverflows\":2,\"fArray\":[1,1,1,1,1,1,1,1,1,1,1,1,1,1,1,1,0]},{\"_typename\":\"TH1D\",\"fUniqueID\":0,\"fBits\":520,\"fName\":\"hcD\",\"fTitle\":\"hdn\",\"fLineColor\":602,\"fLineStyle\":1,\"fLineWidth\":1,\"fFillColor\":0,\"fFillStyle\":1001,\"fMarkerColor\":855,\"fMarkerStyle\":25,\"fMarkerSize\":1,\"fNcells\":17,\"fXaxis\":{\"_typename\":\"TAxis\",\"fUniqueID\":0,\"fBits\":0,\"fName\":\"xaxis\",\"fTitle\":\"detector\",\"fNdivisions\":510,\"fAxisColor\":1,\"fLabelColor\":1,\"fLabelFont\":42,\"fLabelOffset\":0.005,\"fLabelSize\":0.035,\"fTickLength\":0.03,\"fTitleOffset\":1,\"fTitleSize\":0.035,\"fTitleColor\":1,\"fTitleFont\":42,\"fNbins\":15,\"fXmin\":0.5,\"fXmax\":15.5,\"fXbins\":[],\"fFirst\":0,\"fLast\":0,\"fBits2\":0,\"fTimeDisplay\":false,\"fTimeFormat\":\"\",\"fLabels\":null,\"fModLabs\":null},\"fYaxis\":{\"_typename\":\"TAxis\",\"fUniqueID\":0,\"fBits\":0,\"fName\":\"yaxis\",\"fTitle\":\"\",\"fNdivisions\":510,\"fAxisColor\":1,\"fLabelColor\":1,\"fLabelFont\":42,\"fLabelOffset\":0.005,\"fLabelSize\":0.035,\"fTickLength\":0.03,\"fTitleOffset\":0,\"fTitleSize\":0.035,\"fTitleColor\":1,\"fTitleFont\":42,\"fNbins\":1,\"fXmin\":0,\"fXmax\":1,\"fXbins\":[],\"fFirst\":0,\"fLast\":0,\"fBits2\":0,\"fTimeDisplay\":false,\"fTimeFormat\":\"\",\"fLabels\":null,\"fModLabs\":null},\"fZaxis\":{\"_typename\":\"TAxis\",\"fUniqueID\":0,\"fBits\":0,\"fName\":\"zaxis\",\"fTitle\":\"\",\"fNdivisions\":510,\"fAxisColor\":1,\"fLabelColor\":1,\"fLabelFont\":42,\"fLabelOffset\":0.005,\"fLabelSize\":0.035,\"fTickLength\":0.03,\"fTitleOffset\":1,\"fTitleSize\":0.035,\"fTitleColor\":1,\"fTitleFont\":42,\"fNbins\":1,\"fXmin\":0,\"fXmax\":1,\"fXbins\":[],\"fFirst\":0,\"fLast\":0,\"fBits2\":0,\"fTimeDisplay\":false,\"fTimeFormat\":\"\",\"fLabels\":null,\"fModLabs\":null},\"fBarOffset\":0,\"fBarWidth\":1000,\"fEntries\":15,\"fTsumw\":15,\"fTsumw2\":15,\"fTsumwx\":120,\"fTsumwx2\":1240,\"fMaximum\":-1111,\"fMinimum\":-1111,\"fNormFactor\":0,\"fContour\":[],\"fSumw2\":[],\"fOption\":\"\",\"fFunctions\":{\"_typename\":\"TList\",\"name\":\"TList\",\"arr\":[],\"opt\":[]},\"fBufferSize\":0,\"fBuffer\":[],\"fBinStatErrOpt\":0,\"fStatOverflows\":2,\"fArray\":[1,1,1,1,1,1,1,1,1,1,1,1,1,1,1,1,0]},{\"_typename\":\"TLegend\",\"fUniqueID\":0,\"fBits\":8,\"fLineColor\":1,\"fLineStyle\":1,\"fLineWidth\":1,\"fFillColor\":0,\"fFillStyle\":1001,\"fX1\":11.7500000558794,\"fY1\":1.75000001117587,\"fX2\":14.7500001005828,\"fY2\":2.35000002011657,\"fX1NDC\":0.7,\"fY1NDC\":0.7,\"fX2NDC\":0.86,\"fY2NDC\":0.86,\"fBorderSize\":0,\"fInit\":1,\"fShadowColor\":1,\"fCornerRadius\":0,\"fOption\":\"brNDC\",\"fName\":\"TPave\",\"fTextAngle\":0,\"fTextSize\":0,\"fTextAlign\":12,\"fTextColor\":1,\"fTextFont\":42,\"fPrimitives\":{\"_typename\":\"TList\",\"name\":\"TList\",\"arr\":[{\"_typename\":\"TLegendEntry\",\"fUniqueID\":0,\"fBits\":8,\"fTextAngle\":0,\"fTextSize\":0,\"fTextAlign\":0,\"fTextColor\":0,\"fTextFont\":42,\"fLineColor\":1,\"fLineStyle\":1,\"fLineWidth\":1,\"fFillColor\":0,\"fFillStyle\":0,\"fMarkerColor\":861,\"fMarkerStyle\":23,\"fMarkerSize\":1,\"fObject\":{\"$ref\":3},\"fLabel\":\"Nominal\",\"fOption\":\"p\"},{\"_typename\":\"TLegendEntry\",\"fUniqueID\":0,\"fBits\":8,\"fTextAngle\":0,\"fTextSize\":0,\"fTextAlign\":0,\"fTextColor\":0,\"fTextFont\":42,\"fLineColor\":1,\"fLineStyle\":1,\"fLineWidth\":1,\"fFillColor\":0,\"fFillStyle\":0,\"fMarkerColor\":866,\"fMarkerStyle\":26,\"fMarkerSize\":1,\"fObject\":{\"$ref\":8},\"fLabel\":\"+1#sigma\",\"fOption\":\"p\"},{\"_typename\":\"TLegendEntry\",\"fUniqueID\":0,\"fBits\":8,\"fTextAngle\":0,\"fTextSize\":0,\"fTextAlign\":0,\"fTextColor\":0,\"fTextFont\":42,\"fLineColor\":1,\"fLineStyle\":1,\"fLineWidth\":1,\"fFillColor\":0,\"fFillStyle\":0,\"fMarkerColor\":855,\"fMarkerStyle\":25,\"fMarkerSize\":1,\"fObject\":{\"$ref\":13},\"fLabel\":\"-1#sigma\",\"fOption\":\"p\"}],\"opt\":[\"p\",\"p\",\"p\"]},\"fEntrySeparation\":0.1,\"fMargin\":0.25,\"fNColumns\":1,\"fColumnSeparation\":0},{\"_typename\":\"TPaveText\",\"fUniqueID\":0,\"fBits\":9,\"fLineColor\":1,\"fLineStyle\":1,\"fLineWidth\":1,\"fFillColor\":0,\"fFillStyle\":0,\"fX1\":3.70700496958643,\"fY1\":2.65000003939495,\"fX2\":12.2929950304136,\"fY2\":2.85625004554168,\"fX1NDC\":0.271040268456376,\"fY1NDC\":0.940000003948808,\"fX2NDC\":0.728959731543624,\"fY2NDC\":0.995000004768372,\"fBorderSize\":0,\"fInit\":1,\"fShadowColor\":1,\"fCornerRadius\":0,\"fOption\":\"blNDC\",\"fName\":\"title\",\"fTextAngle\":0,\"fTextSize\":0,\"fTextAlign\":22,\"fTextColor\":1,\"fTextFont\":42,\"fLabel\":\"\",\"fLongest\":17,\"fMargin\":0.05,\"fLines\":{\"_typename\":\"TList\",\"name\":\"TList\",\"arr\":[{\"_typename\":\"TLatex\",\"fUniqueID\":0,\"fBits\":0,\"fName\":\"\",\"fTitle\":\"Reco\\/ Reco from M\",\"fTextAngle\":0,\"fTextSize\":0,\"fTextAlign\":0,\"fTextColor\":0,\"fTextFont\":0,\"fX\":0,\"fY\":0,\"fLineColor\":1,\"fLineStyle\":1,\"fLineWidth\":2,\"fLimitFactorSize\":3,\"fOriginSize\":0.0467500016093254}],\"opt\":[\"\"]}}],\"opt\":[\"\",\"e  \",\"e same \",\"e same \",\"\",\"blNDC\"]},\"fExecs\":null,\"fName\":\"crp\",\"fTitle\":\"\",\"fNumPaletteColor\":0,\"fNextPaletteColor\":0,\"fDISPLAY\":\"$DISPLAY\",\"fDoubleBuffer\":0,\"fRetained\":true,\"fXsizeUser\":0,\"fYsizeUser\":0,\"fXsizeReal\":20,\"fYsizeReal\":20,\"fWindowTopX\":0,\"fWindowTopY\":0,\"fWindowWidth\":0,\"fWindowHeight\":0,\"fCw\":596,\"fCh\":572,\"fCatt\":{\"_typename\":\"TAttCanvas\",\"fXBetween\":2,\"fYBetween\":2,\"fTitleFromTop\":1.2,\"fXdate\":0.2,\"fYdate\":0.3,\"fAdate\":1},\"kMoveOpaque\":true,\"kResizeOpaque\":true,\"fHighLightColor\":2,\"fBatch\":true,\"kShowEventStatus\":false,\"kAutoExec\":true,\"kMenuBar\":true});\n",
       "            Core.draw(\"root_plot_1592339192826\", obj, \"\");\n",
       "        }\n",
       "    );\n",
       "}\n",
       "</script>\n"
      ],
      "text/plain": [
       "<IPython.core.display.HTML object>"
      ]
     },
     "metadata": {},
     "output_type": "display_data"
    }
   ],
   "source": [
    "crecp = ROOT.TCanvas(\"crp\", \"\", 600, 600)\n",
    "\n",
    "hc = h.Clone(\"hc\")\n",
    "hc.Divide(h2.Clone())\n",
    "\n",
    "\n",
    "hcu = hup.Clone(\"hcU\")\n",
    "hcu.Divide(h2U.Clone())\n",
    "\n",
    "hcd = hdn.Clone(\"hcD\")\n",
    "hcd.Divide(h2D.Clone())\n",
    "\n",
    "hc.SetTitle(\"Reco/ Reco from M\")\n",
    "\n",
    "\n",
    "hc.SetMarkerStyle(23)\n",
    "hc.SetMarkerColor(ROOT.kAzure+1)\n",
    "\n",
    "hcd.SetMarkerStyle(25)\n",
    "hcd.SetMarkerColor(ROOT.kAzure-5)\n",
    "\n",
    "\n",
    "hcu.SetMarkerStyle(26)\n",
    "hcu.SetMarkerColor(ROOT.kAzure+6)\n",
    "\n",
    "\n",
    "hc.Draw('e  ')\n",
    "hcu.Draw('e same ')\n",
    "hcd.Draw('e same ')\n",
    "hc.SetMinimum(-.5)\n",
    "hc.SetMaximum(2.5)\n",
    "\n",
    "\n",
    "leg12p = ROOT.TLegend(0.7,0.7,0.86, 0.86)\n",
    "leg12p.SetBorderSize(0)\n",
    "leg12p.SetFillColor(0)\n",
    "\n",
    "leg12p.AddEntry( hc, 'Nominal', 'p')\n",
    "leg12p.AddEntry( hcu, '+1#sigma', 'p')\n",
    "leg12p.AddEntry( hcd, '-1#sigma', 'p')\n",
    "\n",
    "leg12p.Draw()\n",
    "\n",
    "crecp.Draw()"
   ]
  },
  {
   "cell_type": "markdown",
   "metadata": {},
   "source": [
    "# Plot the Up and Down Variations to Reco"
   ]
  },
  {
   "cell_type": "code",
   "execution_count": 24,
   "metadata": {},
   "outputs": [
    {
     "data": {
      "text/html": [
       "\n",
       "<div id=\"root_plot_1592339192876\"\n",
       "     style=\"width: 596px; height: 572px\">\n",
       "</div>\n",
       "<script>\n",
       "if (typeof require !== 'undefined') {\n",
       "\n",
       "    // All requirements met (we are in jupyter notebooks or we loaded requirejs before).\n",
       "    display_root_plot_1592339192876();\n",
       "\n",
       "} else {\n",
       "\n",
       "    // We are in jupyterlab, we need to insert requirejs and configure it.\n",
       "    // Jupyterlab might be installed in a different base_url so we need to know it.\n",
       "    try {\n",
       "        var base_url = JSON.parse(document.getElementById('jupyter-config-data').innerHTML).baseUrl;\n",
       "    } catch(_) {\n",
       "        var base_url = '/';\n",
       "    }\n",
       "\n",
       "    // Try loading a local version of requirejs and fallback to cdn if not possible.\n",
       "    requirejs_load(base_url + 'static/components/requirejs/require.js', requirejs_success(base_url), function(){\n",
       "        requirejs_load('https://cdnjs.cloudflare.com/ajax/libs/require.js/2.2.0/require.min.js', requirejs_success(base_url), function(){\n",
       "            document.getElementById(\"root_plot_1592339192876\").innerHTML = \"Failed to load requireJs\";\n",
       "        });\n",
       "    });\n",
       "}\n",
       "\n",
       "function requirejs_load(src, on_load, on_error) {\n",
       "    var script = document.createElement('script');\n",
       "    script.src = src;\n",
       "    script.onload = on_load;\n",
       "    script.onerror = on_error;\n",
       "    document.head.appendChild(script);\n",
       "}\n",
       "\n",
       "function requirejs_success(base_url) {\n",
       "    return function() {\n",
       "        require.config({\n",
       "            baseUrl: base_url + 'static/'\n",
       "        });\n",
       "        display_root_plot_1592339192876();\n",
       "    }\n",
       "}\n",
       "\n",
       "function display_root_plot_1592339192876() {\n",
       "    require(['scripts/JSRootCore'],\n",
       "        function(Core) {\n",
       "            var obj = Core.JSONR_unref({\"_typename\":\"TCanvas\",\"fUniqueID\":0,\"fBits\":3342344,\"fLineColor\":1,\"fLineStyle\":1,\"fLineWidth\":1,\"fFillColor\":0,\"fFillStyle\":1001,\"fLeftMargin\":0.1,\"fRightMargin\":0.1,\"fBottomMargin\":0.1,\"fTopMargin\":0.1,\"fXfile\":2,\"fYfile\":2,\"fAfile\":1,\"fXstat\":0.99,\"fYstat\":0.99,\"fAstat\":2,\"fFrameFillColor\":0,\"fFrameLineColor\":1,\"fFrameFillStyle\":1001,\"fFrameLineStyle\":1,\"fFrameLineWidth\":1,\"fFrameBorderSize\":1,\"fFrameBorderMode\":0,\"fX1\":-1.37500013969839,\"fY1\":-1750.00013038517,\"fX2\":17.3750001396984,\"fY2\":15750.0001303852,\"fXtoAbsPixelk\":43.7067204559328,\"fXtoPixelk\":43.7067204559328,\"fXtoPixel\":31.7866661930084,\"fYtoAbsPixelk\":514.800046590614,\"fYtoPixelk\":514.800046590614,\"fYtoPixel\":-0.0326857137986592,\"fUtoAbsPixelk\":5e-5,\"fUtoPixelk\":5e-5,\"fUtoPixel\":596,\"fVtoAbsPixelk\":572.00005,\"fVtoPixelk\":572,\"fVtoPixel\":-572,\"fAbsPixeltoXk\":-1.37500013969839,\"fPixeltoXk\":-1.37500013969839,\"fPixeltoX\":0.0314597320124107,\"fAbsPixeltoYk\":15750.0001303852,\"fPixeltoYk\":-1750.00013038517,\"fPixeltoY\":-30.5944060502978,\"fXlowNDC\":0,\"fYlowNDC\":0,\"fXUpNDC\":1,\"fYUpNDC\":1,\"fWNDC\":1,\"fHNDC\":1,\"fAbsXlowNDC\":0,\"fAbsYlowNDC\":0,\"fAbsWNDC\":1,\"fAbsHNDC\":1,\"fUxmin\":0.5,\"fUymin\":0,\"fUxmax\":15.5,\"fUymax\":14000,\"fTheta\":30,\"fPhi\":30,\"fAspectRatio\":0,\"fNumber\":0,\"fTickx\":0,\"fTicky\":0,\"fLogx\":0,\"fLogy\":0,\"fLogz\":0,\"fPadPaint\":0,\"fCrosshair\":0,\"fCrosshairPos\":0,\"fBorderSize\":2,\"fBorderMode\":0,\"fModified\":false,\"fGridx\":false,\"fGridy\":false,\"fAbsCoord\":false,\"fEditable\":true,\"fFixedAspectRatio\":false,\"fPrimitives\":{\"_typename\":\"TList\",\"name\":\"TList\",\"arr\":[{\"_typename\":\"TFrame\",\"fUniqueID\":0,\"fBits\":8,\"fLineColor\":1,\"fLineStyle\":1,\"fLineWidth\":1,\"fFillColor\":0,\"fFillStyle\":1001,\"fX1\":0.5,\"fY1\":0,\"fX2\":15.5,\"fY2\":14000,\"fBorderSize\":1,\"fBorderMode\":0},{\"_typename\":\"TH1D\",\"fUniqueID\":0,\"fBits\":520,\"fName\":\"reco2U\",\"fTitle\":\"M+1#sigma\",\"fLineColor\":602,\"fLineStyle\":1,\"fLineWidth\":1,\"fFillColor\":0,\"fFillStyle\":1001,\"fMarkerColor\":865,\"fMarkerStyle\":23,\"fMarkerSize\":1,\"fNcells\":17,\"fXaxis\":{\"_typename\":\"TAxis\",\"fUniqueID\":0,\"fBits\":0,\"fName\":\"xaxis\",\"fTitle\":\"detector\",\"fNdivisions\":510,\"fAxisColor\":1,\"fLabelColor\":1,\"fLabelFont\":42,\"fLabelOffset\":0.005,\"fLabelSize\":0.035,\"fTickLength\":0.03,\"fTitleOffset\":0,\"fTitleSize\":0.035,\"fTitleColor\":1,\"fTitleFont\":42,\"fNbins\":15,\"fXmin\":0.5,\"fXmax\":15.5,\"fXbins\":[],\"fFirst\":0,\"fLast\":0,\"fBits2\":0,\"fTimeDisplay\":false,\"fTimeFormat\":\"\",\"fLabels\":null,\"fModLabs\":null},\"fYaxis\":{\"_typename\":\"TAxis\",\"fUniqueID\":0,\"fBits\":0,\"fName\":\"yaxis\",\"fTitle\":\"\",\"fNdivisions\":510,\"fAxisColor\":1,\"fLabelColor\":1,\"fLabelFont\":42,\"fLabelOffset\":0.005,\"fLabelSize\":0.035,\"fTickLength\":0.03,\"fTitleOffset\":0,\"fTitleSize\":0.035,\"fTitleColor\":1,\"fTitleFont\":42,\"fNbins\":1,\"fXmin\":0,\"fXmax\":1,\"fXbins\":[],\"fFirst\":0,\"fLast\":0,\"fBits2\":0,\"fTimeDisplay\":false,\"fTimeFormat\":\"\",\"fLabels\":null,\"fModLabs\":null},\"fZaxis\":{\"_typename\":\"TAxis\",\"fUniqueID\":0,\"fBits\":0,\"fName\":\"zaxis\",\"fTitle\":\"\",\"fNdivisions\":510,\"fAxisColor\":1,\"fLabelColor\":1,\"fLabelFont\":42,\"fLabelOffset\":0.005,\"fLabelSize\":0.035,\"fTickLength\":0.03,\"fTitleOffset\":1,\"fTitleSize\":0.035,\"fTitleColor\":1,\"fTitleFont\":42,\"fNbins\":1,\"fXmin\":0,\"fXmax\":1,\"fXbins\":[],\"fFirst\":0,\"fLast\":0,\"fBits2\":0,\"fTimeDisplay\":false,\"fTimeFormat\":\"\",\"fLabels\":null,\"fModLabs\":null},\"fBarOffset\":0,\"fBarWidth\":1000,\"fEntries\":100000,\"fTsumw\":0,\"fTsumw2\":0,\"fTsumwx\":0,\"fTsumwx2\":0,\"fMaximum\":14000,\"fMinimum\":0,\"fNormFactor\":0,\"fContour\":[],\"fSumw2\":[],\"fOption\":\"\",\"fFunctions\":{\"_typename\":\"TList\",\"name\":\"TList\",\"arr\":[],\"opt\":[]},\"fBufferSize\":0,\"fBuffer\":[],\"fBinStatErrOpt\":0,\"fStatOverflows\":2,\"fArray\":[730,9301,9296,9317,9448,3652,9254,9473,9519,9069,3728,3814,3974,3939,3967,1519,0]},{\"_typename\":\"TH1D\",\"fUniqueID\":0,\"fBits\":520,\"fName\":\"hup\",\"fTitle\":\"hup\",\"fLineColor\":600,\"fLineStyle\":2,\"fLineWidth\":1,\"fFillColor\":0,\"fFillStyle\":1001,\"fMarkerColor\":1,\"fMarkerStyle\":1,\"fMarkerSize\":1,\"fNcells\":17,\"fXaxis\":{\"_typename\":\"TAxis\",\"fUniqueID\":0,\"fBits\":0,\"fName\":\"xaxis\",\"fTitle\":\"detector\",\"fNdivisions\":510,\"fAxisColor\":1,\"fLabelColor\":1,\"fLabelFont\":42,\"fLabelOffset\":0.005,\"fLabelSize\":0.035,\"fTickLength\":0.03,\"fTitleOffset\":1,\"fTitleSize\":0.035,\"fTitleColor\":1,\"fTitleFont\":42,\"fNbins\":15,\"fXmin\":0.5,\"fXmax\":15.5,\"fXbins\":[],\"fFirst\":0,\"fLast\":0,\"fBits2\":0,\"fTimeDisplay\":false,\"fTimeFormat\":\"\",\"fLabels\":null,\"fModLabs\":null},\"fYaxis\":{\"_typename\":\"TAxis\",\"fUniqueID\":0,\"fBits\":0,\"fName\":\"yaxis\",\"fTitle\":\"\",\"fNdivisions\":510,\"fAxisColor\":1,\"fLabelColor\":1,\"fLabelFont\":42,\"fLabelOffset\":0.005,\"fLabelSize\":0.035,\"fTickLength\":0.03,\"fTitleOffset\":0,\"fTitleSize\":0.035,\"fTitleColor\":1,\"fTitleFont\":42,\"fNbins\":1,\"fXmin\":0,\"fXmax\":1,\"fXbins\":[],\"fFirst\":0,\"fLast\":0,\"fBits2\":0,\"fTimeDisplay\":false,\"fTimeFormat\":\"\",\"fLabels\":null,\"fModLabs\":null},\"fZaxis\":{\"_typename\":\"TAxis\",\"fUniqueID\":0,\"fBits\":0,\"fName\":\"zaxis\",\"fTitle\":\"\",\"fNdivisions\":510,\"fAxisColor\":1,\"fLabelColor\":1,\"fLabelFont\":42,\"fLabelOffset\":0.005,\"fLabelSize\":0.035,\"fTickLength\":0.03,\"fTitleOffset\":1,\"fTitleSize\":0.035,\"fTitleColor\":1,\"fTitleFont\":42,\"fNbins\":1,\"fXmin\":0,\"fXmax\":1,\"fXbins\":[],\"fFirst\":0,\"fLast\":0,\"fBits2\":0,\"fTimeDisplay\":false,\"fTimeFormat\":\"\",\"fLabels\":null,\"fModLabs\":null},\"fBarOffset\":0,\"fBarWidth\":1000,\"fEntries\":100000,\"fTsumw\":99270,\"fTsumw2\":99270,\"fTsumwx\":647956,\"fTsumwx2\":5705480,\"fMaximum\":-1111,\"fMinimum\":-1111,\"fNormFactor\":0,\"fContour\":[],\"fSumw2\":[],\"fOption\":\"\",\"fFunctions\":{\"_typename\":\"TList\",\"name\":\"TList\",\"arr\":[],\"opt\":[]},\"fBufferSize\":0,\"fBuffer\":[],\"fBinStatErrOpt\":0,\"fStatOverflows\":2,\"fArray\":[730,9301,9296,9317,9448,3652,9254,9473,9519,9069,3728,3814,3974,3939,3967,1519,0]},{\"_typename\":\"TH1D\",\"fUniqueID\":0,\"fBits\":520,\"fName\":\"hdn\",\"fTitle\":\"hdn\",\"fLineColor\":600,\"fLineStyle\":3,\"fLineWidth\":1,\"fFillColor\":0,\"fFillStyle\":1001,\"fMarkerColor\":1,\"fMarkerStyle\":1,\"fMarkerSize\":1,\"fNcells\":17,\"fXaxis\":{\"_typename\":\"TAxis\",\"fUniqueID\":0,\"fBits\":0,\"fName\":\"xaxis\",\"fTitle\":\"detector\",\"fNdivisions\":510,\"fAxisColor\":1,\"fLabelColor\":1,\"fLabelFont\":42,\"fLabelOffset\":0.005,\"fLabelSize\":0.035,\"fTickLength\":0.03,\"fTitleOffset\":1,\"fTitleSize\":0.035,\"fTitleColor\":1,\"fTitleFont\":42,\"fNbins\":15,\"fXmin\":0.5,\"fXmax\":15.5,\"fXbins\":[],\"fFirst\":0,\"fLast\":0,\"fBits2\":0,\"fTimeDisplay\":false,\"fTimeFormat\":\"\",\"fLabels\":null,\"fModLabs\":null},\"fYaxis\":{\"_typename\":\"TAxis\",\"fUniqueID\":0,\"fBits\":0,\"fName\":\"yaxis\",\"fTitle\":\"\",\"fNdivisions\":510,\"fAxisColor\":1,\"fLabelColor\":1,\"fLabelFont\":42,\"fLabelOffset\":0.005,\"fLabelSize\":0.035,\"fTickLength\":0.03,\"fTitleOffset\":0,\"fTitleSize\":0.035,\"fTitleColor\":1,\"fTitleFont\":42,\"fNbins\":1,\"fXmin\":0,\"fXmax\":1,\"fXbins\":[],\"fFirst\":0,\"fLast\":0,\"fBits2\":0,\"fTimeDisplay\":false,\"fTimeFormat\":\"\",\"fLabels\":null,\"fModLabs\":null},\"fZaxis\":{\"_typename\":\"TAxis\",\"fUniqueID\":0,\"fBits\":0,\"fName\":\"zaxis\",\"fTitle\":\"\",\"fNdivisions\":510,\"fAxisColor\":1,\"fLabelColor\":1,\"fLabelFont\":42,\"fLabelOffset\":0.005,\"fLabelSize\":0.035,\"fTickLength\":0.03,\"fTitleOffset\":1,\"fTitleSize\":0.035,\"fTitleColor\":1,\"fTitleFont\":42,\"fNbins\":1,\"fXmin\":0,\"fXmax\":1,\"fXbins\":[],\"fFirst\":0,\"fLast\":0,\"fBits2\":0,\"fTimeDisplay\":false,\"fTimeFormat\":\"\",\"fLabels\":null,\"fModLabs\":null},\"fBarOffset\":0,\"fBarWidth\":1000,\"fEntries\":100000,\"fTsumw\":99270,\"fTsumw2\":99270,\"fTsumwx\":516896,\"fTsumwx2\":3476590,\"fMaximum\":-1111,\"fMinimum\":-1111,\"fNormFactor\":0,\"fContour\":[],\"fSumw2\":[],\"fOption\":\"\",\"fFunctions\":{\"_typename\":\"TList\",\"name\":\"TList\",\"arr\":[],\"opt\":[]},\"fBufferSize\":0,\"fBuffer\":[],\"fBinStatErrOpt\":0,\"fStatOverflows\":2,\"fArray\":[730,11324,11383,11421,11487,4453,11033,11346,11340,10983,4445,12,14,14,14,1,0]},{\"_typename\":\"TH1D\",\"fUniqueID\":0,\"fBits\":520,\"fName\":\"reco2D\",\"fTitle\":\"M-1#sigma\",\"fLineColor\":602,\"fLineStyle\":1,\"fLineWidth\":1,\"fFillColor\":0,\"fFillStyle\":1001,\"fMarkerColor\":855,\"fMarkerStyle\":25,\"fMarkerSize\":1,\"fNcells\":17,\"fXaxis\":{\"_typename\":\"TAxis\",\"fUniqueID\":0,\"fBits\":0,\"fName\":\"xaxis\",\"fTitle\":\"detector\",\"fNdivisions\":510,\"fAxisColor\":1,\"fLabelColor\":1,\"fLabelFont\":42,\"fLabelOffset\":0.005,\"fLabelSize\":0.035,\"fTickLength\":0.03,\"fTitleOffset\":0,\"fTitleSize\":0.035,\"fTitleColor\":1,\"fTitleFont\":42,\"fNbins\":15,\"fXmin\":0.5,\"fXmax\":15.5,\"fXbins\":[],\"fFirst\":0,\"fLast\":0,\"fBits2\":0,\"fTimeDisplay\":false,\"fTimeFormat\":\"\",\"fLabels\":null,\"fModLabs\":null},\"fYaxis\":{\"_typename\":\"TAxis\",\"fUniqueID\":0,\"fBits\":0,\"fName\":\"yaxis\",\"fTitle\":\"\",\"fNdivisions\":510,\"fAxisColor\":1,\"fLabelColor\":1,\"fLabelFont\":42,\"fLabelOffset\":0.005,\"fLabelSize\":0.035,\"fTickLength\":0.03,\"fTitleOffset\":0,\"fTitleSize\":0.035,\"fTitleColor\":1,\"fTitleFont\":42,\"fNbins\":1,\"fXmin\":0,\"fXmax\":1,\"fXbins\":[],\"fFirst\":0,\"fLast\":0,\"fBits2\":0,\"fTimeDisplay\":false,\"fTimeFormat\":\"\",\"fLabels\":null,\"fModLabs\":null},\"fZaxis\":{\"_typename\":\"TAxis\",\"fUniqueID\":0,\"fBits\":0,\"fName\":\"zaxis\",\"fTitle\":\"\",\"fNdivisions\":510,\"fAxisColor\":1,\"fLabelColor\":1,\"fLabelFont\":42,\"fLabelOffset\":0.005,\"fLabelSize\":0.035,\"fTickLength\":0.03,\"fTitleOffset\":1,\"fTitleSize\":0.035,\"fTitleColor\":1,\"fTitleFont\":42,\"fNbins\":1,\"fXmin\":0,\"fXmax\":1,\"fXbins\":[],\"fFirst\":0,\"fLast\":0,\"fBits2\":0,\"fTimeDisplay\":false,\"fTimeFormat\":\"\",\"fLabels\":null,\"fModLabs\":null},\"fBarOffset\":0,\"fBarWidth\":1000,\"fEntries\":100000,\"fTsumw\":0,\"fTsumw2\":0,\"fTsumwx\":0,\"fTsumwx2\":0,\"fMaximum\":-1111,\"fMinimum\":-1111,\"fNormFactor\":0,\"fContour\":[],\"fSumw2\":[],\"fOption\":\"\",\"fFunctions\":{\"_typename\":\"TList\",\"name\":\"TList\",\"arr\":[],\"opt\":[]},\"fBufferSize\":0,\"fBuffer\":[],\"fBinStatErrOpt\":0,\"fStatOverflows\":2,\"fArray\":[730,11324,11383,11421,11487,4453,11033,11346,11340,10983,4445,12,14,14,14,1,0]},{\"_typename\":\"TH1D\",\"fUniqueID\":0,\"fBits\":520,\"fName\":\"h\",\"fTitle\":\"h\",\"fLineColor\":600,\"fLineStyle\":1,\"fLineWidth\":1,\"fFillColor\":0,\"fFillStyle\":1001,\"fMarkerColor\":600,\"fMarkerStyle\":20,\"fMarkerSize\":1,\"fNcells\":17,\"fXaxis\":{\"_typename\":\"TAxis\",\"fUniqueID\":0,\"fBits\":0,\"fName\":\"xaxis\",\"fTitle\":\"detector\",\"fNdivisions\":510,\"fAxisColor\":1,\"fLabelColor\":1,\"fLabelFont\":42,\"fLabelOffset\":0.005,\"fLabelSize\":0.035,\"fTickLength\":0.03,\"fTitleOffset\":1,\"fTitleSize\":0.035,\"fTitleColor\":1,\"fTitleFont\":42,\"fNbins\":15,\"fXmin\":0.5,\"fXmax\":15.5,\"fXbins\":[],\"fFirst\":0,\"fLast\":0,\"fBits2\":0,\"fTimeDisplay\":false,\"fTimeFormat\":\"\",\"fLabels\":null,\"fModLabs\":null},\"fYaxis\":{\"_typename\":\"TAxis\",\"fUniqueID\":0,\"fBits\":0,\"fName\":\"yaxis\",\"fTitle\":\"\",\"fNdivisions\":510,\"fAxisColor\":1,\"fLabelColor\":1,\"fLabelFont\":42,\"fLabelOffset\":0.005,\"fLabelSize\":0.035,\"fTickLength\":0.03,\"fTitleOffset\":0,\"fTitleSize\":0.035,\"fTitleColor\":1,\"fTitleFont\":42,\"fNbins\":1,\"fXmin\":0,\"fXmax\":1,\"fXbins\":[],\"fFirst\":0,\"fLast\":0,\"fBits2\":0,\"fTimeDisplay\":false,\"fTimeFormat\":\"\",\"fLabels\":null,\"fModLabs\":null},\"fZaxis\":{\"_typename\":\"TAxis\",\"fUniqueID\":0,\"fBits\":0,\"fName\":\"zaxis\",\"fTitle\":\"\",\"fNdivisions\":510,\"fAxisColor\":1,\"fLabelColor\":1,\"fLabelFont\":42,\"fLabelOffset\":0.005,\"fLabelSize\":0.035,\"fTickLength\":0.03,\"fTitleOffset\":1,\"fTitleSize\":0.035,\"fTitleColor\":1,\"fTitleFont\":42,\"fNbins\":1,\"fXmin\":0,\"fXmax\":1,\"fXbins\":[],\"fFirst\":0,\"fLast\":0,\"fBits2\":0,\"fTimeDisplay\":false,\"fTimeFormat\":\"\",\"fLabels\":null,\"fModLabs\":null},\"fBarOffset\":0,\"fBarWidth\":1000,\"fEntries\":100000,\"fTsumw\":99270,\"fTsumw2\":99270,\"fTsumwx\":585676,\"fTsumwx2\":4636510,\"fMaximum\":25000,\"fMinimum\":0,\"fNormFactor\":0,\"fContour\":[],\"fSumw2\":[],\"fOption\":\"\",\"fFunctions\":{\"_typename\":\"TList\",\"name\":\"TList\",\"arr\":[],\"opt\":[]},\"fBufferSize\":0,\"fBuffer\":[],\"fBinStatErrOpt\":0,\"fStatOverflows\":2,\"fArray\":[730,10231,10248,10246,10411,4015,10150,10420,10489,10028,4138,1988,2075,2040,2045,746,0]},{\"_typename\":\"TLegend\",\"fUniqueID\":0,\"fBits\":8,\"fLineColor\":1,\"fLineStyle\":1,\"fLineWidth\":1,\"fFillColor\":0,\"fFillStyle\":1001,\"fX1\":11.7500000558794,\"fY1\":10500.0000521541,\"fX2\":14.7500001005828,\"fY2\":13300.0000938773,\"fX1NDC\":0.7,\"fY1NDC\":0.7,\"fX2NDC\":0.86,\"fY2NDC\":0.86,\"fBorderSize\":0,\"fInit\":1,\"fShadowColor\":1,\"fCornerRadius\":0,\"fOption\":\"brNDC\",\"fName\":\"TPave\",\"fTextAngle\":0,\"fTextSize\":0,\"fTextAlign\":12,\"fTextColor\":1,\"fTextFont\":42,\"fPrimitives\":{\"_typename\":\"TList\",\"name\":\"TList\",\"arr\":[{\"_typename\":\"TLegendEntry\",\"fUniqueID\":0,\"fBits\":8,\"fTextAngle\":0,\"fTextSize\":0,\"fTextAlign\":0,\"fTextColor\":0,\"fTextFont\":42,\"fLineColor\":1,\"fLineStyle\":1,\"fLineWidth\":1,\"fFillColor\":0,\"fFillStyle\":0,\"fMarkerColor\":600,\"fMarkerStyle\":20,\"fMarkerSize\":1,\"fObject\":{\"$ref\":23},\"fLabel\":\"Reco\",\"fOption\":\"p\"},{\"_typename\":\"TLegendEntry\",\"fUniqueID\":0,\"fBits\":8,\"fTextAngle\":0,\"fTextSize\":0,\"fTextAlign\":0,\"fTextColor\":0,\"fTextFont\":42,\"fLineColor\":600,\"fLineStyle\":2,\"fLineWidth\":1,\"fFillColor\":0,\"fFillStyle\":0,\"fMarkerColor\":1,\"fMarkerStyle\":21,\"fMarkerSize\":1,\"fObject\":{\"$ref\":8},\"fLabel\":\"+1#sigma\",\"fOption\":\"l\"},{\"_typename\":\"TLegendEntry\",\"fUniqueID\":0,\"fBits\":8,\"fTextAngle\":0,\"fTextSize\":0,\"fTextAlign\":0,\"fTextColor\":0,\"fTextFont\":42,\"fLineColor\":600,\"fLineStyle\":3,\"fLineWidth\":1,\"fFillColor\":0,\"fFillStyle\":0,\"fMarkerColor\":1,\"fMarkerStyle\":21,\"fMarkerSize\":1,\"fObject\":{\"$ref\":13},\"fLabel\":\"-1#sigma\",\"fOption\":\"l\"},{\"_typename\":\"TLegendEntry\",\"fUniqueID\":0,\"fBits\":8,\"fTextAngle\":0,\"fTextSize\":0,\"fTextAlign\":0,\"fTextColor\":0,\"fTextFont\":42,\"fLineColor\":1,\"fLineStyle\":1,\"fLineWidth\":1,\"fFillColor\":0,\"fFillStyle\":0,\"fMarkerColor\":865,\"fMarkerStyle\":23,\"fMarkerSize\":1,\"fObject\":{\"$ref\":3},\"fLabel\":\"+1#sigma from M1\",\"fOption\":\"p\"},{\"_typename\":\"TLegendEntry\",\"fUniqueID\":0,\"fBits\":8,\"fTextAngle\":0,\"fTextSize\":0,\"fTextAlign\":0,\"fTextColor\":0,\"fTextFont\":42,\"fLineColor\":1,\"fLineStyle\":1,\"fLineWidth\":1,\"fFillColor\":0,\"fFillStyle\":0,\"fMarkerColor\":855,\"fMarkerStyle\":25,\"fMarkerSize\":1,\"fObject\":{\"$ref\":18},\"fLabel\":\"-1#sigma from M2\",\"fOption\":\"p\"}],\"opt\":[\"p\",\"l\",\"l\",\"p\",\"p\"]},\"fEntrySeparation\":0.1,\"fMargin\":0.25,\"fNColumns\":1,\"fColumnSeparation\":0},{\"_typename\":\"TPaveText\",\"fUniqueID\":0,\"fBits\":9,\"fLineColor\":1,\"fLineStyle\":1,\"fLineWidth\":1,\"fFillColor\":0,\"fFillStyle\":0,\"fX1\":6.69567951076545,\"fY1\":14700.0001838431,\"fX2\":9.30432048923455,\"fY2\":15662.5002125278,\"fX1NDC\":0.430436241610738,\"fY1NDC\":0.940000003948808,\"fX2NDC\":0.569563758389262,\"fY2NDC\":0.995000004768372,\"fBorderSize\":0,\"fInit\":1,\"fShadowColor\":1,\"fCornerRadius\":0,\"fOption\":\"blNDC\",\"fName\":\"title\",\"fTextAngle\":0,\"fTextSize\":0,\"fTextAlign\":22,\"fTextColor\":1,\"fTextFont\":42,\"fLabel\":\"\",\"fLongest\":9,\"fMargin\":0.05,\"fLines\":{\"_typename\":\"TList\",\"name\":\"TList\",\"arr\":[{\"_typename\":\"TLatex\",\"fUniqueID\":0,\"fBits\":0,\"fName\":\"\",\"fTitle\":\"M+1#sigma\",\"fTextAngle\":0,\"fTextSize\":0,\"fTextAlign\":0,\"fTextColor\":0,\"fTextFont\":0,\"fX\":0,\"fY\":0,\"fLineColor\":1,\"fLineStyle\":1,\"fLineWidth\":2,\"fLimitFactorSize\":3,\"fOriginSize\":0.0467500016093254}],\"opt\":[\"\"]}}],\"opt\":[\"\",\"e \",\"hist same\",\"hist same \",\"e same \",\"e same \",\"\",\"blNDC\"]},\"fExecs\":null,\"fName\":\"cr2\",\"fTitle\":\"\",\"fNumPaletteColor\":0,\"fNextPaletteColor\":0,\"fDISPLAY\":\"$DISPLAY\",\"fDoubleBuffer\":0,\"fRetained\":true,\"fXsizeUser\":0,\"fYsizeUser\":0,\"fXsizeReal\":20,\"fYsizeReal\":20,\"fWindowTopX\":0,\"fWindowTopY\":0,\"fWindowWidth\":0,\"fWindowHeight\":0,\"fCw\":596,\"fCh\":572,\"fCatt\":{\"_typename\":\"TAttCanvas\",\"fXBetween\":2,\"fYBetween\":2,\"fTitleFromTop\":1.2,\"fXdate\":0.2,\"fYdate\":0.3,\"fAdate\":1},\"kMoveOpaque\":true,\"kResizeOpaque\":true,\"fHighLightColor\":2,\"fBatch\":true,\"kShowEventStatus\":false,\"kAutoExec\":true,\"kMenuBar\":true});\n",
       "            Core.draw(\"root_plot_1592339192876\", obj, \"\");\n",
       "        }\n",
       "    );\n",
       "}\n",
       "</script>\n"
      ],
      "text/plain": [
       "<IPython.core.display.HTML object>"
      ]
     },
     "metadata": {},
     "output_type": "display_data"
    }
   ],
   "source": [
    "crec2 = ROOT.TCanvas(\"cr2\", \"\", 600, 600)\n",
    "\n",
    "h.SetMarkerStyle(20)\n",
    "h.SetMarkerColor(ROOT.kBlue)\n",
    "\n",
    "hup.SetLineStyle(2)\n",
    "hdn.SetLineStyle(3)\n",
    "hup.SetLineColor(ROOT.kBlue)\n",
    "hdn.SetLineColor(ROOT.kBlue)\n",
    "\n",
    "#htrue2U = M1.ProjectionX(\"gen2U\")\n",
    "h2U.SetMarkerStyle(23)\n",
    "h2U.SetMarkerColor(ROOT.kAzure+5)\n",
    "\n",
    "h2D.SetMarkerStyle(25)\n",
    "h2D.SetMarkerColor(ROOT.kAzure-5)\n",
    "\n",
    "\n",
    "\n",
    "h2U.Draw('e ')\n",
    "if normalize :\n",
    "    h2U.SetMinimum(.24)\n",
    "    h2U.SetMaximum(.26)\n",
    "else :\n",
    "    h2U.SetMinimum(.0)\n",
    "    h2U.SetMaximum(14000)\n",
    "hup.Draw(\"hist same\")\n",
    "\n",
    "\n",
    "hdn.Draw(\"hist same \")\n",
    "\n",
    "\n",
    "\n",
    "h2D.Draw('e same ')\n",
    "h.Draw('e same ')\n",
    "\n",
    "\n",
    "leg12 = ROOT.TLegend(0.7,0.7,0.86, 0.86)\n",
    "leg12.SetBorderSize(0)\n",
    "leg12.SetFillColor(0)\n",
    "\n",
    "leg12.AddEntry( h, 'Reco', 'p')\n",
    "leg12.AddEntry( hup, '+1#sigma', 'l')\n",
    "leg12.AddEntry( hdn, '-1#sigma', 'l')\n",
    "leg12.AddEntry( h2U, '+1#sigma from M1', 'p')\n",
    "leg12.AddEntry( h2D, '-1#sigma from M2', 'p')\n",
    "\n",
    "leg12.Draw()\n",
    "\n",
    "crec2.Draw()"
   ]
  },
  {
   "cell_type": "markdown",
   "metadata": {},
   "source": [
    "## Unfold\n",
    "\n",
    "1. Create the `TUnfoldDensity` object. \n",
    "1. Add the systematic uncertainty variations via `AddSysError`. \n",
    "1. Perform the regularization by scanning the L curve. \n",
    "1. Get the output. **Note! This does not account for systematic uncertainties automatically. They must be added by hand.**\n",
    "1. Draw unfolded versus true distributions (in the same coarse binning scheme). "
   ]
  },
  {
   "cell_type": "code",
   "execution_count": 25,
   "metadata": {},
   "outputs": [
    {
     "name": "stderr",
     "output_type": "stream",
     "text": [
      "Info in <TUnfold::SetConstraint>: fConstraint=1\n",
      "Warning in <TUnfold::TUnfold>: 9 output bins do not depend on the input data  0-5 9 13 17\n",
      "Info in <TUnfold::TUnfold>: 15 input bins and 9 output bins\n",
      "Info in <TUnfoldDensity::TUnfold>: *NOT* unfolding bin #0 (xaxis:generator[ufl])\n",
      "Info in <TUnfoldDensity::TUnfold>: *NOT* unfolding bin #1 (xaxis:generator[0.5,1.5])\n",
      "Info in <TUnfoldDensity::TUnfold>: *NOT* unfolding bin #2 (xaxis:generator[1.5,2.5])\n",
      "Info in <TUnfoldDensity::TUnfold>: *NOT* unfolding bin #3 (xaxis:generator[2.5,3.5])\n",
      "Info in <TUnfoldDensity::TUnfold>: *NOT* unfolding bin #4 (xaxis:generator[3.5,4.5])\n",
      "Info in <TUnfoldDensity::TUnfold>: *NOT* unfolding bin #5 (xaxis:generator[4.5,5.5])\n",
      "Info in <TUnfoldDensity::TUnfold>: *NOT* unfolding bin #9 (xaxis:generator[8.5,9.5])\n",
      "Info in <TUnfoldDensity::TUnfold>: *NOT* unfolding bin #13 (xaxis:generator[12.5,13.5])\n",
      "Info in <TUnfoldDensity::TUnfold>: *NOT* unfolding bin #17 (xaxis:generator[ofl])\n",
      "Info in <TUnfoldDensity::RegularizeOneDistribution>: regularizing xaxis regMode=3 densityMode=3 axisSteering=*[UOB]\n"
     ]
    }
   ],
   "source": [
    "orientation = ROOT.TUnfold.kHistMapOutputHoriz\n",
    "regMode = ROOT.TUnfold.kRegModeCurvature\n",
    "con = ROOT.TUnfold.kEConstraintArea #ROOT.TUnfold.kEConstraintArea\n",
    "mode =  ROOT.TUnfoldDensity.kDensityModeBinWidth\n",
    "axisSteering =  \"*[b]\"\n",
    "\n",
    "#u = ROOT.TUnfoldDensity(M, orientation, regMode, con, mode, genBin, detBin, \"signal\", axisSteering)\n",
    "\n",
    "u = ROOT.TUnfoldDensity(M,orientation,regMode,con)\n"
   ]
  },
  {
   "cell_type": "code",
   "execution_count": 26,
   "metadata": {},
   "outputs": [
    {
     "data": {
      "text/plain": [
       "0"
      ]
     },
     "execution_count": 26,
     "metadata": {},
     "output_type": "execute_result"
    }
   ],
   "source": [
    "u.SetInput( h )\n"
   ]
  },
  {
   "cell_type": "code",
   "execution_count": 27,
   "metadata": {},
   "outputs": [],
   "source": [
    "\n",
    "u.AddSysError(M1, \"Up\", orientation, ROOT.TUnfoldDensity.kSysErrModeMatrix)\n"
   ]
  },
  {
   "cell_type": "code",
   "execution_count": 28,
   "metadata": {},
   "outputs": [],
   "source": [
    "\n",
    "u.AddSysError(M2, \"Dn\", orientation, ROOT.TUnfoldDensity.kSysErrModeMatrix)\n"
   ]
  },
  {
   "cell_type": "code",
   "execution_count": 29,
   "metadata": {},
   "outputs": [
    {
     "data": {
      "text/plain": [
       "0.05793944313833519"
      ]
     },
     "execution_count": 29,
     "metadata": {},
     "output_type": "execute_result"
    }
   ],
   "source": [
    "\n",
    "u.DoUnfold(0.0)"
   ]
  },
  {
   "cell_type": "code",
   "execution_count": 30,
   "metadata": {},
   "outputs": [],
   "source": [
    "# Get output... DOES NOT CONTAIN SYSTEMATICS. \n",
    "o = u.GetOutput(\"o\")\n",
    "#o = u.GetOutput(\"unfolded\",\"\",\"signal\", \"*[b]\", False)\n",
    " "
   ]
  },
  {
   "cell_type": "code",
   "execution_count": 31,
   "metadata": {},
   "outputs": [],
   "source": [
    "# Get systematic shifts of output\n",
    "o_up = u.GetDeltaSysSource(\"Up\", \"o_upshift\", \"M+1#sigma\")\n",
    "o_dn = u.GetDeltaSysSource(\"Dn\", \"o_dnshift\", \"M-1#sigma\")\n",
    "o_up.SetLineStyle(2)\n",
    "o_dn.SetLineStyle(2)\n"
   ]
  },
  {
   "cell_type": "code",
   "execution_count": 32,
   "metadata": {},
   "outputs": [
    {
     "name": "stdout",
     "output_type": "stream",
     "text": [
      "16\n"
     ]
    },
    {
     "data": {
      "text/html": [
       "\n",
       "<div id=\"root_plot_1592339193128\"\n",
       "     style=\"width: 596px; height: 572px\">\n",
       "</div>\n",
       "<script>\n",
       "if (typeof require !== 'undefined') {\n",
       "\n",
       "    // All requirements met (we are in jupyter notebooks or we loaded requirejs before).\n",
       "    display_root_plot_1592339193128();\n",
       "\n",
       "} else {\n",
       "\n",
       "    // We are in jupyterlab, we need to insert requirejs and configure it.\n",
       "    // Jupyterlab might be installed in a different base_url so we need to know it.\n",
       "    try {\n",
       "        var base_url = JSON.parse(document.getElementById('jupyter-config-data').innerHTML).baseUrl;\n",
       "    } catch(_) {\n",
       "        var base_url = '/';\n",
       "    }\n",
       "\n",
       "    // Try loading a local version of requirejs and fallback to cdn if not possible.\n",
       "    requirejs_load(base_url + 'static/components/requirejs/require.js', requirejs_success(base_url), function(){\n",
       "        requirejs_load('https://cdnjs.cloudflare.com/ajax/libs/require.js/2.2.0/require.min.js', requirejs_success(base_url), function(){\n",
       "            document.getElementById(\"root_plot_1592339193128\").innerHTML = \"Failed to load requireJs\";\n",
       "        });\n",
       "    });\n",
       "}\n",
       "\n",
       "function requirejs_load(src, on_load, on_error) {\n",
       "    var script = document.createElement('script');\n",
       "    script.src = src;\n",
       "    script.onload = on_load;\n",
       "    script.onerror = on_error;\n",
       "    document.head.appendChild(script);\n",
       "}\n",
       "\n",
       "function requirejs_success(base_url) {\n",
       "    return function() {\n",
       "        require.config({\n",
       "            baseUrl: base_url + 'static/'\n",
       "        });\n",
       "        display_root_plot_1592339193128();\n",
       "    }\n",
       "}\n",
       "\n",
       "function display_root_plot_1592339193128() {\n",
       "    require(['scripts/JSRootCore'],\n",
       "        function(Core) {\n",
       "            var obj = Core.JSONR_unref({\"_typename\":\"TCanvas\",\"fUniqueID\":0,\"fBits\":3342344,\"fLineColor\":1,\"fLineStyle\":1,\"fLineWidth\":1,\"fFillColor\":0,\"fFillStyle\":1001,\"fLeftMargin\":0.1,\"fRightMargin\":0.1,\"fBottomMargin\":0.1,\"fTopMargin\":0.1,\"fXfile\":2,\"fYfile\":2,\"fAfile\":1,\"fXstat\":0.99,\"fYstat\":0.99,\"fAstat\":2,\"fFrameFillColor\":0,\"fFrameLineColor\":1,\"fFrameFillStyle\":1001,\"fFrameLineStyle\":1,\"fFrameLineWidth\":1,\"fFrameBorderSize\":1,\"fFrameBorderMode\":0,\"fX1\":-1.50000014901162,\"fY1\":-1.50000014901162,\"fX2\":18.5000001490116,\"fY2\":18.5000001490116,\"fXtoAbsPixelk\":44.7000537744643,\"fXtoPixelk\":44.7000537744643,\"fXtoPixel\":29.7999995559454,\"fYtoAbsPixelk\":529.100046377528,\"fYtoPixelk\":529.100046377528,\"fYtoPixel\":-28.5999995738268,\"fUtoAbsPixelk\":5e-5,\"fUtoPixelk\":5e-5,\"fUtoPixel\":596,\"fVtoAbsPixelk\":572.00005,\"fVtoPixelk\":572,\"fVtoPixel\":-572,\"fAbsPixeltoXk\":-1.50000014901162,\"fPixeltoXk\":-1.50000014901162,\"fPixeltoX\":0.0335570474799048,\"fAbsPixeltoYk\":18.5000001490116,\"fPixeltoYk\":-1.50000014901162,\"fPixeltoY\":-0.0349650354860546,\"fXlowNDC\":0,\"fYlowNDC\":0,\"fXUpNDC\":1,\"fYUpNDC\":1,\"fWNDC\":1,\"fHNDC\":1,\"fAbsXlowNDC\":0,\"fAbsYlowNDC\":0,\"fAbsWNDC\":1,\"fAbsHNDC\":1,\"fUxmin\":0.5,\"fUymin\":0.5,\"fUxmax\":16.5,\"fUymax\":16.5,\"fTheta\":30,\"fPhi\":30,\"fAspectRatio\":0,\"fNumber\":0,\"fTickx\":0,\"fTicky\":0,\"fLogx\":0,\"fLogy\":0,\"fLogz\":0,\"fPadPaint\":0,\"fCrosshair\":0,\"fCrosshairPos\":0,\"fBorderSize\":2,\"fBorderMode\":0,\"fModified\":false,\"fGridx\":false,\"fGridy\":false,\"fAbsCoord\":false,\"fEditable\":true,\"fFixedAspectRatio\":false,\"fPrimitives\":{\"_typename\":\"TList\",\"name\":\"TList\",\"arr\":[{\"_typename\":\"TFrame\",\"fUniqueID\":0,\"fBits\":8,\"fLineColor\":1,\"fLineStyle\":1,\"fLineWidth\":1,\"fFillColor\":0,\"fFillStyle\":1001,\"fX1\":0.5,\"fY1\":0.5,\"fX2\":16.5,\"fY2\":16.5,\"fBorderSize\":1,\"fBorderMode\":0},{\"_typename\":\"TH2D\",\"fUniqueID\":0,\"fBits\":520,\"fName\":\"cov\",\"fTitle\":\"Covariance Matrix\",\"fLineColor\":602,\"fLineStyle\":1,\"fLineWidth\":1,\"fFillColor\":0,\"fFillStyle\":1001,\"fMarkerColor\":1,\"fMarkerStyle\":1,\"fMarkerSize\":1,\"fNcells\":324,\"fXaxis\":{\"_typename\":\"TAxis\",\"fUniqueID\":0,\"fBits\":0,\"fName\":\"xaxis\",\"fTitle\":\"\",\"fNdivisions\":510,\"fAxisColor\":1,\"fLabelColor\":1,\"fLabelFont\":42,\"fLabelOffset\":0.005,\"fLabelSize\":0.035,\"fTickLength\":0.03,\"fTitleOffset\":1,\"fTitleSize\":0.035,\"fTitleColor\":1,\"fTitleFont\":42,\"fNbins\":16,\"fXmin\":0.5,\"fXmax\":16.5,\"fXbins\":[0.5,1.5,2.5,3.5,4.5,5.5,6.5,7.5,8.5,9.5,10.5,11.5,12.5,13.5,14.5,15.5,16.5],\"fFirst\":0,\"fLast\":0,\"fBits2\":0,\"fTimeDisplay\":false,\"fTimeFormat\":\"\",\"fLabels\":null,\"fModLabs\":null},\"fYaxis\":{\"_typename\":\"TAxis\",\"fUniqueID\":0,\"fBits\":0,\"fName\":\"yaxis\",\"fTitle\":\"\",\"fNdivisions\":510,\"fAxisColor\":1,\"fLabelColor\":1,\"fLabelFont\":42,\"fLabelOffset\":0.005,\"fLabelSize\":0.035,\"fTickLength\":0.03,\"fTitleOffset\":0,\"fTitleSize\":0.035,\"fTitleColor\":1,\"fTitleFont\":42,\"fNbins\":16,\"fXmin\":0.5,\"fXmax\":16.5,\"fXbins\":[0.5,1.5,2.5,3.5,4.5,5.5,6.5,7.5,8.5,9.5,10.5,11.5,12.5,13.5,14.5,15.5,16.5],\"fFirst\":0,\"fLast\":0,\"fBits2\":0,\"fTimeDisplay\":false,\"fTimeFormat\":\"\",\"fLabels\":null,\"fModLabs\":null},\"fZaxis\":{\"_typename\":\"TAxis\",\"fUniqueID\":0,\"fBits\":0,\"fName\":\"zaxis\",\"fTitle\":\"\",\"fNdivisions\":510,\"fAxisColor\":1,\"fLabelColor\":1,\"fLabelFont\":42,\"fLabelOffset\":0.005,\"fLabelSize\":0.035,\"fTickLength\":0.03,\"fTitleOffset\":1,\"fTitleSize\":0.035,\"fTitleColor\":1,\"fTitleFont\":42,\"fNbins\":1,\"fXmin\":0,\"fXmax\":1,\"fXbins\":[],\"fFirst\":0,\"fLast\":0,\"fBits2\":0,\"fTimeDisplay\":false,\"fTimeFormat\":\"\",\"fLabels\":null,\"fModLabs\":null},\"fBarOffset\":0,\"fBarWidth\":1000,\"fEntries\":648,\"fTsumw\":0,\"fTsumw2\":0,\"fTsumwx\":0,\"fTsumwx2\":0,\"fMaximum\":-1111,\"fMinimum\":-1111,\"fNormFactor\":0,\"fContour\":[-17256511.5037889,-14700003.2654676,-12143495.0271463,-9586986.788825,-7030478.55050371,-4473970.31218243,-1917462.07386114,639046.164460145,3195554.40278143,5752062.64110272,8308570.879424,10865079.1177453,13421587.3560666,15978095.5943879,18534603.8327091,21091112.0710304,23647620.3093517,26204128.547673,28760636.7859943,31317145.0243156],\"fSumw2\":[0,0,0,0,0,0,0,0,0,0,0,0,0,0,0,0,0,0,0,0,0,0,0,0,0,0,0,0,0,0,0,0,0,0,0,0,0,0,0,0,0,0,0,0,0,0,0,0,0,0,0,0,0,0,0,0,0,0,0,0,0,0,0,0,0,0,0,0,0,0,0,0,0,0,0,0,0,0,0,0,0,0,0,0,0,0,0,0,0,0,0,0,0,0,0,0,0,0,0,0,0,0,0,0,0,0,0,0,0,0,0,0,0,0,0,0,0,0,0,0,0,0,0,0,0,0,0,0,0,0,0,0,0,0,0,0,0,0,0,0,0,0,0,0,0,0,0,0,0,0,0,0,0,0,0,0,0,0,0,0,0,0,0,0,0,0,0,0,0,0,0,0,0,0,0,0,0,0,0,0,0,0,0,0,0,0,0,0,0,0,0,0,0,0,0,0,0,0,0,0,0,0,0,0,0,0,0,0,0,0,0,0,0,0,0,0,0,0,0,0,0,0,0,0,0,0,0,0,0,0,0,0,0,0,0,0,0,0,0,0,0,0,0,0,0,0,0,0,0,0,0,0,0,0,0,0,0,0,0,0,0,0,0,0,0,0,0,0,0,0,0,0,0,0,0,0,0,0,0,0,0,0,0,0,0,0,0,0,0,0,0,0,0,0,0,0,0,0,0,0,0,0,0,0,0,0,0,0,0,0,0,0,0,0,0,0,0,0,0,0,0,0,0,0],\"fOption\":\"\",\"fFunctions\":{\"_typename\":\"TList\",\"name\":\"TList\",\"arr\":[{\"_typename\":\"TPaletteAxis\",\"fUniqueID\":0,\"fBits\":0,\"fLineColor\":1,\"fLineStyle\":1,\"fLineWidth\":1,\"fFillColor\":1178,\"fFillStyle\":1001,\"fX1\":16.6000000014901,\"fY1\":0.5,\"fX2\":17.5000000149012,\"fY2\":16.5,\"fX1NDC\":0.904999994039535,\"fY1NDC\":0.100000005960465,\"fX2NDC\":0.949999994039535,\"fY2NDC\":0.899999994039535,\"fBorderSize\":4,\"fInit\":1,\"fShadowColor\":1,\"fCornerRadius\":0,\"fOption\":\"br\",\"fName\":\"TPave\",\"fAxis\":{\"_typename\":\"TGaxis\",\"fUniqueID\":0,\"fBits\":0,\"fLineColor\":1,\"fLineStyle\":1,\"fLineWidth\":1,\"fX1\":0,\"fY1\":0,\"fX2\":0,\"fY2\":0,\"fTextAngle\":0,\"fTextSize\":0.04,\"fTextAlign\":11,\"fTextColor\":1,\"fTextFont\":42,\"fWmin\":0,\"fWmax\":0,\"fGridLength\":0,\"fTickSize\":0.03,\"fLabelOffset\":0.005,\"fLabelSize\":0.035,\"fTitleOffset\":1,\"fTitleSize\":0.035,\"fNdiv\":0,\"fLabelColor\":1,\"fLabelFont\":42,\"fNModLabs\":0,\"fChopt\":\"\",\"fName\":\"\",\"fTitle\":\"\",\"fTimeFormat\":\"\",\"fFunctionName\":\"\",\"fModLabs\":null},\"fName\":\"palette\"}],\"opt\":[\"br\"]},\"fBufferSize\":0,\"fBuffer\":[],\"fBinStatErrOpt\":0,\"fStatOverflows\":2,\"fScalefactor\":1,\"fTsumwy\":0,\"fTsumwy2\":0,\"fTsumwxy\":0,\"fArray\":[0,0,0,0,0,0,0,0,0,0,0,0,0,0,0,0,0,0,0,0,0,0,0,0,0,0,0,0,0,0,0,0,0,0,0,0,0,0,0,0,0,0,0,0,0,0,0,0,0,0,0,0,0,0,0,0,0,0,0,0,0,0,0,0,0,0,0,0,0,0,0,0,0,0,0,0,0,0,0,0,0,0,0,0,0,0,0,0,0,0,0,0,0,0,0,0,0,0,0,0,0,0,0,0,0,0,0,0,0,0,0,0,0,0,8832934.47437451,8799500.27373652,1694624.28773642,0,8470565.25184366,8599709.06124251,1666121.39228602,0,-17256511.5037889,-17242825.820034,-3378593.10587717,0,0,0,0,0,0,0,8799500.27373652,8813667.34006203,1691958.68820312,0,8459973.9508951,8587202.36052025,1663389.5600593,0,-17235425.5091053,-17221326.1524523,-3373980.11788421,0,0,0,0,0,0,0,1694624.28773642,1691958.68820312,331017.390090089,0,1628027.81103018,1652384.68864413,319644.975555213,0,-3317872.18325114,-3314917.64917355,-649217.755391894,0,0,0,0,0,0,0,0,0,0,0,0,0,0,0,0,0,0,0,0,0,0,0,0,0,8470565.25184366,8459973.9508951,1628027.81103018,0,8235929.75123576,8353051.73422224,1634614.03013386,0,-16661144.0705538,-16662542.9249062,-3279763.17906222,0,0,0,0,0,0,0,8599709.06124251,8587202.36052025,1652384.68864413,0,8353051.73422224,8524284.96112558,1666514.09706848,0,-16929472.0039957,-16936106.7027336,-3337042.38422011,0,0,0,0,0,0,0,1666121.39228602,1663389.5600593,319644.975555213,0,1634614.03013386,1666514.09706848,336008.563863239,0,-3296117.17968769,-3300899.91291011,-654122.907134159,0,0,0,0,0,0,0,0,0,0,0,0,0,0,0,0,0,0,0,0,0,0,0,0,0,-17256511.5037889,-17235425.5091053,-3317872.18325114,0,-16661144.0705538,-16929472.0039957,-3296117.17968769,0,33873653.2626369,33856949.7315153,6648934.24835155,0,0,0,0,0,0,0,-17242825.820034,-17221326.1524523,-3314917.64917355,0,-16662542.9249062,-16936106.7027336,-3300899.91291011,0,33856949.7315153,33854165.9079475,6650635.98919816,0,0,0,0,0,0,0,-3378593.10587717,-3373980.11788421,-649217.755391894,0,-3279763.17906222,-3337042.38422011,-654122.907134159,0,6648934.24835155,6650635.98919816,1311026.32067409,0,0,0,0,0,0,0,0,0,0,0,0,0,0,0,0,0,0,0]},{\"_typename\":\"TPaveText\",\"fUniqueID\":0,\"fBits\":9,\"fLineColor\":1,\"fLineStyle\":1,\"fLineWidth\":1,\"fFillColor\":0,\"fFillStyle\":0,\"fX1\":4.10536906203167,\"fY1\":17.3000002101064,\"fX2\":12.8946309379683,\"fY2\":18.4000002428889,\"fX1NDC\":0.280268456375839,\"fY1NDC\":0.940000003948808,\"fX2NDC\":0.719731543624161,\"fY2NDC\":0.995000004768372,\"fBorderSize\":0,\"fInit\":1,\"fShadowColor\":1,\"fCornerRadius\":0,\"fOption\":\"blNDC\",\"fName\":\"title\",\"fTextAngle\":0,\"fTextSize\":0,\"fTextAlign\":22,\"fTextColor\":1,\"fTextFont\":42,\"fLabel\":\"\",\"fLongest\":17,\"fMargin\":0.05,\"fLines\":{\"_typename\":\"TList\",\"name\":\"TList\",\"arr\":[{\"_typename\":\"TLatex\",\"fUniqueID\":0,\"fBits\":0,\"fName\":\"\",\"fTitle\":\"Covariance Matrix\",\"fTextAngle\":0,\"fTextSize\":0,\"fTextAlign\":0,\"fTextColor\":0,\"fTextFont\":0,\"fX\":0,\"fY\":0,\"fLineColor\":1,\"fLineStyle\":1,\"fLineWidth\":2,\"fLimitFactorSize\":3,\"fOriginSize\":0.0467500016093254}],\"opt\":[\"\"]}}],\"opt\":[\"\",\"colz\",\"blNDC\"]},\"fExecs\":null,\"fName\":\"cr2\",\"fTitle\":\"\",\"fNumPaletteColor\":0,\"fNextPaletteColor\":0,\"fDISPLAY\":\"$DISPLAY\",\"fDoubleBuffer\":0,\"fRetained\":true,\"fXsizeUser\":0,\"fYsizeUser\":0,\"fXsizeReal\":20,\"fYsizeReal\":20,\"fWindowTopX\":0,\"fWindowTopY\":0,\"fWindowWidth\":0,\"fWindowHeight\":0,\"fCw\":596,\"fCh\":572,\"fCatt\":{\"_typename\":\"TAttCanvas\",\"fXBetween\":2,\"fYBetween\":2,\"fTitleFromTop\":1.2,\"fXdate\":0.2,\"fYdate\":0.3,\"fAdate\":1},\"kMoveOpaque\":true,\"kResizeOpaque\":true,\"fHighLightColor\":2,\"fBatch\":true,\"kShowEventStatus\":false,\"kAutoExec\":true,\"kMenuBar\":true});\n",
       "            Core.draw(\"root_plot_1592339193128\", obj, \"\");\n",
       "        }\n",
       "    );\n",
       "}\n",
       "</script>\n"
      ],
      "text/plain": [
       "<IPython.core.display.HTML object>"
      ]
     },
     "metadata": {},
     "output_type": "display_data"
    }
   ],
   "source": [
    "# Get various covariances\n",
    "cov = u.GetEmatrixTotal(\"cov\", \"Covariance Matrix\")\n",
    "print(cov.GetNbinsX())\n",
    "cov.Draw(\"colz\")\n",
    "ROOT.gPad.Draw()\n",
    "#cov = u.GetEmatrixTotal(\"ematrix\",\"Covariance Matrix\", \"signal\", \"*[]\", False)"
   ]
  },
  {
   "cell_type": "code",
   "execution_count": 33,
   "metadata": {},
   "outputs": [],
   "source": [
    "cov_uncorr = u.GetEmatrixSysUncorr(\"cov_uncorr\", \"Covariance Matrix from Uncorrelated Uncertainties\")\n",
    "cov_uncorr_data = u.GetEmatrixInput(\"cov_uncorr_data\", \"Covariance Matrix from Stat Uncertainties of Input Data\")\n",
    "\n",
    "\n",
    "#cov_uncorr = u.GetEmatrixSysUncorr(\"cov_uncorr\", \"Covariance Matrix from Uncorrelated Uncertainties\", \"signal\", \"*[]\", False)\n",
    "#cov_uncorr_data = u.GetEmatrixInput(\"cov_uncorr_data\", \"Covariance Matrix from Stat Uncertainties of Input Data\", \"signal\", \"*[]\", False)"
   ]
  },
  {
   "cell_type": "code",
   "execution_count": 34,
   "metadata": {},
   "outputs": [],
   "source": [
    "\n",
    "# Now prepare various distributions. \n",
    "o_unfunc = o.Clone(\"o_unc\")        # Unfolding and stat unc\n",
    "o_sys = o.Clone(\"o_sys\")        # Syst uncertainty\n",
    "o_unctot = o.Clone(\"o_unctot\")  # Total uncertainty\n",
    "o_sys.SetLineStyle(2)\n"
   ]
  },
  {
   "cell_type": "code",
   "execution_count": 35,
   "metadata": {},
   "outputs": [],
   "source": [
    "\n",
    "# Create total uncertainty and sys uncertainty plots. \n",
    "# Also fix the uncertainties on the output\n",
    "o_origErrors = o.Clone(\"o_origErrors\")\n",
    "o_origJustErrors = o.Clone(\"o_origErrors\")\n",
    "\n",
    "for i in range( 0, o_up.GetNbinsX() + 1):\n",
    "    unc_tot = ROOT.TMath.Sqrt( cov.GetBinContent(i,i) )\n",
    "    o_unctot.SetBinContent(i, unc_tot )   \n",
    "    oe = o.GetBinError(i)\n",
    "    o_origJustErrors.SetBinContent(i, oe)    \n",
    "    o.SetBinError(i, unc_tot )\n",
    "    \n",
    "    yup = abs( o_up.GetBinContent(i))\n",
    "    ydn = abs( o_dn.GetBinContent(i))\n",
    "    dy = ROOT.TMath.Sqrt( (yup**2 + ydn**2) )\n",
    "    o_sys.SetBinContent(i, dy )\n",
    "\n",
    "\n",
    "\n",
    "\n"
   ]
  },
  {
   "cell_type": "code",
   "execution_count": 36,
   "metadata": {},
   "outputs": [],
   "source": [
    "#htrue2 = htrue.Clone(\"h2\")\n",
    "#htrue2.Rebin(finebins/coarsebins)\n",
    "o.SetMarkerStyle(20)\n",
    "o.SetMarkerColor(1)\n",
    "o_origErrors.SetMarkerStyle(21)\n",
    "o_origErrors.SetMarkerColor(3)\n",
    "o_unfunc.SetMarkerStyle(0)\n",
    "o_unfunc.SetLineColor(2)\n",
    "htrue.SetMarkerStyle(21)\n",
    "htrue.SetMarkerColor(4)\n",
    "htrue.SetMarkerStyle(4)\n",
    "htrue.SetLineColor(4)\n",
    "\n"
   ]
  },
  {
   "cell_type": "code",
   "execution_count": 37,
   "metadata": {
    "scrolled": false
   },
   "outputs": [
    {
     "name": "stdout",
     "output_type": "stream",
     "text": [
      "16\n"
     ]
    },
    {
     "data": {
      "text/html": [
       "\n",
       "<div id=\"root_plot_1592339193368\"\n",
       "     style=\"width: 696px; height: 472px\">\n",
       "</div>\n",
       "<script>\n",
       "if (typeof require !== 'undefined') {\n",
       "\n",
       "    // All requirements met (we are in jupyter notebooks or we loaded requirejs before).\n",
       "    display_root_plot_1592339193368();\n",
       "\n",
       "} else {\n",
       "\n",
       "    // We are in jupyterlab, we need to insert requirejs and configure it.\n",
       "    // Jupyterlab might be installed in a different base_url so we need to know it.\n",
       "    try {\n",
       "        var base_url = JSON.parse(document.getElementById('jupyter-config-data').innerHTML).baseUrl;\n",
       "    } catch(_) {\n",
       "        var base_url = '/';\n",
       "    }\n",
       "\n",
       "    // Try loading a local version of requirejs and fallback to cdn if not possible.\n",
       "    requirejs_load(base_url + 'static/components/requirejs/require.js', requirejs_success(base_url), function(){\n",
       "        requirejs_load('https://cdnjs.cloudflare.com/ajax/libs/require.js/2.2.0/require.min.js', requirejs_success(base_url), function(){\n",
       "            document.getElementById(\"root_plot_1592339193368\").innerHTML = \"Failed to load requireJs\";\n",
       "        });\n",
       "    });\n",
       "}\n",
       "\n",
       "function requirejs_load(src, on_load, on_error) {\n",
       "    var script = document.createElement('script');\n",
       "    script.src = src;\n",
       "    script.onload = on_load;\n",
       "    script.onerror = on_error;\n",
       "    document.head.appendChild(script);\n",
       "}\n",
       "\n",
       "function requirejs_success(base_url) {\n",
       "    return function() {\n",
       "        require.config({\n",
       "            baseUrl: base_url + 'static/'\n",
       "        });\n",
       "        display_root_plot_1592339193368();\n",
       "    }\n",
       "}\n",
       "\n",
       "function display_root_plot_1592339193368() {\n",
       "    require(['scripts/JSRootCore'],\n",
       "        function(Core) {\n",
       "            var obj = Core.JSONR_unref({\"_typename\":\"TCanvas\",\"fUniqueID\":0,\"fBits\":3342344,\"fLineColor\":1,\"fLineStyle\":1,\"fLineWidth\":1,\"fFillColor\":0,\"fFillStyle\":1001,\"fLeftMargin\":0.1,\"fRightMargin\":0.1,\"fBottomMargin\":0.1,\"fTopMargin\":0.1,\"fXfile\":2,\"fYfile\":2,\"fAfile\":1,\"fXstat\":0.99,\"fYstat\":0.99,\"fAstat\":2,\"fFrameFillColor\":0,\"fFrameLineColor\":1,\"fFrameFillStyle\":1001,\"fFrameLineStyle\":1,\"fFrameLineWidth\":1,\"fFrameBorderSize\":1,\"fFrameBorderMode\":0,\"fX1\":-1.50000014901162,\"fY1\":-6529.063117219,\"fX2\":18.5000001490116,\"fY2\":28667.5037925833,\"fXtoAbsPixelk\":52.2000544077637,\"fXtoPixelk\":52.2000544077637,\"fXtoPixel\":34.7999994814396,\"fYtoAbsPixelk\":384.44270955754,\"fYtoPixelk\":384.44270955754,\"fYtoPixel\":-0.0134103988383181,\"fUtoAbsPixelk\":5e-5,\"fUtoPixelk\":5e-5,\"fUtoPixel\":696,\"fVtoAbsPixelk\":472.00005,\"fVtoPixelk\":472,\"fVtoPixel\":-472,\"fAbsPixeltoXk\":-1.50000014901162,\"fPixeltoXk\":-1.50000014901162,\"fPixeltoX\":0.0287356326121024,\"fAbsPixeltoYk\":28667.5037925833,\"fPixeltoYk\":-6529.063117219,\"fPixeltoY\":-74.5689976902592,\"fXlowNDC\":0,\"fYlowNDC\":0,\"fXUpNDC\":1,\"fYUpNDC\":1,\"fWNDC\":1,\"fHNDC\":1,\"fAbsXlowNDC\":0,\"fAbsYlowNDC\":0,\"fAbsWNDC\":1,\"fAbsHNDC\":1,\"fUxmin\":0.5,\"fUymin\":-3009.40621645087,\"fUxmax\":16.5,\"fUymax\":25147.8468918152,\"fTheta\":30,\"fPhi\":30,\"fAspectRatio\":0,\"fNumber\":0,\"fTickx\":0,\"fTicky\":0,\"fLogx\":0,\"fLogy\":0,\"fLogz\":0,\"fPadPaint\":0,\"fCrosshair\":0,\"fCrosshairPos\":0,\"fBorderSize\":2,\"fBorderMode\":0,\"fModified\":false,\"fGridx\":false,\"fGridy\":false,\"fAbsCoord\":false,\"fEditable\":true,\"fFixedAspectRatio\":false,\"fPrimitives\":{\"_typename\":\"TList\",\"name\":\"TList\",\"arr\":[{\"_typename\":\"TFrame\",\"fUniqueID\":0,\"fBits\":8,\"fLineColor\":1,\"fLineStyle\":1,\"fLineWidth\":1,\"fFillColor\":0,\"fFillStyle\":1001,\"fX1\":0.5,\"fY1\":-3009.40621645087,\"fX2\":16.5,\"fY2\":25147.8468918152,\"fBorderSize\":1,\"fBorderMode\":0},{\"_typename\":\"TH1D\",\"fUniqueID\":0,\"fBits\":520,\"fName\":\"o\",\"fTitle\":\"o\",\"fLineColor\":602,\"fLineStyle\":1,\"fLineWidth\":1,\"fFillColor\":0,\"fFillStyle\":1001,\"fMarkerColor\":1,\"fMarkerStyle\":20,\"fMarkerSize\":1,\"fNcells\":18,\"fXaxis\":{\"_typename\":\"TAxis\",\"fUniqueID\":0,\"fBits\":0,\"fName\":\"xaxis\",\"fTitle\":\"generator\",\"fNdivisions\":510,\"fAxisColor\":1,\"fLabelColor\":1,\"fLabelFont\":42,\"fLabelOffset\":0.005,\"fLabelSize\":0.035,\"fTickLength\":0.03,\"fTitleOffset\":1,\"fTitleSize\":0.035,\"fTitleColor\":1,\"fTitleFont\":42,\"fNbins\":16,\"fXmin\":0.5,\"fXmax\":16.5,\"fXbins\":[0.5,1.5,2.5,3.5,4.5,5.5,6.5,7.5,8.5,9.5,10.5,11.5,12.5,13.5,14.5,15.5,16.5],\"fFirst\":0,\"fLast\":0,\"fBits2\":0,\"fTimeDisplay\":false,\"fTimeFormat\":\"\",\"fLabels\":null,\"fModLabs\":null},\"fYaxis\":{\"_typename\":\"TAxis\",\"fUniqueID\":0,\"fBits\":0,\"fName\":\"yaxis\",\"fTitle\":\"\",\"fNdivisions\":510,\"fAxisColor\":1,\"fLabelColor\":1,\"fLabelFont\":42,\"fLabelOffset\":0.005,\"fLabelSize\":0.035,\"fTickLength\":0.03,\"fTitleOffset\":0,\"fTitleSize\":0.035,\"fTitleColor\":1,\"fTitleFont\":42,\"fNbins\":1,\"fXmin\":0,\"fXmax\":1,\"fXbins\":[],\"fFirst\":0,\"fLast\":0,\"fBits2\":0,\"fTimeDisplay\":false,\"fTimeFormat\":\"\",\"fLabels\":null,\"fModLabs\":null},\"fZaxis\":{\"_typename\":\"TAxis\",\"fUniqueID\":0,\"fBits\":0,\"fName\":\"zaxis\",\"fTitle\":\"\",\"fNdivisions\":510,\"fAxisColor\":1,\"fLabelColor\":1,\"fLabelFont\":42,\"fLabelOffset\":0.005,\"fLabelSize\":0.035,\"fTickLength\":0.03,\"fTitleOffset\":1,\"fTitleSize\":0.035,\"fTitleColor\":1,\"fTitleFont\":42,\"fNbins\":1,\"fXmin\":0,\"fXmax\":1,\"fXbins\":[],\"fFirst\":0,\"fLast\":0,\"fBits2\":0,\"fTimeDisplay\":false,\"fTimeFormat\":\"\",\"fLabels\":null,\"fModLabs\":null},\"fBarOffset\":0,\"fBarWidth\":1000,\"fEntries\":27,\"fTsumw\":0,\"fTsumw2\":0,\"fTsumwx\":0,\"fTsumwx2\":0,\"fMaximum\":-1111,\"fMinimum\":-1111,\"fNormFactor\":0,\"fContour\":[],\"fSumw2\":[0,0,0,0,0,0,8832934.47437451,8813667.34006203,331017.390090089,0,8235929.75123575,8524284.96112558,336008.563863239,0,33873653.2626368,33854165.9079475,1311026.32067409,0],\"fOption\":\"\",\"fFunctions\":{\"_typename\":\"TList\",\"name\":\"TList\",\"arr\":[],\"opt\":[]},\"fBufferSize\":0,\"fBuffer\":[],\"fBinStatErrOpt\":0,\"fStatOverflows\":2,\"fArray\":[0,0,0,0,0,0,20835,20824,4034,0,20707,20467,4143,0,4140,4086,764,0]},{\"_typename\":\"TH1D\",\"fUniqueID\":0,\"fBits\":520,\"fName\":\"o_origErrors\",\"fTitle\":\"o\",\"fLineColor\":602,\"fLineStyle\":1,\"fLineWidth\":1,\"fFillColor\":0,\"fFillStyle\":1001,\"fMarkerColor\":3,\"fMarkerStyle\":21,\"fMarkerSize\":1,\"fNcells\":18,\"fXaxis\":{\"_typename\":\"TAxis\",\"fUniqueID\":0,\"fBits\":0,\"fName\":\"xaxis\",\"fTitle\":\"generator\",\"fNdivisions\":510,\"fAxisColor\":1,\"fLabelColor\":1,\"fLabelFont\":42,\"fLabelOffset\":0.005,\"fLabelSize\":0.035,\"fTickLength\":0.03,\"fTitleOffset\":1,\"fTitleSize\":0.035,\"fTitleColor\":1,\"fTitleFont\":42,\"fNbins\":16,\"fXmin\":0.5,\"fXmax\":16.5,\"fXbins\":[0.5,1.5,2.5,3.5,4.5,5.5,6.5,7.5,8.5,9.5,10.5,11.5,12.5,13.5,14.5,15.5,16.5],\"fFirst\":0,\"fLast\":0,\"fBits2\":0,\"fTimeDisplay\":false,\"fTimeFormat\":\"\",\"fLabels\":null,\"fModLabs\":null},\"fYaxis\":{\"_typename\":\"TAxis\",\"fUniqueID\":0,\"fBits\":0,\"fName\":\"yaxis\",\"fTitle\":\"\",\"fNdivisions\":510,\"fAxisColor\":1,\"fLabelColor\":1,\"fLabelFont\":42,\"fLabelOffset\":0.005,\"fLabelSize\":0.035,\"fTickLength\":0.03,\"fTitleOffset\":0,\"fTitleSize\":0.035,\"fTitleColor\":1,\"fTitleFont\":42,\"fNbins\":1,\"fXmin\":0,\"fXmax\":1,\"fXbins\":[],\"fFirst\":0,\"fLast\":0,\"fBits2\":0,\"fTimeDisplay\":false,\"fTimeFormat\":\"\",\"fLabels\":null,\"fModLabs\":null},\"fZaxis\":{\"_typename\":\"TAxis\",\"fUniqueID\":0,\"fBits\":0,\"fName\":\"zaxis\",\"fTitle\":\"\",\"fNdivisions\":510,\"fAxisColor\":1,\"fLabelColor\":1,\"fLabelFont\":42,\"fLabelOffset\":0.005,\"fLabelSize\":0.035,\"fTickLength\":0.03,\"fTitleOffset\":1,\"fTitleSize\":0.035,\"fTitleColor\":1,\"fTitleFont\":42,\"fNbins\":1,\"fXmin\":0,\"fXmax\":1,\"fXbins\":[],\"fFirst\":0,\"fLast\":0,\"fBits2\":0,\"fTimeDisplay\":false,\"fTimeFormat\":\"\",\"fLabels\":null,\"fModLabs\":null},\"fBarOffset\":0,\"fBarWidth\":1000,\"fEntries\":27,\"fTsumw\":0,\"fTsumw2\":0,\"fTsumwx\":0,\"fTsumwx2\":0,\"fMaximum\":-1111,\"fMinimum\":-1111,\"fNormFactor\":0,\"fContour\":[],\"fSumw2\":[0,0,0,0,0,0,21860.8954151223,22028.806436599,4531.74082789449,0,21895.2062918963,21861.4351329784,4667.31051334766,0,4596.48779377638,4573.38290763684,884.564442452673,0],\"fOption\":\"\",\"fFunctions\":{\"_typename\":\"TList\",\"name\":\"TList\",\"arr\":[],\"opt\":[]},\"fBufferSize\":0,\"fBuffer\":[],\"fBinStatErrOpt\":0,\"fStatOverflows\":2,\"fArray\":[0,0,0,0,0,0,20835,20824,4034,0,20707,20467,4143,0,4140,4086,764,0]},{\"_typename\":\"TH1D\",\"fUniqueID\":0,\"fBits\":520,\"fName\":\"o_unc\",\"fTitle\":\"o\",\"fLineColor\":2,\"fLineStyle\":1,\"fLineWidth\":1,\"fFillColor\":0,\"fFillStyle\":1001,\"fMarkerColor\":1,\"fMarkerStyle\":0,\"fMarkerSize\":1,\"fNcells\":18,\"fXaxis\":{\"_typename\":\"TAxis\",\"fUniqueID\":0,\"fBits\":0,\"fName\":\"xaxis\",\"fTitle\":\"generator\",\"fNdivisions\":510,\"fAxisColor\":1,\"fLabelColor\":1,\"fLabelFont\":42,\"fLabelOffset\":0.005,\"fLabelSize\":0.035,\"fTickLength\":0.03,\"fTitleOffset\":1,\"fTitleSize\":0.035,\"fTitleColor\":1,\"fTitleFont\":42,\"fNbins\":16,\"fXmin\":0.5,\"fXmax\":16.5,\"fXbins\":[0.5,1.5,2.5,3.5,4.5,5.5,6.5,7.5,8.5,9.5,10.5,11.5,12.5,13.5,14.5,15.5,16.5],\"fFirst\":0,\"fLast\":0,\"fBits2\":0,\"fTimeDisplay\":false,\"fTimeFormat\":\"\",\"fLabels\":null,\"fModLabs\":null},\"fYaxis\":{\"_typename\":\"TAxis\",\"fUniqueID\":0,\"fBits\":0,\"fName\":\"yaxis\",\"fTitle\":\"\",\"fNdivisions\":510,\"fAxisColor\":1,\"fLabelColor\":1,\"fLabelFont\":42,\"fLabelOffset\":0.005,\"fLabelSize\":0.035,\"fTickLength\":0.03,\"fTitleOffset\":0,\"fTitleSize\":0.035,\"fTitleColor\":1,\"fTitleFont\":42,\"fNbins\":1,\"fXmin\":0,\"fXmax\":1,\"fXbins\":[],\"fFirst\":0,\"fLast\":0,\"fBits2\":0,\"fTimeDisplay\":false,\"fTimeFormat\":\"\",\"fLabels\":null,\"fModLabs\":null},\"fZaxis\":{\"_typename\":\"TAxis\",\"fUniqueID\":0,\"fBits\":0,\"fName\":\"zaxis\",\"fTitle\":\"\",\"fNdivisions\":510,\"fAxisColor\":1,\"fLabelColor\":1,\"fLabelFont\":42,\"fLabelOffset\":0.005,\"fLabelSize\":0.035,\"fTickLength\":0.03,\"fTitleOffset\":1,\"fTitleSize\":0.035,\"fTitleColor\":1,\"fTitleFont\":42,\"fNbins\":1,\"fXmin\":0,\"fXmax\":1,\"fXbins\":[],\"fFirst\":0,\"fLast\":0,\"fBits2\":0,\"fTimeDisplay\":false,\"fTimeFormat\":\"\",\"fLabels\":null,\"fModLabs\":null},\"fBarOffset\":0,\"fBarWidth\":1000,\"fEntries\":27,\"fTsumw\":0,\"fTsumw2\":0,\"fTsumwx\":0,\"fTsumwx2\":0,\"fMaximum\":-1111,\"fMinimum\":-1111,\"fNormFactor\":0,\"fContour\":[],\"fSumw2\":[0,0,0,0,0,0,21860.8954151223,22028.806436599,4531.74082789449,0,21895.2062918963,21861.4351329784,4667.31051334766,0,4596.48779377638,4573.38290763684,884.564442452673,0],\"fOption\":\"\",\"fFunctions\":{\"_typename\":\"TList\",\"name\":\"TList\",\"arr\":[],\"opt\":[]},\"fBufferSize\":0,\"fBuffer\":[],\"fBinStatErrOpt\":0,\"fStatOverflows\":2,\"fArray\":[0,0,0,0,0,0,20835,20824,4034,0,20707,20467,4143,0,4140,4086,764,0]},{\"_typename\":\"TH1D\",\"fUniqueID\":0,\"fBits\":520,\"fName\":\"htrue\",\"fTitle\":\"htrue\",\"fLineColor\":4,\"fLineStyle\":1,\"fLineWidth\":1,\"fFillColor\":0,\"fFillStyle\":1001,\"fMarkerColor\":4,\"fMarkerStyle\":4,\"fMarkerSize\":1,\"fNcells\":18,\"fXaxis\":{\"_typename\":\"TAxis\",\"fUniqueID\":0,\"fBits\":0,\"fName\":\"xaxis\",\"fTitle\":\"generator\",\"fNdivisions\":510,\"fAxisColor\":1,\"fLabelColor\":1,\"fLabelFont\":42,\"fLabelOffset\":0.005,\"fLabelSize\":0.035,\"fTickLength\":0.03,\"fTitleOffset\":1,\"fTitleSize\":0.035,\"fTitleColor\":1,\"fTitleFont\":42,\"fNbins\":16,\"fXmin\":0.5,\"fXmax\":16.5,\"fXbins\":[],\"fFirst\":0,\"fLast\":0,\"fBits2\":0,\"fTimeDisplay\":false,\"fTimeFormat\":\"\",\"fLabels\":null,\"fModLabs\":null},\"fYaxis\":{\"_typename\":\"TAxis\",\"fUniqueID\":0,\"fBits\":0,\"fName\":\"yaxis\",\"fTitle\":\"\",\"fNdivisions\":510,\"fAxisColor\":1,\"fLabelColor\":1,\"fLabelFont\":42,\"fLabelOffset\":0.005,\"fLabelSize\":0.035,\"fTickLength\":0.03,\"fTitleOffset\":0,\"fTitleSize\":0.035,\"fTitleColor\":1,\"fTitleFont\":42,\"fNbins\":1,\"fXmin\":0,\"fXmax\":1,\"fXbins\":[],\"fFirst\":0,\"fLast\":0,\"fBits2\":0,\"fTimeDisplay\":false,\"fTimeFormat\":\"\",\"fLabels\":null,\"fModLabs\":null},\"fZaxis\":{\"_typename\":\"TAxis\",\"fUniqueID\":0,\"fBits\":0,\"fName\":\"zaxis\",\"fTitle\":\"\",\"fNdivisions\":510,\"fAxisColor\":1,\"fLabelColor\":1,\"fLabelFont\":42,\"fLabelOffset\":0.005,\"fLabelSize\":0.035,\"fTickLength\":0.03,\"fTitleOffset\":1,\"fTitleSize\":0.035,\"fTitleColor\":1,\"fTitleFont\":42,\"fNbins\":1,\"fXmin\":0,\"fXmax\":1,\"fXbins\":[],\"fFirst\":0,\"fLast\":0,\"fBits2\":0,\"fTimeDisplay\":false,\"fTimeFormat\":\"\",\"fLabels\":null,\"fModLabs\":null},\"fBarOffset\":0,\"fBarWidth\":1000,\"fEntries\":100000,\"fTsumw\":100000,\"fTsumw2\":100000,\"fTsumwx\":916447,\"fTsumwx2\":9098785,\"fMaximum\":-1111,\"fMinimum\":-1111,\"fNormFactor\":0,\"fContour\":[],\"fSumw2\":[],\"fOption\":\"\",\"fFunctions\":{\"_typename\":\"TList\",\"name\":\"TList\",\"arr\":[],\"opt\":[]},\"fBufferSize\":0,\"fBuffer\":[],\"fBinStatErrOpt\":0,\"fStatOverflows\":2,\"fArray\":[0,0,0,0,0,0,20835,20824,4034,0,20707,20467,4143,0,4140,4086,764,0]},{\"_typename\":\"TLegend\",\"fUniqueID\":0,\"fBits\":8,\"fLineColor\":1,\"fLineStyle\":1,\"fLineWidth\":1,\"fFillColor\":0,\"fFillStyle\":1001,\"fX1\":12.5000000596046,\"fY1\":18108.5337196426,\"fX2\":15.7000001072884,\"fY2\":23739.984425211,\"fX1NDC\":0.7,\"fY1NDC\":0.7,\"fX2NDC\":0.86,\"fY2NDC\":0.86,\"fBorderSize\":0,\"fInit\":1,\"fShadowColor\":1,\"fCornerRadius\":0,\"fOption\":\"brNDC\",\"fName\":\"TPave\",\"fTextAngle\":0,\"fTextSize\":0,\"fTextAlign\":12,\"fTextColor\":1,\"fTextFont\":42,\"fPrimitives\":{\"_typename\":\"TList\",\"name\":\"TList\",\"arr\":[{\"_typename\":\"TLegendEntry\",\"fUniqueID\":0,\"fBits\":8,\"fTextAngle\":0,\"fTextSize\":0,\"fTextAlign\":0,\"fTextColor\":0,\"fTextFont\":42,\"fLineColor\":1,\"fLineStyle\":1,\"fLineWidth\":1,\"fFillColor\":0,\"fFillStyle\":0,\"fMarkerColor\":1,\"fMarkerStyle\":20,\"fMarkerSize\":1,\"fObject\":{\"$ref\":3},\"fLabel\":\"Unfolded, total unc\",\"fOption\":\"p\"},{\"_typename\":\"TLegendEntry\",\"fUniqueID\":0,\"fBits\":8,\"fTextAngle\":0,\"fTextSize\":0,\"fTextAlign\":0,\"fTextColor\":0,\"fTextFont\":42,\"fLineColor\":1,\"fLineStyle\":1,\"fLineWidth\":1,\"fFillColor\":0,\"fFillStyle\":0,\"fMarkerColor\":3,\"fMarkerStyle\":21,\"fMarkerSize\":1,\"fObject\":{\"$ref\":8},\"fLabel\":\"Unfolded, unf unc\",\"fOption\":\"p\"},{\"_typename\":\"TLegendEntry\",\"fUniqueID\":0,\"fBits\":8,\"fTextAngle\":0,\"fTextSize\":0,\"fTextAlign\":0,\"fTextColor\":0,\"fTextFont\":42,\"fLineColor\":2,\"fLineStyle\":1,\"fLineWidth\":1,\"fFillColor\":0,\"fFillStyle\":0,\"fMarkerColor\":1,\"fMarkerStyle\":21,\"fMarkerSize\":1,\"fObject\":{\"$ref\":13},\"fLabel\":\"stat+unfolding unc\",\"fOption\":\"l\"},{\"_typename\":\"TLegendEntry\",\"fUniqueID\":0,\"fBits\":8,\"fTextAngle\":0,\"fTextSize\":0,\"fTextAlign\":0,\"fTextColor\":0,\"fTextFont\":42,\"fLineColor\":1,\"fLineStyle\":1,\"fLineWidth\":1,\"fFillColor\":0,\"fFillStyle\":0,\"fMarkerColor\":4,\"fMarkerStyle\":4,\"fMarkerSize\":1,\"fObject\":{\"$ref\":18},\"fLabel\":\"True\",\"fOption\":\"p\"}],\"opt\":[\"p\",\"p\",\"l\",\"p\"]},\"fEntrySeparation\":0.1,\"fMargin\":0.25,\"fNColumns\":1,\"fColumnSeparation\":0},{\"_typename\":\"TPaveText\",\"fUniqueID\":0,\"fBits\":9,\"fLineColor\":1,\"fLineStyle\":1,\"fLineWidth\":1,\"fFillColor\":0,\"fFillStyle\":0,\"fX1\":8.09885056873505,\"fY1\":26555.7099169797,\"fX2\":8.90114943126495,\"fY2\":28491.5211258646,\"fX1NDC\":0.479942528735632,\"fY1NDC\":0.940000003948808,\"fX2NDC\":0.520057471264368,\"fY2NDC\":0.995000004768372,\"fBorderSize\":0,\"fInit\":1,\"fShadowColor\":1,\"fCornerRadius\":0,\"fOption\":\"blNDC\",\"fName\":\"title\",\"fTextAngle\":0,\"fTextSize\":0,\"fTextAlign\":22,\"fTextColor\":1,\"fTextFont\":42,\"fLabel\":\"\",\"fLongest\":1,\"fMargin\":0.05,\"fLines\":{\"_typename\":\"TList\",\"name\":\"TList\",\"arr\":[{\"_typename\":\"TLatex\",\"fUniqueID\":0,\"fBits\":0,\"fName\":\"\",\"fTitle\":\"o\",\"fTextAngle\":0,\"fTextSize\":0,\"fTextAlign\":0,\"fTextColor\":0,\"fTextFont\":0,\"fX\":0,\"fY\":0,\"fLineColor\":1,\"fLineStyle\":1,\"fLineWidth\":2,\"fLimitFactorSize\":3,\"fOriginSize\":0.0467500016093254}],\"opt\":[\"\"]}}],\"opt\":[\"\",\"\",\"e same\",\"e same\",\"e same\",\"\",\"blNDC\"]},\"fExecs\":null,\"fName\":\"c\",\"fTitle\":\"c\",\"fNumPaletteColor\":0,\"fNextPaletteColor\":0,\"fDISPLAY\":\"$DISPLAY\",\"fDoubleBuffer\":0,\"fRetained\":true,\"fXsizeUser\":0,\"fYsizeUser\":0,\"fXsizeReal\":20,\"fYsizeReal\":14.28571,\"fWindowTopX\":0,\"fWindowTopY\":0,\"fWindowWidth\":0,\"fWindowHeight\":0,\"fCw\":696,\"fCh\":472,\"fCatt\":{\"_typename\":\"TAttCanvas\",\"fXBetween\":2,\"fYBetween\":2,\"fTitleFromTop\":1.2,\"fXdate\":0.2,\"fYdate\":0.3,\"fAdate\":1},\"kMoveOpaque\":true,\"kResizeOpaque\":true,\"fHighLightColor\":2,\"fBatch\":true,\"kShowEventStatus\":false,\"kAutoExec\":true,\"kMenuBar\":true});\n",
       "            Core.draw(\"root_plot_1592339193368\", obj, \"\");\n",
       "        }\n",
       "    );\n",
       "}\n",
       "</script>\n"
      ],
      "text/plain": [
       "<IPython.core.display.HTML object>"
      ]
     },
     "metadata": {},
     "output_type": "display_data"
    }
   ],
   "source": [
    "c = ROOT.TCanvas(\"c\",\"c\")\n",
    "#o.SetMinimum(0.0)\n",
    "#o.SetMaximum(1.0)\n",
    "\n",
    "o.Draw()\n",
    "print (o.GetNbinsX())\n",
    "o_origErrors.Draw(\"e same\")\n",
    "o_unfunc.Draw(\"e same\")\n",
    "htrue.Draw(\"e same\")\n",
    "leg2 = ROOT.TLegend(0.7, 0.7, 0.86, 0.86)\n",
    "leg2.SetBorderSize(0)\n",
    "leg2.SetFillColor(0)\n",
    "leg2.AddEntry( o, \"Unfolded, total unc\",'p')\n",
    "leg2.AddEntry( o_origErrors, \"Unfolded, unf unc\",'p')\n",
    "\n",
    "leg2.AddEntry( o_unfunc, \"stat+unfolding unc\",'l')\n",
    "leg2.AddEntry( htrue, \"True\",'p')\n",
    "leg2.Draw()\n",
    "c.Draw()"
   ]
  },
  {
   "cell_type": "markdown",
   "metadata": {},
   "source": [
    "# Normalized cross section"
   ]
  },
  {
   "cell_type": "markdown",
   "metadata": {},
   "source": [
    "#### Make Jacobian matrix"
   ]
  },
  {
   "cell_type": "code",
   "execution_count": 38,
   "metadata": {},
   "outputs": [
    {
     "name": "stdout",
     "output_type": "stream",
     "text": [
      "16\n"
     ]
    }
   ],
   "source": [
    "print (o.GetNbinsX())"
   ]
  },
  {
   "cell_type": "code",
   "execution_count": 39,
   "metadata": {},
   "outputs": [],
   "source": [
    "J = ROOT.TMatrixD( o.GetNbinsX()+1, o.GetNbinsX()+1 )\n",
    "ROOT.makeJacobian2Dfrom1D(nmbinsGen+2, nptbinsGen+2, o, J)"
   ]
  },
  {
   "cell_type": "code",
   "execution_count": 40,
   "metadata": {},
   "outputs": [
    {
     "data": {
      "text/html": [
       "\n",
       "<div id=\"root_plot_1592339193486\"\n",
       "     style=\"width: 696px; height: 472px\">\n",
       "</div>\n",
       "<script>\n",
       "if (typeof require !== 'undefined') {\n",
       "\n",
       "    // All requirements met (we are in jupyter notebooks or we loaded requirejs before).\n",
       "    display_root_plot_1592339193486();\n",
       "\n",
       "} else {\n",
       "\n",
       "    // We are in jupyterlab, we need to insert requirejs and configure it.\n",
       "    // Jupyterlab might be installed in a different base_url so we need to know it.\n",
       "    try {\n",
       "        var base_url = JSON.parse(document.getElementById('jupyter-config-data').innerHTML).baseUrl;\n",
       "    } catch(_) {\n",
       "        var base_url = '/';\n",
       "    }\n",
       "\n",
       "    // Try loading a local version of requirejs and fallback to cdn if not possible.\n",
       "    requirejs_load(base_url + 'static/components/requirejs/require.js', requirejs_success(base_url), function(){\n",
       "        requirejs_load('https://cdnjs.cloudflare.com/ajax/libs/require.js/2.2.0/require.min.js', requirejs_success(base_url), function(){\n",
       "            document.getElementById(\"root_plot_1592339193486\").innerHTML = \"Failed to load requireJs\";\n",
       "        });\n",
       "    });\n",
       "}\n",
       "\n",
       "function requirejs_load(src, on_load, on_error) {\n",
       "    var script = document.createElement('script');\n",
       "    script.src = src;\n",
       "    script.onload = on_load;\n",
       "    script.onerror = on_error;\n",
       "    document.head.appendChild(script);\n",
       "}\n",
       "\n",
       "function requirejs_success(base_url) {\n",
       "    return function() {\n",
       "        require.config({\n",
       "            baseUrl: base_url + 'static/'\n",
       "        });\n",
       "        display_root_plot_1592339193486();\n",
       "    }\n",
       "}\n",
       "\n",
       "function display_root_plot_1592339193486() {\n",
       "    require(['scripts/JSRootCore'],\n",
       "        function(Core) {\n",
       "            var obj = Core.JSONR_unref({\"_typename\":\"TCanvas\",\"fUniqueID\":0,\"fBits\":3342344,\"fLineColor\":1,\"fLineStyle\":1,\"fLineWidth\":1,\"fFillColor\":0,\"fFillStyle\":1001,\"fLeftMargin\":0.1,\"fRightMargin\":0.1,\"fBottomMargin\":0.1,\"fTopMargin\":0.1,\"fXfile\":2,\"fYfile\":2,\"fAfile\":1,\"fXstat\":0.99,\"fYstat\":0.99,\"fAstat\":2,\"fFrameFillColor\":0,\"fFrameLineColor\":1,\"fFrameFillStyle\":1001,\"fFrameLineStyle\":1,\"fFrameLineWidth\":1,\"fFrameBorderSize\":1,\"fFrameBorderMode\":0,\"fX1\":-2.12500015832485,\"fY1\":-2.12500015832485,\"fX2\":19.1250001583248,\"fY2\":19.1250001583248,\"fXtoAbsPixelk\":69.6000541484835,\"fXtoPixelk\":69.6000541484835,\"fXtoPixel\":32.7529406884137,\"fYtoAbsPixelk\":424.800047186661,\"fYtoPixelk\":424.800047186661,\"fYtoPixel\":-22.2117643749013,\"fUtoAbsPixelk\":5e-5,\"fUtoPixelk\":5e-5,\"fUtoPixel\":696,\"fVtoAbsPixelk\":472.00005,\"fVtoPixelk\":472,\"fVtoPixel\":-472,\"fAbsPixeltoXk\":-2.12500015832485,\"fPixeltoXk\":-2.12500015832485,\"fPixeltoX\":0.0305316096503588,\"fAbsPixeltoYk\":19.1250001583249,\"fPixeltoYk\":-2.12500015832485,\"fPixeltoY\":-0.045021187111546,\"fXlowNDC\":0,\"fYlowNDC\":0,\"fXUpNDC\":1,\"fYUpNDC\":1,\"fWNDC\":1,\"fHNDC\":1,\"fAbsXlowNDC\":0,\"fAbsYlowNDC\":0,\"fAbsWNDC\":1,\"fAbsHNDC\":1,\"fUxmin\":0,\"fUymin\":0,\"fUxmax\":17,\"fUymax\":17,\"fTheta\":30,\"fPhi\":30,\"fAspectRatio\":0,\"fNumber\":0,\"fTickx\":0,\"fTicky\":0,\"fLogx\":0,\"fLogy\":0,\"fLogz\":0,\"fPadPaint\":0,\"fCrosshair\":0,\"fCrosshairPos\":0,\"fBorderSize\":2,\"fBorderMode\":0,\"fModified\":false,\"fGridx\":false,\"fGridy\":false,\"fAbsCoord\":false,\"fEditable\":true,\"fFixedAspectRatio\":false,\"fPrimitives\":{\"_typename\":\"TList\",\"name\":\"TList\",\"arr\":[{\"_typename\":\"TFrame\",\"fUniqueID\":0,\"fBits\":8,\"fLineColor\":1,\"fLineStyle\":1,\"fLineWidth\":1,\"fFillColor\":0,\"fFillStyle\":1001,\"fX1\":0,\"fY1\":0,\"fX2\":17,\"fY2\":17,\"fBorderSize\":1,\"fBorderMode\":0},{\"_typename\":\"TH2D\",\"fUniqueID\":0,\"fBits\":521,\"fName\":\"TMatrixDBase\",\"fTitle\":\"\",\"fLineColor\":602,\"fLineStyle\":1,\"fLineWidth\":1,\"fFillColor\":0,\"fFillStyle\":1001,\"fMarkerColor\":1,\"fMarkerStyle\":1,\"fMarkerSize\":1,\"fNcells\":361,\"fXaxis\":{\"_typename\":\"TAxis\",\"fUniqueID\":0,\"fBits\":0,\"fName\":\"xaxis\",\"fTitle\":\"\",\"fNdivisions\":510,\"fAxisColor\":1,\"fLabelColor\":1,\"fLabelFont\":42,\"fLabelOffset\":0.005,\"fLabelSize\":0.035,\"fTickLength\":0.03,\"fTitleOffset\":1,\"fTitleSize\":0.035,\"fTitleColor\":1,\"fTitleFont\":42,\"fNbins\":17,\"fXmin\":0,\"fXmax\":17,\"fXbins\":[],\"fFirst\":0,\"fLast\":0,\"fBits2\":0,\"fTimeDisplay\":false,\"fTimeFormat\":\"\",\"fLabels\":null,\"fModLabs\":null},\"fYaxis\":{\"_typename\":\"TAxis\",\"fUniqueID\":0,\"fBits\":0,\"fName\":\"yaxis\",\"fTitle\":\"\",\"fNdivisions\":510,\"fAxisColor\":1,\"fLabelColor\":1,\"fLabelFont\":42,\"fLabelOffset\":0.005,\"fLabelSize\":0.035,\"fTickLength\":0.03,\"fTitleOffset\":0,\"fTitleSize\":0.035,\"fTitleColor\":1,\"fTitleFont\":42,\"fNbins\":17,\"fXmin\":0,\"fXmax\":17,\"fXbins\":[],\"fFirst\":0,\"fLast\":0,\"fBits2\":0,\"fTimeDisplay\":false,\"fTimeFormat\":\"\",\"fLabels\":null,\"fModLabs\":null},\"fZaxis\":{\"_typename\":\"TAxis\",\"fUniqueID\":0,\"fBits\":0,\"fName\":\"zaxis\",\"fTitle\":\"\",\"fNdivisions\":510,\"fAxisColor\":1,\"fLabelColor\":1,\"fLabelFont\":42,\"fLabelOffset\":0.005,\"fLabelSize\":0.035,\"fTickLength\":0.03,\"fTitleOffset\":1,\"fTitleSize\":0.035,\"fTitleColor\":1,\"fTitleFont\":42,\"fNbins\":1,\"fXmin\":0,\"fXmax\":1,\"fXbins\":[],\"fFirst\":0,\"fLast\":0,\"fBits2\":0,\"fTimeDisplay\":false,\"fTimeFormat\":\"\",\"fLabels\":null,\"fModLabs\":null},\"fBarOffset\":0,\"fBarWidth\":1000,\"fEntries\":289,\"fTsumw\":0,\"fTsumw2\":0,\"fTsumwx\":0,\"fTsumwx2\":0,\"fMaximum\":-1111,\"fMinimum\":-1111,\"fNormFactor\":0,\"fContour\":[-5.12248809392713e-5,-4.31019016309062e-5,-3.49789223225411e-5,-2.68559430141759e-5,-1.87329637058108e-5,-1.06099843974457e-5,-2.48700508908058e-6,5.63597421928455e-6,1.37589535276497e-5,2.18819328360148e-5,3.00049121443799e-5,3.8127891452745e-5,4.62508707611102e-5,5.43738500694753e-5,6.24968293778404e-5,7.06198086862055e-5,7.87427879945707e-5,8.68657673029358e-5,9.49887466113009e-5,1.03111725919666e-4],\"fSumw2\":[],\"fOption\":\"\",\"fFunctions\":{\"_typename\":\"TList\",\"name\":\"TList\",\"arr\":[{\"_typename\":\"TPaletteAxis\",\"fUniqueID\":0,\"fBits\":0,\"fLineColor\":1,\"fLineStyle\":1,\"fLineWidth\":1,\"fFillColor\":1178,\"fFillStyle\":1001,\"fX1\":17.1062500015832,\"fY1\":0,\"fX2\":18.0625000158325,\"fY2\":17,\"fX1NDC\":0.904999994039535,\"fY1NDC\":0.100000005960465,\"fX2NDC\":0.949999994039535,\"fY2NDC\":0.899999994039535,\"fBorderSize\":4,\"fInit\":1,\"fShadowColor\":1,\"fCornerRadius\":0,\"fOption\":\"br\",\"fName\":\"TPave\",\"fAxis\":{\"_typename\":\"TGaxis\",\"fUniqueID\":0,\"fBits\":0,\"fLineColor\":1,\"fLineStyle\":1,\"fLineWidth\":1,\"fX1\":0,\"fY1\":0,\"fX2\":0,\"fY2\":0,\"fTextAngle\":0,\"fTextSize\":0.04,\"fTextAlign\":11,\"fTextColor\":1,\"fTextFont\":42,\"fWmin\":0,\"fWmax\":0,\"fGridLength\":0,\"fTickSize\":0.03,\"fLabelOffset\":0.005,\"fLabelSize\":0.035,\"fTitleOffset\":1,\"fTitleSize\":0.035,\"fNdiv\":0,\"fLabelColor\":1,\"fLabelFont\":42,\"fNModLabs\":0,\"fChopt\":\"\",\"fName\":\"\",\"fTitle\":\"\",\"fTimeFormat\":\"\",\"fFunctionName\":\"\",\"fModLabs\":null},\"fName\":\"palette\"}],\"opt\":[\"br\"]},\"fBufferSize\":0,\"fBuffer\":[],\"fBinStatErrOpt\":0,\"fStatOverflows\":2,\"fScalefactor\":1,\"fTsumwy\":0,\"fTsumwy2\":0,\"fTsumwxy\":0,\"fArray\":[0,0,0,0,0,0,0,0,0,0,0,0,0,0,0,0,0,0,0,0,0,0,0,0,0,0,0,0,0,0,0,0,0,0,0,0,0,0,0,0,0,0,0,0,0,0,0,0,0,0,0,0,0,0,0,0,0,0,0,0,0,0,0,0,0,0,0,0,0,0,0,0,0,0,0,0,0,0,0,0,0,0,0,0,0,0,0,0,0,0,0,0,0,0,0,0,0,0,0,0,0,0,0,0,0,0,0,0,0,0,0,0,0,0,0,0,0,0,0,0,2.18851902917296e-5,-0,-0,-0,0,0,0,0,0,0,0,0,0,0,0,0,0,0,0,-9.97916397978215e-6,1.19060263119474e-5,-9.97916397978215e-6,-9.97916397978215e-6,0,0,0,0,0,0,0,0,0,0,0,0,0,0,0,-9.97389540268699e-6,-9.97389540268699e-6,1.19112948890426e-5,-9.97389540268699e-6,0,0,0,0,0,0,0,0,0,0,0,0,0,0,0,-1.93213090926044e-6,-1.93213090926044e-6,-1.93213090926044e-6,1.99530593824692e-5,0,0,0,0,0,0,0,0,0,0,0,0,0,0,0,0,0,0,0,2.20667740583004e-5,-0,-0,-0,0,0,0,0,0,0,0,0,0,0,0,0,0,0,0,-1.0083118706561e-5,1.19836553517394e-5,-1.0083118706561e-5,-1.0083118706561e-5,0,0,0,0,0,0,0,0,0,0,0,0,0,0,0,-9.96625250239942e-6,-9.96625250239942e-6,1.2100521555901e-5,-9.96625250239942e-6,0,0,0,0,0,0,0,0,0,0,0,0,0,0,0,-2.01740284933995e-6,-2.01740284933995e-6,-2.01740284933995e-6,2.00493712089605e-5,0,0,0,0,0,0,0,0,0,0,0,0,0,0,0,0,0,0,0,1.11234705228031e-4,-0,-0,-0,0,0,0,0,0,0,0,0,0,0,0,0,0,0,0,-5.12248809392713e-5,6.00098242887598e-5,-5.12248809392713e-5,-5.12248809392713e-5,0,0,0,0,0,0,0,0,0,0,0,0,0,0,0,-5.05567303183243e-5,-5.05567303183243e-5,6.06779749097069e-5,-5.05567303183243e-5,0,0,0,0,0,0,0,0,0,0,0,0,0,0,0,-9.45309397043557e-6,-9.45309397043557e-6,-9.45309397043557e-6,1.01781611257596e-4,0,0,0,0,0,0,0,0,0,0,0,0,0,0,0,0,0,0,0,0]}],\"opt\":[\"\",\"colz\"]},\"fExecs\":null,\"fName\":\"c\",\"fTitle\":\"c\",\"fNumPaletteColor\":0,\"fNextPaletteColor\":0,\"fDISPLAY\":\"$DISPLAY\",\"fDoubleBuffer\":0,\"fRetained\":true,\"fXsizeUser\":0,\"fYsizeUser\":0,\"fXsizeReal\":20,\"fYsizeReal\":14.28571,\"fWindowTopX\":0,\"fWindowTopY\":0,\"fWindowWidth\":0,\"fWindowHeight\":0,\"fCw\":696,\"fCh\":472,\"fCatt\":{\"_typename\":\"TAttCanvas\",\"fXBetween\":2,\"fYBetween\":2,\"fTitleFromTop\":1.2,\"fXdate\":0.2,\"fYdate\":0.3,\"fAdate\":1},\"kMoveOpaque\":true,\"kResizeOpaque\":true,\"fHighLightColor\":2,\"fBatch\":true,\"kShowEventStatus\":false,\"kAutoExec\":true,\"kMenuBar\":true});\n",
       "            Core.draw(\"root_plot_1592339193486\", obj, \"\");\n",
       "        }\n",
       "    );\n",
       "}\n",
       "</script>\n"
      ],
      "text/plain": [
       "<IPython.core.display.HTML object>"
      ]
     },
     "metadata": {},
     "output_type": "display_data"
    }
   ],
   "source": [
    "J.Draw(\"colz\")\n",
    "ROOT.gPad.Draw()\n",
    "#ROOT.gPad.SetLogz()"
   ]
  },
  {
   "cell_type": "code",
   "execution_count": 41,
   "metadata": {
    "scrolled": false
   },
   "outputs": [
    {
     "data": {
      "text/html": [
       "\n",
       "<div id=\"root_plot_1592339193501\"\n",
       "     style=\"width: 696px; height: 472px\">\n",
       "</div>\n",
       "<script>\n",
       "if (typeof require !== 'undefined') {\n",
       "\n",
       "    // All requirements met (we are in jupyter notebooks or we loaded requirejs before).\n",
       "    display_root_plot_1592339193501();\n",
       "\n",
       "} else {\n",
       "\n",
       "    // We are in jupyterlab, we need to insert requirejs and configure it.\n",
       "    // Jupyterlab might be installed in a different base_url so we need to know it.\n",
       "    try {\n",
       "        var base_url = JSON.parse(document.getElementById('jupyter-config-data').innerHTML).baseUrl;\n",
       "    } catch(_) {\n",
       "        var base_url = '/';\n",
       "    }\n",
       "\n",
       "    // Try loading a local version of requirejs and fallback to cdn if not possible.\n",
       "    requirejs_load(base_url + 'static/components/requirejs/require.js', requirejs_success(base_url), function(){\n",
       "        requirejs_load('https://cdnjs.cloudflare.com/ajax/libs/require.js/2.2.0/require.min.js', requirejs_success(base_url), function(){\n",
       "            document.getElementById(\"root_plot_1592339193501\").innerHTML = \"Failed to load requireJs\";\n",
       "        });\n",
       "    });\n",
       "}\n",
       "\n",
       "function requirejs_load(src, on_load, on_error) {\n",
       "    var script = document.createElement('script');\n",
       "    script.src = src;\n",
       "    script.onload = on_load;\n",
       "    script.onerror = on_error;\n",
       "    document.head.appendChild(script);\n",
       "}\n",
       "\n",
       "function requirejs_success(base_url) {\n",
       "    return function() {\n",
       "        require.config({\n",
       "            baseUrl: base_url + 'static/'\n",
       "        });\n",
       "        display_root_plot_1592339193501();\n",
       "    }\n",
       "}\n",
       "\n",
       "function display_root_plot_1592339193501() {\n",
       "    require(['scripts/JSRootCore'],\n",
       "        function(Core) {\n",
       "            var obj = Core.JSONR_unref({\"_typename\":\"TCanvas\",\"fUniqueID\":0,\"fBits\":3342344,\"fLineColor\":1,\"fLineStyle\":1,\"fLineWidth\":1,\"fFillColor\":0,\"fFillStyle\":1001,\"fLeftMargin\":0.1,\"fRightMargin\":0.1,\"fBottomMargin\":0.1,\"fTopMargin\":0.1,\"fXfile\":2,\"fYfile\":2,\"fAfile\":1,\"fXstat\":0.99,\"fYstat\":0.99,\"fAstat\":2,\"fFrameFillColor\":0,\"fFrameLineColor\":1,\"fFrameFillStyle\":1001,\"fFrameLineStyle\":1,\"fFrameLineWidth\":1,\"fFrameBorderSize\":1,\"fFrameBorderMode\":0,\"fX1\":-1.50000014901162,\"fY1\":-2734.59395374312,\"fX2\":18.5000001490116,\"fY2\":24611.3439537431,\"fXtoAbsPixelk\":52.2000544077637,\"fXtoPixelk\":52.2000544077637,\"fXtoPixel\":34.7999994814396,\"fYtoAbsPixelk\":424.800047186661,\"fYtoPixelk\":424.800047186661,\"fYtoPixel\":-0.0172603332018385,\"fUtoAbsPixelk\":5e-5,\"fUtoPixelk\":5e-5,\"fUtoPixel\":696,\"fVtoAbsPixelk\":472.00005,\"fVtoPixelk\":472,\"fVtoPixel\":-472,\"fAbsPixeltoXk\":-1.50000014901162,\"fPixeltoXk\":-1.50000014901162,\"fPixeltoX\":0.0287356326121024,\"fAbsPixeltoYk\":24611.3439537431,\"fPixeltoYk\":-2734.59395374312,\"fPixeltoY\":-57.9363091260302,\"fXlowNDC\":0,\"fYlowNDC\":0,\"fXUpNDC\":1,\"fYUpNDC\":1,\"fWNDC\":1,\"fHNDC\":1,\"fAbsXlowNDC\":0,\"fAbsYlowNDC\":0,\"fAbsWNDC\":1,\"fAbsHNDC\":1,\"fUxmin\":0.5,\"fUymin\":0,\"fUxmax\":16.5,\"fUymax\":21876.75,\"fTheta\":30,\"fPhi\":30,\"fAspectRatio\":0,\"fNumber\":0,\"fTickx\":0,\"fTicky\":0,\"fLogx\":0,\"fLogy\":0,\"fLogz\":0,\"fPadPaint\":0,\"fCrosshair\":0,\"fCrosshairPos\":0,\"fBorderSize\":2,\"fBorderMode\":0,\"fModified\":false,\"fGridx\":false,\"fGridy\":false,\"fAbsCoord\":false,\"fEditable\":true,\"fFixedAspectRatio\":false,\"fPrimitives\":{\"_typename\":\"TList\",\"name\":\"TList\",\"arr\":[{\"_typename\":\"TFrame\",\"fUniqueID\":0,\"fBits\":8,\"fLineColor\":1,\"fLineStyle\":1,\"fLineWidth\":1,\"fFillColor\":0,\"fFillStyle\":1001,\"fX1\":0.5,\"fY1\":0,\"fX2\":16.5,\"fY2\":21876.75,\"fBorderSize\":1,\"fBorderMode\":0},{\"_typename\":\"TH1D\",\"fUniqueID\":0,\"fBits\":520,\"fName\":\"o_norm\",\"fTitle\":\"o\",\"fLineColor\":602,\"fLineStyle\":1,\"fLineWidth\":1,\"fFillColor\":0,\"fFillStyle\":1001,\"fMarkerColor\":1,\"fMarkerStyle\":20,\"fMarkerSize\":1,\"fNcells\":18,\"fXaxis\":{\"_typename\":\"TAxis\",\"fUniqueID\":0,\"fBits\":0,\"fName\":\"xaxis\",\"fTitle\":\"generator\",\"fNdivisions\":510,\"fAxisColor\":1,\"fLabelColor\":1,\"fLabelFont\":42,\"fLabelOffset\":0.005,\"fLabelSize\":0.035,\"fTickLength\":0.03,\"fTitleOffset\":1,\"fTitleSize\":0.035,\"fTitleColor\":1,\"fTitleFont\":42,\"fNbins\":16,\"fXmin\":0.5,\"fXmax\":16.5,\"fXbins\":[0.5,1.5,2.5,3.5,4.5,5.5,6.5,7.5,8.5,9.5,10.5,11.5,12.5,13.5,14.5,15.5,16.5],\"fFirst\":0,\"fLast\":0,\"fBits2\":0,\"fTimeDisplay\":false,\"fTimeFormat\":\"\",\"fLabels\":null,\"fModLabs\":null},\"fYaxis\":{\"_typename\":\"TAxis\",\"fUniqueID\":0,\"fBits\":0,\"fName\":\"yaxis\",\"fTitle\":\"\",\"fNdivisions\":510,\"fAxisColor\":1,\"fLabelColor\":1,\"fLabelFont\":42,\"fLabelOffset\":0.005,\"fLabelSize\":0.035,\"fTickLength\":0.03,\"fTitleOffset\":0,\"fTitleSize\":0.035,\"fTitleColor\":1,\"fTitleFont\":42,\"fNbins\":1,\"fXmin\":0,\"fXmax\":1,\"fXbins\":[],\"fFirst\":0,\"fLast\":0,\"fBits2\":0,\"fTimeDisplay\":false,\"fTimeFormat\":\"\",\"fLabels\":null,\"fModLabs\":null},\"fZaxis\":{\"_typename\":\"TAxis\",\"fUniqueID\":0,\"fBits\":0,\"fName\":\"zaxis\",\"fTitle\":\"\",\"fNdivisions\":510,\"fAxisColor\":1,\"fLabelColor\":1,\"fLabelFont\":42,\"fLabelOffset\":0.005,\"fLabelSize\":0.035,\"fTickLength\":0.03,\"fTitleOffset\":1,\"fTitleSize\":0.035,\"fTitleColor\":1,\"fTitleFont\":42,\"fNbins\":1,\"fXmin\":0,\"fXmax\":1,\"fXbins\":[],\"fFirst\":0,\"fLast\":0,\"fBits2\":0,\"fTimeDisplay\":false,\"fTimeFormat\":\"\",\"fLabels\":null,\"fModLabs\":null},\"fBarOffset\":0,\"fBarWidth\":1000,\"fEntries\":27,\"fTsumw\":0,\"fTsumw2\":0,\"fTsumwx\":0,\"fTsumwx2\":0,\"fMaximum\":-1111,\"fMinimum\":-1111,\"fNormFactor\":0,\"fContour\":[],\"fSumw2\":[0,0,0,0,0,0,8832934.47437451,8813667.34006203,331017.390090089,0,8235929.75123575,8524284.96112558,336008.563863239,0,33873653.2626368,33854165.9079475,1311026.32067409,0],\"fOption\":\"\",\"fFunctions\":{\"_typename\":\"TList\",\"name\":\"TList\",\"arr\":[],\"opt\":[]},\"fBufferSize\":0,\"fBuffer\":[],\"fBinStatErrOpt\":0,\"fStatOverflows\":2,\"fArray\":[0,0,0,0,0,0,20835,20824,4034,0,20707,20467,4143,0,4140,4086,764,0]},{\"_typename\":\"TPaveText\",\"fUniqueID\":0,\"fBits\":9,\"fLineColor\":1,\"fLineStyle\":1,\"fLineWidth\":1,\"fFillColor\":0,\"fFillStyle\":0,\"fX1\":8.09885056873505,\"fY1\":22970.5877872778,\"fX2\":8.90114943126495,\"fY2\":24474.6143946013,\"fX1NDC\":0.479942528735632,\"fY1NDC\":0.940000003948808,\"fX2NDC\":0.520057471264368,\"fY2NDC\":0.995000004768372,\"fBorderSize\":0,\"fInit\":1,\"fShadowColor\":1,\"fCornerRadius\":0,\"fOption\":\"blNDC\",\"fName\":\"title\",\"fTextAngle\":0,\"fTextSize\":0,\"fTextAlign\":22,\"fTextColor\":1,\"fTextFont\":42,\"fLabel\":\"\",\"fLongest\":1,\"fMargin\":0.05,\"fLines\":{\"_typename\":\"TList\",\"name\":\"TList\",\"arr\":[{\"_typename\":\"TLatex\",\"fUniqueID\":0,\"fBits\":0,\"fName\":\"\",\"fTitle\":\"o\",\"fTextAngle\":0,\"fTextSize\":0,\"fTextAlign\":0,\"fTextColor\":0,\"fTextFont\":0,\"fX\":0,\"fY\":0,\"fLineColor\":1,\"fLineStyle\":1,\"fLineWidth\":2,\"fLimitFactorSize\":3,\"fOriginSize\":0.0467500016093254}],\"opt\":[\"\"]}}],\"opt\":[\"\",\"hist\",\"blNDC\"]},\"fExecs\":null,\"fName\":\"c\",\"fTitle\":\"c\",\"fNumPaletteColor\":0,\"fNextPaletteColor\":0,\"fDISPLAY\":\"$DISPLAY\",\"fDoubleBuffer\":0,\"fRetained\":true,\"fXsizeUser\":0,\"fYsizeUser\":0,\"fXsizeReal\":20,\"fYsizeReal\":14.28571,\"fWindowTopX\":0,\"fWindowTopY\":0,\"fWindowWidth\":0,\"fWindowHeight\":0,\"fCw\":696,\"fCh\":472,\"fCatt\":{\"_typename\":\"TAttCanvas\",\"fXBetween\":2,\"fYBetween\":2,\"fTitleFromTop\":1.2,\"fXdate\":0.2,\"fYdate\":0.3,\"fAdate\":1},\"kMoveOpaque\":true,\"kResizeOpaque\":true,\"fHighLightColor\":2,\"fBatch\":true,\"kShowEventStatus\":false,\"kAutoExec\":true,\"kMenuBar\":true});\n",
       "            Core.draw(\"root_plot_1592339193501\", obj, \"\");\n",
       "        }\n",
       "    );\n",
       "}\n",
       "</script>\n"
      ],
      "text/plain": [
       "<IPython.core.display.HTML object>"
      ]
     },
     "metadata": {},
     "output_type": "display_data"
    }
   ],
   "source": [
    "o_norm = o.Clone(\"o_norm\")\n",
    "o_norm.Draw(\"hist\")\n",
    "ROOT.gPad.Draw()"
   ]
  },
  {
   "cell_type": "code",
   "execution_count": 42,
   "metadata": {},
   "outputs": [
    {
     "name": "stdout",
     "output_type": "stream",
     "text": [
      "0\n",
      "1\n",
      "2\n",
      "3\n"
     ]
    }
   ],
   "source": [
    "for i_ptBins in range (0, nptbinsGen+2):\n",
    "    print (i_ptBins)\n",
    "    counter = i_ptBins*(nmbinsGen+2)\n",
    "    low_bin = 1+counter\n",
    "    high_bin = counter+nptbinsGen+2\n",
    "    sum_ptbin = o.Integral(low_bin,high_bin)\n",
    "    if sum_ptbin > 0.0:\n",
    "        for j_obins in range(low_bin,high_bin+1):\n",
    "            o_norm.SetBinContent(j_obins,o.Integral(j_obins,j_obins)/sum_ptbin)"
   ]
  },
  {
   "cell_type": "code",
   "execution_count": 43,
   "metadata": {
    "scrolled": false
   },
   "outputs": [
    {
     "data": {
      "text/html": [
       "\n",
       "<div id=\"root_plot_1592339193536\"\n",
       "     style=\"width: 696px; height: 472px\">\n",
       "</div>\n",
       "<script>\n",
       "if (typeof require !== 'undefined') {\n",
       "\n",
       "    // All requirements met (we are in jupyter notebooks or we loaded requirejs before).\n",
       "    display_root_plot_1592339193536();\n",
       "\n",
       "} else {\n",
       "\n",
       "    // We are in jupyterlab, we need to insert requirejs and configure it.\n",
       "    // Jupyterlab might be installed in a different base_url so we need to know it.\n",
       "    try {\n",
       "        var base_url = JSON.parse(document.getElementById('jupyter-config-data').innerHTML).baseUrl;\n",
       "    } catch(_) {\n",
       "        var base_url = '/';\n",
       "    }\n",
       "\n",
       "    // Try loading a local version of requirejs and fallback to cdn if not possible.\n",
       "    requirejs_load(base_url + 'static/components/requirejs/require.js', requirejs_success(base_url), function(){\n",
       "        requirejs_load('https://cdnjs.cloudflare.com/ajax/libs/require.js/2.2.0/require.min.js', requirejs_success(base_url), function(){\n",
       "            document.getElementById(\"root_plot_1592339193536\").innerHTML = \"Failed to load requireJs\";\n",
       "        });\n",
       "    });\n",
       "}\n",
       "\n",
       "function requirejs_load(src, on_load, on_error) {\n",
       "    var script = document.createElement('script');\n",
       "    script.src = src;\n",
       "    script.onload = on_load;\n",
       "    script.onerror = on_error;\n",
       "    document.head.appendChild(script);\n",
       "}\n",
       "\n",
       "function requirejs_success(base_url) {\n",
       "    return function() {\n",
       "        require.config({\n",
       "            baseUrl: base_url + 'static/'\n",
       "        });\n",
       "        display_root_plot_1592339193536();\n",
       "    }\n",
       "}\n",
       "\n",
       "function display_root_plot_1592339193536() {\n",
       "    require(['scripts/JSRootCore'],\n",
       "        function(Core) {\n",
       "            var obj = Core.JSONR_unref({\"_typename\":\"TCanvas\",\"fUniqueID\":0,\"fBits\":3342344,\"fLineColor\":1,\"fLineStyle\":1,\"fLineWidth\":1,\"fFillColor\":0,\"fFillStyle\":1001,\"fLeftMargin\":0.1,\"fRightMargin\":0.1,\"fBottomMargin\":0.1,\"fTopMargin\":0.1,\"fXfile\":2,\"fYfile\":2,\"fAfile\":1,\"fXstat\":0.99,\"fYstat\":0.99,\"fAstat\":2,\"fFrameFillColor\":0,\"fFrameLineColor\":1,\"fFrameFillStyle\":1001,\"fFrameLineStyle\":1,\"fFrameLineWidth\":1,\"fFrameBorderSize\":1,\"fFrameBorderMode\":0,\"fX1\":-1.50000014901162,\"fY1\":-0.0604421624565734,\"fX2\":18.5000001490116,\"fY2\":0.543979426082825,\"fXtoAbsPixelk\":52.2000544077637,\"fXtoPixelk\":52.2000544077637,\"fXtoPixel\":34.7999994814396,\"fYtoAbsPixelk\":424.800047186661,\"fYtoPixelk\":424.800047186661,\"fYtoPixel\":-780.911881623225,\"fUtoAbsPixelk\":5e-5,\"fUtoPixelk\":5e-5,\"fUtoPixel\":696,\"fVtoAbsPixelk\":472.00005,\"fVtoPixelk\":472,\"fVtoPixel\":-472,\"fAbsPixeltoXk\":-1.50000014901162,\"fPixeltoXk\":-1.50000014901162,\"fPixeltoX\":0.0287356326121024,\"fAbsPixeltoYk\":0.543979426082825,\"fPixeltoYk\":-0.0604421624565734,\"fPixeltoY\":-0.0012805542130072,\"fXlowNDC\":0,\"fYlowNDC\":0,\"fXUpNDC\":1,\"fYUpNDC\":1,\"fWNDC\":1,\"fHNDC\":1,\"fAbsXlowNDC\":0,\"fAbsYlowNDC\":0,\"fAbsWNDC\":1,\"fAbsHNDC\":1,\"fUxmin\":0.5,\"fUymin\":0,\"fUxmax\":16.5,\"fUymax\":0.483537263626252,\"fTheta\":30,\"fPhi\":30,\"fAspectRatio\":0,\"fNumber\":0,\"fTickx\":0,\"fTicky\":0,\"fLogx\":0,\"fLogy\":0,\"fLogz\":0,\"fPadPaint\":0,\"fCrosshair\":0,\"fCrosshairPos\":0,\"fBorderSize\":2,\"fBorderMode\":0,\"fModified\":false,\"fGridx\":false,\"fGridy\":false,\"fAbsCoord\":false,\"fEditable\":true,\"fFixedAspectRatio\":false,\"fPrimitives\":{\"_typename\":\"TList\",\"name\":\"TList\",\"arr\":[{\"_typename\":\"TFrame\",\"fUniqueID\":0,\"fBits\":8,\"fLineColor\":1,\"fLineStyle\":1,\"fLineWidth\":1,\"fFillColor\":0,\"fFillStyle\":1001,\"fX1\":0.5,\"fY1\":0,\"fX2\":16.5,\"fY2\":0.483537263626252,\"fBorderSize\":1,\"fBorderMode\":0},{\"_typename\":\"TH1D\",\"fUniqueID\":0,\"fBits\":520,\"fName\":\"o_norm\",\"fTitle\":\"o\",\"fLineColor\":602,\"fLineStyle\":1,\"fLineWidth\":1,\"fFillColor\":0,\"fFillStyle\":1001,\"fMarkerColor\":1,\"fMarkerStyle\":20,\"fMarkerSize\":1,\"fNcells\":18,\"fXaxis\":{\"_typename\":\"TAxis\",\"fUniqueID\":0,\"fBits\":0,\"fName\":\"xaxis\",\"fTitle\":\"generator\",\"fNdivisions\":510,\"fAxisColor\":1,\"fLabelColor\":1,\"fLabelFont\":42,\"fLabelOffset\":0.005,\"fLabelSize\":0.035,\"fTickLength\":0.03,\"fTitleOffset\":1,\"fTitleSize\":0.035,\"fTitleColor\":1,\"fTitleFont\":42,\"fNbins\":16,\"fXmin\":0.5,\"fXmax\":16.5,\"fXbins\":[0.5,1.5,2.5,3.5,4.5,5.5,6.5,7.5,8.5,9.5,10.5,11.5,12.5,13.5,14.5,15.5,16.5],\"fFirst\":0,\"fLast\":0,\"fBits2\":0,\"fTimeDisplay\":false,\"fTimeFormat\":\"\",\"fLabels\":null,\"fModLabs\":null},\"fYaxis\":{\"_typename\":\"TAxis\",\"fUniqueID\":0,\"fBits\":0,\"fName\":\"yaxis\",\"fTitle\":\"\",\"fNdivisions\":510,\"fAxisColor\":1,\"fLabelColor\":1,\"fLabelFont\":42,\"fLabelOffset\":0.005,\"fLabelSize\":0.035,\"fTickLength\":0.03,\"fTitleOffset\":0,\"fTitleSize\":0.035,\"fTitleColor\":1,\"fTitleFont\":42,\"fNbins\":1,\"fXmin\":0,\"fXmax\":1,\"fXbins\":[],\"fFirst\":0,\"fLast\":0,\"fBits2\":0,\"fTimeDisplay\":false,\"fTimeFormat\":\"\",\"fLabels\":null,\"fModLabs\":null},\"fZaxis\":{\"_typename\":\"TAxis\",\"fUniqueID\":0,\"fBits\":0,\"fName\":\"zaxis\",\"fTitle\":\"\",\"fNdivisions\":510,\"fAxisColor\":1,\"fLabelColor\":1,\"fLabelFont\":42,\"fLabelOffset\":0.005,\"fLabelSize\":0.035,\"fTickLength\":0.03,\"fTitleOffset\":1,\"fTitleSize\":0.035,\"fTitleColor\":1,\"fTitleFont\":42,\"fNbins\":1,\"fXmin\":0,\"fXmax\":1,\"fXbins\":[],\"fFirst\":0,\"fLast\":0,\"fBits2\":0,\"fTimeDisplay\":false,\"fTimeFormat\":\"\",\"fLabels\":null,\"fModLabs\":null},\"fBarOffset\":0,\"fBarWidth\":1000,\"fEntries\":39,\"fTsumw\":0,\"fTsumw2\":0,\"fTsumwx\":0,\"fTsumwx2\":0,\"fMaximum\":-1111,\"fMinimum\":-1111,\"fNormFactor\":0,\"fContour\":[],\"fSumw2\":[0,0,0,0,0,0,8832934.47437451,8813667.34006203,331017.390090089,0,8235929.75123575,8524284.96112558,336008.563863239,0,33873653.2626368,33854165.9079475,1311026.32067409,0],\"fOption\":\"\",\"fFunctions\":{\"_typename\":\"TList\",\"name\":\"TList\",\"arr\":[],\"opt\":[]},\"fBufferSize\":0,\"fBuffer\":[],\"fBinStatErrOpt\":0,\"fStatOverflows\":2,\"fArray\":[0,0,0,0,0,0,0.455977939728186,0.455737202634977,0.0882848576368371,0,0.456936690425227,0.451640664651235,0.0914226449235386,0,0.460511679644049,0.454505005561735,0.0849833147942158,0]},{\"_typename\":\"TPaveText\",\"fUniqueID\":0,\"fBits\":9,\"fLineColor\":1,\"fLineStyle\":1,\"fLineWidth\":1,\"fFillColor\":0,\"fFillStyle\":0,\"fX1\":8.09885056873505,\"fY1\":0.507714133157206,\"fX2\":8.90114943126495,\"fY2\":0.540957321022235,\"fX1NDC\":0.479942528735632,\"fY1NDC\":0.940000003948808,\"fX2NDC\":0.520057471264368,\"fY2NDC\":0.995000004768372,\"fBorderSize\":0,\"fInit\":1,\"fShadowColor\":1,\"fCornerRadius\":0,\"fOption\":\"blNDC\",\"fName\":\"title\",\"fTextAngle\":0,\"fTextSize\":0,\"fTextAlign\":22,\"fTextColor\":1,\"fTextFont\":42,\"fLabel\":\"\",\"fLongest\":1,\"fMargin\":0.05,\"fLines\":{\"_typename\":\"TList\",\"name\":\"TList\",\"arr\":[{\"_typename\":\"TLatex\",\"fUniqueID\":0,\"fBits\":0,\"fName\":\"\",\"fTitle\":\"o\",\"fTextAngle\":0,\"fTextSize\":0,\"fTextAlign\":0,\"fTextColor\":0,\"fTextFont\":0,\"fX\":0,\"fY\":0,\"fLineColor\":1,\"fLineStyle\":1,\"fLineWidth\":2,\"fLimitFactorSize\":3,\"fOriginSize\":0.0467500016093254}],\"opt\":[\"\"]}}],\"opt\":[\"\",\"hist\",\"blNDC\"]},\"fExecs\":null,\"fName\":\"c\",\"fTitle\":\"c\",\"fNumPaletteColor\":0,\"fNextPaletteColor\":0,\"fDISPLAY\":\"$DISPLAY\",\"fDoubleBuffer\":0,\"fRetained\":true,\"fXsizeUser\":0,\"fYsizeUser\":0,\"fXsizeReal\":20,\"fYsizeReal\":14.28571,\"fWindowTopX\":0,\"fWindowTopY\":0,\"fWindowWidth\":0,\"fWindowHeight\":0,\"fCw\":696,\"fCh\":472,\"fCatt\":{\"_typename\":\"TAttCanvas\",\"fXBetween\":2,\"fYBetween\":2,\"fTitleFromTop\":1.2,\"fXdate\":0.2,\"fYdate\":0.3,\"fAdate\":1},\"kMoveOpaque\":true,\"kResizeOpaque\":true,\"fHighLightColor\":2,\"fBatch\":true,\"kShowEventStatus\":false,\"kAutoExec\":true,\"kMenuBar\":true});\n",
       "            Core.draw(\"root_plot_1592339193536\", obj, \"\");\n",
       "        }\n",
       "    );\n",
       "}\n",
       "</script>\n"
      ],
      "text/plain": [
       "<IPython.core.display.HTML object>"
      ]
     },
     "metadata": {},
     "output_type": "display_data"
    }
   ],
   "source": [
    "o_norm.Draw(\"hist\")\n",
    "ROOT.gPad.Draw()"
   ]
  },
  {
   "cell_type": "markdown",
   "metadata": {
    "scrolled": true
   },
   "source": [
    "#### Construct covariance TMatrixD"
   ]
  },
  {
   "cell_type": "code",
   "execution_count": 44,
   "metadata": {},
   "outputs": [],
   "source": [
    "cov_m = ROOT.TMatrixD( o.GetNbinsX()+1, o.GetNbinsX()+1 )\n",
    "for xbin in range(0, cov.GetNbinsY()+1 ):\n",
    "    for ybin in range(0,cov.GetNbinsX()+1 ):\n",
    "        cov_m[xbin][ybin] = cov.GetBinContent( ybin, xbin)"
   ]
  },
  {
   "cell_type": "markdown",
   "metadata": {
    "scrolled": true
   },
   "source": []
  },
  {
   "cell_type": "code",
   "execution_count": 45,
   "metadata": {
    "scrolled": false
   },
   "outputs": [
    {
     "data": {
      "text/html": [
       "\n",
       "<div id=\"root_plot_1592339193582\"\n",
       "     style=\"width: 696px; height: 472px\">\n",
       "</div>\n",
       "<script>\n",
       "if (typeof require !== 'undefined') {\n",
       "\n",
       "    // All requirements met (we are in jupyter notebooks or we loaded requirejs before).\n",
       "    display_root_plot_1592339193582();\n",
       "\n",
       "} else {\n",
       "\n",
       "    // We are in jupyterlab, we need to insert requirejs and configure it.\n",
       "    // Jupyterlab might be installed in a different base_url so we need to know it.\n",
       "    try {\n",
       "        var base_url = JSON.parse(document.getElementById('jupyter-config-data').innerHTML).baseUrl;\n",
       "    } catch(_) {\n",
       "        var base_url = '/';\n",
       "    }\n",
       "\n",
       "    // Try loading a local version of requirejs and fallback to cdn if not possible.\n",
       "    requirejs_load(base_url + 'static/components/requirejs/require.js', requirejs_success(base_url), function(){\n",
       "        requirejs_load('https://cdnjs.cloudflare.com/ajax/libs/require.js/2.2.0/require.min.js', requirejs_success(base_url), function(){\n",
       "            document.getElementById(\"root_plot_1592339193582\").innerHTML = \"Failed to load requireJs\";\n",
       "        });\n",
       "    });\n",
       "}\n",
       "\n",
       "function requirejs_load(src, on_load, on_error) {\n",
       "    var script = document.createElement('script');\n",
       "    script.src = src;\n",
       "    script.onload = on_load;\n",
       "    script.onerror = on_error;\n",
       "    document.head.appendChild(script);\n",
       "}\n",
       "\n",
       "function requirejs_success(base_url) {\n",
       "    return function() {\n",
       "        require.config({\n",
       "            baseUrl: base_url + 'static/'\n",
       "        });\n",
       "        display_root_plot_1592339193582();\n",
       "    }\n",
       "}\n",
       "\n",
       "function display_root_plot_1592339193582() {\n",
       "    require(['scripts/JSRootCore'],\n",
       "        function(Core) {\n",
       "            var obj = Core.JSONR_unref({\"_typename\":\"TCanvas\",\"fUniqueID\":0,\"fBits\":3342344,\"fLineColor\":1,\"fLineStyle\":1,\"fLineWidth\":1,\"fFillColor\":0,\"fFillStyle\":1001,\"fLeftMargin\":0.1,\"fRightMargin\":0.1,\"fBottomMargin\":0.1,\"fTopMargin\":0.1,\"fXfile\":2,\"fYfile\":2,\"fAfile\":1,\"fXstat\":0.99,\"fYstat\":0.99,\"fAstat\":2,\"fFrameFillColor\":0,\"fFrameLineColor\":1,\"fFrameFillStyle\":1001,\"fFrameLineStyle\":1,\"fFrameLineWidth\":1,\"fFrameBorderSize\":1,\"fFrameBorderMode\":0,\"fX1\":-2.12500015832485,\"fY1\":-2.12500015832485,\"fX2\":19.1250001583248,\"fY2\":19.1250001583248,\"fXtoAbsPixelk\":69.6000541484835,\"fXtoPixelk\":69.6000541484835,\"fXtoPixel\":32.7529406884137,\"fYtoAbsPixelk\":424.800047186661,\"fYtoPixelk\":424.800047186661,\"fYtoPixel\":-22.2117643749013,\"fUtoAbsPixelk\":5e-5,\"fUtoPixelk\":5e-5,\"fUtoPixel\":696,\"fVtoAbsPixelk\":472.00005,\"fVtoPixelk\":472,\"fVtoPixel\":-472,\"fAbsPixeltoXk\":-2.12500015832485,\"fPixeltoXk\":-2.12500015832485,\"fPixeltoX\":0.0305316096503588,\"fAbsPixeltoYk\":19.1250001583249,\"fPixeltoYk\":-2.12500015832485,\"fPixeltoY\":-0.045021187111546,\"fXlowNDC\":0,\"fYlowNDC\":0,\"fXUpNDC\":1,\"fYUpNDC\":1,\"fWNDC\":1,\"fHNDC\":1,\"fAbsXlowNDC\":0,\"fAbsYlowNDC\":0,\"fAbsWNDC\":1,\"fAbsHNDC\":1,\"fUxmin\":0,\"fUymin\":0,\"fUxmax\":17,\"fUymax\":17,\"fTheta\":30,\"fPhi\":30,\"fAspectRatio\":0,\"fNumber\":0,\"fTickx\":0,\"fTicky\":0,\"fLogx\":0,\"fLogy\":0,\"fLogz\":0,\"fPadPaint\":0,\"fCrosshair\":0,\"fCrosshairPos\":0,\"fBorderSize\":2,\"fBorderMode\":0,\"fModified\":false,\"fGridx\":false,\"fGridy\":false,\"fAbsCoord\":false,\"fEditable\":true,\"fFixedAspectRatio\":false,\"fPrimitives\":{\"_typename\":\"TList\",\"name\":\"TList\",\"arr\":[{\"_typename\":\"TFrame\",\"fUniqueID\":0,\"fBits\":8,\"fLineColor\":1,\"fLineStyle\":1,\"fLineWidth\":1,\"fFillColor\":0,\"fFillStyle\":1001,\"fX1\":0,\"fY1\":0,\"fX2\":17,\"fY2\":17,\"fBorderSize\":1,\"fBorderMode\":0},{\"_typename\":\"TH2D\",\"fUniqueID\":0,\"fBits\":521,\"fName\":\"TMatrixDBase\",\"fTitle\":\"\",\"fLineColor\":602,\"fLineStyle\":1,\"fLineWidth\":1,\"fFillColor\":0,\"fFillStyle\":1001,\"fMarkerColor\":1,\"fMarkerStyle\":1,\"fMarkerSize\":1,\"fNcells\":361,\"fXaxis\":{\"_typename\":\"TAxis\",\"fUniqueID\":0,\"fBits\":0,\"fName\":\"xaxis\",\"fTitle\":\"\",\"fNdivisions\":510,\"fAxisColor\":1,\"fLabelColor\":1,\"fLabelFont\":42,\"fLabelOffset\":0.005,\"fLabelSize\":0.035,\"fTickLength\":0.03,\"fTitleOffset\":1,\"fTitleSize\":0.035,\"fTitleColor\":1,\"fTitleFont\":42,\"fNbins\":17,\"fXmin\":0,\"fXmax\":17,\"fXbins\":[],\"fFirst\":0,\"fLast\":0,\"fBits2\":0,\"fTimeDisplay\":false,\"fTimeFormat\":\"\",\"fLabels\":null,\"fModLabs\":null},\"fYaxis\":{\"_typename\":\"TAxis\",\"fUniqueID\":0,\"fBits\":0,\"fName\":\"yaxis\",\"fTitle\":\"\",\"fNdivisions\":510,\"fAxisColor\":1,\"fLabelColor\":1,\"fLabelFont\":42,\"fLabelOffset\":0.005,\"fLabelSize\":0.035,\"fTickLength\":0.03,\"fTitleOffset\":0,\"fTitleSize\":0.035,\"fTitleColor\":1,\"fTitleFont\":42,\"fNbins\":17,\"fXmin\":0,\"fXmax\":17,\"fXbins\":[],\"fFirst\":0,\"fLast\":0,\"fBits2\":0,\"fTimeDisplay\":false,\"fTimeFormat\":\"\",\"fLabels\":null,\"fModLabs\":null},\"fZaxis\":{\"_typename\":\"TAxis\",\"fUniqueID\":0,\"fBits\":0,\"fName\":\"zaxis\",\"fTitle\":\"\",\"fNdivisions\":510,\"fAxisColor\":1,\"fLabelColor\":1,\"fLabelFont\":42,\"fLabelOffset\":0.005,\"fLabelSize\":0.035,\"fTickLength\":0.03,\"fTitleOffset\":1,\"fTitleSize\":0.035,\"fTitleColor\":1,\"fTitleFont\":42,\"fNbins\":1,\"fXmin\":0,\"fXmax\":1,\"fXbins\":[],\"fFirst\":0,\"fLast\":0,\"fBits2\":0,\"fTimeDisplay\":false,\"fTimeFormat\":\"\",\"fLabels\":null,\"fModLabs\":null},\"fBarOffset\":0,\"fBarWidth\":1000,\"fEntries\":289,\"fTsumw\":0,\"fTsumw2\":0,\"fTsumwx\":0,\"fTsumwx2\":0,\"fMaximum\":-1111,\"fMinimum\":-1111,\"fNormFactor\":0,\"fContour\":[-17256511.5037889,-14700003.2654676,-12143495.0271463,-9586986.788825,-7030478.55050371,-4473970.31218243,-1917462.07386114,639046.164460145,3195554.40278143,5752062.64110272,8308570.879424,10865079.1177453,13421587.3560666,15978095.5943879,18534603.8327091,21091112.0710304,23647620.3093517,26204128.547673,28760636.7859943,31317145.0243156],\"fSumw2\":[],\"fOption\":\"\",\"fFunctions\":{\"_typename\":\"TList\",\"name\":\"TList\",\"arr\":[{\"_typename\":\"TPaletteAxis\",\"fUniqueID\":0,\"fBits\":0,\"fLineColor\":1,\"fLineStyle\":1,\"fLineWidth\":1,\"fFillColor\":1178,\"fFillStyle\":1001,\"fX1\":17.1062500015832,\"fY1\":0,\"fX2\":18.0625000158325,\"fY2\":17,\"fX1NDC\":0.904999994039535,\"fY1NDC\":0.100000005960465,\"fX2NDC\":0.949999994039535,\"fY2NDC\":0.899999994039535,\"fBorderSize\":4,\"fInit\":1,\"fShadowColor\":1,\"fCornerRadius\":0,\"fOption\":\"br\",\"fName\":\"TPave\",\"fAxis\":{\"_typename\":\"TGaxis\",\"fUniqueID\":0,\"fBits\":0,\"fLineColor\":1,\"fLineStyle\":1,\"fLineWidth\":1,\"fX1\":0,\"fY1\":0,\"fX2\":0,\"fY2\":0,\"fTextAngle\":0,\"fTextSize\":0.04,\"fTextAlign\":11,\"fTextColor\":1,\"fTextFont\":42,\"fWmin\":0,\"fWmax\":0,\"fGridLength\":0,\"fTickSize\":0.03,\"fLabelOffset\":0.005,\"fLabelSize\":0.035,\"fTitleOffset\":1,\"fTitleSize\":0.035,\"fNdiv\":0,\"fLabelColor\":1,\"fLabelFont\":42,\"fNModLabs\":0,\"fChopt\":\"\",\"fName\":\"\",\"fTitle\":\"\",\"fTimeFormat\":\"\",\"fFunctionName\":\"\",\"fModLabs\":null},\"fName\":\"palette\"}],\"opt\":[\"br\"]},\"fBufferSize\":0,\"fBuffer\":[],\"fBinStatErrOpt\":0,\"fStatOverflows\":2,\"fScalefactor\":1,\"fTsumwy\":0,\"fTsumwy2\":0,\"fTsumwxy\":0,\"fArray\":[0,0,0,0,0,0,0,0,0,0,0,0,0,0,0,0,0,0,0,0,0,0,0,0,0,0,0,0,0,0,0,0,0,0,0,0,0,0,0,0,0,0,0,0,0,0,0,0,0,0,0,0,0,0,0,0,0,0,0,0,0,0,0,0,0,0,0,0,0,0,0,0,0,0,0,0,0,0,0,0,0,0,0,0,0,0,0,0,0,0,0,0,0,0,0,0,0,0,0,0,0,0,0,0,0,0,0,0,0,0,0,0,0,0,0,0,0,0,0,0,0,0,0,0,0,0,0,0,0,0,0,0,0,0,0,0,0,0,0,0,8832934.47437451,8799500.27373652,1694624.28773642,0,8470565.25184366,8599709.06124251,1666121.39228602,0,-17256511.5037889,-17242825.820034,-3378593.10587717,0,0,0,0,0,0,0,0,8799500.27373652,8813667.34006203,1691958.68820312,0,8459973.9508951,8587202.36052025,1663389.5600593,0,-17235425.5091053,-17221326.1524523,-3373980.11788421,0,0,0,0,0,0,0,0,1694624.28773642,1691958.68820312,331017.390090089,0,1628027.81103018,1652384.68864413,319644.975555213,0,-3317872.18325114,-3314917.64917355,-649217.755391894,0,0,0,0,0,0,0,0,0,0,0,0,0,0,0,0,0,0,0,0,0,0,0,0,0,0,0,8470565.25184366,8459973.9508951,1628027.81103018,0,8235929.75123576,8353051.73422224,1634614.03013386,0,-16661144.0705538,-16662542.9249062,-3279763.17906222,0,0,0,0,0,0,0,0,8599709.06124251,8587202.36052025,1652384.68864413,0,8353051.73422224,8524284.96112558,1666514.09706848,0,-16929472.0039957,-16936106.7027336,-3337042.38422011,0,0,0,0,0,0,0,0,1666121.39228602,1663389.5600593,319644.975555213,0,1634614.03013386,1666514.09706848,336008.563863239,0,-3296117.17968769,-3300899.91291011,-654122.907134159,0,0,0,0,0,0,0,0,0,0,0,0,0,0,0,0,0,0,0,0,0,0,0,0,0,0,0,-17256511.5037889,-17235425.5091053,-3317872.18325114,0,-16661144.0705538,-16929472.0039957,-3296117.17968769,0,33873653.2626369,33856949.7315153,6648934.24835155,0,0,0,0,0,0,0,0,-17242825.820034,-17221326.1524523,-3314917.64917355,0,-16662542.9249062,-16936106.7027336,-3300899.91291011,0,33856949.7315153,33854165.9079475,6650635.98919816,0,0,0,0,0,0,0,0,-3378593.10587717,-3373980.11788421,-649217.755391894,0,-3279763.17906222,-3337042.38422011,-654122.907134159,0,6648934.24835155,6650635.98919816,1311026.32067409,0,0,0,0,0,0,0,0,0,0,0,0,0,0,0,0,0,0,0,0]}],\"opt\":[\"\",\"colz\"]},\"fExecs\":null,\"fName\":\"c\",\"fTitle\":\"c\",\"fNumPaletteColor\":0,\"fNextPaletteColor\":0,\"fDISPLAY\":\"$DISPLAY\",\"fDoubleBuffer\":0,\"fRetained\":true,\"fXsizeUser\":0,\"fYsizeUser\":0,\"fXsizeReal\":20,\"fYsizeReal\":14.28571,\"fWindowTopX\":0,\"fWindowTopY\":0,\"fWindowWidth\":0,\"fWindowHeight\":0,\"fCw\":696,\"fCh\":472,\"fCatt\":{\"_typename\":\"TAttCanvas\",\"fXBetween\":2,\"fYBetween\":2,\"fTitleFromTop\":1.2,\"fXdate\":0.2,\"fYdate\":0.3,\"fAdate\":1},\"kMoveOpaque\":true,\"kResizeOpaque\":true,\"fHighLightColor\":2,\"fBatch\":true,\"kShowEventStatus\":false,\"kAutoExec\":true,\"kMenuBar\":true});\n",
       "            Core.draw(\"root_plot_1592339193582\", obj, \"\");\n",
       "        }\n",
       "    );\n",
       "}\n",
       "</script>\n"
      ],
      "text/plain": [
       "<IPython.core.display.HTML object>"
      ]
     },
     "metadata": {},
     "output_type": "display_data"
    }
   ],
   "source": [
    "cov_m.Draw(\"colz\")\n",
    "ROOT.gPad.Draw()"
   ]
  },
  {
   "cell_type": "code",
   "execution_count": 56,
   "metadata": {},
   "outputs": [],
   "source": [
    "covnorm_temp = ROOT.TMatrixD( cov_m, ROOT.TMatrixD.kMultTranspose, J)\n",
    "covnorm = ROOT.TMatrixD(J, ROOT.TMatrix.kMult, covnorm_temp )"
   ]
  },
  {
   "cell_type": "code",
   "execution_count": 57,
   "metadata": {
    "scrolled": false
   },
   "outputs": [
    {
     "data": {
      "text/html": [
       "\n",
       "<div id=\"root_plot_1592339357905\"\n",
       "     style=\"width: 496px; height: 472px\">\n",
       "</div>\n",
       "<script>\n",
       "if (typeof require !== 'undefined') {\n",
       "\n",
       "    // All requirements met (we are in jupyter notebooks or we loaded requirejs before).\n",
       "    display_root_plot_1592339357905();\n",
       "\n",
       "} else {\n",
       "\n",
       "    // We are in jupyterlab, we need to insert requirejs and configure it.\n",
       "    // Jupyterlab might be installed in a different base_url so we need to know it.\n",
       "    try {\n",
       "        var base_url = JSON.parse(document.getElementById('jupyter-config-data').innerHTML).baseUrl;\n",
       "    } catch(_) {\n",
       "        var base_url = '/';\n",
       "    }\n",
       "\n",
       "    // Try loading a local version of requirejs and fallback to cdn if not possible.\n",
       "    requirejs_load(base_url + 'static/components/requirejs/require.js', requirejs_success(base_url), function(){\n",
       "        requirejs_load('https://cdnjs.cloudflare.com/ajax/libs/require.js/2.2.0/require.min.js', requirejs_success(base_url), function(){\n",
       "            document.getElementById(\"root_plot_1592339357905\").innerHTML = \"Failed to load requireJs\";\n",
       "        });\n",
       "    });\n",
       "}\n",
       "\n",
       "function requirejs_load(src, on_load, on_error) {\n",
       "    var script = document.createElement('script');\n",
       "    script.src = src;\n",
       "    script.onload = on_load;\n",
       "    script.onerror = on_error;\n",
       "    document.head.appendChild(script);\n",
       "}\n",
       "\n",
       "function requirejs_success(base_url) {\n",
       "    return function() {\n",
       "        require.config({\n",
       "            baseUrl: base_url + 'static/'\n",
       "        });\n",
       "        display_root_plot_1592339357905();\n",
       "    }\n",
       "}\n",
       "\n",
       "function display_root_plot_1592339357905() {\n",
       "    require(['scripts/JSRootCore'],\n",
       "        function(Core) {\n",
       "            var obj = Core.JSONR_unref({\"_typename\":\"TCanvas\",\"fUniqueID\":0,\"fBits\":3342344,\"fLineColor\":1,\"fLineStyle\":1,\"fLineWidth\":1,\"fFillColor\":0,\"fFillStyle\":1001,\"fLeftMargin\":0.1,\"fRightMargin\":0.1,\"fBottomMargin\":0.1,\"fTopMargin\":0.1,\"fXfile\":2,\"fYfile\":2,\"fAfile\":1,\"fXstat\":0.99,\"fYstat\":0.99,\"fAstat\":2,\"fFrameFillColor\":0,\"fFrameLineColor\":1,\"fFrameFillStyle\":1001,\"fFrameLineStyle\":1,\"fFrameLineWidth\":1,\"fFrameBorderSize\":1,\"fFrameBorderMode\":0,\"fX1\":-2.12500015832485,\"fY1\":-2.12500015832485,\"fX2\":19.1250001583248,\"fY2\":19.1250001583248,\"fXtoAbsPixelk\":49.6000529563905,\"fXtoPixelk\":49.6000529563905,\"fXtoPixel\":23.3411761227776,\"fYtoAbsPixelk\":424.800047186661,\"fYtoPixelk\":424.800047186661,\"fYtoPixel\":-22.2117643749013,\"fUtoAbsPixelk\":5e-5,\"fUtoPixelk\":5e-5,\"fUtoPixel\":496,\"fVtoAbsPixelk\":472.00005,\"fVtoPixelk\":472,\"fVtoPixel\":-472,\"fAbsPixeltoXk\":-2.12500015832485,\"fPixeltoXk\":-2.12500015832485,\"fPixeltoX\":0.0428427425738905,\"fAbsPixeltoYk\":19.1250001583249,\"fPixeltoYk\":-2.12500015832485,\"fPixeltoY\":-0.045021187111546,\"fXlowNDC\":0,\"fYlowNDC\":0,\"fXUpNDC\":1,\"fYUpNDC\":1,\"fWNDC\":1,\"fHNDC\":1,\"fAbsXlowNDC\":0,\"fAbsYlowNDC\":0,\"fAbsWNDC\":1,\"fAbsHNDC\":1,\"fUxmin\":0,\"fUymin\":0,\"fUxmax\":17,\"fUymax\":17,\"fTheta\":30,\"fPhi\":30,\"fAspectRatio\":0,\"fNumber\":0,\"fTickx\":0,\"fTicky\":0,\"fLogx\":0,\"fLogy\":0,\"fLogz\":0,\"fPadPaint\":0,\"fCrosshair\":0,\"fCrosshairPos\":0,\"fBorderSize\":2,\"fBorderMode\":0,\"fModified\":false,\"fGridx\":false,\"fGridy\":false,\"fAbsCoord\":false,\"fEditable\":true,\"fFixedAspectRatio\":false,\"fPrimitives\":{\"_typename\":\"TList\",\"name\":\"TList\",\"arr\":[{\"_typename\":\"TFrame\",\"fUniqueID\":0,\"fBits\":8,\"fLineColor\":1,\"fLineStyle\":1,\"fLineWidth\":1,\"fFillColor\":0,\"fFillStyle\":1001,\"fX1\":0,\"fY1\":0,\"fX2\":17,\"fY2\":17,\"fBorderSize\":1,\"fBorderMode\":0},{\"_typename\":\"TH2D\",\"fUniqueID\":0,\"fBits\":521,\"fName\":\"TMatrixDBase\",\"fTitle\":\"\",\"fLineColor\":602,\"fLineStyle\":1,\"fLineWidth\":1,\"fFillColor\":0,\"fFillStyle\":1001,\"fMarkerColor\":1,\"fMarkerStyle\":1,\"fMarkerSize\":1,\"fNcells\":361,\"fXaxis\":{\"_typename\":\"TAxis\",\"fUniqueID\":0,\"fBits\":0,\"fName\":\"xaxis\",\"fTitle\":\"\",\"fNdivisions\":510,\"fAxisColor\":1,\"fLabelColor\":1,\"fLabelFont\":42,\"fLabelOffset\":0.005,\"fLabelSize\":0.035,\"fTickLength\":0.03,\"fTitleOffset\":1,\"fTitleSize\":0.035,\"fTitleColor\":1,\"fTitleFont\":42,\"fNbins\":17,\"fXmin\":0,\"fXmax\":17,\"fXbins\":[],\"fFirst\":0,\"fLast\":0,\"fBits2\":0,\"fTimeDisplay\":false,\"fTimeFormat\":\"\",\"fLabels\":null,\"fModLabs\":null},\"fYaxis\":{\"_typename\":\"TAxis\",\"fUniqueID\":0,\"fBits\":0,\"fName\":\"yaxis\",\"fTitle\":\"\",\"fNdivisions\":510,\"fAxisColor\":1,\"fLabelColor\":1,\"fLabelFont\":42,\"fLabelOffset\":0.005,\"fLabelSize\":0.035,\"fTickLength\":0.03,\"fTitleOffset\":0,\"fTitleSize\":0.035,\"fTitleColor\":1,\"fTitleFont\":42,\"fNbins\":17,\"fXmin\":0,\"fXmax\":17,\"fXbins\":[],\"fFirst\":0,\"fLast\":0,\"fBits2\":0,\"fTimeDisplay\":false,\"fTimeFormat\":\"\",\"fLabels\":null,\"fModLabs\":null},\"fZaxis\":{\"_typename\":\"TAxis\",\"fUniqueID\":0,\"fBits\":0,\"fName\":\"zaxis\",\"fTitle\":\"\",\"fNdivisions\":510,\"fAxisColor\":1,\"fLabelColor\":1,\"fLabelFont\":42,\"fLabelOffset\":0.005,\"fLabelSize\":0.035,\"fTickLength\":0.03,\"fTitleOffset\":1,\"fTitleSize\":0.035,\"fTitleColor\":1,\"fTitleFont\":42,\"fNbins\":1,\"fXmin\":0,\"fXmax\":1,\"fXbins\":[],\"fFirst\":0,\"fLast\":0,\"fBits2\":0,\"fTimeDisplay\":false,\"fTimeFormat\":\"\",\"fLabels\":null,\"fModLabs\":null},\"fBarOffset\":0,\"fBarWidth\":1000,\"fEntries\":289,\"fTsumw\":0,\"fTsumw2\":0,\"fTsumwx\":0,\"fTsumwx2\":0,\"fMaximum\":-1111,\"fMinimum\":-1111,\"fNormFactor\":0,\"fContour\":[-9.31395396498202e-5,-8.19490010402301e-5,-7.07584624306399e-5,-5.95679238210497e-5,-4.83773852114596e-5,-3.71868466018694e-5,-2.59963079922793e-5,-1.48057693826891e-5,-3.61523077309895e-6,7.57530783649121e-6,1.87658464460814e-5,2.99563850556715e-5,4.11469236652617e-5,5.23374622748518e-5,6.3528000884442e-5,7.47185394940322e-5,8.59090781036223e-5,9.70996167132125e-5,1.08290155322803e-4,1.19480693932393e-4],\"fSumw2\":[],\"fOption\":\"\",\"fFunctions\":{\"_typename\":\"TList\",\"name\":\"TList\",\"arr\":[{\"_typename\":\"TPaletteAxis\",\"fUniqueID\":0,\"fBits\":0,\"fLineColor\":1,\"fLineStyle\":1,\"fLineWidth\":1,\"fFillColor\":1178,\"fFillStyle\":1001,\"fX1\":17.1062500015832,\"fY1\":0,\"fX2\":18.0625000158325,\"fY2\":17,\"fX1NDC\":0.904999994039535,\"fY1NDC\":0.100000005960465,\"fX2NDC\":0.949999994039535,\"fY2NDC\":0.899999994039535,\"fBorderSize\":4,\"fInit\":1,\"fShadowColor\":1,\"fCornerRadius\":0,\"fOption\":\"br\",\"fName\":\"TPave\",\"fAxis\":{\"_typename\":\"TGaxis\",\"fUniqueID\":0,\"fBits\":0,\"fLineColor\":1,\"fLineStyle\":1,\"fLineWidth\":1,\"fX1\":0,\"fY1\":0,\"fX2\":0,\"fY2\":0,\"fTextAngle\":0,\"fTextSize\":0.04,\"fTextAlign\":11,\"fTextColor\":1,\"fTextFont\":42,\"fWmin\":0,\"fWmax\":0,\"fGridLength\":0,\"fTickSize\":0.03,\"fLabelOffset\":0.005,\"fLabelSize\":0.035,\"fTitleOffset\":1,\"fTitleSize\":0.035,\"fNdiv\":0,\"fLabelColor\":1,\"fLabelFont\":42,\"fNModLabs\":0,\"fChopt\":\"\",\"fName\":\"\",\"fTitle\":\"\",\"fTimeFormat\":\"\",\"fFunctionName\":\"\",\"fModLabs\":null},\"fName\":\"palette\"}],\"opt\":[\"br\"]},\"fBufferSize\":0,\"fBuffer\":[],\"fBinStatErrOpt\":0,\"fStatOverflows\":2,\"fScalefactor\":1,\"fTsumwy\":0,\"fTsumwy2\":0,\"fTsumwxy\":0,\"fArray\":[0,0,0,0,0,0,0,0,0,0,0,0,0,0,0,0,0,0,0,0,0,0,0,0,0,0,0,0,0,0,0,0,0,0,0,0,0,0,0,0,0,0,0,0,0,0,0,0,0,0,0,0,0,0,0,0,0,0,0,0,0,0,0,0,0,0,0,0,0,0,0,0,0,0,0,0,0,0,0,0,0,0,0,0,0,0,0,0,0,0,0,0,0,0,0,0,0,0,0,0,0,0,0,0,0,0,0,0,0,0,0,0,0,0,0,0,0,0,0,0,0,0,0,0,0,0,0,0,0,0,0,0,0,0,0,0,0,0,0,0,6.08395204191028e-6,-5.13782397461985e-6,-9.46128067290652e-7,0,-3.89681869853102e-7,2.1046993669683e-7,1.79211933156228e-7,0,1.24906518968369e-6,-8.30813617857498e-8,-1.16598382790109e-6,0,0,0,0,0,0,0,0,-5.13782397461968e-6,6.43569449672028e-6,-1.29787052210042e-6,0,1.72356173721963e-7,-1.6065893668351e-7,-1.16972370384158e-8,0,-9.28372315876929e-8,-1.90348010052233e-9,9.47407116912789e-8,0,0,0,0,0,0,0,0,-9.46128067290599e-7,-1.29787052210043e-6,2.24399858939108e-6,0,2.17325696131128e-7,-4.98110000133061e-8,-1.67514696117818e-7,0,-1.15622795809585e-6,8.49848418862612e-8,1.07124311620972e-6,0,0,0,0,0,0,0,0,0,0,0,0,0,0,0,0,0,0,0,0,0,0,0,0,0,0,0,-3.89681869853148e-7,1.72356173722051e-7,2.17325696131075e-7,0,8.7600051406564e-6,-6.08140937635054e-6,-2.67859576430586e-6,0,-1.56207850082758e-5,1.7274290771913e-6,1.38933559310841e-5,0,0,0,0,0,0,0,0,2.10469936696858e-7,-1.60658936683642e-7,-4.98110000132264e-8,0,-6.08140937635049e-6,7.62986262477405e-6,-1.54845324842357e-6,0,8.76099454809122e-6,-2.07267774616863e-6,-6.68831680192219e-6,0,0,0,0,0,0,0,0,1.79211933156289e-7,-1.16972370384089e-8,-1.67514696117848e-7,0,-2.6785957643059e-6,-1.54845324842352e-6,4.22704901272943e-6,0,6.85979046018458e-6,3.45248668977334e-7,-7.20503912916188e-6,0,0,0,0,0,0,0,0,0,0,0,0,0,0,0,0,0,0,0,0,0,0,0,0,0,0,0,1.24906518968557e-6,-9.28372315912489e-8,-1.15622795809648e-6,0,-1.56207850082751e-5,8.76099454809221e-6,6.85979046018554e-6,0,1.30671232541983e-4,-3.75316928921664e-5,-9.31395396498202e-5,0,0,0,0,0,0,0,0,-8.3081361784381e-8,-1.90348009998627e-9,8.49848418868151e-8,0,1.72742907719151e-6,-2.07267774617021e-6,3.45248668976663e-7,0,-3.75316928921676e-5,3.67768438118152e-5,7.54849080353769e-7,0,0,0,0,0,0,0,0,-1.16598382790118e-6,9.47407116912385e-8,1.07124311620965e-6,0,1.38933559310834e-5,-6.68831680192184e-6,-7.20503912916226e-6,0,-9.31395396498139e-5,7.54849080351005e-7,9.23846905694654e-5,0,0,0,0,0,0,0,0,0,0,0,0,0,0,0,0,0,0,0,0]}],\"opt\":[\"\",\"colz\"]},\"fExecs\":null,\"fName\":\"c_sys\",\"fTitle\":\"c_sys\",\"fNumPaletteColor\":0,\"fNextPaletteColor\":0,\"fDISPLAY\":\"$DISPLAY\",\"fDoubleBuffer\":0,\"fRetained\":true,\"fXsizeUser\":0,\"fYsizeUser\":0,\"fXsizeReal\":20,\"fYsizeReal\":20,\"fWindowTopX\":0,\"fWindowTopY\":0,\"fWindowWidth\":0,\"fWindowHeight\":0,\"fCw\":496,\"fCh\":472,\"fCatt\":{\"_typename\":\"TAttCanvas\",\"fXBetween\":2,\"fYBetween\":2,\"fTitleFromTop\":1.2,\"fXdate\":0.2,\"fYdate\":0.3,\"fAdate\":1},\"kMoveOpaque\":true,\"kResizeOpaque\":true,\"fHighLightColor\":2,\"fBatch\":true,\"kShowEventStatus\":false,\"kAutoExec\":true,\"kMenuBar\":true});\n",
       "            Core.draw(\"root_plot_1592339357905\", obj, \"\");\n",
       "        }\n",
       "    );\n",
       "}\n",
       "</script>\n"
      ],
      "text/plain": [
       "<IPython.core.display.HTML object>"
      ]
     },
     "metadata": {},
     "output_type": "display_data"
    }
   ],
   "source": [
    "covnorm.Draw(\"colz\")\n",
    "ROOT.gPad.Draw()\n",
    "#ROOT.gPad.SetLogz()"
   ]
  },
  {
   "cell_type": "code",
   "execution_count": 48,
   "metadata": {},
   "outputs": [],
   "source": [
    "# Now prepare various distributions. \n",
    "o_norm = o.Clone(\"o_norm\")\n",
    "\n",
    "o_norm.Scale(1.0 / o_norm.Integral() )\n",
    "o_unfunc_norm = o_unfunc.Clone(\"o_unc_norm\")        # Unfolding and stat unc\n",
    "o_sys_norm = o_norm.Clone(\"o_sys_norm\")        # Syst uncertainty\n",
    "o_unctot_norm = o_norm.Clone(\"o_unctot_norm\")  # Total uncertainty\n",
    "o_sys_norm.SetLineStyle(2)\n",
    "\n",
    "# Create total uncertainty and sys uncertainty plots. \n",
    "# Also fix the uncertainties on the output\n",
    "for i in range( 0, o_norm.GetNbinsX() + 1):\n",
    "    unc_tot_norm = ROOT.TMath.Sqrt( covnorm[i][i] )\n",
    "    o_unctot_norm.SetBinContent(i, unc_tot_norm )    \n",
    "    o_norm.SetBinError(i, unc_tot_norm )"
   ]
  },
  {
   "cell_type": "code",
   "execution_count": 49,
   "metadata": {},
   "outputs": [
    {
     "data": {
      "text/html": [
       "\n",
       "<div id=\"root_plot_1592339193699\"\n",
       "     style=\"width: 696px; height: 472px\">\n",
       "</div>\n",
       "<script>\n",
       "if (typeof require !== 'undefined') {\n",
       "\n",
       "    // All requirements met (we are in jupyter notebooks or we loaded requirejs before).\n",
       "    display_root_plot_1592339193699();\n",
       "\n",
       "} else {\n",
       "\n",
       "    // We are in jupyterlab, we need to insert requirejs and configure it.\n",
       "    // Jupyterlab might be installed in a different base_url so we need to know it.\n",
       "    try {\n",
       "        var base_url = JSON.parse(document.getElementById('jupyter-config-data').innerHTML).baseUrl;\n",
       "    } catch(_) {\n",
       "        var base_url = '/';\n",
       "    }\n",
       "\n",
       "    // Try loading a local version of requirejs and fallback to cdn if not possible.\n",
       "    requirejs_load(base_url + 'static/components/requirejs/require.js', requirejs_success(base_url), function(){\n",
       "        requirejs_load('https://cdnjs.cloudflare.com/ajax/libs/require.js/2.2.0/require.min.js', requirejs_success(base_url), function(){\n",
       "            document.getElementById(\"root_plot_1592339193699\").innerHTML = \"Failed to load requireJs\";\n",
       "        });\n",
       "    });\n",
       "}\n",
       "\n",
       "function requirejs_load(src, on_load, on_error) {\n",
       "    var script = document.createElement('script');\n",
       "    script.src = src;\n",
       "    script.onload = on_load;\n",
       "    script.onerror = on_error;\n",
       "    document.head.appendChild(script);\n",
       "}\n",
       "\n",
       "function requirejs_success(base_url) {\n",
       "    return function() {\n",
       "        require.config({\n",
       "            baseUrl: base_url + 'static/'\n",
       "        });\n",
       "        display_root_plot_1592339193699();\n",
       "    }\n",
       "}\n",
       "\n",
       "function display_root_plot_1592339193699() {\n",
       "    require(['scripts/JSRootCore'],\n",
       "        function(Core) {\n",
       "            var obj = Core.JSONR_unref({\"_typename\":\"TCanvas\",\"fUniqueID\":0,\"fBits\":3342344,\"fLineColor\":1,\"fLineStyle\":1,\"fLineWidth\":1,\"fFillColor\":0,\"fFillStyle\":1001,\"fLeftMargin\":0.1,\"fRightMargin\":0.1,\"fBottomMargin\":0.1,\"fTopMargin\":0.1,\"fXfile\":2,\"fYfile\":2,\"fAfile\":1,\"fXstat\":0.99,\"fYstat\":0.99,\"fAstat\":2,\"fFrameFillColor\":0,\"fFrameLineColor\":1,\"fFrameFillStyle\":1001,\"fFrameLineStyle\":1,\"fFrameLineWidth\":1,\"fFrameBorderSize\":1,\"fFrameBorderMode\":0,\"fX1\":-1.50000014901162,\"fY1\":-0.041935993219523,\"fX2\":18.5000001490116,\"fY2\":0.251312835219143,\"fXtoAbsPixelk\":52.2000544077637,\"fXtoPixelk\":52.2000544077637,\"fXtoPixel\":34.7999994814396,\"fYtoAbsPixelk\":404.501779316355,\"fYtoPixelk\":404.501779316355,\"fYtoPixel\":-1609.55459741494,\"fUtoAbsPixelk\":5e-5,\"fUtoPixelk\":5e-5,\"fUtoPixel\":696,\"fVtoAbsPixelk\":472.00005,\"fVtoPixelk\":472,\"fVtoPixel\":-472,\"fAbsPixeltoXk\":-1.50000014901162,\"fPixeltoXk\":-1.50000014901162,\"fPixeltoX\":0.0287356326121024,\"fAbsPixeltoYk\":0.251312835219143,\"fPixeltoYk\":-0.041935993219523,\"fPixeltoY\":-6.21289890759885e-4,\"fXlowNDC\":0,\"fYlowNDC\":0,\"fXUpNDC\":1,\"fYUpNDC\":1,\"fWNDC\":1,\"fHNDC\":1,\"fAbsXlowNDC\":0,\"fAbsYlowNDC\":0,\"fAbsWNDC\":1,\"fAbsHNDC\":1,\"fUxmin\":0.5,\"fUymin\":-0.0126111086277571,\"fUxmax\":16.5,\"fUymax\":0.221987950627377,\"fTheta\":30,\"fPhi\":30,\"fAspectRatio\":0,\"fNumber\":0,\"fTickx\":0,\"fTicky\":0,\"fLogx\":0,\"fLogy\":0,\"fLogz\":1,\"fPadPaint\":0,\"fCrosshair\":0,\"fCrosshairPos\":0,\"fBorderSize\":2,\"fBorderMode\":0,\"fModified\":false,\"fGridx\":false,\"fGridy\":false,\"fAbsCoord\":false,\"fEditable\":true,\"fFixedAspectRatio\":false,\"fPrimitives\":{\"_typename\":\"TList\",\"name\":\"TList\",\"arr\":[{\"_typename\":\"TFrame\",\"fUniqueID\":0,\"fBits\":8,\"fLineColor\":1,\"fLineStyle\":1,\"fLineWidth\":1,\"fFillColor\":0,\"fFillStyle\":1001,\"fX1\":0.5,\"fY1\":-0.0126111086277571,\"fX2\":16.5,\"fY2\":0.221987950627377,\"fBorderSize\":1,\"fBorderMode\":0},{\"_typename\":\"TH1D\",\"fUniqueID\":0,\"fBits\":520,\"fName\":\"o_norm\",\"fTitle\":\"Normalized unfolded results\",\"fLineColor\":602,\"fLineStyle\":1,\"fLineWidth\":1,\"fFillColor\":0,\"fFillStyle\":1001,\"fMarkerColor\":1,\"fMarkerStyle\":20,\"fMarkerSize\":1,\"fNcells\":18,\"fXaxis\":{\"_typename\":\"TAxis\",\"fUniqueID\":0,\"fBits\":0,\"fName\":\"xaxis\",\"fTitle\":\"generator\",\"fNdivisions\":510,\"fAxisColor\":1,\"fLabelColor\":1,\"fLabelFont\":42,\"fLabelOffset\":0.005,\"fLabelSize\":0.035,\"fTickLength\":0.03,\"fTitleOffset\":1,\"fTitleSize\":0.035,\"fTitleColor\":1,\"fTitleFont\":42,\"fNbins\":16,\"fXmin\":0.5,\"fXmax\":16.5,\"fXbins\":[0.5,1.5,2.5,3.5,4.5,5.5,6.5,7.5,8.5,9.5,10.5,11.5,12.5,13.5,14.5,15.5,16.5],\"fFirst\":0,\"fLast\":0,\"fBits2\":0,\"fTimeDisplay\":false,\"fTimeFormat\":\"\",\"fLabels\":null,\"fModLabs\":null},\"fYaxis\":{\"_typename\":\"TAxis\",\"fUniqueID\":0,\"fBits\":0,\"fName\":\"yaxis\",\"fTitle\":\"\",\"fNdivisions\":510,\"fAxisColor\":1,\"fLabelColor\":1,\"fLabelFont\":42,\"fLabelOffset\":0.005,\"fLabelSize\":0.035,\"fTickLength\":0.03,\"fTitleOffset\":0,\"fTitleSize\":0.035,\"fTitleColor\":1,\"fTitleFont\":42,\"fNbins\":1,\"fXmin\":0,\"fXmax\":1,\"fXbins\":[],\"fFirst\":0,\"fLast\":0,\"fBits2\":0,\"fTimeDisplay\":false,\"fTimeFormat\":\"\",\"fLabels\":null,\"fModLabs\":null},\"fZaxis\":{\"_typename\":\"TAxis\",\"fUniqueID\":0,\"fBits\":0,\"fName\":\"zaxis\",\"fTitle\":\"\",\"fNdivisions\":510,\"fAxisColor\":1,\"fLabelColor\":1,\"fLabelFont\":42,\"fLabelOffset\":0.005,\"fLabelSize\":0.035,\"fTickLength\":0.03,\"fTitleOffset\":1,\"fTitleSize\":0.035,\"fTitleColor\":1,\"fTitleFont\":42,\"fNbins\":1,\"fXmin\":0,\"fXmax\":1,\"fXbins\":[],\"fFirst\":0,\"fLast\":0,\"fBits2\":0,\"fTimeDisplay\":false,\"fTimeFormat\":\"\",\"fLabels\":null,\"fModLabs\":null},\"fBarOffset\":0,\"fBarWidth\":1000,\"fEntries\":27,\"fTsumw\":1e-5,\"fTsumw2\":1.0411268797201e-12,\"fTsumwx\":9.16447e-5,\"fTsumwx2\":9.098785e-4,\"fMaximum\":-1111,\"fMinimum\":-1111,\"fNormFactor\":0,\"fContour\":[],\"fSumw2\":[0,0,0,0,0,0,6.08395204191028e-6,6.43569449672028e-6,2.24399858939108e-6,0,8.7600051406564e-6,7.62986262477405e-6,4.22704901272943e-6,0,1.30671232541983e-4,3.67768438118152e-5,9.23846905694654e-5,0],\"fOption\":\"\",\"fFunctions\":{\"_typename\":\"TList\",\"name\":\"TList\",\"arr\":[],\"opt\":[]},\"fBufferSize\":0,\"fBuffer\":[],\"fBinStatErrOpt\":0,\"fStatOverflows\":2,\"fArray\":[0,0,0,0,0,0,0.20835,0.20824,0.04034,0,0.20707,0.20467,0.04143,0,0.0414,0.04086,0.00764,0]},{\"_typename\":\"TPaveText\",\"fUniqueID\":0,\"fBits\":9,\"fLineColor\":1,\"fLineStyle\":1,\"fLineWidth\":1,\"fFillColor\":0,\"fFillStyle\":0,\"fX1\":3.67356314647129,\"fY1\":0.233717906670806,\"fX2\":13.3264368535287,\"fY2\":0.249846592475269,\"fX1NDC\":0.25867816091954,\"fY1NDC\":0.940000003948808,\"fX2NDC\":0.74132183908046,\"fY2NDC\":0.995000004768372,\"fBorderSize\":0,\"fInit\":1,\"fShadowColor\":1,\"fCornerRadius\":0,\"fOption\":\"blNDC\",\"fName\":\"title\",\"fTextAngle\":0,\"fTextSize\":0,\"fTextAlign\":22,\"fTextColor\":1,\"fTextFont\":42,\"fLabel\":\"\",\"fLongest\":27,\"fMargin\":0.05,\"fLines\":{\"_typename\":\"TList\",\"name\":\"TList\",\"arr\":[{\"_typename\":\"TLatex\",\"fUniqueID\":0,\"fBits\":0,\"fName\":\"\",\"fTitle\":\"Normalized unfolded results\",\"fTextAngle\":0,\"fTextSize\":0,\"fTextAlign\":0,\"fTextColor\":0,\"fTextFont\":0,\"fX\":0,\"fY\":0,\"fLineColor\":1,\"fLineStyle\":1,\"fLineWidth\":2,\"fLimitFactorSize\":3,\"fOriginSize\":0.0467500016093254}],\"opt\":[\"\"]}}],\"opt\":[\"\",\"\",\"blNDC\"]},\"fExecs\":null,\"fName\":\"c\",\"fTitle\":\"c\",\"fNumPaletteColor\":0,\"fNextPaletteColor\":0,\"fDISPLAY\":\"$DISPLAY\",\"fDoubleBuffer\":0,\"fRetained\":true,\"fXsizeUser\":0,\"fYsizeUser\":0,\"fXsizeReal\":20,\"fYsizeReal\":14.28571,\"fWindowTopX\":0,\"fWindowTopY\":0,\"fWindowWidth\":0,\"fWindowHeight\":0,\"fCw\":696,\"fCh\":472,\"fCatt\":{\"_typename\":\"TAttCanvas\",\"fXBetween\":2,\"fYBetween\":2,\"fTitleFromTop\":1.2,\"fXdate\":0.2,\"fYdate\":0.3,\"fAdate\":1},\"kMoveOpaque\":true,\"kResizeOpaque\":true,\"fHighLightColor\":2,\"fBatch\":true,\"kShowEventStatus\":false,\"kAutoExec\":true,\"kMenuBar\":true});\n",
       "            Core.draw(\"root_plot_1592339193699\", obj, \"\");\n",
       "        }\n",
       "    );\n",
       "}\n",
       "</script>\n"
      ],
      "text/plain": [
       "<IPython.core.display.HTML object>"
      ]
     },
     "metadata": {},
     "output_type": "display_data"
    }
   ],
   "source": [
    "o_norm.SetTitle(\"Normalized unfolded results\")\n",
    "o_norm.Draw()\n",
    "ROOT.gPad.Draw()"
   ]
  },
  {
   "cell_type": "markdown",
   "metadata": {},
   "source": [
    "## Plot closure\n",
    "\n",
    "The closure plot is the true distribution divided by the unfolded distribution. Aside from the outermost bins, the closure is consistent with unity. "
   ]
  },
  {
   "cell_type": "code",
   "execution_count": 50,
   "metadata": {},
   "outputs": [
    {
     "data": {
      "text/html": [
       "\n",
       "<div id=\"root_plot_1592339193726\"\n",
       "     style=\"width: 496px; height: 472px\">\n",
       "</div>\n",
       "<script>\n",
       "if (typeof require !== 'undefined') {\n",
       "\n",
       "    // All requirements met (we are in jupyter notebooks or we loaded requirejs before).\n",
       "    display_root_plot_1592339193726();\n",
       "\n",
       "} else {\n",
       "\n",
       "    // We are in jupyterlab, we need to insert requirejs and configure it.\n",
       "    // Jupyterlab might be installed in a different base_url so we need to know it.\n",
       "    try {\n",
       "        var base_url = JSON.parse(document.getElementById('jupyter-config-data').innerHTML).baseUrl;\n",
       "    } catch(_) {\n",
       "        var base_url = '/';\n",
       "    }\n",
       "\n",
       "    // Try loading a local version of requirejs and fallback to cdn if not possible.\n",
       "    requirejs_load(base_url + 'static/components/requirejs/require.js', requirejs_success(base_url), function(){\n",
       "        requirejs_load('https://cdnjs.cloudflare.com/ajax/libs/require.js/2.2.0/require.min.js', requirejs_success(base_url), function(){\n",
       "            document.getElementById(\"root_plot_1592339193726\").innerHTML = \"Failed to load requireJs\";\n",
       "        });\n",
       "    });\n",
       "}\n",
       "\n",
       "function requirejs_load(src, on_load, on_error) {\n",
       "    var script = document.createElement('script');\n",
       "    script.src = src;\n",
       "    script.onload = on_load;\n",
       "    script.onerror = on_error;\n",
       "    document.head.appendChild(script);\n",
       "}\n",
       "\n",
       "function requirejs_success(base_url) {\n",
       "    return function() {\n",
       "        require.config({\n",
       "            baseUrl: base_url + 'static/'\n",
       "        });\n",
       "        display_root_plot_1592339193726();\n",
       "    }\n",
       "}\n",
       "\n",
       "function display_root_plot_1592339193726() {\n",
       "    require(['scripts/JSRootCore'],\n",
       "        function(Core) {\n",
       "            var obj = Core.JSONR_unref({\"_typename\":\"TCanvas\",\"fUniqueID\":0,\"fBits\":3342344,\"fLineColor\":1,\"fLineStyle\":1,\"fLineWidth\":1,\"fFillColor\":0,\"fFillStyle\":1001,\"fLeftMargin\":0.1,\"fRightMargin\":0.1,\"fBottomMargin\":0.1,\"fTopMargin\":0.1,\"fXfile\":2,\"fYfile\":2,\"fAfile\":1,\"fXstat\":0.99,\"fYstat\":0.99,\"fAstat\":2,\"fFrameFillColor\":0,\"fFrameLineColor\":1,\"fFrameFillStyle\":1001,\"fFrameLineStyle\":1,\"fFrameLineWidth\":1,\"fFrameBorderSize\":1,\"fFrameBorderMode\":0,\"fX1\":-1.50000014901162,\"fY1\":-1.75000004842878,\"fX2\":18.5000001490116,\"fY2\":4.75000004842878,\"fXtoAbsPixelk\":37.2000531411649,\"fXtoPixelk\":37.2000531411649,\"fXtoPixel\":24.7999996304512,\"fYtoAbsPixelk\":344.923125299997,\"fYtoPixelk\":344.923125299997,\"fYtoPixel\":-72.615383533331,\"fUtoAbsPixelk\":5e-5,\"fUtoPixelk\":5e-5,\"fUtoPixel\":496,\"fVtoAbsPixelk\":472.00005,\"fVtoPixelk\":472,\"fVtoPixel\":-472,\"fAbsPixeltoXk\":-1.50000014901162,\"fPixeltoXk\":-1.50000014901162,\"fPixeltoX\":0.0403225812460146,\"fAbsPixeltoYk\":4.75000004842878,\"fPixeltoYk\":-1.75000004842878,\"fPixeltoY\":-0.0137711866458846,\"fXlowNDC\":0,\"fYlowNDC\":0,\"fXUpNDC\":1,\"fYUpNDC\":1,\"fWNDC\":1,\"fHNDC\":1,\"fAbsXlowNDC\":0,\"fAbsYlowNDC\":0,\"fAbsWNDC\":1,\"fAbsHNDC\":1,\"fUxmin\":0.5,\"fUymin\":-1.1,\"fUxmax\":16.5,\"fUymax\":4.1,\"fTheta\":30,\"fPhi\":30,\"fAspectRatio\":0,\"fNumber\":0,\"fTickx\":0,\"fTicky\":0,\"fLogx\":0,\"fLogy\":0,\"fLogz\":0,\"fPadPaint\":0,\"fCrosshair\":0,\"fCrosshairPos\":0,\"fBorderSize\":2,\"fBorderMode\":0,\"fModified\":false,\"fGridx\":false,\"fGridy\":false,\"fAbsCoord\":false,\"fEditable\":true,\"fFixedAspectRatio\":false,\"fPrimitives\":{\"_typename\":\"TList\",\"name\":\"TList\",\"arr\":[{\"_typename\":\"TFrame\",\"fUniqueID\":0,\"fBits\":8,\"fLineColor\":1,\"fLineStyle\":1,\"fLineWidth\":1,\"fFillColor\":0,\"fFillStyle\":1001,\"fX1\":0.5,\"fY1\":-1.1,\"fX2\":16.5,\"fY2\":4.1,\"fBorderSize\":1,\"fBorderMode\":0},{\"_typename\":\"TH1D\",\"fUniqueID\":0,\"fBits\":520,\"fName\":\"closure\",\"fTitle\":\"true \\/ unfolded\",\"fLineColor\":1,\"fLineStyle\":1,\"fLineWidth\":1,\"fFillColor\":0,\"fFillStyle\":1001,\"fMarkerColor\":1,\"fMarkerStyle\":4,\"fMarkerSize\":1,\"fNcells\":18,\"fXaxis\":{\"_typename\":\"TAxis\",\"fUniqueID\":0,\"fBits\":0,\"fName\":\"xaxis\",\"fTitle\":\"generator\",\"fNdivisions\":510,\"fAxisColor\":1,\"fLabelColor\":1,\"fLabelFont\":42,\"fLabelOffset\":0.005,\"fLabelSize\":0.035,\"fTickLength\":0.03,\"fTitleOffset\":1,\"fTitleSize\":0.035,\"fTitleColor\":1,\"fTitleFont\":42,\"fNbins\":16,\"fXmin\":0.5,\"fXmax\":16.5,\"fXbins\":[],\"fFirst\":0,\"fLast\":0,\"fBits2\":0,\"fTimeDisplay\":false,\"fTimeFormat\":\"\",\"fLabels\":null,\"fModLabs\":null},\"fYaxis\":{\"_typename\":\"TAxis\",\"fUniqueID\":0,\"fBits\":0,\"fName\":\"yaxis\",\"fTitle\":\"\",\"fNdivisions\":510,\"fAxisColor\":1,\"fLabelColor\":1,\"fLabelFont\":42,\"fLabelOffset\":0.005,\"fLabelSize\":0.035,\"fTickLength\":0.03,\"fTitleOffset\":0,\"fTitleSize\":0.035,\"fTitleColor\":1,\"fTitleFont\":42,\"fNbins\":1,\"fXmin\":0,\"fXmax\":1,\"fXbins\":[],\"fFirst\":0,\"fLast\":0,\"fBits2\":0,\"fTimeDisplay\":false,\"fTimeFormat\":\"\",\"fLabels\":null,\"fModLabs\":null},\"fZaxis\":{\"_typename\":\"TAxis\",\"fUniqueID\":0,\"fBits\":0,\"fName\":\"zaxis\",\"fTitle\":\"\",\"fNdivisions\":510,\"fAxisColor\":1,\"fLabelColor\":1,\"fLabelFont\":42,\"fLabelOffset\":0.005,\"fLabelSize\":0.035,\"fTickLength\":0.03,\"fTitleOffset\":1,\"fTitleSize\":0.035,\"fTitleColor\":1,\"fTitleFont\":42,\"fNbins\":1,\"fXmin\":0,\"fXmax\":1,\"fXbins\":[],\"fFirst\":0,\"fLast\":0,\"fBits2\":0,\"fTimeDisplay\":false,\"fTimeFormat\":\"\",\"fLabels\":null,\"fModLabs\":null},\"fBarOffset\":0,\"fBarWidth\":1000,\"fEntries\":12.7102783961515,\"fTsumw\":9,\"fTsumw2\":6.37279510923426,\"fTsumwx\":99,\"fTsumwx2\":1191,\"fMaximum\":4.1,\"fMinimum\":-1.1,\"fNormFactor\":0,\"fContour\":[],\"fSumw2\":[0,0,0,0,0,0,0.0203958214070005,0.0203729180931883,0.0205892077781402,0,0.0192561212251272,0.0203981641012585,0.0198172142818706,0,1.97658015721702,2.02799933035116,2.24738617477949,0],\"fOption\":\"\",\"fFunctions\":{\"_typename\":\"TList\",\"name\":\"TList\",\"arr\":[],\"opt\":[]},\"fBufferSize\":0,\"fBuffer\":[],\"fBinStatErrOpt\":0,\"fStatOverflows\":2,\"fArray\":[0,0,0,0,0,0,1,1,1,0,1,1,1,0,1,1,1,0]},{\"_typename\":\"TH1D\",\"fUniqueID\":0,\"fBits\":520,\"fName\":\"closure2\",\"fTitle\":\"htrue\",\"fLineColor\":2,\"fLineStyle\":1,\"fLineWidth\":1,\"fFillColor\":0,\"fFillStyle\":1001,\"fMarkerColor\":2,\"fMarkerStyle\":4,\"fMarkerSize\":1,\"fNcells\":18,\"fXaxis\":{\"_typename\":\"TAxis\",\"fUniqueID\":0,\"fBits\":0,\"fName\":\"xaxis\",\"fTitle\":\"generator\",\"fNdivisions\":510,\"fAxisColor\":1,\"fLabelColor\":1,\"fLabelFont\":42,\"fLabelOffset\":0.005,\"fLabelSize\":0.035,\"fTickLength\":0.03,\"fTitleOffset\":1,\"fTitleSize\":0.035,\"fTitleColor\":1,\"fTitleFont\":42,\"fNbins\":16,\"fXmin\":0.5,\"fXmax\":16.5,\"fXbins\":[],\"fFirst\":0,\"fLast\":0,\"fBits2\":0,\"fTimeDisplay\":false,\"fTimeFormat\":\"\",\"fLabels\":null,\"fModLabs\":null},\"fYaxis\":{\"_typename\":\"TAxis\",\"fUniqueID\":0,\"fBits\":0,\"fName\":\"yaxis\",\"fTitle\":\"\",\"fNdivisions\":510,\"fAxisColor\":1,\"fLabelColor\":1,\"fLabelFont\":42,\"fLabelOffset\":0.005,\"fLabelSize\":0.035,\"fTickLength\":0.03,\"fTitleOffset\":0,\"fTitleSize\":0.035,\"fTitleColor\":1,\"fTitleFont\":42,\"fNbins\":1,\"fXmin\":0,\"fXmax\":1,\"fXbins\":[],\"fFirst\":0,\"fLast\":0,\"fBits2\":0,\"fTimeDisplay\":false,\"fTimeFormat\":\"\",\"fLabels\":null,\"fModLabs\":null},\"fZaxis\":{\"_typename\":\"TAxis\",\"fUniqueID\":0,\"fBits\":0,\"fName\":\"zaxis\",\"fTitle\":\"\",\"fNdivisions\":510,\"fAxisColor\":1,\"fLabelColor\":1,\"fLabelFont\":42,\"fLabelOffset\":0.005,\"fLabelSize\":0.035,\"fTickLength\":0.03,\"fTitleOffset\":1,\"fTitleSize\":0.035,\"fTitleColor\":1,\"fTitleFont\":42,\"fNbins\":1,\"fXmin\":0,\"fXmax\":1,\"fXbins\":[],\"fFirst\":0,\"fLast\":0,\"fBits2\":0,\"fTimeDisplay\":false,\"fTimeFormat\":\"\",\"fLabels\":null,\"fModLabs\":null},\"fBarOffset\":0,\"fBarWidth\":1000,\"fEntries\":15311.9370843492,\"fTsumw\":9,\"fTsumw2\":0.00528999038813925,\"fTsumwx\":99,\"fTsumwx2\":1191,\"fMaximum\":-1111,\"fMinimum\":-1111,\"fNormFactor\":0,\"fContour\":[],\"fSumw2\":[0,0,0,0,0,0,9.83556055100842e-5,9.88213901616607e-5,5.26372439857057e-4,0,9.93568293641902e-5,1.01047095330574e-4,5.13288280523753e-4,0,5.09725302444419e-4,5.18668913731477e-4,0.00282435453121603,0],\"fOption\":\"\",\"fFunctions\":{\"_typename\":\"TList\",\"name\":\"TList\",\"arr\":[],\"opt\":[]},\"fBufferSize\":0,\"fBuffer\":[],\"fBinStatErrOpt\":0,\"fStatOverflows\":2,\"fArray\":[0,0,0,0,0,0,1,1,1,0,1,1,1,0,1,1,1,0]},{\"_typename\":\"TLegend\",\"fUniqueID\":0,\"fBits\":8,\"fLineColor\":1,\"fLineStyle\":1,\"fLineWidth\":1,\"fFillColor\":0,\"fFillStyle\":1001,\"fX1\":6.49999997019767,\"fY1\":2.80000001937151,\"fX2\":15.7000001072884,\"fY2\":3.84000003486872,\"fX1NDC\":0.4,\"fY1NDC\":0.7,\"fX2NDC\":0.86,\"fY2NDC\":0.86,\"fBorderSize\":0,\"fInit\":1,\"fShadowColor\":1,\"fCornerRadius\":0,\"fOption\":\"brNDC\",\"fName\":\"TPave\",\"fTextAngle\":0,\"fTextSize\":0,\"fTextAlign\":12,\"fTextColor\":1,\"fTextFont\":42,\"fPrimitives\":{\"_typename\":\"TList\",\"name\":\"TList\",\"arr\":[{\"_typename\":\"TLegendEntry\",\"fUniqueID\":0,\"fBits\":8,\"fTextAngle\":0,\"fTextSize\":0,\"fTextAlign\":0,\"fTextColor\":0,\"fTextFont\":42,\"fLineColor\":1,\"fLineStyle\":1,\"fLineWidth\":1,\"fFillColor\":0,\"fFillStyle\":0,\"fMarkerColor\":1,\"fMarkerStyle\":4,\"fMarkerSize\":1,\"fObject\":{\"$ref\":3},\"fLabel\":\"True \\/ Unfolded, All Unc.\",\"fOption\":\"p\"},{\"_typename\":\"TLegendEntry\",\"fUniqueID\":0,\"fBits\":8,\"fTextAngle\":0,\"fTextSize\":0,\"fTextAlign\":0,\"fTextColor\":0,\"fTextFont\":42,\"fLineColor\":1,\"fLineStyle\":1,\"fLineWidth\":1,\"fFillColor\":0,\"fFillStyle\":0,\"fMarkerColor\":2,\"fMarkerStyle\":4,\"fMarkerSize\":1,\"fObject\":{\"$ref\":8},\"fLabel\":\"True \\/ Unfolded, Stat. Unc.\",\"fOption\":\"p\"}],\"opt\":[\"p\",\"p\"]},\"fEntrySeparation\":0.1,\"fMargin\":0.25,\"fNColumns\":1,\"fColumnSeparation\":0},{\"_typename\":\"TPaveText\",\"fUniqueID\":0,\"fBits\":9,\"fLineColor\":1,\"fLineStyle\":1,\"fLineWidth\":1,\"fFillColor\":0,\"fFillStyle\":0,\"fX1\":4.95322575360055,\"fY1\":4.36000006828457,\"fX2\":12.0467742463994,\"fY2\":4.7175000789389,\"fX1NDC\":0.322661290322581,\"fY1NDC\":0.940000003948808,\"fX2NDC\":0.677338709677419,\"fY2NDC\":0.995000004768372,\"fBorderSize\":0,\"fInit\":1,\"fShadowColor\":1,\"fCornerRadius\":0,\"fOption\":\"blNDC\",\"fName\":\"title\",\"fTextAngle\":0,\"fTextSize\":0,\"fTextAlign\":22,\"fTextColor\":1,\"fTextFont\":42,\"fLabel\":\"\",\"fLongest\":15,\"fMargin\":0.05,\"fLines\":{\"_typename\":\"TList\",\"name\":\"TList\",\"arr\":[{\"_typename\":\"TLatex\",\"fUniqueID\":0,\"fBits\":0,\"fName\":\"\",\"fTitle\":\"true \\/ unfolded\",\"fTextAngle\":0,\"fTextSize\":0,\"fTextAlign\":0,\"fTextColor\":0,\"fTextFont\":0,\"fX\":0,\"fY\":0,\"fLineColor\":1,\"fLineStyle\":1,\"fLineWidth\":2,\"fLimitFactorSize\":3,\"fOriginSize\":0.0467500016093254}],\"opt\":[\"\"]}}],\"opt\":[\"\",\"e1\",\"e1 same\",\"\",\"blNDC\"]},\"fExecs\":null,\"fName\":\"c2\",\"fTitle\":\"c2\",\"fNumPaletteColor\":0,\"fNextPaletteColor\":0,\"fDISPLAY\":\"$DISPLAY\",\"fDoubleBuffer\":0,\"fRetained\":true,\"fXsizeUser\":0,\"fYsizeUser\":0,\"fXsizeReal\":20,\"fYsizeReal\":20,\"fWindowTopX\":0,\"fWindowTopY\":0,\"fWindowWidth\":0,\"fWindowHeight\":0,\"fCw\":496,\"fCh\":472,\"fCatt\":{\"_typename\":\"TAttCanvas\",\"fXBetween\":2,\"fYBetween\":2,\"fTitleFromTop\":1.2,\"fXdate\":0.2,\"fYdate\":0.3,\"fAdate\":1},\"kMoveOpaque\":true,\"kResizeOpaque\":true,\"fHighLightColor\":2,\"fBatch\":true,\"kShowEventStatus\":false,\"kAutoExec\":true,\"kMenuBar\":true});\n",
       "            Core.draw(\"root_plot_1592339193726\", obj, \"\");\n",
       "        }\n",
       "    );\n",
       "}\n",
       "</script>\n"
      ],
      "text/plain": [
       "<IPython.core.display.HTML object>"
      ]
     },
     "metadata": {},
     "output_type": "display_data"
    }
   ],
   "source": [
    "c2 = ROOT.TCanvas(\"c2\", \"c2\", 500, 500)\n",
    "closure = htrue.Clone(\"closure\")\n",
    "closure2 = htrue.Clone(\"closure2\")\n",
    "closure.SetMarkerColor(1)\n",
    "closure.SetLineColor(1)\n",
    "closure2.SetMarkerColor(2)\n",
    "closure2.SetLineColor(2)\n",
    "closure.SetTitle(\"true / unfolded\")\n",
    "closure.Divide(o)\n",
    "closure2.Divide(o_unfunc)\n",
    "closure.Draw('e1')\n",
    "closure2.Draw('e1 same')\n",
    "closure.SetMaximum(4.1)\n",
    "closure.SetMinimum(-1.1)\n",
    "\n",
    "legclosure = ROOT.TLegend(0.4, 0.7, 0.86, 0.86)\n",
    "legclosure.SetBorderSize(0)\n",
    "legclosure.SetFillColor(0)\n",
    "legclosure.AddEntry( closure, \"True / Unfolded, All Unc.\", 'p')\n",
    "legclosure.AddEntry( closure2, \"True / Unfolded, Stat. Unc.\", 'p')\n",
    "legclosure.Draw()\n",
    "c2.Draw()"
   ]
  },
  {
   "cell_type": "markdown",
   "metadata": {},
   "source": [
    "## Plot the total covariance matrix"
   ]
  },
  {
   "cell_type": "code",
   "execution_count": 51,
   "metadata": {},
   "outputs": [
    {
     "data": {
      "text/html": [
       "\n",
       "<div id=\"root_plot_1592339193742\"\n",
       "     style=\"width: 396px; height: 372px\">\n",
       "</div>\n",
       "<script>\n",
       "if (typeof require !== 'undefined') {\n",
       "\n",
       "    // All requirements met (we are in jupyter notebooks or we loaded requirejs before).\n",
       "    display_root_plot_1592339193742();\n",
       "\n",
       "} else {\n",
       "\n",
       "    // We are in jupyterlab, we need to insert requirejs and configure it.\n",
       "    // Jupyterlab might be installed in a different base_url so we need to know it.\n",
       "    try {\n",
       "        var base_url = JSON.parse(document.getElementById('jupyter-config-data').innerHTML).baseUrl;\n",
       "    } catch(_) {\n",
       "        var base_url = '/';\n",
       "    }\n",
       "\n",
       "    // Try loading a local version of requirejs and fallback to cdn if not possible.\n",
       "    requirejs_load(base_url + 'static/components/requirejs/require.js', requirejs_success(base_url), function(){\n",
       "        requirejs_load('https://cdnjs.cloudflare.com/ajax/libs/require.js/2.2.0/require.min.js', requirejs_success(base_url), function(){\n",
       "            document.getElementById(\"root_plot_1592339193742\").innerHTML = \"Failed to load requireJs\";\n",
       "        });\n",
       "    });\n",
       "}\n",
       "\n",
       "function requirejs_load(src, on_load, on_error) {\n",
       "    var script = document.createElement('script');\n",
       "    script.src = src;\n",
       "    script.onload = on_load;\n",
       "    script.onerror = on_error;\n",
       "    document.head.appendChild(script);\n",
       "}\n",
       "\n",
       "function requirejs_success(base_url) {\n",
       "    return function() {\n",
       "        require.config({\n",
       "            baseUrl: base_url + 'static/'\n",
       "        });\n",
       "        display_root_plot_1592339193742();\n",
       "    }\n",
       "}\n",
       "\n",
       "function display_root_plot_1592339193742() {\n",
       "    require(['scripts/JSRootCore'],\n",
       "        function(Core) {\n",
       "            var obj = Core.JSONR_unref({\"_typename\":\"TCanvas\",\"fUniqueID\":0,\"fBits\":3342344,\"fLineColor\":1,\"fLineStyle\":1,\"fLineWidth\":1,\"fFillColor\":0,\"fFillStyle\":1001,\"fLeftMargin\":0.1,\"fRightMargin\":0.1,\"fBottomMargin\":0.1,\"fTopMargin\":0.1,\"fXfile\":2,\"fYfile\":2,\"fAfile\":1,\"fXstat\":0.99,\"fYstat\":0.99,\"fAstat\":2,\"fFrameFillColor\":0,\"fFrameLineColor\":1,\"fFrameFillStyle\":1001,\"fFrameLineStyle\":1,\"fFrameLineWidth\":1,\"fFrameBorderSize\":1,\"fFrameBorderMode\":0,\"fX1\":-1.50000014901162,\"fY1\":-1.50000014901162,\"fX2\":18.5000001490116,\"fY2\":18.5000001490116,\"fXtoAbsPixelk\":29.7000525078655,\"fXtoPixelk\":29.7000525078655,\"fXtoPixel\":19.799999704957,\"fYtoAbsPixelk\":344.100047644126,\"fYtoPixelk\":344.100047644126,\"fYtoPixel\":-18.5999997228384,\"fUtoAbsPixelk\":5e-5,\"fUtoPixelk\":5e-5,\"fUtoPixel\":396,\"fVtoAbsPixelk\":372.00005,\"fVtoPixelk\":372,\"fVtoPixel\":-372,\"fAbsPixeltoXk\":-1.50000014901162,\"fPixeltoXk\":-1.50000014901162,\"fPixeltoX\":0.0505050512576344,\"fAbsPixeltoYk\":18.5000001490116,\"fPixeltoYk\":-1.50000014901162,\"fPixeltoY\":-0.0537634416613528,\"fXlowNDC\":0,\"fYlowNDC\":0,\"fXUpNDC\":1,\"fYUpNDC\":1,\"fWNDC\":1,\"fHNDC\":1,\"fAbsXlowNDC\":0,\"fAbsYlowNDC\":0,\"fAbsWNDC\":1,\"fAbsHNDC\":1,\"fUxmin\":0.5,\"fUymin\":0.5,\"fUxmax\":16.5,\"fUymax\":16.5,\"fTheta\":30,\"fPhi\":30,\"fAspectRatio\":0,\"fNumber\":0,\"fTickx\":0,\"fTicky\":0,\"fLogx\":0,\"fLogy\":0,\"fLogz\":1,\"fPadPaint\":0,\"fCrosshair\":0,\"fCrosshairPos\":0,\"fBorderSize\":2,\"fBorderMode\":0,\"fModified\":false,\"fGridx\":false,\"fGridy\":false,\"fAbsCoord\":false,\"fEditable\":true,\"fFixedAspectRatio\":false,\"fPrimitives\":{\"_typename\":\"TList\",\"name\":\"TList\",\"arr\":[{\"_typename\":\"TFrame\",\"fUniqueID\":0,\"fBits\":8,\"fLineColor\":1,\"fLineStyle\":1,\"fLineWidth\":1,\"fFillColor\":0,\"fFillStyle\":1001,\"fX1\":0.5,\"fY1\":0.5,\"fX2\":16.5,\"fY2\":16.5,\"fBorderSize\":1,\"fBorderMode\":0},{\"_typename\":\"TH2D\",\"fUniqueID\":0,\"fBits\":520,\"fName\":\"cov\",\"fTitle\":\"Covariance Matrix\",\"fLineColor\":602,\"fLineStyle\":1,\"fLineWidth\":1,\"fFillColor\":0,\"fFillStyle\":1001,\"fMarkerColor\":1,\"fMarkerStyle\":1,\"fMarkerSize\":1,\"fNcells\":324,\"fXaxis\":{\"_typename\":\"TAxis\",\"fUniqueID\":0,\"fBits\":0,\"fName\":\"xaxis\",\"fTitle\":\"\",\"fNdivisions\":510,\"fAxisColor\":1,\"fLabelColor\":1,\"fLabelFont\":42,\"fLabelOffset\":0.005,\"fLabelSize\":0.035,\"fTickLength\":0.03,\"fTitleOffset\":1,\"fTitleSize\":0.035,\"fTitleColor\":1,\"fTitleFont\":42,\"fNbins\":16,\"fXmin\":0.5,\"fXmax\":16.5,\"fXbins\":[0.5,1.5,2.5,3.5,4.5,5.5,6.5,7.5,8.5,9.5,10.5,11.5,12.5,13.5,14.5,15.5,16.5],\"fFirst\":0,\"fLast\":0,\"fBits2\":0,\"fTimeDisplay\":false,\"fTimeFormat\":\"\",\"fLabels\":null,\"fModLabs\":null},\"fYaxis\":{\"_typename\":\"TAxis\",\"fUniqueID\":0,\"fBits\":0,\"fName\":\"yaxis\",\"fTitle\":\"\",\"fNdivisions\":510,\"fAxisColor\":1,\"fLabelColor\":1,\"fLabelFont\":42,\"fLabelOffset\":0.005,\"fLabelSize\":0.035,\"fTickLength\":0.03,\"fTitleOffset\":0,\"fTitleSize\":0.035,\"fTitleColor\":1,\"fTitleFont\":42,\"fNbins\":16,\"fXmin\":0.5,\"fXmax\":16.5,\"fXbins\":[0.5,1.5,2.5,3.5,4.5,5.5,6.5,7.5,8.5,9.5,10.5,11.5,12.5,13.5,14.5,15.5,16.5],\"fFirst\":0,\"fLast\":0,\"fBits2\":0,\"fTimeDisplay\":false,\"fTimeFormat\":\"\",\"fLabels\":null,\"fModLabs\":null},\"fZaxis\":{\"_typename\":\"TAxis\",\"fUniqueID\":0,\"fBits\":0,\"fName\":\"zaxis\",\"fTitle\":\"\",\"fNdivisions\":510,\"fAxisColor\":1,\"fLabelColor\":1,\"fLabelFont\":42,\"fLabelOffset\":0.005,\"fLabelSize\":0.035,\"fTickLength\":0.03,\"fTitleOffset\":1,\"fTitleSize\":0.035,\"fTitleColor\":1,\"fTitleFont\":42,\"fNbins\":1,\"fXmin\":0,\"fXmax\":1,\"fXbins\":[],\"fFirst\":0,\"fLast\":0,\"fBits2\":0,\"fTimeDisplay\":false,\"fTimeFormat\":\"\",\"fLabels\":null,\"fModLabs\":null},\"fBarOffset\":0,\"fBarWidth\":1000,\"fEntries\":648,\"fTsumw\":0,\"fTsumw2\":0,\"fTsumwx\":0,\"fTsumwx2\":0,\"fMaximum\":-1111,\"fMinimum\":-1111,\"fNormFactor\":0,\"fContour\":[0,0.376493101884556,0.752986203769111,1.12947930565367,1.50597240753822,1.88246550942278,2.25895861130733,2.63545171319189,3.01194481507644,3.388437916961,3.76493101884556,4.14142412073011,4.51791722261467,4.89441032449922,5.27090342638378,5.64739652826833,6.02388963015289,6.40038273203745,6.776875833922,7.15336893580656],\"fSumw2\":[0,0,0,0,0,0,0,0,0,0,0,0,0,0,0,0,0,0,0,0,0,0,0,0,0,0,0,0,0,0,0,0,0,0,0,0,0,0,0,0,0,0,0,0,0,0,0,0,0,0,0,0,0,0,0,0,0,0,0,0,0,0,0,0,0,0,0,0,0,0,0,0,0,0,0,0,0,0,0,0,0,0,0,0,0,0,0,0,0,0,0,0,0,0,0,0,0,0,0,0,0,0,0,0,0,0,0,0,0,0,0,0,0,0,0,0,0,0,0,0,0,0,0,0,0,0,0,0,0,0,0,0,0,0,0,0,0,0,0,0,0,0,0,0,0,0,0,0,0,0,0,0,0,0,0,0,0,0,0,0,0,0,0,0,0,0,0,0,0,0,0,0,0,0,0,0,0,0,0,0,0,0,0,0,0,0,0,0,0,0,0,0,0,0,0,0,0,0,0,0,0,0,0,0,0,0,0,0,0,0,0,0,0,0,0,0,0,0,0,0,0,0,0,0,0,0,0,0,0,0,0,0,0,0,0,0,0,0,0,0,0,0,0,0,0,0,0,0,0,0,0,0,0,0,0,0,0,0,0,0,0,0,0,0,0,0,0,0,0,0,0,0,0,0,0,0,0,0,0,0,0,0,0,0,0,0,0,0,0,0,0,0,0,0,0,0,0,0,0,0,0,0,0,0,0,0,0,0,0,0,0,0,0,0,0,0,0,0,0,0,0,0,0,0],\"fOption\":\"\",\"fFunctions\":{\"_typename\":\"TList\",\"name\":\"TList\",\"arr\":[{\"_typename\":\"TPaletteAxis\",\"fUniqueID\":0,\"fBits\":0,\"fLineColor\":1,\"fLineStyle\":1,\"fLineWidth\":1,\"fFillColor\":1178,\"fFillStyle\":1001,\"fX1\":16.6000000014901,\"fY1\":0.5,\"fX2\":17.5000000149012,\"fY2\":16.5,\"fX1NDC\":0.904999994039535,\"fY1NDC\":0.100000005960465,\"fX2NDC\":0.949999994039535,\"fY2NDC\":0.899999994039535,\"fBorderSize\":4,\"fInit\":1,\"fShadowColor\":1,\"fCornerRadius\":0,\"fOption\":\"br\",\"fName\":\"TPave\",\"fAxis\":{\"_typename\":\"TGaxis\",\"fUniqueID\":0,\"fBits\":0,\"fLineColor\":1,\"fLineStyle\":1,\"fLineWidth\":1,\"fX1\":0,\"fY1\":0,\"fX2\":0,\"fY2\":0,\"fTextAngle\":0,\"fTextSize\":0.04,\"fTextAlign\":11,\"fTextColor\":1,\"fTextFont\":42,\"fWmin\":0,\"fWmax\":0,\"fGridLength\":0,\"fTickSize\":0.03,\"fLabelOffset\":0.005,\"fLabelSize\":0.035,\"fTitleOffset\":1,\"fTitleSize\":0.035,\"fNdiv\":0,\"fLabelColor\":1,\"fLabelFont\":42,\"fNModLabs\":0,\"fChopt\":\"\",\"fName\":\"\",\"fTitle\":\"\",\"fTimeFormat\":\"\",\"fFunctionName\":\"\",\"fModLabs\":null},\"fName\":\"palette\"}],\"opt\":[\"br\"]},\"fBufferSize\":0,\"fBuffer\":[],\"fBinStatErrOpt\":0,\"fStatOverflows\":2,\"fScalefactor\":1,\"fTsumwy\":0,\"fTsumwy2\":0,\"fTsumwxy\":0,\"fArray\":[0,0,0,0,0,0,0,0,0,0,0,0,0,0,0,0,0,0,0,0,0,0,0,0,0,0,0,0,0,0,0,0,0,0,0,0,0,0,0,0,0,0,0,0,0,0,0,0,0,0,0,0,0,0,0,0,0,0,0,0,0,0,0,0,0,0,0,0,0,0,0,0,0,0,0,0,0,0,0,0,0,0,0,0,0,0,0,0,0,0,0,0,0,0,0,0,0,0,0,0,0,0,0,0,0,0,0,0,0,0,0,0,0,0,8832934.47437451,8799500.27373652,1694624.28773642,0,8470565.25184366,8599709.06124251,1666121.39228602,0,-17256511.5037889,-17242825.820034,-3378593.10587717,0,0,0,0,0,0,0,8799500.27373652,8813667.34006203,1691958.68820312,0,8459973.9508951,8587202.36052025,1663389.5600593,0,-17235425.5091053,-17221326.1524523,-3373980.11788421,0,0,0,0,0,0,0,1694624.28773642,1691958.68820312,331017.390090089,0,1628027.81103018,1652384.68864413,319644.975555213,0,-3317872.18325114,-3314917.64917355,-649217.755391894,0,0,0,0,0,0,0,0,0,0,0,0,0,0,0,0,0,0,0,0,0,0,0,0,0,8470565.25184366,8459973.9508951,1628027.81103018,0,8235929.75123576,8353051.73422224,1634614.03013386,0,-16661144.0705538,-16662542.9249062,-3279763.17906222,0,0,0,0,0,0,0,8599709.06124251,8587202.36052025,1652384.68864413,0,8353051.73422224,8524284.96112558,1666514.09706848,0,-16929472.0039957,-16936106.7027336,-3337042.38422011,0,0,0,0,0,0,0,1666121.39228602,1663389.5600593,319644.975555213,0,1634614.03013386,1666514.09706848,336008.563863239,0,-3296117.17968769,-3300899.91291011,-654122.907134159,0,0,0,0,0,0,0,0,0,0,0,0,0,0,0,0,0,0,0,0,0,0,0,0,0,-17256511.5037889,-17235425.5091053,-3317872.18325114,0,-16661144.0705538,-16929472.0039957,-3296117.17968769,0,33873653.2626369,33856949.7315153,6648934.24835155,0,0,0,0,0,0,0,-17242825.820034,-17221326.1524523,-3314917.64917355,0,-16662542.9249062,-16936106.7027336,-3300899.91291011,0,33856949.7315153,33854165.9079475,6650635.98919816,0,0,0,0,0,0,0,-3378593.10587717,-3373980.11788421,-649217.755391894,0,-3279763.17906222,-3337042.38422011,-654122.907134159,0,6648934.24835155,6650635.98919816,1311026.32067409,0,0,0,0,0,0,0,0,0,0,0,0,0,0,0,0,0,0,0]},{\"_typename\":\"TPaveText\",\"fUniqueID\":0,\"fBits\":9,\"fLineColor\":1,\"fLineStyle\":1,\"fLineWidth\":1,\"fFillColor\":0,\"fFillStyle\":0,\"fX1\":4.15858579389374,\"fY1\":17.3000002101064,\"fX2\":12.8414142061063,\"fY2\":18.4000002428889,\"fX1NDC\":0.282929292929293,\"fY1NDC\":0.940000003948808,\"fX2NDC\":0.717070707070707,\"fY2NDC\":0.995000004768372,\"fBorderSize\":0,\"fInit\":1,\"fShadowColor\":1,\"fCornerRadius\":0,\"fOption\":\"blNDC\",\"fName\":\"title\",\"fTextAngle\":0,\"fTextSize\":0,\"fTextAlign\":22,\"fTextColor\":1,\"fTextFont\":42,\"fLabel\":\"\",\"fLongest\":17,\"fMargin\":0.05,\"fLines\":{\"_typename\":\"TList\",\"name\":\"TList\",\"arr\":[{\"_typename\":\"TLatex\",\"fUniqueID\":0,\"fBits\":0,\"fName\":\"\",\"fTitle\":\"Covariance Matrix\",\"fTextAngle\":0,\"fTextSize\":0,\"fTextAlign\":0,\"fTextColor\":0,\"fTextFont\":0,\"fX\":0,\"fY\":0,\"fLineColor\":1,\"fLineStyle\":1,\"fLineWidth\":2,\"fLimitFactorSize\":3,\"fOriginSize\":0.0467500016093254}],\"opt\":[\"\"]}}],\"opt\":[\"\",\"colz\",\"blNDC\"]},\"fExecs\":null,\"fName\":\"ccov\",\"fTitle\":\"Covariance Matrix\",\"fNumPaletteColor\":0,\"fNextPaletteColor\":0,\"fDISPLAY\":\"$DISPLAY\",\"fDoubleBuffer\":0,\"fRetained\":true,\"fXsizeUser\":0,\"fYsizeUser\":0,\"fXsizeReal\":20,\"fYsizeReal\":20,\"fWindowTopX\":0,\"fWindowTopY\":0,\"fWindowWidth\":0,\"fWindowHeight\":0,\"fCw\":396,\"fCh\":372,\"fCatt\":{\"_typename\":\"TAttCanvas\",\"fXBetween\":2,\"fYBetween\":2,\"fTitleFromTop\":1.2,\"fXdate\":0.2,\"fYdate\":0.3,\"fAdate\":1},\"kMoveOpaque\":true,\"kResizeOpaque\":true,\"fHighLightColor\":2,\"fBatch\":true,\"kShowEventStatus\":false,\"kAutoExec\":true,\"kMenuBar\":true});\n",
       "            Core.draw(\"root_plot_1592339193742\", obj, \"\");\n",
       "        }\n",
       "    );\n",
       "}\n",
       "</script>\n"
      ],
      "text/plain": [
       "<IPython.core.display.HTML object>"
      ]
     },
     "metadata": {},
     "output_type": "display_data"
    }
   ],
   "source": [
    "\n",
    "ccov = ROOT.TCanvas(\"ccov\", \"Covariance Matrix\", 400, 400)\n",
    "cov.Draw('colz')\n",
    "ccov.SetLogz()\n",
    "ccov.Draw()\n"
   ]
  },
  {
   "cell_type": "markdown",
   "metadata": {},
   "source": [
    "## Plot the covariance matrix from uncorrelated (stat.) uncertainties"
   ]
  },
  {
   "cell_type": "code",
   "execution_count": 52,
   "metadata": {
    "scrolled": false
   },
   "outputs": [
    {
     "data": {
      "text/html": [
       "\n",
       "<div id=\"root_plot_1592339193759\"\n",
       "     style=\"width: 396px; height: 372px\">\n",
       "</div>\n",
       "<script>\n",
       "if (typeof require !== 'undefined') {\n",
       "\n",
       "    // All requirements met (we are in jupyter notebooks or we loaded requirejs before).\n",
       "    display_root_plot_1592339193759();\n",
       "\n",
       "} else {\n",
       "\n",
       "    // We are in jupyterlab, we need to insert requirejs and configure it.\n",
       "    // Jupyterlab might be installed in a different base_url so we need to know it.\n",
       "    try {\n",
       "        var base_url = JSON.parse(document.getElementById('jupyter-config-data').innerHTML).baseUrl;\n",
       "    } catch(_) {\n",
       "        var base_url = '/';\n",
       "    }\n",
       "\n",
       "    // Try loading a local version of requirejs and fallback to cdn if not possible.\n",
       "    requirejs_load(base_url + 'static/components/requirejs/require.js', requirejs_success(base_url), function(){\n",
       "        requirejs_load('https://cdnjs.cloudflare.com/ajax/libs/require.js/2.2.0/require.min.js', requirejs_success(base_url), function(){\n",
       "            document.getElementById(\"root_plot_1592339193759\").innerHTML = \"Failed to load requireJs\";\n",
       "        });\n",
       "    });\n",
       "}\n",
       "\n",
       "function requirejs_load(src, on_load, on_error) {\n",
       "    var script = document.createElement('script');\n",
       "    script.src = src;\n",
       "    script.onload = on_load;\n",
       "    script.onerror = on_error;\n",
       "    document.head.appendChild(script);\n",
       "}\n",
       "\n",
       "function requirejs_success(base_url) {\n",
       "    return function() {\n",
       "        require.config({\n",
       "            baseUrl: base_url + 'static/'\n",
       "        });\n",
       "        display_root_plot_1592339193759();\n",
       "    }\n",
       "}\n",
       "\n",
       "function display_root_plot_1592339193759() {\n",
       "    require(['scripts/JSRootCore'],\n",
       "        function(Core) {\n",
       "            var obj = Core.JSONR_unref({\"_typename\":\"TCanvas\",\"fUniqueID\":0,\"fBits\":3342344,\"fLineColor\":1,\"fLineStyle\":1,\"fLineWidth\":1,\"fFillColor\":0,\"fFillStyle\":1001,\"fLeftMargin\":0.1,\"fRightMargin\":0.1,\"fBottomMargin\":0.1,\"fTopMargin\":0.1,\"fXfile\":2,\"fYfile\":2,\"fAfile\":1,\"fXstat\":0.99,\"fYstat\":0.99,\"fAstat\":2,\"fFrameFillColor\":0,\"fFrameLineColor\":1,\"fFrameFillStyle\":1001,\"fFrameLineStyle\":1,\"fFrameLineWidth\":1,\"fFrameBorderSize\":1,\"fFrameBorderMode\":0,\"fX1\":-1.50000014901162,\"fY1\":-1.50000014901162,\"fX2\":18.5000001490116,\"fY2\":18.5000001490116,\"fXtoAbsPixelk\":29.7000525078655,\"fXtoPixelk\":29.7000525078655,\"fXtoPixel\":19.799999704957,\"fYtoAbsPixelk\":344.100047644126,\"fYtoPixelk\":344.100047644126,\"fYtoPixel\":-18.5999997228384,\"fUtoAbsPixelk\":5e-5,\"fUtoPixelk\":5e-5,\"fUtoPixel\":396,\"fVtoAbsPixelk\":372.00005,\"fVtoPixelk\":372,\"fVtoPixel\":-372,\"fAbsPixeltoXk\":-1.50000014901162,\"fPixeltoXk\":-1.50000014901162,\"fPixeltoX\":0.0505050512576344,\"fAbsPixeltoYk\":18.5000001490116,\"fPixeltoYk\":-1.50000014901162,\"fPixeltoY\":-0.0537634416613528,\"fXlowNDC\":0,\"fYlowNDC\":0,\"fXUpNDC\":1,\"fYUpNDC\":1,\"fWNDC\":1,\"fHNDC\":1,\"fAbsXlowNDC\":0,\"fAbsYlowNDC\":0,\"fAbsWNDC\":1,\"fAbsHNDC\":1,\"fUxmin\":0.5,\"fUymin\":0.5,\"fUxmax\":16.5,\"fUymax\":16.5,\"fTheta\":30,\"fPhi\":30,\"fAspectRatio\":0,\"fNumber\":0,\"fTickx\":0,\"fTicky\":0,\"fLogx\":0,\"fLogy\":0,\"fLogz\":1,\"fPadPaint\":0,\"fCrosshair\":0,\"fCrosshairPos\":0,\"fBorderSize\":2,\"fBorderMode\":0,\"fModified\":false,\"fGridx\":false,\"fGridy\":false,\"fAbsCoord\":false,\"fEditable\":true,\"fFixedAspectRatio\":false,\"fPrimitives\":{\"_typename\":\"TList\",\"name\":\"TList\",\"arr\":[{\"_typename\":\"TFrame\",\"fUniqueID\":0,\"fBits\":8,\"fLineColor\":1,\"fLineStyle\":1,\"fLineWidth\":1,\"fFillColor\":0,\"fFillStyle\":1001,\"fX1\":0.5,\"fY1\":0.5,\"fX2\":16.5,\"fY2\":16.5,\"fBorderSize\":1,\"fBorderMode\":0},{\"_typename\":\"TH2D\",\"fUniqueID\":0,\"fBits\":520,\"fName\":\"cov_uncorr\",\"fTitle\":\"Covariance Matrix from Uncorrelated Uncertainties\",\"fLineColor\":602,\"fLineStyle\":1,\"fLineWidth\":1,\"fFillColor\":0,\"fFillStyle\":1001,\"fMarkerColor\":1,\"fMarkerStyle\":1,\"fMarkerSize\":1,\"fNcells\":324,\"fXaxis\":{\"_typename\":\"TAxis\",\"fUniqueID\":0,\"fBits\":0,\"fName\":\"xaxis\",\"fTitle\":\"\",\"fNdivisions\":510,\"fAxisColor\":1,\"fLabelColor\":1,\"fLabelFont\":42,\"fLabelOffset\":0.005,\"fLabelSize\":0.035,\"fTickLength\":0.03,\"fTitleOffset\":1,\"fTitleSize\":0.035,\"fTitleColor\":1,\"fTitleFont\":42,\"fNbins\":16,\"fXmin\":0.5,\"fXmax\":16.5,\"fXbins\":[0.5,1.5,2.5,3.5,4.5,5.5,6.5,7.5,8.5,9.5,10.5,11.5,12.5,13.5,14.5,15.5,16.5],\"fFirst\":0,\"fLast\":0,\"fBits2\":0,\"fTimeDisplay\":false,\"fTimeFormat\":\"\",\"fLabels\":null,\"fModLabs\":null},\"fYaxis\":{\"_typename\":\"TAxis\",\"fUniqueID\":0,\"fBits\":0,\"fName\":\"yaxis\",\"fTitle\":\"\",\"fNdivisions\":510,\"fAxisColor\":1,\"fLabelColor\":1,\"fLabelFont\":42,\"fLabelOffset\":0.005,\"fLabelSize\":0.035,\"fTickLength\":0.03,\"fTitleOffset\":0,\"fTitleSize\":0.035,\"fTitleColor\":1,\"fTitleFont\":42,\"fNbins\":16,\"fXmin\":0.5,\"fXmax\":16.5,\"fXbins\":[0.5,1.5,2.5,3.5,4.5,5.5,6.5,7.5,8.5,9.5,10.5,11.5,12.5,13.5,14.5,15.5,16.5],\"fFirst\":0,\"fLast\":0,\"fBits2\":0,\"fTimeDisplay\":false,\"fTimeFormat\":\"\",\"fLabels\":null,\"fModLabs\":null},\"fZaxis\":{\"_typename\":\"TAxis\",\"fUniqueID\":0,\"fBits\":0,\"fName\":\"zaxis\",\"fTitle\":\"\",\"fNdivisions\":510,\"fAxisColor\":1,\"fLabelColor\":1,\"fLabelFont\":42,\"fLabelOffset\":0.005,\"fLabelSize\":0.035,\"fTickLength\":0.03,\"fTitleOffset\":1,\"fTitleSize\":0.035,\"fTitleColor\":1,\"fTitleFont\":42,\"fNbins\":1,\"fXmin\":0,\"fXmax\":1,\"fXbins\":[],\"fFirst\":0,\"fLast\":0,\"fBits2\":0,\"fTimeDisplay\":false,\"fTimeFormat\":\"\",\"fLabels\":null,\"fModLabs\":null},\"fBarOffset\":0,\"fBarWidth\":1000,\"fEntries\":405,\"fTsumw\":0,\"fTsumw2\":0,\"fTsumwx\":0,\"fTsumwx2\":0,\"fMaximum\":-1111,\"fMinimum\":-1111,\"fNormFactor\":0,\"fContour\":[0,0.157219915817347,0.314439831634694,0.471659747452041,0.628879663269387,0.786099579086734,0.943319494904081,1.10053941072143,1.25775932653877,1.41497924235612,1.57219915817347,1.72941907399082,1.88663898980816,2.04385890562551,2.20107882144286,2.3582987372602,2.51551865307755,2.6727385688949,2.82995848471224,2.98717840052959],\"fSumw2\":[0,0,0,0,0,0,0,0,0,0,0,0,0,0,0,0,0,0,0,0,0,0,0,0,0,0,0,0,0,0,0,0,0,0,0,0,0,0,0,0,0,0,0,0,0,0,0,0,0,0,0,0,0,0,0,0,0,0,0,0,0,0,0,0,0,0,0,0,0,0,0,0,0,0,0,0,0,0,0,0,0,0,0,0,0,0,0,0,0,0,0,0,0,0,0,0,0,0,0,0,0,0,0,0,0,0,0,0,0,0,0,0,0,0,0,0,0,0,0,0,0,0,0,0,0,0,0,0,0,0,0,0,0,0,0,0,0,0,0,0,0,0,0,0,0,0,0,0,0,0,0,0,0,0,0,0,0,0,0,0,0,0,0,0,0,0,0,0,0,0,0,0,0,0,0,0,0,0,0,0,0,0,0,0,0,0,0,0,0,0,0,0,0,0,0,0,0,0,0,0,0,0,0,0,0,0,0,0,0,0,0,0,0,0,0,0,0,0,0,0,0,0,0,0,0,0,0,0,0,0,0,0,0,0,0,0,0,0,0,0,0,0,0,0,0,0,0,0,0,0,0,0,0,0,0,0,0,0,0,0,0,0,0,0,0,0,0,0,0,0,0,0,0,0,0,0,0,0,0,0,0,0,0,0,0,0,0,0,0,0,0,0,0,0,0,0,0,0,0,0,0,0,0,0,0,0,0,0,0,0,0,0,0,0,0,0,0,0,0,0,0,0,0,0],\"fOption\":\"\",\"fFunctions\":{\"_typename\":\"TList\",\"name\":\"TList\",\"arr\":[{\"_typename\":\"TPaletteAxis\",\"fUniqueID\":0,\"fBits\":0,\"fLineColor\":1,\"fLineStyle\":1,\"fLineWidth\":1,\"fFillColor\":1178,\"fFillStyle\":1001,\"fX1\":16.6000000014901,\"fY1\":0.5,\"fX2\":17.5000000149012,\"fY2\":16.5,\"fX1NDC\":0.904999994039535,\"fY1NDC\":0.100000005960465,\"fX2NDC\":0.949999994039535,\"fY2NDC\":0.899999994039535,\"fBorderSize\":4,\"fInit\":1,\"fShadowColor\":1,\"fCornerRadius\":0,\"fOption\":\"br\",\"fName\":\"TPave\",\"fAxis\":{\"_typename\":\"TGaxis\",\"fUniqueID\":0,\"fBits\":0,\"fLineColor\":1,\"fLineStyle\":1,\"fLineWidth\":1,\"fX1\":0,\"fY1\":0,\"fX2\":0,\"fY2\":0,\"fTextAngle\":0,\"fTextSize\":0.04,\"fTextAlign\":11,\"fTextColor\":1,\"fTextFont\":42,\"fWmin\":0,\"fWmax\":0,\"fGridLength\":0,\"fTickSize\":0.03,\"fLabelOffset\":0.005,\"fLabelSize\":0.035,\"fTitleOffset\":1,\"fTitleSize\":0.035,\"fNdiv\":0,\"fLabelColor\":1,\"fLabelFont\":42,\"fNModLabs\":0,\"fChopt\":\"\",\"fName\":\"\",\"fTitle\":\"\",\"fTimeFormat\":\"\",\"fFunctionName\":\"\",\"fModLabs\":null},\"fName\":\"palette\"}],\"opt\":[\"br\"]},\"fBufferSize\":0,\"fBuffer\":[],\"fBinStatErrOpt\":0,\"fStatOverflows\":2,\"fScalefactor\":1,\"fTsumwy\":0,\"fTsumwy2\":0,\"fTsumwxy\":0,\"fArray\":[0,0,0,0,0,0,0,0,0,0,0,0,0,0,0,0,0,0,0,0,0,0,0,0,0,0,0,0,0,0,0,0,0,0,0,0,0,0,0,0,0,0,0,0,0,0,0,0,0,0,0,0,0,0,0,0,0,0,0,0,0,0,0,0,0,0,0,0,0,0,0,0,0,0,0,0,0,0,0,0,0,0,0,0,0,0,0,0,0,0,0,0,0,0,0,0,0,0,0,0,0,0,0,0,0,0,0,0,0,0,0,0,0,0,1025.89541512229,-355.163012984702,6.43909202499881,0,-336.707170422936,5.09479733064371,-0.0707126111125388,0,3.86861104554839,-0.0611921144904924,4.98308944751938e-4,0,0,0,0,0,0,0,-355.163012984702,1204.806436599,-399.381058097048,0,7.70246002353268,-301.458019723012,4.12563634553866,0,-0.0874152616053026,3.80657871105168,-0.0303477503226461,0,0,0,0,0,0,0,6.43909202499881,-399.381058097048,497.740827894496,0,-0.148654290086715,6.02386951399152,-75.222313706037,0,0.00177336632990379,-0.0813863458623461,0.904347385373462,0,0,0,0,0,0,0,0,0,0,0,0,0,0,0,0,0,0,0,0,0,0,0,0,0,-336.707170422936,7.70246002353268,-0.148654290086715,0,1188.20629189629,-352.694063910151,6.31232325677616,0,-356.248326568912,6.89659186386755,-0.0940785168213364,0,0,0,0,0,0,0,5.09479733064371,-301.458019723012,6.02386951399152,0,-352.694063910151,1394.43513297838,-391.266172290172,0,5.51515360676315,-375.859610604813,5.25170366173941,0,0,0,0,0,0,0,-0.0707126111125388,4.12563634553866,-75.222313706037,0,6.31232325677616,-391.266172290172,524.310513347661,0,-0.110638914578274,7.4210096610384,-76.072392777224,0,0,0,0,0,0,0,0,0,0,0,0,0,0,0,0,0,0,0,0,0,0,0,0,0,3.86861104554839,-0.0874152616053026,0.00177336632990379,0,-356.248326568912,5.51515360676315,-0.110638914578274,0,456.487793776374,-78.617236284705,0.883428931814301,0,0,0,0,0,0,0,-0.0611921144904924,3.80657871105168,-0.0813863458623461,0,6.89659186386755,-375.859610604813,7.4210096610384,0,-78.617236284705,487.382907636839,-51.3941072413414,0,0,0,0,0,0,0,4.98308944751938e-4,-0.0303477503226461,0.904347385373462,0,-0.0940785168213364,5.25170366173941,-76.072392777224,0,0.883428931814301,-51.3941072413414,120.564442452673,0,0,0,0,0,0,0,0,0,0,0,0,0,0,0,0,0,0,0]},{\"_typename\":\"TPaveText\",\"fUniqueID\":0,\"fBits\":9,\"fLineColor\":1,\"fLineStyle\":1,\"fLineWidth\":1,\"fFillColor\":0,\"fFillStyle\":0,\"fX1\":1.49999989569187,\"fY1\":17.3000002101064,\"fX2\":15.5000001043081,\"fY2\":18.4000002428889,\"fX1NDC\":0.15,\"fY1NDC\":0.940000003948808,\"fX2NDC\":0.85,\"fY2NDC\":0.995000004768372,\"fBorderSize\":0,\"fInit\":1,\"fShadowColor\":1,\"fCornerRadius\":0,\"fOption\":\"blNDC\",\"fName\":\"title\",\"fTextAngle\":0,\"fTextSize\":0,\"fTextAlign\":22,\"fTextColor\":1,\"fTextFont\":42,\"fLabel\":\"\",\"fLongest\":49,\"fMargin\":0.05,\"fLines\":{\"_typename\":\"TList\",\"name\":\"TList\",\"arr\":[{\"_typename\":\"TLatex\",\"fUniqueID\":0,\"fBits\":0,\"fName\":\"\",\"fTitle\":\"Covariance Matrix from Uncorrelated Uncertainties\",\"fTextAngle\":0,\"fTextSize\":0,\"fTextAlign\":0,\"fTextColor\":0,\"fTextFont\":0,\"fX\":0,\"fY\":0,\"fLineColor\":1,\"fLineStyle\":1,\"fLineWidth\":2,\"fLimitFactorSize\":3,\"fOriginSize\":0.0467500016093254}],\"opt\":[\"\"]}}],\"opt\":[\"\",\"colz\",\"blNDC\"]},\"fExecs\":null,\"fName\":\"ccov_uncorr\",\"fTitle\":\"Covariance Matrix from Uncorrelated Uncertainties\",\"fNumPaletteColor\":0,\"fNextPaletteColor\":0,\"fDISPLAY\":\"$DISPLAY\",\"fDoubleBuffer\":0,\"fRetained\":true,\"fXsizeUser\":0,\"fYsizeUser\":0,\"fXsizeReal\":20,\"fYsizeReal\":20,\"fWindowTopX\":0,\"fWindowTopY\":0,\"fWindowWidth\":0,\"fWindowHeight\":0,\"fCw\":396,\"fCh\":372,\"fCatt\":{\"_typename\":\"TAttCanvas\",\"fXBetween\":2,\"fYBetween\":2,\"fTitleFromTop\":1.2,\"fXdate\":0.2,\"fYdate\":0.3,\"fAdate\":1},\"kMoveOpaque\":true,\"kResizeOpaque\":true,\"fHighLightColor\":2,\"fBatch\":true,\"kShowEventStatus\":false,\"kAutoExec\":true,\"kMenuBar\":true});\n",
       "            Core.draw(\"root_plot_1592339193759\", obj, \"\");\n",
       "        }\n",
       "    );\n",
       "}\n",
       "</script>\n"
      ],
      "text/plain": [
       "<IPython.core.display.HTML object>"
      ]
     },
     "metadata": {},
     "output_type": "display_data"
    }
   ],
   "source": [
    "\n",
    "ccov_uncorr = ROOT.TCanvas(\"ccov_uncorr\", \"Covariance Matrix from Uncorrelated Uncertainties\", 400, 400)\n",
    "cov_uncorr.Draw('colz')\n",
    "ccov_uncorr.SetLogz()\n",
    "ccov_uncorr.Draw()\n",
    "\n"
   ]
  },
  {
   "cell_type": "markdown",
   "metadata": {},
   "source": [
    "## Plot covariance matrix of the statistical uncertainties from the input data"
   ]
  },
  {
   "cell_type": "code",
   "execution_count": 53,
   "metadata": {},
   "outputs": [
    {
     "data": {
      "text/html": [
       "\n",
       "<div id=\"root_plot_1592339193777\"\n",
       "     style=\"width: 396px; height: 372px\">\n",
       "</div>\n",
       "<script>\n",
       "if (typeof require !== 'undefined') {\n",
       "\n",
       "    // All requirements met (we are in jupyter notebooks or we loaded requirejs before).\n",
       "    display_root_plot_1592339193777();\n",
       "\n",
       "} else {\n",
       "\n",
       "    // We are in jupyterlab, we need to insert requirejs and configure it.\n",
       "    // Jupyterlab might be installed in a different base_url so we need to know it.\n",
       "    try {\n",
       "        var base_url = JSON.parse(document.getElementById('jupyter-config-data').innerHTML).baseUrl;\n",
       "    } catch(_) {\n",
       "        var base_url = '/';\n",
       "    }\n",
       "\n",
       "    // Try loading a local version of requirejs and fallback to cdn if not possible.\n",
       "    requirejs_load(base_url + 'static/components/requirejs/require.js', requirejs_success(base_url), function(){\n",
       "        requirejs_load('https://cdnjs.cloudflare.com/ajax/libs/require.js/2.2.0/require.min.js', requirejs_success(base_url), function(){\n",
       "            document.getElementById(\"root_plot_1592339193777\").innerHTML = \"Failed to load requireJs\";\n",
       "        });\n",
       "    });\n",
       "}\n",
       "\n",
       "function requirejs_load(src, on_load, on_error) {\n",
       "    var script = document.createElement('script');\n",
       "    script.src = src;\n",
       "    script.onload = on_load;\n",
       "    script.onerror = on_error;\n",
       "    document.head.appendChild(script);\n",
       "}\n",
       "\n",
       "function requirejs_success(base_url) {\n",
       "    return function() {\n",
       "        require.config({\n",
       "            baseUrl: base_url + 'static/'\n",
       "        });\n",
       "        display_root_plot_1592339193777();\n",
       "    }\n",
       "}\n",
       "\n",
       "function display_root_plot_1592339193777() {\n",
       "    require(['scripts/JSRootCore'],\n",
       "        function(Core) {\n",
       "            var obj = Core.JSONR_unref({\"_typename\":\"TCanvas\",\"fUniqueID\":0,\"fBits\":3342344,\"fLineColor\":1,\"fLineStyle\":1,\"fLineWidth\":1,\"fFillColor\":0,\"fFillStyle\":1001,\"fLeftMargin\":0.1,\"fRightMargin\":0.1,\"fBottomMargin\":0.1,\"fTopMargin\":0.1,\"fXfile\":2,\"fYfile\":2,\"fAfile\":1,\"fXstat\":0.99,\"fYstat\":0.99,\"fAstat\":2,\"fFrameFillColor\":0,\"fFrameLineColor\":1,\"fFrameFillStyle\":1001,\"fFrameLineStyle\":1,\"fFrameLineWidth\":1,\"fFrameBorderSize\":1,\"fFrameBorderMode\":0,\"fX1\":-1.50000014901162,\"fY1\":-1.50000014901162,\"fX2\":18.5000001490116,\"fY2\":18.5000001490116,\"fXtoAbsPixelk\":29.7000525078655,\"fXtoPixelk\":29.7000525078655,\"fXtoPixel\":19.799999704957,\"fYtoAbsPixelk\":344.100047644126,\"fYtoPixelk\":344.100047644126,\"fYtoPixel\":-18.5999997228384,\"fUtoAbsPixelk\":5e-5,\"fUtoPixelk\":5e-5,\"fUtoPixel\":396,\"fVtoAbsPixelk\":372.00005,\"fVtoPixelk\":372,\"fVtoPixel\":-372,\"fAbsPixeltoXk\":-1.50000014901162,\"fPixeltoXk\":-1.50000014901162,\"fPixeltoX\":0.0505050512576344,\"fAbsPixeltoYk\":18.5000001490116,\"fPixeltoYk\":-1.50000014901162,\"fPixeltoY\":-0.0537634416613528,\"fXlowNDC\":0,\"fYlowNDC\":0,\"fXUpNDC\":1,\"fYUpNDC\":1,\"fWNDC\":1,\"fHNDC\":1,\"fAbsXlowNDC\":0,\"fAbsYlowNDC\":0,\"fAbsWNDC\":1,\"fAbsHNDC\":1,\"fUxmin\":0.5,\"fUymin\":0.5,\"fUxmax\":16.5,\"fUymax\":16.5,\"fTheta\":30,\"fPhi\":30,\"fAspectRatio\":0,\"fNumber\":0,\"fTickx\":0,\"fTicky\":0,\"fLogx\":0,\"fLogy\":0,\"fLogz\":1,\"fPadPaint\":0,\"fCrosshair\":0,\"fCrosshairPos\":0,\"fBorderSize\":2,\"fBorderMode\":0,\"fModified\":false,\"fGridx\":false,\"fGridy\":false,\"fAbsCoord\":false,\"fEditable\":true,\"fFixedAspectRatio\":false,\"fPrimitives\":{\"_typename\":\"TList\",\"name\":\"TList\",\"arr\":[{\"_typename\":\"TFrame\",\"fUniqueID\":0,\"fBits\":8,\"fLineColor\":1,\"fLineStyle\":1,\"fLineWidth\":1,\"fFillColor\":0,\"fFillStyle\":1001,\"fX1\":0.5,\"fY1\":0.5,\"fX2\":16.5,\"fY2\":16.5,\"fBorderSize\":1,\"fBorderMode\":0},{\"_typename\":\"TH2D\",\"fUniqueID\":0,\"fBits\":520,\"fName\":\"cov_uncorr_data\",\"fTitle\":\"Covariance Matrix from Stat Uncertainties of Input Data\",\"fLineColor\":602,\"fLineStyle\":1,\"fLineWidth\":1,\"fFillColor\":0,\"fFillStyle\":1001,\"fMarkerColor\":1,\"fMarkerStyle\":1,\"fMarkerSize\":1,\"fNcells\":324,\"fXaxis\":{\"_typename\":\"TAxis\",\"fUniqueID\":0,\"fBits\":0,\"fName\":\"xaxis\",\"fTitle\":\"\",\"fNdivisions\":510,\"fAxisColor\":1,\"fLabelColor\":1,\"fLabelFont\":42,\"fLabelOffset\":0.005,\"fLabelSize\":0.035,\"fTickLength\":0.03,\"fTitleOffset\":1,\"fTitleSize\":0.035,\"fTitleColor\":1,\"fTitleFont\":42,\"fNbins\":16,\"fXmin\":0.5,\"fXmax\":16.5,\"fXbins\":[0.5,1.5,2.5,3.5,4.5,5.5,6.5,7.5,8.5,9.5,10.5,11.5,12.5,13.5,14.5,15.5,16.5],\"fFirst\":0,\"fLast\":0,\"fBits2\":0,\"fTimeDisplay\":false,\"fTimeFormat\":\"\",\"fLabels\":null,\"fModLabs\":null},\"fYaxis\":{\"_typename\":\"TAxis\",\"fUniqueID\":0,\"fBits\":0,\"fName\":\"yaxis\",\"fTitle\":\"\",\"fNdivisions\":510,\"fAxisColor\":1,\"fLabelColor\":1,\"fLabelFont\":42,\"fLabelOffset\":0.005,\"fLabelSize\":0.035,\"fTickLength\":0.03,\"fTitleOffset\":0,\"fTitleSize\":0.035,\"fTitleColor\":1,\"fTitleFont\":42,\"fNbins\":16,\"fXmin\":0.5,\"fXmax\":16.5,\"fXbins\":[0.5,1.5,2.5,3.5,4.5,5.5,6.5,7.5,8.5,9.5,10.5,11.5,12.5,13.5,14.5,15.5,16.5],\"fFirst\":0,\"fLast\":0,\"fBits2\":0,\"fTimeDisplay\":false,\"fTimeFormat\":\"\",\"fLabels\":null,\"fModLabs\":null},\"fZaxis\":{\"_typename\":\"TAxis\",\"fUniqueID\":0,\"fBits\":0,\"fName\":\"zaxis\",\"fTitle\":\"\",\"fNdivisions\":510,\"fAxisColor\":1,\"fLabelColor\":1,\"fLabelFont\":42,\"fLabelOffset\":0.005,\"fLabelSize\":0.035,\"fTickLength\":0.03,\"fTitleOffset\":1,\"fTitleSize\":0.035,\"fTitleColor\":1,\"fTitleFont\":42,\"fNbins\":1,\"fXmin\":0,\"fXmax\":1,\"fXbins\":[],\"fFirst\":0,\"fLast\":0,\"fBits2\":0,\"fTimeDisplay\":false,\"fTimeFormat\":\"\",\"fLabels\":null,\"fModLabs\":null},\"fBarOffset\":0,\"fBarWidth\":1000,\"fEntries\":405,\"fTsumw\":0,\"fTsumw2\":0,\"fTsumwx\":0,\"fTsumwx2\":0,\"fMaximum\":-1111,\"fMinimum\":-1111,\"fNormFactor\":0,\"fContour\":[0,0.2171495483436,0.434299096687199,0.651448645030799,0.868598193374398,1.085747741718,1.3028972900616,1.5200468384052,1.7371963867488,1.9543459350924,2.171495483436,2.3886450317796,2.6057945801232,2.8229441284668,3.04009367681039,3.25724322515399,3.47439277349759,3.69154232184119,3.90869187018479,4.12584141852839],\"fSumw2\":[0,0,0,0,0,0,0,0,0,0,0,0,0,0,0,0,0,0,0,0,0,0,0,0,0,0,0,0,0,0,0,0,0,0,0,0,0,0,0,0,0,0,0,0,0,0,0,0,0,0,0,0,0,0,0,0,0,0,0,0,0,0,0,0,0,0,0,0,0,0,0,0,0,0,0,0,0,0,0,0,0,0,0,0,0,0,0,0,0,0,0,0,0,0,0,0,0,0,0,0,0,0,0,0,0,0,0,0,0,0,0,0,0,0,0,0,0,0,0,0,0,0,0,0,0,0,0,0,0,0,0,0,0,0,0,0,0,0,0,0,0,0,0,0,0,0,0,0,0,0,0,0,0,0,0,0,0,0,0,0,0,0,0,0,0,0,0,0,0,0,0,0,0,0,0,0,0,0,0,0,0,0,0,0,0,0,0,0,0,0,0,0,0,0,0,0,0,0,0,0,0,0,0,0,0,0,0,0,0,0,0,0,0,0,0,0,0,0,0,0,0,0,0,0,0,0,0,0,0,0,0,0,0,0,0,0,0,0,0,0,0,0,0,0,0,0,0,0,0,0,0,0,0,0,0,0,0,0,0,0,0,0,0,0,0,0,0,0,0,0,0,0,0,0,0,0,0,0,0,0,0,0,0,0,0,0,0,0,0,0,0,0,0,0,0,0,0,0,0,0,0,0,0,0,0,0,0,0,0,0,0,0,0,0,0,0,0,0,0,0,0,0,0,0],\"fOption\":\"\",\"fFunctions\":{\"_typename\":\"TList\",\"name\":\"TList\",\"arr\":[{\"_typename\":\"TPaletteAxis\",\"fUniqueID\":0,\"fBits\":0,\"fLineColor\":1,\"fLineStyle\":1,\"fLineWidth\":1,\"fFillColor\":1178,\"fFillStyle\":1001,\"fX1\":16.6000000014901,\"fY1\":0.5,\"fX2\":17.5000000149012,\"fY2\":16.5,\"fX1NDC\":0.904999994039535,\"fY1NDC\":0.100000005960465,\"fX2NDC\":0.949999994039535,\"fY2NDC\":0.899999994039535,\"fBorderSize\":4,\"fInit\":1,\"fShadowColor\":1,\"fCornerRadius\":0,\"fOption\":\"br\",\"fName\":\"TPave\",\"fAxis\":{\"_typename\":\"TGaxis\",\"fUniqueID\":0,\"fBits\":0,\"fLineColor\":1,\"fLineStyle\":1,\"fLineWidth\":1,\"fX1\":0,\"fY1\":0,\"fX2\":0,\"fY2\":0,\"fTextAngle\":0,\"fTextSize\":0.04,\"fTextAlign\":11,\"fTextColor\":1,\"fTextFont\":42,\"fWmin\":0,\"fWmax\":0,\"fGridLength\":0,\"fTickSize\":0.03,\"fLabelOffset\":0.005,\"fLabelSize\":0.035,\"fTitleOffset\":1,\"fTitleSize\":0.035,\"fNdiv\":0,\"fLabelColor\":1,\"fLabelFont\":42,\"fNModLabs\":0,\"fChopt\":\"\",\"fName\":\"\",\"fTitle\":\"\",\"fTimeFormat\":\"\",\"fFunctionName\":\"\",\"fModLabs\":null},\"fName\":\"palette\"}],\"opt\":[\"br\"]},\"fBufferSize\":0,\"fBuffer\":[],\"fBinStatErrOpt\":0,\"fStatOverflows\":2,\"fScalefactor\":1,\"fTsumwy\":0,\"fTsumwy2\":0,\"fTsumwxy\":0,\"fArray\":[0,0,0,0,0,0,0,0,0,0,0,0,0,0,0,0,0,0,0,0,0,0,0,0,0,0,0,0,0,0,0,0,0,0,0,0,0,0,0,0,0,0,0,0,0,0,0,0,0,0,0,0,0,0,0,0,0,0,0,0,0,0,0,0,0,0,0,0,0,0,0,0,0,0,0,0,0,0,0,0,0,0,0,0,0,0,0,0,0,0,0,0,0,0,0,0,0,0,0,0,0,0,0,0,0,0,0,0,0,0,0,0,0,0,21860.8954151223,-355.163012984701,6.43909202499921,0,-336.707170422935,5.09479733064401,-0.0707126111124986,0,3.86861104554828,-0.0611921144902367,4.98308944748293e-4,0,0,0,0,0,0,0,-355.163012984701,22028.806436599,-399.381058097048,0,7.70246002353346,-301.458019723012,4.12563634553863,0,-0.0874152616054823,3.80657871105187,-0.0303477503226624,0,0,0,0,0,0,0,6.43909202499921,-399.381058097048,4531.74082789449,0,-0.148654290086374,6.02386951399171,-75.2223137060369,0,0.00177336632990707,-0.0813863458622722,0.904347385373465,0,0,0,0,0,0,0,0,0,0,0,0,0,0,0,0,0,0,0,0,0,0,0,0,0,-336.707170422935,7.70246002353346,-0.148654290086374,0,21895.2062918963,-352.694063910151,6.31232325677614,0,-356.248326568913,6.89659186386775,-0.0940785168213505,0,0,0,0,0,0,0,5.09479733064401,-301.458019723012,6.02386951399171,0,-352.694063910151,21861.4351329784,-391.266172290172,0,5.51515360676282,-375.859610604813,5.25170366173936,0,0,0,0,0,0,0,-0.0707126111124986,4.12563634553863,-75.2223137060369,0,6.31232325677614,-391.266172290172,4667.31051334766,0,-0.110638914578344,7.42100966103841,-76.0723927772241,0,0,0,0,0,0,0,0,0,0,0,0,0,0,0,0,0,0,0,0,0,0,0,0,0,3.86861104554828,-0.0874152616054823,0.00177336632990707,0,-356.248326568913,5.51515360676282,-0.110638914578344,0,4596.48779377638,-78.617236284705,0.883428931814285,0,0,0,0,0,0,0,-0.0611921144902367,3.80657871105187,-0.0813863458622722,0,6.89659186386775,-375.859610604813,7.42100966103841,0,-78.617236284705,4573.38290763684,-51.3941072413415,0,0,0,0,0,0,0,4.98308944748293e-4,-0.0303477503226624,0.904347385373465,0,-0.0940785168213505,5.25170366173936,-76.0723927772241,0,0.883428931814285,-51.3941072413414,884.564442452673,0,0,0,0,0,0,0,0,0,0,0,0,0,0,0,0,0,0,0]},{\"_typename\":\"TPaveText\",\"fUniqueID\":0,\"fBits\":9,\"fLineColor\":1,\"fLineStyle\":1,\"fLineWidth\":1,\"fFillColor\":0,\"fFillStyle\":0,\"fX1\":1.49999989569187,\"fY1\":17.1096776430165,\"fX2\":15.5000001043081,\"fY2\":18.4000002428889,\"fX1NDC\":0.15,\"fY1NDC\":0.930483875736113,\"fX2NDC\":0.85,\"fY2NDC\":0.995000004768372,\"fBorderSize\":0,\"fInit\":1,\"fShadowColor\":1,\"fCornerRadius\":0,\"fOption\":\"blNDC\",\"fName\":\"title\",\"fTextAngle\":0,\"fTextSize\":0,\"fTextAlign\":22,\"fTextColor\":1,\"fTextFont\":42,\"fLabel\":\"\",\"fLongest\":55,\"fMargin\":0.05,\"fLines\":{\"_typename\":\"TList\",\"name\":\"TList\",\"arr\":[{\"_typename\":\"TLatex\",\"fUniqueID\":0,\"fBits\":0,\"fName\":\"\",\"fTitle\":\"Covariance Matrix from Stat Uncertainties of Input Data\",\"fTextAngle\":0,\"fTextSize\":0,\"fTextAlign\":0,\"fTextColor\":0,\"fTextFont\":0,\"fX\":0,\"fY\":0,\"fLineColor\":1,\"fLineStyle\":1,\"fLineWidth\":2,\"fLimitFactorSize\":3,\"fOriginSize\":0.0548387095332146}],\"opt\":[\"\"]}}],\"opt\":[\"\",\"colz\",\"blNDC\"]},\"fExecs\":null,\"fName\":\"ccov_uncorr_data\",\"fTitle\":\"Covariance Matrix from Uncorrelated Uncertainties\",\"fNumPaletteColor\":0,\"fNextPaletteColor\":0,\"fDISPLAY\":\"$DISPLAY\",\"fDoubleBuffer\":0,\"fRetained\":true,\"fXsizeUser\":0,\"fYsizeUser\":0,\"fXsizeReal\":20,\"fYsizeReal\":20,\"fWindowTopX\":0,\"fWindowTopY\":0,\"fWindowWidth\":0,\"fWindowHeight\":0,\"fCw\":396,\"fCh\":372,\"fCatt\":{\"_typename\":\"TAttCanvas\",\"fXBetween\":2,\"fYBetween\":2,\"fTitleFromTop\":1.2,\"fXdate\":0.2,\"fYdate\":0.3,\"fAdate\":1},\"kMoveOpaque\":true,\"kResizeOpaque\":true,\"fHighLightColor\":2,\"fBatch\":true,\"kShowEventStatus\":false,\"kAutoExec\":true,\"kMenuBar\":true});\n",
       "            Core.draw(\"root_plot_1592339193777\", obj, \"\");\n",
       "        }\n",
       "    );\n",
       "}\n",
       "</script>\n"
      ],
      "text/plain": [
       "<IPython.core.display.HTML object>"
      ]
     },
     "metadata": {},
     "output_type": "display_data"
    }
   ],
   "source": [
    "\n",
    "ccov_uncorr_data = ROOT.TCanvas(\"ccov_uncorr_data\", \"Covariance Matrix from Uncorrelated Uncertainties\", 400, 400)\n",
    "cov_uncorr_data.Draw('colz')\n",
    "ccov_uncorr_data.SetLogz()\n",
    "ccov_uncorr_data.Draw()\n",
    "\n"
   ]
  },
  {
   "cell_type": "markdown",
   "metadata": {},
   "source": [
    "## Plot fractional uncertainties\n",
    "\n"
   ]
  },
  {
   "cell_type": "code",
   "execution_count": 54,
   "metadata": {},
   "outputs": [
    {
     "data": {
      "text/html": [
       "\n",
       "<div id=\"root_plot_1592339193804\"\n",
       "     style=\"width: 496px; height: 472px\">\n",
       "</div>\n",
       "<script>\n",
       "if (typeof require !== 'undefined') {\n",
       "\n",
       "    // All requirements met (we are in jupyter notebooks or we loaded requirejs before).\n",
       "    display_root_plot_1592339193804();\n",
       "\n",
       "} else {\n",
       "\n",
       "    // We are in jupyterlab, we need to insert requirejs and configure it.\n",
       "    // Jupyterlab might be installed in a different base_url so we need to know it.\n",
       "    try {\n",
       "        var base_url = JSON.parse(document.getElementById('jupyter-config-data').innerHTML).baseUrl;\n",
       "    } catch(_) {\n",
       "        var base_url = '/';\n",
       "    }\n",
       "\n",
       "    // Try loading a local version of requirejs and fallback to cdn if not possible.\n",
       "    requirejs_load(base_url + 'static/components/requirejs/require.js', requirejs_success(base_url), function(){\n",
       "        requirejs_load('https://cdnjs.cloudflare.com/ajax/libs/require.js/2.2.0/require.min.js', requirejs_success(base_url), function(){\n",
       "            document.getElementById(\"root_plot_1592339193804\").innerHTML = \"Failed to load requireJs\";\n",
       "        });\n",
       "    });\n",
       "}\n",
       "\n",
       "function requirejs_load(src, on_load, on_error) {\n",
       "    var script = document.createElement('script');\n",
       "    script.src = src;\n",
       "    script.onload = on_load;\n",
       "    script.onerror = on_error;\n",
       "    document.head.appendChild(script);\n",
       "}\n",
       "\n",
       "function requirejs_success(base_url) {\n",
       "    return function() {\n",
       "        require.config({\n",
       "            baseUrl: base_url + 'static/'\n",
       "        });\n",
       "        display_root_plot_1592339193804();\n",
       "    }\n",
       "}\n",
       "\n",
       "function display_root_plot_1592339193804() {\n",
       "    require(['scripts/JSRootCore'],\n",
       "        function(Core) {\n",
       "            var obj = Core.JSONR_unref({\"_typename\":\"TCanvas\",\"fUniqueID\":0,\"fBits\":3342344,\"fLineColor\":1,\"fLineStyle\":1,\"fLineWidth\":1,\"fFillColor\":0,\"fFillStyle\":1001,\"fLeftMargin\":0.1,\"fRightMargin\":0.1,\"fBottomMargin\":0.1,\"fTopMargin\":0.1,\"fXfile\":2,\"fYfile\":2,\"fAfile\":1,\"fXstat\":0.99,\"fYstat\":0.99,\"fAstat\":2,\"fFrameFillColor\":0,\"fFrameLineColor\":1,\"fFrameFillStyle\":1001,\"fFrameLineStyle\":1,\"fFrameLineWidth\":1,\"fFrameBorderSize\":1,\"fFrameBorderMode\":0,\"fX1\":-1.50000014901162,\"fY1\":-0.0500000037252905,\"fX2\":18.5000001490116,\"fY2\":0.450000003725291,\"fXtoAbsPixelk\":37.2000531411649,\"fXtoPixelk\":37.2000531411649,\"fXtoPixel\":24.7999996304512,\"fYtoAbsPixelk\":424.800047186661,\"fYtoPixelk\":424.800047186661,\"fYtoPixel\":-943.999985933303,\"fUtoAbsPixelk\":5e-5,\"fUtoPixelk\":5e-5,\"fUtoPixel\":496,\"fVtoAbsPixelk\":472.00005,\"fVtoPixelk\":472,\"fVtoPixel\":-472,\"fAbsPixeltoXk\":-1.50000014901162,\"fPixeltoXk\":-1.50000014901162,\"fPixeltoX\":0.0403225812460146,\"fAbsPixeltoYk\":0.450000003725291,\"fPixeltoYk\":-0.0500000037252905,\"fPixeltoY\":-0.00105932204968343,\"fXlowNDC\":0,\"fYlowNDC\":0,\"fXUpNDC\":1,\"fYUpNDC\":1,\"fWNDC\":1,\"fHNDC\":1,\"fAbsXlowNDC\":0,\"fAbsYlowNDC\":0,\"fAbsWNDC\":1,\"fAbsHNDC\":1,\"fUxmin\":0.5,\"fUymin\":0,\"fUxmax\":16.5,\"fUymax\":0.4,\"fTheta\":30,\"fPhi\":30,\"fAspectRatio\":0,\"fNumber\":0,\"fTickx\":0,\"fTicky\":0,\"fLogx\":0,\"fLogy\":0,\"fLogz\":0,\"fPadPaint\":0,\"fCrosshair\":0,\"fCrosshairPos\":0,\"fBorderSize\":2,\"fBorderMode\":0,\"fModified\":false,\"fGridx\":false,\"fGridy\":false,\"fAbsCoord\":false,\"fEditable\":true,\"fFixedAspectRatio\":false,\"fPrimitives\":{\"_typename\":\"TList\",\"name\":\"TList\",\"arr\":[{\"_typename\":\"TFrame\",\"fUniqueID\":0,\"fBits\":8,\"fLineColor\":1,\"fLineStyle\":1,\"fLineWidth\":1,\"fFillColor\":0,\"fFillStyle\":1001,\"fX1\":0.5,\"fY1\":0,\"fX2\":16.5,\"fY2\":0.4,\"fBorderSize\":1,\"fBorderMode\":0},{\"_typename\":\"TH1D\",\"fUniqueID\":0,\"fBits\":520,\"fName\":\"o_sys\",\"fTitle\":\"Fractional Uncertainty\",\"fLineColor\":602,\"fLineStyle\":2,\"fLineWidth\":1,\"fFillColor\":0,\"fFillStyle\":1001,\"fMarkerColor\":1,\"fMarkerStyle\":1,\"fMarkerSize\":1,\"fNcells\":18,\"fXaxis\":{\"_typename\":\"TAxis\",\"fUniqueID\":0,\"fBits\":0,\"fName\":\"xaxis\",\"fTitle\":\"generator\",\"fNdivisions\":510,\"fAxisColor\":1,\"fLabelColor\":1,\"fLabelFont\":42,\"fLabelOffset\":0.005,\"fLabelSize\":0.035,\"fTickLength\":0.03,\"fTitleOffset\":1,\"fTitleSize\":0.035,\"fTitleColor\":1,\"fTitleFont\":42,\"fNbins\":16,\"fXmin\":0.5,\"fXmax\":16.5,\"fXbins\":[0.5,1.5,2.5,3.5,4.5,5.5,6.5,7.5,8.5,9.5,10.5,11.5,12.5,13.5,14.5,15.5,16.5],\"fFirst\":0,\"fLast\":0,\"fBits2\":0,\"fTimeDisplay\":false,\"fTimeFormat\":\"\",\"fLabels\":null,\"fModLabs\":null},\"fYaxis\":{\"_typename\":\"TAxis\",\"fUniqueID\":0,\"fBits\":0,\"fName\":\"yaxis\",\"fTitle\":\"\",\"fNdivisions\":510,\"fAxisColor\":1,\"fLabelColor\":1,\"fLabelFont\":42,\"fLabelOffset\":0.005,\"fLabelSize\":0.035,\"fTickLength\":0.03,\"fTitleOffset\":0,\"fTitleSize\":0.035,\"fTitleColor\":1,\"fTitleFont\":42,\"fNbins\":1,\"fXmin\":0,\"fXmax\":1,\"fXbins\":[],\"fFirst\":0,\"fLast\":0,\"fBits2\":0,\"fTimeDisplay\":false,\"fTimeFormat\":\"\",\"fLabels\":null,\"fModLabs\":null},\"fZaxis\":{\"_typename\":\"TAxis\",\"fUniqueID\":0,\"fBits\":0,\"fName\":\"zaxis\",\"fTitle\":\"\",\"fNdivisions\":510,\"fAxisColor\":1,\"fLabelColor\":1,\"fLabelFont\":42,\"fLabelOffset\":0.005,\"fLabelSize\":0.035,\"fTickLength\":0.03,\"fTitleOffset\":1,\"fTitleSize\":0.035,\"fTitleColor\":1,\"fTitleFont\":42,\"fNbins\":1,\"fXmin\":0,\"fXmax\":1,\"fXbins\":[],\"fFirst\":0,\"fLast\":0,\"fBits2\":0,\"fTimeDisplay\":false,\"fTimeFormat\":\"\",\"fLabels\":null,\"fModLabs\":null},\"fBarOffset\":0,\"fBarWidth\":1000,\"fEntries\":2.04919120232973,\"fTsumw\":5.17377794137993,\"fTsumw2\":13.0627040347806,\"fTsumwx\":72.6088532301431,\"fTsumwx2\":1051.64481672886,\"fMaximum\":0.4,\"fMinimum\":0,\"fNormFactor\":0,\"fContour\":[],\"fSumw2\":[0,0,0,0,0,0,4.63320644574303e-4,4.62812325318059e-4,6.85961808298119e-4,0,4.18970596852473e-4,4.65152440919932e-4,6.49209953988934e-4,0,3.90559983585175,4.11144795711563,5.04251081404329,0],\"fOption\":\"\",\"fFunctions\":{\"_typename\":\"TList\",\"name\":\"TList\",\"arr\":[],\"opt\":[]},\"fBufferSize\":0,\"fBuffer\":[],\"fBinStatErrOpt\":0,\"fStatOverflows\":2,\"fArray\":[0,0,0,0,0,0,0.142460880653584,0.142377380015722,0.141535326752552,0,0.138397952521189,0.142456267636076,0.138828598261445,0,1.40571825000587,1.42388604487301,1.49811724066048,0]},{\"_typename\":\"TLegend\",\"fUniqueID\":0,\"fBits\":8,\"fLineColor\":1,\"fLineStyle\":1,\"fLineWidth\":1,\"fFillColor\":0,\"fFillStyle\":1001,\"fX1\":12.5000000596046,\"fY1\":0.300000001490116,\"fX2\":15.7000001072884,\"fY2\":0.380000002682209,\"fX1NDC\":0.7,\"fY1NDC\":0.7,\"fX2NDC\":0.86,\"fY2NDC\":0.86,\"fBorderSize\":0,\"fInit\":1,\"fShadowColor\":1,\"fCornerRadius\":0,\"fOption\":\"brNDC\",\"fName\":\"TPave\",\"fTextAngle\":0,\"fTextSize\":0,\"fTextAlign\":12,\"fTextColor\":1,\"fTextFont\":42,\"fPrimitives\":{\"_typename\":\"TList\",\"name\":\"TList\",\"arr\":[{\"_typename\":\"TLegendEntry\",\"fUniqueID\":0,\"fBits\":8,\"fTextAngle\":0,\"fTextSize\":0,\"fTextAlign\":0,\"fTextColor\":0,\"fTextFont\":42,\"fLineColor\":602,\"fLineStyle\":2,\"fLineWidth\":1,\"fFillColor\":0,\"fFillStyle\":0,\"fMarkerColor\":1,\"fMarkerStyle\":21,\"fMarkerSize\":1,\"fObject\":{\"$ref\":3},\"fLabel\":\"Syst\",\"fOption\":\"l\"}],\"opt\":[\"l\"]},\"fEntrySeparation\":0.1,\"fMargin\":0.25,\"fNColumns\":1,\"fColumnSeparation\":0},{\"_typename\":\"TPaveText\",\"fUniqueID\":0,\"fBits\":9,\"fLineColor\":1,\"fLineStyle\":1,\"fLineWidth\":1,\"fFillColor\":0,\"fFillStyle\":0,\"fX1\":3.17903217877591,\"fY1\":0.416991531041341,\"fX2\":13.8209678212241,\"fY2\":0.447500006072223,\"fX1NDC\":0.233951612903226,\"fY1NDC\":0.933983055615829,\"fX2NDC\":0.766048387096774,\"fY2NDC\":0.995000004768372,\"fBorderSize\":0,\"fInit\":1,\"fShadowColor\":1,\"fCornerRadius\":0,\"fOption\":\"blNDC\",\"fName\":\"title\",\"fTextAngle\":0,\"fTextSize\":0,\"fTextAlign\":22,\"fTextColor\":1,\"fTextFont\":42,\"fLabel\":\"\",\"fLongest\":22,\"fMargin\":0.05,\"fLines\":{\"_typename\":\"TList\",\"name\":\"TList\",\"arr\":[{\"_typename\":\"TLatex\",\"fUniqueID\":0,\"fBits\":0,\"fName\":\"\",\"fTitle\":\"Fractional Uncertainty\",\"fTextAngle\":0,\"fTextSize\":0,\"fTextAlign\":0,\"fTextColor\":0,\"fTextFont\":0,\"fX\":0,\"fY\":0,\"fLineColor\":1,\"fLineStyle\":1,\"fLineWidth\":2,\"fLimitFactorSize\":3,\"fOriginSize\":0.0518644079566002}],\"opt\":[\"\"]}}],\"opt\":[\"\",\"e\",\"\",\"blNDC\"]},\"fExecs\":null,\"fName\":\"c_sys\",\"fTitle\":\"c_sys\",\"fNumPaletteColor\":0,\"fNextPaletteColor\":0,\"fDISPLAY\":\"$DISPLAY\",\"fDoubleBuffer\":0,\"fRetained\":true,\"fXsizeUser\":0,\"fYsizeUser\":0,\"fXsizeReal\":20,\"fYsizeReal\":20,\"fWindowTopX\":0,\"fWindowTopY\":0,\"fWindowWidth\":0,\"fWindowHeight\":0,\"fCw\":496,\"fCh\":472,\"fCatt\":{\"_typename\":\"TAttCanvas\",\"fXBetween\":2,\"fYBetween\":2,\"fTitleFromTop\":1.2,\"fXdate\":0.2,\"fYdate\":0.3,\"fAdate\":1},\"kMoveOpaque\":true,\"kResizeOpaque\":true,\"fHighLightColor\":2,\"fBatch\":true,\"kShowEventStatus\":false,\"kAutoExec\":true,\"kMenuBar\":true});\n",
       "            Core.draw(\"root_plot_1592339193804\", obj, \"\");\n",
       "        }\n",
       "    );\n",
       "}\n",
       "</script>\n"
      ],
      "text/plain": [
       "<IPython.core.display.HTML object>"
      ]
     },
     "metadata": {},
     "output_type": "display_data"
    }
   ],
   "source": [
    "\n",
    "o_fracUnc = o_sys.Clone()\n",
    "o_fracUnc.Divide(o.Clone())\n",
    "\n",
    "o_fracUnc.SetTitle(\"Fractional Uncertainty\")\n",
    "\n",
    "c_sysf = ROOT.TCanvas(\"c_sys\", \"c_sys\", 500, 500)\n",
    "o_fracUnc.Draw(\"e\")\n",
    "\n",
    "o_fracUnc.SetMinimum(0.)\n",
    "o_fracUnc.SetMaximum(.4)\n",
    "\n",
    "legsysf = ROOT.TLegend(0.7, 0.7, 0.86, 0.86)\n",
    "legsysf.SetFillColor(0)\n",
    "legsysf.SetBorderSize(0)\n",
    "\n",
    "legsysf.AddEntry( o_fracUnc, 'Syst', 'l')\n",
    "legsysf.Draw()\n",
    "c_sysf.Draw()"
   ]
  },
  {
   "cell_type": "markdown",
   "metadata": {
    "collapsed": true
   },
   "source": [
    "## Plot absolute uncertainties\n"
   ]
  },
  {
   "cell_type": "code",
   "execution_count": 55,
   "metadata": {},
   "outputs": [
    {
     "name": "stderr",
     "output_type": "stream",
     "text": [
      "Warning in <TCanvas::Constructor>: Deleting canvas with same name: c_sys\n"
     ]
    },
    {
     "data": {
      "text/html": [
       "\n",
       "<div id=\"root_plot_1592339193854\"\n",
       "     style=\"width: 496px; height: 472px\">\n",
       "</div>\n",
       "<script>\n",
       "if (typeof require !== 'undefined') {\n",
       "\n",
       "    // All requirements met (we are in jupyter notebooks or we loaded requirejs before).\n",
       "    display_root_plot_1592339193854();\n",
       "\n",
       "} else {\n",
       "\n",
       "    // We are in jupyterlab, we need to insert requirejs and configure it.\n",
       "    // Jupyterlab might be installed in a different base_url so we need to know it.\n",
       "    try {\n",
       "        var base_url = JSON.parse(document.getElementById('jupyter-config-data').innerHTML).baseUrl;\n",
       "    } catch(_) {\n",
       "        var base_url = '/';\n",
       "    }\n",
       "\n",
       "    // Try loading a local version of requirejs and fallback to cdn if not possible.\n",
       "    requirejs_load(base_url + 'static/components/requirejs/require.js', requirejs_success(base_url), function(){\n",
       "        requirejs_load('https://cdnjs.cloudflare.com/ajax/libs/require.js/2.2.0/require.min.js', requirejs_success(base_url), function(){\n",
       "            document.getElementById(\"root_plot_1592339193854\").innerHTML = \"Failed to load requireJs\";\n",
       "        });\n",
       "    });\n",
       "}\n",
       "\n",
       "function requirejs_load(src, on_load, on_error) {\n",
       "    var script = document.createElement('script');\n",
       "    script.src = src;\n",
       "    script.onload = on_load;\n",
       "    script.onerror = on_error;\n",
       "    document.head.appendChild(script);\n",
       "}\n",
       "\n",
       "function requirejs_success(base_url) {\n",
       "    return function() {\n",
       "        require.config({\n",
       "            baseUrl: base_url + 'static/'\n",
       "        });\n",
       "        display_root_plot_1592339193854();\n",
       "    }\n",
       "}\n",
       "\n",
       "function display_root_plot_1592339193854() {\n",
       "    require(['scripts/JSRootCore'],\n",
       "        function(Core) {\n",
       "            var obj = Core.JSONR_unref({\"_typename\":\"TCanvas\",\"fUniqueID\":0,\"fBits\":3342344,\"fLineColor\":1,\"fLineStyle\":1,\"fLineWidth\":1,\"fFillColor\":0,\"fFillStyle\":1001,\"fLeftMargin\":0.1,\"fRightMargin\":0.1,\"fBottomMargin\":0.1,\"fTopMargin\":0.1,\"fXfile\":2,\"fYfile\":2,\"fAfile\":1,\"fXstat\":0.99,\"fYstat\":0.99,\"fAstat\":2,\"fFrameFillColor\":0,\"fFrameLineColor\":1,\"fFrameFillStyle\":1001,\"fFrameLineStyle\":1,\"fFrameLineWidth\":1,\"fFrameBorderSize\":1,\"fFrameBorderMode\":0,\"fX1\":-1.50000014901162,\"fY1\":-1454.97276123389,\"fX2\":18.5000001490116,\"fY2\":13094.7539838737,\"fXtoAbsPixelk\":37.2000531411649,\"fXtoPixelk\":37.2000531411649,\"fXtoPixel\":24.7999996304512,\"fYtoAbsPixelk\":424.800047186661,\"fYtoPixelk\":424.800047186661,\"fYtoPixel\":-0.0324404717881531,\"fUtoAbsPixelk\":5e-5,\"fUtoPixelk\":5e-5,\"fUtoPixel\":496,\"fVtoAbsPixelk\":472.00005,\"fVtoPixelk\":472,\"fVtoPixel\":-472,\"fAbsPixeltoXk\":-1.50000014901162,\"fPixeltoXk\":-1.50000014901162,\"fPixeltoX\":0.0403225812460146,\"fAbsPixeltoYk\":13094.7539838737,\"fPixeltoYk\":-1454.97276123389,\"fPixeltoY\":-30.8256922565839,\"fXlowNDC\":0,\"fYlowNDC\":0,\"fXUpNDC\":1,\"fYUpNDC\":1,\"fWNDC\":1,\"fHNDC\":1,\"fAbsXlowNDC\":0,\"fAbsYlowNDC\":0,\"fAbsWNDC\":1,\"fAbsHNDC\":1,\"fUxmin\":0.5,\"fUymin\":0,\"fUxmax\":16.5,\"fUymax\":11639.7812226398,\"fTheta\":30,\"fPhi\":30,\"fAspectRatio\":0,\"fNumber\":0,\"fTickx\":0,\"fTicky\":0,\"fLogx\":0,\"fLogy\":0,\"fLogz\":0,\"fPadPaint\":0,\"fCrosshair\":0,\"fCrosshairPos\":0,\"fBorderSize\":2,\"fBorderMode\":0,\"fModified\":false,\"fGridx\":false,\"fGridy\":false,\"fAbsCoord\":false,\"fEditable\":true,\"fFixedAspectRatio\":false,\"fPrimitives\":{\"_typename\":\"TList\",\"name\":\"TList\",\"arr\":[{\"_typename\":\"TFrame\",\"fUniqueID\":0,\"fBits\":8,\"fLineColor\":1,\"fLineStyle\":1,\"fLineWidth\":1,\"fFillColor\":0,\"fFillStyle\":1001,\"fX1\":0.5,\"fY1\":0,\"fX2\":16.5,\"fY2\":11639.7812226398,\"fBorderSize\":1,\"fBorderMode\":0},{\"_typename\":\"THStack\",\"fUniqueID\":0,\"fBits\":8,\"fName\":\"unc_stack\",\"fTitle\":\"Uncertainties\",\"fHists\":{\"_typename\":\"TList\",\"name\":\"TList\",\"arr\":[{\"_typename\":\"TH1D\",\"fUniqueID\":0,\"fBits\":520,\"fName\":\"o_unctot\",\"fTitle\":\"o\",\"fLineColor\":602,\"fLineStyle\":1,\"fLineWidth\":1,\"fFillColor\":0,\"fFillStyle\":1001,\"fMarkerColor\":1,\"fMarkerStyle\":1,\"fMarkerSize\":1,\"fNcells\":18,\"fXaxis\":{\"_typename\":\"TAxis\",\"fUniqueID\":0,\"fBits\":0,\"fName\":\"xaxis\",\"fTitle\":\"generator\",\"fNdivisions\":510,\"fAxisColor\":1,\"fLabelColor\":1,\"fLabelFont\":42,\"fLabelOffset\":0.005,\"fLabelSize\":0.035,\"fTickLength\":0.03,\"fTitleOffset\":1,\"fTitleSize\":0.035,\"fTitleColor\":1,\"fTitleFont\":42,\"fNbins\":16,\"fXmin\":0.5,\"fXmax\":16.5,\"fXbins\":[0.5,1.5,2.5,3.5,4.5,5.5,6.5,7.5,8.5,9.5,10.5,11.5,12.5,13.5,14.5,15.5,16.5],\"fFirst\":0,\"fLast\":0,\"fBits2\":0,\"fTimeDisplay\":false,\"fTimeFormat\":\"\",\"fLabels\":null,\"fModLabs\":null},\"fYaxis\":{\"_typename\":\"TAxis\",\"fUniqueID\":0,\"fBits\":0,\"fName\":\"yaxis\",\"fTitle\":\"\",\"fNdivisions\":510,\"fAxisColor\":1,\"fLabelColor\":1,\"fLabelFont\":42,\"fLabelOffset\":0.005,\"fLabelSize\":0.035,\"fTickLength\":0.03,\"fTitleOffset\":0,\"fTitleSize\":0.035,\"fTitleColor\":1,\"fTitleFont\":42,\"fNbins\":1,\"fXmin\":0,\"fXmax\":1,\"fXbins\":[],\"fFirst\":0,\"fLast\":0,\"fBits2\":0,\"fTimeDisplay\":false,\"fTimeFormat\":\"\",\"fLabels\":null,\"fModLabs\":null},\"fZaxis\":{\"_typename\":\"TAxis\",\"fUniqueID\":0,\"fBits\":0,\"fName\":\"zaxis\",\"fTitle\":\"\",\"fNdivisions\":510,\"fAxisColor\":1,\"fLabelColor\":1,\"fLabelFont\":42,\"fLabelOffset\":0.005,\"fLabelSize\":0.035,\"fTickLength\":0.03,\"fTitleOffset\":1,\"fTitleSize\":0.035,\"fTitleColor\":1,\"fTitleFont\":42,\"fNbins\":1,\"fXmin\":0,\"fXmax\":1,\"fXbins\":[],\"fFirst\":0,\"fLast\":0,\"fBits2\":0,\"fTimeDisplay\":false,\"fTimeFormat\":\"\",\"fLabels\":null,\"fModLabs\":null},\"fBarOffset\":0,\"fBarWidth\":1000,\"fEntries\":44,\"fTsumw\":0,\"fTsumw2\":0,\"fTsumwx\":0,\"fTsumwx2\":0,\"fMaximum\":-1111,\"fMinimum\":-1111,\"fNormFactor\":0,\"fContour\":[],\"fSumw2\":[0,0,0,0,0,0,21860.8954151223,22028.806436599,4531.74082789449,0,21895.2062918963,21861.4351329784,4667.31051334766,0,4596.48779377638,4573.38290763684,884.564442452673,0],\"fOption\":\"\",\"fFunctions\":{\"_typename\":\"TList\",\"name\":\"TList\",\"arr\":[],\"opt\":[]},\"fBufferSize\":0,\"fBuffer\":[],\"fBinStatErrOpt\":0,\"fStatOverflows\":2,\"fArray\":[0,0,0,0,0,0,2972.0253152311,2968.78213078394,575.341107596258,0,2869.83096213623,2919.63781334699,579.662456834354,0,5820.10766761551,5818.43328637078,1145.00057671343,0]},{\"_typename\":\"TH1D\",\"fUniqueID\":0,\"fBits\":520,\"fName\":\"o_sys\",\"fTitle\":\"o\",\"fLineColor\":602,\"fLineStyle\":2,\"fLineWidth\":1,\"fFillColor\":0,\"fFillStyle\":1001,\"fMarkerColor\":1,\"fMarkerStyle\":1,\"fMarkerSize\":1,\"fNcells\":18,\"fXaxis\":{\"_typename\":\"TAxis\",\"fUniqueID\":0,\"fBits\":0,\"fName\":\"xaxis\",\"fTitle\":\"generator\",\"fNdivisions\":510,\"fAxisColor\":1,\"fLabelColor\":1,\"fLabelFont\":42,\"fLabelOffset\":0.005,\"fLabelSize\":0.035,\"fTickLength\":0.03,\"fTitleOffset\":1,\"fTitleSize\":0.035,\"fTitleColor\":1,\"fTitleFont\":42,\"fNbins\":16,\"fXmin\":0.5,\"fXmax\":16.5,\"fXbins\":[0.5,1.5,2.5,3.5,4.5,5.5,6.5,7.5,8.5,9.5,10.5,11.5,12.5,13.5,14.5,15.5,16.5],\"fFirst\":0,\"fLast\":0,\"fBits2\":0,\"fTimeDisplay\":false,\"fTimeFormat\":\"\",\"fLabels\":null,\"fModLabs\":null},\"fYaxis\":{\"_typename\":\"TAxis\",\"fUniqueID\":0,\"fBits\":0,\"fName\":\"yaxis\",\"fTitle\":\"\",\"fNdivisions\":510,\"fAxisColor\":1,\"fLabelColor\":1,\"fLabelFont\":42,\"fLabelOffset\":0.005,\"fLabelSize\":0.035,\"fTickLength\":0.03,\"fTitleOffset\":0,\"fTitleSize\":0.035,\"fTitleColor\":1,\"fTitleFont\":42,\"fNbins\":1,\"fXmin\":0,\"fXmax\":1,\"fXbins\":[],\"fFirst\":0,\"fLast\":0,\"fBits2\":0,\"fTimeDisplay\":false,\"fTimeFormat\":\"\",\"fLabels\":null,\"fModLabs\":null},\"fZaxis\":{\"_typename\":\"TAxis\",\"fUniqueID\":0,\"fBits\":0,\"fName\":\"zaxis\",\"fTitle\":\"\",\"fNdivisions\":510,\"fAxisColor\":1,\"fLabelColor\":1,\"fLabelFont\":42,\"fLabelOffset\":0.005,\"fLabelSize\":0.035,\"fTickLength\":0.03,\"fTitleOffset\":1,\"fTitleSize\":0.035,\"fTitleColor\":1,\"fTitleFont\":42,\"fNbins\":1,\"fXmin\":0,\"fXmax\":1,\"fXbins\":[],\"fFirst\":0,\"fLast\":0,\"fBits2\":0,\"fTimeDisplay\":false,\"fTimeFormat\":\"\",\"fLabels\":null,\"fModLabs\":null},\"fBarOffset\":0,\"fBarWidth\":1000,\"fEntries\":44,\"fTsumw\":0,\"fTsumw2\":0,\"fTsumwx\":0,\"fTsumwx2\":0,\"fMaximum\":-1111,\"fMinimum\":-1111,\"fNormFactor\":0,\"fContour\":[],\"fSumw2\":[0,0,0,0,0,0,21860.8954151223,22028.806436599,4531.74082789449,0,21895.2062918963,21861.4351329784,4667.31051334766,0,4596.48779377638,4573.38290763684,884.564442452673,0],\"fOption\":\"\",\"fFunctions\":{\"_typename\":\"TList\",\"name\":\"TList\",\"arr\":[],\"opt\":[]},\"fBufferSize\":0,\"fBuffer\":[],\"fBinStatErrOpt\":0,\"fStatOverflows\":2,\"fArray\":[0,0,0,0,0,0,2968.17244841742,2964.86656144738,570.953508119794,0,2865.80640285626,2915.65242970756,575.166882597168,0,5819.67355502431,5817.99837935111,1144.56157186461,0]}],\"opt\":[\"hist\",\"hist\"]},\"fHistogram\":{\"_typename\":\"TH1F\",\"fUniqueID\":0,\"fBits\":512,\"fName\":\"unc_stack\",\"fTitle\":\"Uncertainties\",\"fLineColor\":602,\"fLineStyle\":1,\"fLineWidth\":1,\"fFillColor\":0,\"fFillStyle\":1001,\"fMarkerColor\":1,\"fMarkerStyle\":1,\"fMarkerSize\":1,\"fNcells\":18,\"fXaxis\":{\"_typename\":\"TAxis\",\"fUniqueID\":0,\"fBits\":0,\"fName\":\"xaxis\",\"fTitle\":\"\",\"fNdivisions\":510,\"fAxisColor\":1,\"fLabelColor\":1,\"fLabelFont\":42,\"fLabelOffset\":0.005,\"fLabelSize\":0.035,\"fTickLength\":0.03,\"fTitleOffset\":1,\"fTitleSize\":0.035,\"fTitleColor\":1,\"fTitleFont\":42,\"fNbins\":16,\"fXmin\":0.5,\"fXmax\":16.5,\"fXbins\":[0.5,1.5,2.5,3.5,4.5,5.5,6.5,7.5,8.5,9.5,10.5,11.5,12.5,13.5,14.5,15.5,16.5],\"fFirst\":0,\"fLast\":0,\"fBits2\":0,\"fTimeDisplay\":false,\"fTimeFormat\":\"\",\"fLabels\":null,\"fModLabs\":null},\"fYaxis\":{\"_typename\":\"TAxis\",\"fUniqueID\":0,\"fBits\":0,\"fName\":\"yaxis\",\"fTitle\":\"\",\"fNdivisions\":510,\"fAxisColor\":1,\"fLabelColor\":1,\"fLabelFont\":42,\"fLabelOffset\":0.005,\"fLabelSize\":0.035,\"fTickLength\":0.03,\"fTitleOffset\":0,\"fTitleSize\":0.035,\"fTitleColor\":1,\"fTitleFont\":42,\"fNbins\":1,\"fXmin\":0,\"fXmax\":1,\"fXbins\":[],\"fFirst\":0,\"fLast\":0,\"fBits2\":0,\"fTimeDisplay\":false,\"fTimeFormat\":\"\",\"fLabels\":null,\"fModLabs\":null},\"fZaxis\":{\"_typename\":\"TAxis\",\"fUniqueID\":0,\"fBits\":0,\"fName\":\"zaxis\",\"fTitle\":\"\",\"fNdivisions\":510,\"fAxisColor\":1,\"fLabelColor\":1,\"fLabelFont\":42,\"fLabelOffset\":0.005,\"fLabelSize\":0.035,\"fTickLength\":0.03,\"fTitleOffset\":1,\"fTitleSize\":0.035,\"fTitleColor\":1,\"fTitleFont\":42,\"fNbins\":1,\"fXmin\":0,\"fXmax\":1,\"fXbins\":[],\"fFirst\":0,\"fLast\":0,\"fBits2\":0,\"fTimeDisplay\":false,\"fTimeFormat\":\"\",\"fLabels\":null,\"fModLabs\":null},\"fBarOffset\":0,\"fBarWidth\":1000,\"fEntries\":0,\"fTsumw\":0,\"fTsumw2\":0,\"fTsumwx\":0,\"fTsumwx2\":0,\"fMaximum\":11639.7812226398,\"fMinimum\":0,\"fNormFactor\":0,\"fContour\":[],\"fSumw2\":[],\"fOption\":\"\",\"fFunctions\":{\"_typename\":\"TList\",\"name\":\"TList\",\"arr\":[],\"opt\":[]},\"fBufferSize\":0,\"fBuffer\":[],\"fBinStatErrOpt\":0,\"fStatOverflows\":2,\"fArray\":[0,0,0,0,0,0,0,0,0,0,0,0,0,0,0,0,0,0]},\"fMaximum\":11639.7812226398,\"fMinimum\":-1111},{\"_typename\":\"TLegend\",\"fUniqueID\":0,\"fBits\":8,\"fLineColor\":1,\"fLineStyle\":1,\"fLineWidth\":1,\"fFillColor\":0,\"fFillStyle\":1001,\"fX1\":12.5000000596046,\"fY1\":8729.83596034143,\"fX2\":15.7000001072884,\"fY2\":11057.7922395586,\"fX1NDC\":0.7,\"fY1NDC\":0.7,\"fX2NDC\":0.86,\"fY2NDC\":0.86,\"fBorderSize\":0,\"fInit\":1,\"fShadowColor\":1,\"fCornerRadius\":0,\"fOption\":\"brNDC\",\"fName\":\"TPave\",\"fTextAngle\":0,\"fTextSize\":0,\"fTextAlign\":12,\"fTextColor\":1,\"fTextFont\":42,\"fPrimitives\":{\"_typename\":\"TList\",\"name\":\"TList\",\"arr\":[{\"_typename\":\"TLegendEntry\",\"fUniqueID\":0,\"fBits\":8,\"fTextAngle\":0,\"fTextSize\":0,\"fTextAlign\":0,\"fTextColor\":0,\"fTextFont\":42,\"fLineColor\":602,\"fLineStyle\":1,\"fLineWidth\":1,\"fFillColor\":0,\"fFillStyle\":0,\"fMarkerColor\":1,\"fMarkerStyle\":21,\"fMarkerSize\":1,\"fObject\":{\"$ref\":5},\"fLabel\":\"Total\",\"fOption\":\"l\"},{\"_typename\":\"TLegendEntry\",\"fUniqueID\":0,\"fBits\":8,\"fTextAngle\":0,\"fTextSize\":0,\"fTextAlign\":0,\"fTextColor\":0,\"fTextFont\":42,\"fLineColor\":602,\"fLineStyle\":2,\"fLineWidth\":1,\"fFillColor\":0,\"fFillStyle\":0,\"fMarkerColor\":1,\"fMarkerStyle\":21,\"fMarkerSize\":1,\"fObject\":{\"$ref\":10},\"fLabel\":\"Syst\",\"fOption\":\"l\"}],\"opt\":[\"l\",\"l\"]},\"fEntrySeparation\":0.1,\"fMargin\":0.25,\"fNColumns\":1,\"fColumnSeparation\":0},{\"_typename\":\"TPaveText\",\"fUniqueID\":0,\"fBits\":9,\"fLineColor\":1,\"fLineStyle\":1,\"fLineWidth\":1,\"fFillColor\":0,\"fFillStyle\":0,\"fX1\":5.23548382232266,\"fY1\":12221.7704366213,\"fX2\":11.7645161776773,\"fY2\":13022.0054195267,\"fX1NDC\":0.336774193548387,\"fY1NDC\":0.940000003948808,\"fX2NDC\":0.663225806451613,\"fY2NDC\":0.995000004768372,\"fBorderSize\":0,\"fInit\":1,\"fShadowColor\":1,\"fCornerRadius\":0,\"fOption\":\"blNDC\",\"fName\":\"title\",\"fTextAngle\":0,\"fTextSize\":0,\"fTextAlign\":22,\"fTextColor\":1,\"fTextFont\":42,\"fLabel\":\"\",\"fLongest\":13,\"fMargin\":0.05,\"fLines\":{\"_typename\":\"TList\",\"name\":\"TList\",\"arr\":[{\"_typename\":\"TLatex\",\"fUniqueID\":0,\"fBits\":0,\"fName\":\"\",\"fTitle\":\"Uncertainties\",\"fTextAngle\":0,\"fTextSize\":0,\"fTextAlign\":0,\"fTextColor\":0,\"fTextFont\":0,\"fX\":0,\"fY\":0,\"fLineColor\":1,\"fLineStyle\":1,\"fLineWidth\":2,\"fLimitFactorSize\":3,\"fOriginSize\":0.0467500016093254}],\"opt\":[\"\"]}}],\"opt\":[\"\",\"nostack\",\"\",\"blNDC\"]},\"fExecs\":null,\"fName\":\"c_sys\",\"fTitle\":\"c_sys\",\"fNumPaletteColor\":0,\"fNextPaletteColor\":0,\"fDISPLAY\":\"$DISPLAY\",\"fDoubleBuffer\":0,\"fRetained\":true,\"fXsizeUser\":0,\"fYsizeUser\":0,\"fXsizeReal\":20,\"fYsizeReal\":20,\"fWindowTopX\":0,\"fWindowTopY\":0,\"fWindowWidth\":0,\"fWindowHeight\":0,\"fCw\":496,\"fCh\":472,\"fCatt\":{\"_typename\":\"TAttCanvas\",\"fXBetween\":2,\"fYBetween\":2,\"fTitleFromTop\":1.2,\"fXdate\":0.2,\"fYdate\":0.3,\"fAdate\":1},\"kMoveOpaque\":true,\"kResizeOpaque\":true,\"fHighLightColor\":2,\"fBatch\":true,\"kShowEventStatus\":false,\"kAutoExec\":true,\"kMenuBar\":true});\n",
       "            Core.draw(\"root_plot_1592339193854\", obj, \"\");\n",
       "        }\n",
       "    );\n",
       "}\n",
       "</script>\n"
      ],
      "text/plain": [
       "<IPython.core.display.HTML object>"
      ]
     },
     "metadata": {},
     "output_type": "display_data"
    }
   ],
   "source": [
    "unc_stack = ROOT.THStack(\"unc_stack\", \"Uncertainties\")\n",
    "unc_stack.Add( o_unctot, \"hist\" )\n",
    "unc_stack.Add( o_sys, \"hist\" )\n",
    "#o_up.Divide(o)\n",
    "#o_dn.Divide(o)\n",
    "\n",
    "\n",
    "\n",
    "c_sys = ROOT.TCanvas(\"c_sys\", \"c_sys\", 500, 500)\n",
    "unc_stack.Draw(\"nostack\")\n",
    "unc_stack.SetMaximum( 1.0 * unc_stack.GetMaximum() )\n",
    "#o_unc.SetMinimum(-0.2)\n",
    "#o_unc.SetMaximum(+0.2)\n",
    "legsys = ROOT.TLegend(0.7, 0.7, 0.86, 0.86)\n",
    "legsys.SetFillColor(0)\n",
    "legsys.SetBorderSize(0)\n",
    "legsys.AddEntry( o_unctot, 'Total', 'l')\n",
    "legsys.AddEntry( o_sys, 'Syst', 'l')\n",
    "legsys.Draw()\n",
    "c_sys.Draw()"
   ]
  }
 ],
 "metadata": {
  "kernelspec": {
   "display_name": "Python 3",
   "language": "python",
   "name": "python3"
  },
  "language_info": {
   "codemirror_mode": {
    "name": "ipython",
    "version": 3
   },
   "file_extension": ".py",
   "mimetype": "text/x-python",
   "name": "python",
   "nbconvert_exporter": "python",
   "pygments_lexer": "ipython3",
   "version": "3.7.6"
  }
 },
 "nbformat": 4,
 "nbformat_minor": 2
}
